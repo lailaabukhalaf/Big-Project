{
 "cells": [
  {
   "cell_type": "markdown",
   "metadata": {},
   "source": [
    "# Making Business Decisions Based on Data\n"
   ]
  },
  {
   "cell_type": "markdown",
   "metadata": {},
   "source": [
    "We are an analysts at a big online store. Together with the marketing department, we've compiled a list of hypotheses that may help boost revenue. We need to prioritize these hypotheses, launch an A/B test, and analyze the results."
   ]
  },
  {
   "cell_type": "code",
   "execution_count": 1,
   "metadata": {},
   "outputs": [],
   "source": [
    "import seaborn as sns \n",
    "\n",
    "import matplotlib.pyplot as plt\n",
    "\n",
    "import pandas as pd\n",
    "from pandas.plotting import register_matplotlib_converters\n",
    "register_matplotlib_converters()\n",
    "import scipy.stats as stats\n",
    "pd.set_option('max_colwidth', 400)"
   ]
  },
  {
   "cell_type": "markdown",
   "metadata": {},
   "source": [
    "Prioritizing Hypotheses\n"
   ]
  },
  {
   "cell_type": "code",
   "execution_count": 2,
   "metadata": {},
   "outputs": [],
   "source": [
    "try :\n",
    "    data=pd.read_csv('/datasets/hypotheses_us.csv',sep=';')\n",
    "except:\n",
    "    print('cant read the data')"
   ]
  },
  {
   "cell_type": "code",
   "execution_count": 3,
   "metadata": {},
   "outputs": [
    {
     "data": {
      "text/html": [
       "<div>\n",
       "<style scoped>\n",
       "    .dataframe tbody tr th:only-of-type {\n",
       "        vertical-align: middle;\n",
       "    }\n",
       "\n",
       "    .dataframe tbody tr th {\n",
       "        vertical-align: top;\n",
       "    }\n",
       "\n",
       "    .dataframe thead th {\n",
       "        text-align: right;\n",
       "    }\n",
       "</style>\n",
       "<table border=\"1\" class=\"dataframe\">\n",
       "  <thead>\n",
       "    <tr style=\"text-align: right;\">\n",
       "      <th></th>\n",
       "      <th>Hypothesis</th>\n",
       "      <th>Reach</th>\n",
       "      <th>Impact</th>\n",
       "      <th>Confidence</th>\n",
       "      <th>Effort</th>\n",
       "    </tr>\n",
       "  </thead>\n",
       "  <tbody>\n",
       "    <tr>\n",
       "      <td>0</td>\n",
       "      <td>Add two new channels for attracting traffic. This will bring 30% more users</td>\n",
       "      <td>3</td>\n",
       "      <td>10</td>\n",
       "      <td>8</td>\n",
       "      <td>6</td>\n",
       "    </tr>\n",
       "    <tr>\n",
       "      <td>1</td>\n",
       "      <td>Launch your own delivery service. This will shorten delivery time</td>\n",
       "      <td>2</td>\n",
       "      <td>5</td>\n",
       "      <td>4</td>\n",
       "      <td>10</td>\n",
       "    </tr>\n",
       "    <tr>\n",
       "      <td>2</td>\n",
       "      <td>Add product recommendation blocks to the store's site. This will increase conversion and average purchase size</td>\n",
       "      <td>8</td>\n",
       "      <td>3</td>\n",
       "      <td>7</td>\n",
       "      <td>3</td>\n",
       "    </tr>\n",
       "    <tr>\n",
       "      <td>3</td>\n",
       "      <td>Change the category structure. This will increase conversion since users will find the products they want more quickly</td>\n",
       "      <td>8</td>\n",
       "      <td>3</td>\n",
       "      <td>3</td>\n",
       "      <td>8</td>\n",
       "    </tr>\n",
       "    <tr>\n",
       "      <td>4</td>\n",
       "      <td>Change the background color on the main page. This will increase user engagement</td>\n",
       "      <td>3</td>\n",
       "      <td>1</td>\n",
       "      <td>1</td>\n",
       "      <td>1</td>\n",
       "    </tr>\n",
       "  </tbody>\n",
       "</table>\n",
       "</div>"
      ],
      "text/plain": [
       "                                                                                                               Hypothesis  \\\n",
       "0                                             Add two new channels for attracting traffic. This will bring 30% more users   \n",
       "1                                                       Launch your own delivery service. This will shorten delivery time   \n",
       "2          Add product recommendation blocks to the store's site. This will increase conversion and average purchase size   \n",
       "3  Change the category structure. This will increase conversion since users will find the products they want more quickly   \n",
       "4                                        Change the background color on the main page. This will increase user engagement   \n",
       "\n",
       "   Reach  Impact  Confidence  Effort  \n",
       "0      3      10           8       6  \n",
       "1      2       5           4      10  \n",
       "2      8       3           7       3  \n",
       "3      8       3           3       8  \n",
       "4      3       1           1       1  "
      ]
     },
     "execution_count": 3,
     "metadata": {},
     "output_type": "execute_result"
    }
   ],
   "source": [
    "data.head()"
   ]
  },
  {
   "cell_type": "markdown",
   "metadata": {},
   "source": [
    "Part 1. Prioritizing Hypotheses\n"
   ]
  },
  {
   "cell_type": "markdown",
   "metadata": {},
   "source": [
    "ICE"
   ]
  },
  {
   "cell_type": "code",
   "execution_count": 4,
   "metadata": {},
   "outputs": [
    {
     "data": {
      "text/html": [
       "<div>\n",
       "<style scoped>\n",
       "    .dataframe tbody tr th:only-of-type {\n",
       "        vertical-align: middle;\n",
       "    }\n",
       "\n",
       "    .dataframe tbody tr th {\n",
       "        vertical-align: top;\n",
       "    }\n",
       "\n",
       "    .dataframe thead th {\n",
       "        text-align: right;\n",
       "    }\n",
       "</style>\n",
       "<table border=\"1\" class=\"dataframe\">\n",
       "  <thead>\n",
       "    <tr style=\"text-align: right;\">\n",
       "      <th></th>\n",
       "      <th>Reach</th>\n",
       "      <th>Impact</th>\n",
       "      <th>Confidence</th>\n",
       "      <th>Effort</th>\n",
       "    </tr>\n",
       "  </thead>\n",
       "  <tbody>\n",
       "    <tr>\n",
       "      <td>count</td>\n",
       "      <td>9.000000</td>\n",
       "      <td>9.000000</td>\n",
       "      <td>9.000000</td>\n",
       "      <td>9.000000</td>\n",
       "    </tr>\n",
       "    <tr>\n",
       "      <td>mean</td>\n",
       "      <td>4.777778</td>\n",
       "      <td>4.777778</td>\n",
       "      <td>5.555556</td>\n",
       "      <td>4.888889</td>\n",
       "    </tr>\n",
       "    <tr>\n",
       "      <td>std</td>\n",
       "      <td>3.153481</td>\n",
       "      <td>3.192874</td>\n",
       "      <td>3.045944</td>\n",
       "      <td>2.803767</td>\n",
       "    </tr>\n",
       "    <tr>\n",
       "      <td>min</td>\n",
       "      <td>1.000000</td>\n",
       "      <td>1.000000</td>\n",
       "      <td>1.000000</td>\n",
       "      <td>1.000000</td>\n",
       "    </tr>\n",
       "    <tr>\n",
       "      <td>25%</td>\n",
       "      <td>3.000000</td>\n",
       "      <td>3.000000</td>\n",
       "      <td>3.000000</td>\n",
       "      <td>3.000000</td>\n",
       "    </tr>\n",
       "    <tr>\n",
       "      <td>50%</td>\n",
       "      <td>3.000000</td>\n",
       "      <td>3.000000</td>\n",
       "      <td>7.000000</td>\n",
       "      <td>5.000000</td>\n",
       "    </tr>\n",
       "    <tr>\n",
       "      <td>75%</td>\n",
       "      <td>8.000000</td>\n",
       "      <td>7.000000</td>\n",
       "      <td>8.000000</td>\n",
       "      <td>6.000000</td>\n",
       "    </tr>\n",
       "    <tr>\n",
       "      <td>max</td>\n",
       "      <td>10.000000</td>\n",
       "      <td>10.000000</td>\n",
       "      <td>9.000000</td>\n",
       "      <td>10.000000</td>\n",
       "    </tr>\n",
       "  </tbody>\n",
       "</table>\n",
       "</div>"
      ],
      "text/plain": [
       "           Reach     Impact  Confidence     Effort\n",
       "count   9.000000   9.000000    9.000000   9.000000\n",
       "mean    4.777778   4.777778    5.555556   4.888889\n",
       "std     3.153481   3.192874    3.045944   2.803767\n",
       "min     1.000000   1.000000    1.000000   1.000000\n",
       "25%     3.000000   3.000000    3.000000   3.000000\n",
       "50%     3.000000   3.000000    7.000000   5.000000\n",
       "75%     8.000000   7.000000    8.000000   6.000000\n",
       "max    10.000000  10.000000    9.000000  10.000000"
      ]
     },
     "execution_count": 4,
     "metadata": {},
     "output_type": "execute_result"
    }
   ],
   "source": [
    "data.describe()"
   ]
  },
  {
   "cell_type": "code",
   "execution_count": 5,
   "metadata": {},
   "outputs": [
    {
     "data": {
      "text/html": [
       "<div>\n",
       "<style scoped>\n",
       "    .dataframe tbody tr th:only-of-type {\n",
       "        vertical-align: middle;\n",
       "    }\n",
       "\n",
       "    .dataframe tbody tr th {\n",
       "        vertical-align: top;\n",
       "    }\n",
       "\n",
       "    .dataframe thead th {\n",
       "        text-align: right;\n",
       "    }\n",
       "</style>\n",
       "<table border=\"1\" class=\"dataframe\">\n",
       "  <thead>\n",
       "    <tr style=\"text-align: right;\">\n",
       "      <th></th>\n",
       "      <th>Hypothesis</th>\n",
       "      <th>Reach</th>\n",
       "      <th>Impact</th>\n",
       "      <th>Confidence</th>\n",
       "      <th>Effort</th>\n",
       "    </tr>\n",
       "  </thead>\n",
       "  <tbody>\n",
       "    <tr>\n",
       "      <td>0</td>\n",
       "      <td>False</td>\n",
       "      <td>False</td>\n",
       "      <td>False</td>\n",
       "      <td>False</td>\n",
       "      <td>False</td>\n",
       "    </tr>\n",
       "    <tr>\n",
       "      <td>1</td>\n",
       "      <td>False</td>\n",
       "      <td>False</td>\n",
       "      <td>False</td>\n",
       "      <td>False</td>\n",
       "      <td>False</td>\n",
       "    </tr>\n",
       "    <tr>\n",
       "      <td>2</td>\n",
       "      <td>False</td>\n",
       "      <td>False</td>\n",
       "      <td>False</td>\n",
       "      <td>False</td>\n",
       "      <td>False</td>\n",
       "    </tr>\n",
       "    <tr>\n",
       "      <td>3</td>\n",
       "      <td>False</td>\n",
       "      <td>False</td>\n",
       "      <td>False</td>\n",
       "      <td>False</td>\n",
       "      <td>False</td>\n",
       "    </tr>\n",
       "    <tr>\n",
       "      <td>4</td>\n",
       "      <td>False</td>\n",
       "      <td>False</td>\n",
       "      <td>False</td>\n",
       "      <td>False</td>\n",
       "      <td>False</td>\n",
       "    </tr>\n",
       "    <tr>\n",
       "      <td>5</td>\n",
       "      <td>False</td>\n",
       "      <td>False</td>\n",
       "      <td>False</td>\n",
       "      <td>False</td>\n",
       "      <td>False</td>\n",
       "    </tr>\n",
       "    <tr>\n",
       "      <td>6</td>\n",
       "      <td>False</td>\n",
       "      <td>False</td>\n",
       "      <td>False</td>\n",
       "      <td>False</td>\n",
       "      <td>False</td>\n",
       "    </tr>\n",
       "    <tr>\n",
       "      <td>7</td>\n",
       "      <td>False</td>\n",
       "      <td>False</td>\n",
       "      <td>False</td>\n",
       "      <td>False</td>\n",
       "      <td>False</td>\n",
       "    </tr>\n",
       "    <tr>\n",
       "      <td>8</td>\n",
       "      <td>False</td>\n",
       "      <td>False</td>\n",
       "      <td>False</td>\n",
       "      <td>False</td>\n",
       "      <td>False</td>\n",
       "    </tr>\n",
       "  </tbody>\n",
       "</table>\n",
       "</div>"
      ],
      "text/plain": [
       "   Hypothesis  Reach  Impact  Confidence  Effort\n",
       "0       False  False   False       False   False\n",
       "1       False  False   False       False   False\n",
       "2       False  False   False       False   False\n",
       "3       False  False   False       False   False\n",
       "4       False  False   False       False   False\n",
       "5       False  False   False       False   False\n",
       "6       False  False   False       False   False\n",
       "7       False  False   False       False   False\n",
       "8       False  False   False       False   False"
      ]
     },
     "execution_count": 5,
     "metadata": {},
     "output_type": "execute_result"
    }
   ],
   "source": [
    "data.isnull()"
   ]
  },
  {
   "cell_type": "markdown",
   "metadata": {},
   "source": [
    "Apply the ICE framework to prioritize hypotheses. Sort them in descending order of priority."
   ]
  },
  {
   "cell_type": "markdown",
   "metadata": {},
   "source": [
    "ice is import x confidence x effort to protize the hypothesis "
   ]
  },
  {
   "cell_type": "code",
   "execution_count": 6,
   "metadata": {},
   "outputs": [
    {
     "data": {
      "text/html": [
       "<div>\n",
       "<style scoped>\n",
       "    .dataframe tbody tr th:only-of-type {\n",
       "        vertical-align: middle;\n",
       "    }\n",
       "\n",
       "    .dataframe tbody tr th {\n",
       "        vertical-align: top;\n",
       "    }\n",
       "\n",
       "    .dataframe thead th {\n",
       "        text-align: right;\n",
       "    }\n",
       "</style>\n",
       "<table border=\"1\" class=\"dataframe\">\n",
       "  <thead>\n",
       "    <tr style=\"text-align: right;\">\n",
       "      <th></th>\n",
       "      <th>Hypothesis</th>\n",
       "      <th>Reach</th>\n",
       "      <th>Impact</th>\n",
       "      <th>Confidence</th>\n",
       "      <th>Effort</th>\n",
       "      <th>ice</th>\n",
       "    </tr>\n",
       "  </thead>\n",
       "  <tbody>\n",
       "    <tr>\n",
       "      <td>8</td>\n",
       "      <td>Launch a promotion that gives users discounts on their birthdays</td>\n",
       "      <td>1</td>\n",
       "      <td>9</td>\n",
       "      <td>9</td>\n",
       "      <td>5</td>\n",
       "      <td>16.0</td>\n",
       "    </tr>\n",
       "    <tr>\n",
       "      <td>0</td>\n",
       "      <td>Add two new channels for attracting traffic. This will bring 30% more users</td>\n",
       "      <td>3</td>\n",
       "      <td>10</td>\n",
       "      <td>8</td>\n",
       "      <td>6</td>\n",
       "      <td>13.0</td>\n",
       "    </tr>\n",
       "    <tr>\n",
       "      <td>7</td>\n",
       "      <td>Add a subscription form to all the main pages. This will help you compile a mailing list</td>\n",
       "      <td>10</td>\n",
       "      <td>7</td>\n",
       "      <td>8</td>\n",
       "      <td>5</td>\n",
       "      <td>11.0</td>\n",
       "    </tr>\n",
       "    <tr>\n",
       "      <td>6</td>\n",
       "      <td>Show banners with current offers and sales on the main page. This will boost conversion</td>\n",
       "      <td>5</td>\n",
       "      <td>3</td>\n",
       "      <td>8</td>\n",
       "      <td>3</td>\n",
       "      <td>8.0</td>\n",
       "    </tr>\n",
       "    <tr>\n",
       "      <td>2</td>\n",
       "      <td>Add product recommendation blocks to the store's site. This will increase conversion and average purchase size</td>\n",
       "      <td>8</td>\n",
       "      <td>3</td>\n",
       "      <td>7</td>\n",
       "      <td>3</td>\n",
       "      <td>7.0</td>\n",
       "    </tr>\n",
       "    <tr>\n",
       "      <td>1</td>\n",
       "      <td>Launch your own delivery service. This will shorten delivery time</td>\n",
       "      <td>2</td>\n",
       "      <td>5</td>\n",
       "      <td>4</td>\n",
       "      <td>10</td>\n",
       "      <td>2.0</td>\n",
       "    </tr>\n",
       "    <tr>\n",
       "      <td>3</td>\n",
       "      <td>Change the category structure. This will increase conversion since users will find the products they want more quickly</td>\n",
       "      <td>8</td>\n",
       "      <td>3</td>\n",
       "      <td>3</td>\n",
       "      <td>8</td>\n",
       "      <td>1.0</td>\n",
       "    </tr>\n",
       "    <tr>\n",
       "      <td>4</td>\n",
       "      <td>Change the background color on the main page. This will increase user engagement</td>\n",
       "      <td>3</td>\n",
       "      <td>1</td>\n",
       "      <td>1</td>\n",
       "      <td>1</td>\n",
       "      <td>1.0</td>\n",
       "    </tr>\n",
       "    <tr>\n",
       "      <td>5</td>\n",
       "      <td>Add a customer review page. This will increase the number of orders</td>\n",
       "      <td>3</td>\n",
       "      <td>2</td>\n",
       "      <td>2</td>\n",
       "      <td>3</td>\n",
       "      <td>1.0</td>\n",
       "    </tr>\n",
       "  </tbody>\n",
       "</table>\n",
       "</div>"
      ],
      "text/plain": [
       "                                                                                                               Hypothesis  \\\n",
       "8                                                        Launch a promotion that gives users discounts on their birthdays   \n",
       "0                                             Add two new channels for attracting traffic. This will bring 30% more users   \n",
       "7                                Add a subscription form to all the main pages. This will help you compile a mailing list   \n",
       "6                                 Show banners with current offers and sales on the main page. This will boost conversion   \n",
       "2          Add product recommendation blocks to the store's site. This will increase conversion and average purchase size   \n",
       "1                                                       Launch your own delivery service. This will shorten delivery time   \n",
       "3  Change the category structure. This will increase conversion since users will find the products they want more quickly   \n",
       "4                                        Change the background color on the main page. This will increase user engagement   \n",
       "5                                                     Add a customer review page. This will increase the number of orders   \n",
       "\n",
       "   Reach  Impact  Confidence  Effort   ice  \n",
       "8      1       9           9       5  16.0  \n",
       "0      3      10           8       6  13.0  \n",
       "7     10       7           8       5  11.0  \n",
       "6      5       3           8       3   8.0  \n",
       "2      8       3           7       3   7.0  \n",
       "1      2       5           4      10   2.0  \n",
       "3      8       3           3       8   1.0  \n",
       "4      3       1           1       1   1.0  \n",
       "5      3       2           2       3   1.0  "
      ]
     },
     "execution_count": 6,
     "metadata": {},
     "output_type": "execute_result"
    }
   ],
   "source": [
    "data['ice']=(data['Impact']*data['Confidence']/data['Effort']).round()\n",
    "data.sort_values(by='ice',ascending=False)"
   ]
  },
  {
   "cell_type": "markdown",
   "metadata": {},
   "source": [
    "The most promissing hypotheses according to ICE method are 8, 0, 7, 6, 2.\n",
    "\n"
   ]
  },
  {
   "cell_type": "markdown",
   "metadata": {},
   "source": [
    "rice"
   ]
  },
  {
   "cell_type": "markdown",
   "metadata": {},
   "source": [
    "rice= reach*imact*[confidence/effort]"
   ]
  },
  {
   "cell_type": "code",
   "execution_count": 7,
   "metadata": {},
   "outputs": [
    {
     "data": {
      "text/html": [
       "<div>\n",
       "<style scoped>\n",
       "    .dataframe tbody tr th:only-of-type {\n",
       "        vertical-align: middle;\n",
       "    }\n",
       "\n",
       "    .dataframe tbody tr th {\n",
       "        vertical-align: top;\n",
       "    }\n",
       "\n",
       "    .dataframe thead th {\n",
       "        text-align: right;\n",
       "    }\n",
       "</style>\n",
       "<table border=\"1\" class=\"dataframe\">\n",
       "  <thead>\n",
       "    <tr style=\"text-align: right;\">\n",
       "      <th></th>\n",
       "      <th>Hypothesis</th>\n",
       "      <th>Reach</th>\n",
       "      <th>Impact</th>\n",
       "      <th>Confidence</th>\n",
       "      <th>Effort</th>\n",
       "      <th>ice</th>\n",
       "      <th>rice</th>\n",
       "    </tr>\n",
       "  </thead>\n",
       "  <tbody>\n",
       "    <tr>\n",
       "      <td>7</td>\n",
       "      <td>Add a subscription form to all the main pages. This will help you compile a mailing list</td>\n",
       "      <td>10</td>\n",
       "      <td>7</td>\n",
       "      <td>8</td>\n",
       "      <td>5</td>\n",
       "      <td>11.0</td>\n",
       "      <td>112.0</td>\n",
       "    </tr>\n",
       "    <tr>\n",
       "      <td>2</td>\n",
       "      <td>Add product recommendation blocks to the store's site. This will increase conversion and average purchase size</td>\n",
       "      <td>8</td>\n",
       "      <td>3</td>\n",
       "      <td>7</td>\n",
       "      <td>3</td>\n",
       "      <td>7.0</td>\n",
       "      <td>56.0</td>\n",
       "    </tr>\n",
       "    <tr>\n",
       "      <td>0</td>\n",
       "      <td>Add two new channels for attracting traffic. This will bring 30% more users</td>\n",
       "      <td>3</td>\n",
       "      <td>10</td>\n",
       "      <td>8</td>\n",
       "      <td>6</td>\n",
       "      <td>13.0</td>\n",
       "      <td>40.0</td>\n",
       "    </tr>\n",
       "    <tr>\n",
       "      <td>6</td>\n",
       "      <td>Show banners with current offers and sales on the main page. This will boost conversion</td>\n",
       "      <td>5</td>\n",
       "      <td>3</td>\n",
       "      <td>8</td>\n",
       "      <td>3</td>\n",
       "      <td>8.0</td>\n",
       "      <td>40.0</td>\n",
       "    </tr>\n",
       "    <tr>\n",
       "      <td>8</td>\n",
       "      <td>Launch a promotion that gives users discounts on their birthdays</td>\n",
       "      <td>1</td>\n",
       "      <td>9</td>\n",
       "      <td>9</td>\n",
       "      <td>5</td>\n",
       "      <td>16.0</td>\n",
       "      <td>16.0</td>\n",
       "    </tr>\n",
       "    <tr>\n",
       "      <td>3</td>\n",
       "      <td>Change the category structure. This will increase conversion since users will find the products they want more quickly</td>\n",
       "      <td>8</td>\n",
       "      <td>3</td>\n",
       "      <td>3</td>\n",
       "      <td>8</td>\n",
       "      <td>1.0</td>\n",
       "      <td>9.0</td>\n",
       "    </tr>\n",
       "    <tr>\n",
       "      <td>1</td>\n",
       "      <td>Launch your own delivery service. This will shorten delivery time</td>\n",
       "      <td>2</td>\n",
       "      <td>5</td>\n",
       "      <td>4</td>\n",
       "      <td>10</td>\n",
       "      <td>2.0</td>\n",
       "      <td>4.0</td>\n",
       "    </tr>\n",
       "    <tr>\n",
       "      <td>5</td>\n",
       "      <td>Add a customer review page. This will increase the number of orders</td>\n",
       "      <td>3</td>\n",
       "      <td>2</td>\n",
       "      <td>2</td>\n",
       "      <td>3</td>\n",
       "      <td>1.0</td>\n",
       "      <td>4.0</td>\n",
       "    </tr>\n",
       "    <tr>\n",
       "      <td>4</td>\n",
       "      <td>Change the background color on the main page. This will increase user engagement</td>\n",
       "      <td>3</td>\n",
       "      <td>1</td>\n",
       "      <td>1</td>\n",
       "      <td>1</td>\n",
       "      <td>1.0</td>\n",
       "      <td>3.0</td>\n",
       "    </tr>\n",
       "  </tbody>\n",
       "</table>\n",
       "</div>"
      ],
      "text/plain": [
       "                                                                                                               Hypothesis  \\\n",
       "7                                Add a subscription form to all the main pages. This will help you compile a mailing list   \n",
       "2          Add product recommendation blocks to the store's site. This will increase conversion and average purchase size   \n",
       "0                                             Add two new channels for attracting traffic. This will bring 30% more users   \n",
       "6                                 Show banners with current offers and sales on the main page. This will boost conversion   \n",
       "8                                                        Launch a promotion that gives users discounts on their birthdays   \n",
       "3  Change the category structure. This will increase conversion since users will find the products they want more quickly   \n",
       "1                                                       Launch your own delivery service. This will shorten delivery time   \n",
       "5                                                     Add a customer review page. This will increase the number of orders   \n",
       "4                                        Change the background color on the main page. This will increase user engagement   \n",
       "\n",
       "   Reach  Impact  Confidence  Effort   ice   rice  \n",
       "7     10       7           8       5  11.0  112.0  \n",
       "2      8       3           7       3   7.0   56.0  \n",
       "0      3      10           8       6  13.0   40.0  \n",
       "6      5       3           8       3   8.0   40.0  \n",
       "8      1       9           9       5  16.0   16.0  \n",
       "3      8       3           3       8   1.0    9.0  \n",
       "1      2       5           4      10   2.0    4.0  \n",
       "5      3       2           2       3   1.0    4.0  \n",
       "4      3       1           1       1   1.0    3.0  "
      ]
     },
     "execution_count": 7,
     "metadata": {},
     "output_type": "execute_result"
    }
   ],
   "source": [
    "data['rice']=(data['Reach']*data['Impact']*(data['Confidence']/data['Effort'])).round()\n",
    "data.sort_values(by='rice',ascending=False)"
   ]
  },
  {
   "cell_type": "markdown",
   "metadata": {},
   "source": [
    "The most promissing hypotheses according to RICE method are 7, 2, 0, 6, 8.\n",
    "\n"
   ]
  },
  {
   "cell_type": "markdown",
   "metadata": {},
   "source": [
    "\n",
    "ICE : 8, 0, 7, 6, 2\n",
    "\n",
    "RICE: 7, 2, 0, 6, 8\n",
    "\n",
    "We have the same top five hypotheses in both methods. But in RICE hyposesis 7 became a leader. That's because of its REACH parameter 10 (10 out of 10). REACH parameter tells us how many users will be affected by the update we want to introduce. RICE method take into account not only how strong the hyposesis is, but also how many users it will affect."
   ]
  },
  {
   "cell_type": "markdown",
   "metadata": {},
   "source": [
    "\n",
    "Part 2. A/B Test Analysis\n",
    "\n",
    "\n",
    "\n",
    "\n"
   ]
  },
  {
   "cell_type": "code",
   "execution_count": 8,
   "metadata": {},
   "outputs": [],
   "source": [
    "orders=pd.read_csv('/datasets/orders_us.csv')\n",
    "visits=pd.read_csv('/datasets/visits_us.csv')"
   ]
  },
  {
   "cell_type": "code",
   "execution_count": 9,
   "metadata": {},
   "outputs": [
    {
     "data": {
      "text/html": [
       "<div>\n",
       "<style scoped>\n",
       "    .dataframe tbody tr th:only-of-type {\n",
       "        vertical-align: middle;\n",
       "    }\n",
       "\n",
       "    .dataframe tbody tr th {\n",
       "        vertical-align: top;\n",
       "    }\n",
       "\n",
       "    .dataframe thead th {\n",
       "        text-align: right;\n",
       "    }\n",
       "</style>\n",
       "<table border=\"1\" class=\"dataframe\">\n",
       "  <thead>\n",
       "    <tr style=\"text-align: right;\">\n",
       "      <th></th>\n",
       "      <th>transactionId</th>\n",
       "      <th>visitorId</th>\n",
       "      <th>date</th>\n",
       "      <th>revenue</th>\n",
       "      <th>group</th>\n",
       "    </tr>\n",
       "  </thead>\n",
       "  <tbody>\n",
       "    <tr>\n",
       "      <td>0</td>\n",
       "      <td>3667963787</td>\n",
       "      <td>3312258926</td>\n",
       "      <td>2019-08-15</td>\n",
       "      <td>30.4</td>\n",
       "      <td>B</td>\n",
       "    </tr>\n",
       "    <tr>\n",
       "      <td>1</td>\n",
       "      <td>2804400009</td>\n",
       "      <td>3642806036</td>\n",
       "      <td>2019-08-15</td>\n",
       "      <td>15.2</td>\n",
       "      <td>B</td>\n",
       "    </tr>\n",
       "    <tr>\n",
       "      <td>2</td>\n",
       "      <td>2961555356</td>\n",
       "      <td>4069496402</td>\n",
       "      <td>2019-08-15</td>\n",
       "      <td>10.2</td>\n",
       "      <td>A</td>\n",
       "    </tr>\n",
       "    <tr>\n",
       "      <td>3</td>\n",
       "      <td>3797467345</td>\n",
       "      <td>1196621759</td>\n",
       "      <td>2019-08-15</td>\n",
       "      <td>155.1</td>\n",
       "      <td>B</td>\n",
       "    </tr>\n",
       "    <tr>\n",
       "      <td>4</td>\n",
       "      <td>2282983706</td>\n",
       "      <td>2322279887</td>\n",
       "      <td>2019-08-15</td>\n",
       "      <td>40.5</td>\n",
       "      <td>B</td>\n",
       "    </tr>\n",
       "  </tbody>\n",
       "</table>\n",
       "</div>"
      ],
      "text/plain": [
       "   transactionId   visitorId        date  revenue group\n",
       "0     3667963787  3312258926  2019-08-15     30.4     B\n",
       "1     2804400009  3642806036  2019-08-15     15.2     B\n",
       "2     2961555356  4069496402  2019-08-15     10.2     A\n",
       "3     3797467345  1196621759  2019-08-15    155.1     B\n",
       "4     2282983706  2322279887  2019-08-15     40.5     B"
      ]
     },
     "execution_count": 9,
     "metadata": {},
     "output_type": "execute_result"
    }
   ],
   "source": [
    "orders.head()"
   ]
  },
  {
   "cell_type": "code",
   "execution_count": 10,
   "metadata": {},
   "outputs": [
    {
     "name": "stdout",
     "output_type": "stream",
     "text": [
      "<class 'pandas.core.frame.DataFrame'>\n",
      "RangeIndex: 1197 entries, 0 to 1196\n",
      "Data columns (total 5 columns):\n",
      "transactionId    1197 non-null int64\n",
      "visitorId        1197 non-null int64\n",
      "date             1197 non-null object\n",
      "revenue          1197 non-null float64\n",
      "group            1197 non-null object\n",
      "dtypes: float64(1), int64(2), object(2)\n",
      "memory usage: 46.9+ KB\n"
     ]
    }
   ],
   "source": [
    "orders.info()"
   ]
  },
  {
   "cell_type": "code",
   "execution_count": 11,
   "metadata": {},
   "outputs": [
    {
     "data": {
      "text/html": [
       "<div>\n",
       "<style scoped>\n",
       "    .dataframe tbody tr th:only-of-type {\n",
       "        vertical-align: middle;\n",
       "    }\n",
       "\n",
       "    .dataframe tbody tr th {\n",
       "        vertical-align: top;\n",
       "    }\n",
       "\n",
       "    .dataframe thead th {\n",
       "        text-align: right;\n",
       "    }\n",
       "</style>\n",
       "<table border=\"1\" class=\"dataframe\">\n",
       "  <thead>\n",
       "    <tr style=\"text-align: right;\">\n",
       "      <th></th>\n",
       "      <th>group</th>\n",
       "    </tr>\n",
       "    <tr>\n",
       "      <th>visitorId</th>\n",
       "      <th></th>\n",
       "    </tr>\n",
       "  </thead>\n",
       "  <tbody>\n",
       "    <tr>\n",
       "      <td>5114589</td>\n",
       "      <td>1</td>\n",
       "    </tr>\n",
       "    <tr>\n",
       "      <td>6958315</td>\n",
       "      <td>1</td>\n",
       "    </tr>\n",
       "    <tr>\n",
       "      <td>8300375</td>\n",
       "      <td>2</td>\n",
       "    </tr>\n",
       "    <tr>\n",
       "      <td>11685486</td>\n",
       "      <td>1</td>\n",
       "    </tr>\n",
       "    <tr>\n",
       "      <td>39475350</td>\n",
       "      <td>1</td>\n",
       "    </tr>\n",
       "  </tbody>\n",
       "</table>\n",
       "</div>"
      ],
      "text/plain": [
       "           group\n",
       "visitorId       \n",
       "5114589        1\n",
       "6958315        1\n",
       "8300375        2\n",
       "11685486       1\n",
       "39475350       1"
      ]
     },
     "execution_count": 11,
     "metadata": {},
     "output_type": "execute_result"
    }
   ],
   "source": [
    "dup= orders.groupby('visitorId').agg({'group':'nunique'})\n",
    "dup.head()"
   ]
  },
  {
   "cell_type": "code",
   "execution_count": 12,
   "metadata": {},
   "outputs": [
    {
     "data": {
      "text/plain": [
       "58"
      ]
     },
     "execution_count": 12,
     "metadata": {},
     "output_type": "execute_result"
    }
   ],
   "source": [
    "dup1= dup[dup['group']>1].reset_index()\n",
    "len(dup1)"
   ]
  },
  {
   "cell_type": "code",
   "execution_count": 13,
   "metadata": {},
   "outputs": [
    {
     "data": {
      "text/html": [
       "<div>\n",
       "<style scoped>\n",
       "    .dataframe tbody tr th:only-of-type {\n",
       "        vertical-align: middle;\n",
       "    }\n",
       "\n",
       "    .dataframe tbody tr th {\n",
       "        vertical-align: top;\n",
       "    }\n",
       "\n",
       "    .dataframe thead th {\n",
       "        text-align: right;\n",
       "    }\n",
       "</style>\n",
       "<table border=\"1\" class=\"dataframe\">\n",
       "  <thead>\n",
       "    <tr style=\"text-align: right;\">\n",
       "      <th></th>\n",
       "      <th>visitorId</th>\n",
       "      <th>group</th>\n",
       "    </tr>\n",
       "  </thead>\n",
       "  <tbody>\n",
       "    <tr>\n",
       "      <td>0</td>\n",
       "      <td>8300375</td>\n",
       "      <td>2</td>\n",
       "    </tr>\n",
       "    <tr>\n",
       "      <td>1</td>\n",
       "      <td>199603092</td>\n",
       "      <td>2</td>\n",
       "    </tr>\n",
       "    <tr>\n",
       "      <td>2</td>\n",
       "      <td>232979603</td>\n",
       "      <td>2</td>\n",
       "    </tr>\n",
       "    <tr>\n",
       "      <td>3</td>\n",
       "      <td>237748145</td>\n",
       "      <td>2</td>\n",
       "    </tr>\n",
       "    <tr>\n",
       "      <td>4</td>\n",
       "      <td>276558944</td>\n",
       "      <td>2</td>\n",
       "    </tr>\n",
       "  </tbody>\n",
       "</table>\n",
       "</div>"
      ],
      "text/plain": [
       "   visitorId  group\n",
       "0    8300375      2\n",
       "1  199603092      2\n",
       "2  232979603      2\n",
       "3  237748145      2\n",
       "4  276558944      2"
      ]
     },
     "execution_count": 13,
     "metadata": {},
     "output_type": "execute_result"
    }
   ],
   "source": [
    "dup1.head()"
   ]
  },
  {
   "cell_type": "code",
   "execution_count": 14,
   "metadata": {},
   "outputs": [
    {
     "data": {
      "text/html": [
       "<div>\n",
       "<style scoped>\n",
       "    .dataframe tbody tr th:only-of-type {\n",
       "        vertical-align: middle;\n",
       "    }\n",
       "\n",
       "    .dataframe tbody tr th {\n",
       "        vertical-align: top;\n",
       "    }\n",
       "\n",
       "    .dataframe thead th {\n",
       "        text-align: right;\n",
       "    }\n",
       "</style>\n",
       "<table border=\"1\" class=\"dataframe\">\n",
       "  <thead>\n",
       "    <tr style=\"text-align: right;\">\n",
       "      <th></th>\n",
       "      <th>transactionId</th>\n",
       "      <th>visitorId</th>\n",
       "      <th>date</th>\n",
       "      <th>revenue</th>\n",
       "      <th>group</th>\n",
       "    </tr>\n",
       "  </thead>\n",
       "  <tbody>\n",
       "    <tr>\n",
       "      <td>0</td>\n",
       "      <td>3667963787</td>\n",
       "      <td>3312258926</td>\n",
       "      <td>2019-08-15</td>\n",
       "      <td>30.4</td>\n",
       "      <td>B</td>\n",
       "    </tr>\n",
       "    <tr>\n",
       "      <td>1</td>\n",
       "      <td>2804400009</td>\n",
       "      <td>3642806036</td>\n",
       "      <td>2019-08-15</td>\n",
       "      <td>15.2</td>\n",
       "      <td>B</td>\n",
       "    </tr>\n",
       "    <tr>\n",
       "      <td>3</td>\n",
       "      <td>3797467345</td>\n",
       "      <td>1196621759</td>\n",
       "      <td>2019-08-15</td>\n",
       "      <td>155.1</td>\n",
       "      <td>B</td>\n",
       "    </tr>\n",
       "    <tr>\n",
       "      <td>4</td>\n",
       "      <td>2282983706</td>\n",
       "      <td>2322279887</td>\n",
       "      <td>2019-08-15</td>\n",
       "      <td>40.5</td>\n",
       "      <td>B</td>\n",
       "    </tr>\n",
       "    <tr>\n",
       "      <td>5</td>\n",
       "      <td>182168103</td>\n",
       "      <td>935554773</td>\n",
       "      <td>2019-08-15</td>\n",
       "      <td>35.0</td>\n",
       "      <td>B</td>\n",
       "    </tr>\n",
       "  </tbody>\n",
       "</table>\n",
       "</div>"
      ],
      "text/plain": [
       "   transactionId   visitorId        date  revenue group\n",
       "0     3667963787  3312258926  2019-08-15     30.4     B\n",
       "1     2804400009  3642806036  2019-08-15     15.2     B\n",
       "3     3797467345  1196621759  2019-08-15    155.1     B\n",
       "4     2282983706  2322279887  2019-08-15     40.5     B\n",
       "5      182168103   935554773  2019-08-15     35.0     B"
      ]
     },
     "execution_count": 14,
     "metadata": {},
     "output_type": "execute_result"
    }
   ],
   "source": [
    "orders=orders.loc[~orders['visitorId'].isin(dup1['visitorId'])]\n",
    "orders.head()"
   ]
  },
  {
   "cell_type": "code",
   "execution_count": 15,
   "metadata": {},
   "outputs": [],
   "source": [
    "orders['date']=pd.to_datetime(orders['date'])"
   ]
  },
  {
   "cell_type": "code",
   "execution_count": 16,
   "metadata": {},
   "outputs": [
    {
     "data": {
      "text/html": [
       "<div>\n",
       "<style scoped>\n",
       "    .dataframe tbody tr th:only-of-type {\n",
       "        vertical-align: middle;\n",
       "    }\n",
       "\n",
       "    .dataframe tbody tr th {\n",
       "        vertical-align: top;\n",
       "    }\n",
       "\n",
       "    .dataframe thead th {\n",
       "        text-align: right;\n",
       "    }\n",
       "</style>\n",
       "<table border=\"1\" class=\"dataframe\">\n",
       "  <thead>\n",
       "    <tr style=\"text-align: right;\">\n",
       "      <th></th>\n",
       "      <th>date</th>\n",
       "      <th>group</th>\n",
       "      <th>visits</th>\n",
       "    </tr>\n",
       "  </thead>\n",
       "  <tbody>\n",
       "    <tr>\n",
       "      <td>0</td>\n",
       "      <td>2019-08-01</td>\n",
       "      <td>A</td>\n",
       "      <td>719</td>\n",
       "    </tr>\n",
       "    <tr>\n",
       "      <td>1</td>\n",
       "      <td>2019-08-02</td>\n",
       "      <td>A</td>\n",
       "      <td>619</td>\n",
       "    </tr>\n",
       "    <tr>\n",
       "      <td>2</td>\n",
       "      <td>2019-08-03</td>\n",
       "      <td>A</td>\n",
       "      <td>507</td>\n",
       "    </tr>\n",
       "    <tr>\n",
       "      <td>3</td>\n",
       "      <td>2019-08-04</td>\n",
       "      <td>A</td>\n",
       "      <td>717</td>\n",
       "    </tr>\n",
       "    <tr>\n",
       "      <td>4</td>\n",
       "      <td>2019-08-05</td>\n",
       "      <td>A</td>\n",
       "      <td>756</td>\n",
       "    </tr>\n",
       "  </tbody>\n",
       "</table>\n",
       "</div>"
      ],
      "text/plain": [
       "         date group  visits\n",
       "0  2019-08-01     A     719\n",
       "1  2019-08-02     A     619\n",
       "2  2019-08-03     A     507\n",
       "3  2019-08-04     A     717\n",
       "4  2019-08-05     A     756"
      ]
     },
     "execution_count": 16,
     "metadata": {},
     "output_type": "execute_result"
    }
   ],
   "source": [
    "visits.head()"
   ]
  },
  {
   "cell_type": "code",
   "execution_count": 17,
   "metadata": {},
   "outputs": [
    {
     "name": "stdout",
     "output_type": "stream",
     "text": [
      "<class 'pandas.core.frame.DataFrame'>\n",
      "RangeIndex: 62 entries, 0 to 61\n",
      "Data columns (total 3 columns):\n",
      "date      62 non-null object\n",
      "group     62 non-null object\n",
      "visits    62 non-null int64\n",
      "dtypes: int64(1), object(2)\n",
      "memory usage: 1.6+ KB\n"
     ]
    }
   ],
   "source": [
    "visits.info()"
   ]
  },
  {
   "cell_type": "code",
   "execution_count": 18,
   "metadata": {},
   "outputs": [
    {
     "data": {
      "text/html": [
       "<div>\n",
       "<style scoped>\n",
       "    .dataframe tbody tr th:only-of-type {\n",
       "        vertical-align: middle;\n",
       "    }\n",
       "\n",
       "    .dataframe tbody tr th {\n",
       "        vertical-align: top;\n",
       "    }\n",
       "\n",
       "    .dataframe thead th {\n",
       "        text-align: right;\n",
       "    }\n",
       "</style>\n",
       "<table border=\"1\" class=\"dataframe\">\n",
       "  <thead>\n",
       "    <tr style=\"text-align: right;\">\n",
       "      <th></th>\n",
       "      <th>date</th>\n",
       "      <th>group</th>\n",
       "      <th>visits</th>\n",
       "    </tr>\n",
       "  </thead>\n",
       "  <tbody>\n",
       "  </tbody>\n",
       "</table>\n",
       "</div>"
      ],
      "text/plain": [
       "Empty DataFrame\n",
       "Columns: [date, group, visits]\n",
       "Index: []"
      ]
     },
     "execution_count": 18,
     "metadata": {},
     "output_type": "execute_result"
    }
   ],
   "source": [
    "visits[visits.duplicated(keep=False)]\n"
   ]
  },
  {
   "cell_type": "markdown",
   "metadata": {},
   "source": [
    "We have 62 entries in visitors table, 3 columns. There are no missing values, no duplicates.\n",
    "\n"
   ]
  },
  {
   "cell_type": "code",
   "execution_count": 19,
   "metadata": {},
   "outputs": [
    {
     "data": {
      "text/html": [
       "<div>\n",
       "<style scoped>\n",
       "    .dataframe tbody tr th:only-of-type {\n",
       "        vertical-align: middle;\n",
       "    }\n",
       "\n",
       "    .dataframe tbody tr th {\n",
       "        vertical-align: top;\n",
       "    }\n",
       "\n",
       "    .dataframe thead th {\n",
       "        text-align: right;\n",
       "    }\n",
       "</style>\n",
       "<table border=\"1\" class=\"dataframe\">\n",
       "  <thead>\n",
       "    <tr style=\"text-align: right;\">\n",
       "      <th></th>\n",
       "      <th>visits</th>\n",
       "    </tr>\n",
       "  </thead>\n",
       "  <tbody>\n",
       "    <tr>\n",
       "      <td>count</td>\n",
       "      <td>62.000000</td>\n",
       "    </tr>\n",
       "    <tr>\n",
       "      <td>mean</td>\n",
       "      <td>607.290323</td>\n",
       "    </tr>\n",
       "    <tr>\n",
       "      <td>std</td>\n",
       "      <td>114.400560</td>\n",
       "    </tr>\n",
       "    <tr>\n",
       "      <td>min</td>\n",
       "      <td>361.000000</td>\n",
       "    </tr>\n",
       "    <tr>\n",
       "      <td>25%</td>\n",
       "      <td>534.000000</td>\n",
       "    </tr>\n",
       "    <tr>\n",
       "      <td>50%</td>\n",
       "      <td>624.500000</td>\n",
       "    </tr>\n",
       "    <tr>\n",
       "      <td>75%</td>\n",
       "      <td>710.500000</td>\n",
       "    </tr>\n",
       "    <tr>\n",
       "      <td>max</td>\n",
       "      <td>770.000000</td>\n",
       "    </tr>\n",
       "  </tbody>\n",
       "</table>\n",
       "</div>"
      ],
      "text/plain": [
       "           visits\n",
       "count   62.000000\n",
       "mean   607.290323\n",
       "std    114.400560\n",
       "min    361.000000\n",
       "25%    534.000000\n",
       "50%    624.500000\n",
       "75%    710.500000\n",
       "max    770.000000"
      ]
     },
     "execution_count": 19,
     "metadata": {},
     "output_type": "execute_result"
    }
   ],
   "source": [
    "visits['date']=pd.to_datetime(visits['date'])\n",
    "visits.describe()"
   ]
  },
  {
   "cell_type": "markdown",
   "metadata": {},
   "source": [
    "Analyze the A/B test:\n",
    "Graph cumulative revenue by group. Make conclusions and conjectures.\n"
   ]
  },
  {
   "cell_type": "code",
   "execution_count": 20,
   "metadata": {},
   "outputs": [
    {
     "data": {
      "text/html": [
       "<div>\n",
       "<style scoped>\n",
       "    .dataframe tbody tr th:only-of-type {\n",
       "        vertical-align: middle;\n",
       "    }\n",
       "\n",
       "    .dataframe tbody tr th {\n",
       "        vertical-align: top;\n",
       "    }\n",
       "\n",
       "    .dataframe thead th {\n",
       "        text-align: right;\n",
       "    }\n",
       "</style>\n",
       "<table border=\"1\" class=\"dataframe\">\n",
       "  <thead>\n",
       "    <tr style=\"text-align: right;\">\n",
       "      <th></th>\n",
       "      <th>date</th>\n",
       "      <th>group</th>\n",
       "    </tr>\n",
       "  </thead>\n",
       "  <tbody>\n",
       "    <tr>\n",
       "      <td>0</td>\n",
       "      <td>2019-08-15</td>\n",
       "      <td>B</td>\n",
       "    </tr>\n",
       "    <tr>\n",
       "      <td>7</td>\n",
       "      <td>2019-08-15</td>\n",
       "      <td>A</td>\n",
       "    </tr>\n",
       "    <tr>\n",
       "      <td>45</td>\n",
       "      <td>2019-08-16</td>\n",
       "      <td>A</td>\n",
       "    </tr>\n",
       "    <tr>\n",
       "      <td>47</td>\n",
       "      <td>2019-08-16</td>\n",
       "      <td>B</td>\n",
       "    </tr>\n",
       "    <tr>\n",
       "      <td>55</td>\n",
       "      <td>2019-08-01</td>\n",
       "      <td>A</td>\n",
       "    </tr>\n",
       "  </tbody>\n",
       "</table>\n",
       "</div>"
      ],
      "text/plain": [
       "         date group\n",
       "0  2019-08-15     B\n",
       "7  2019-08-15     A\n",
       "45 2019-08-16     A\n",
       "47 2019-08-16     B\n",
       "55 2019-08-01     A"
      ]
     },
     "execution_count": 20,
     "metadata": {},
     "output_type": "execute_result"
    }
   ],
   "source": [
    "# building an array with unique paired date-group values\n",
    "datesGroups = orders[['date','group']].drop_duplicates()\n",
    "datesGroups.head()"
   ]
  },
  {
   "cell_type": "code",
   "execution_count": 21,
   "metadata": {},
   "outputs": [
    {
     "data": {
      "text/html": [
       "<div>\n",
       "<style scoped>\n",
       "    .dataframe tbody tr th:only-of-type {\n",
       "        vertical-align: middle;\n",
       "    }\n",
       "\n",
       "    .dataframe tbody tr th {\n",
       "        vertical-align: top;\n",
       "    }\n",
       "\n",
       "    .dataframe thead th {\n",
       "        text-align: right;\n",
       "    }\n",
       "</style>\n",
       "<table border=\"1\" class=\"dataframe\">\n",
       "  <thead>\n",
       "    <tr style=\"text-align: right;\">\n",
       "      <th></th>\n",
       "      <th>date</th>\n",
       "      <th>group</th>\n",
       "      <th>transactionId</th>\n",
       "      <th>visitorId</th>\n",
       "      <th>revenue</th>\n",
       "    </tr>\n",
       "  </thead>\n",
       "  <tbody>\n",
       "    <tr>\n",
       "      <td>55</td>\n",
       "      <td>2019-08-01</td>\n",
       "      <td>A</td>\n",
       "      <td>23</td>\n",
       "      <td>19</td>\n",
       "      <td>2266.6</td>\n",
       "    </tr>\n",
       "    <tr>\n",
       "      <td>66</td>\n",
       "      <td>2019-08-01</td>\n",
       "      <td>B</td>\n",
       "      <td>17</td>\n",
       "      <td>17</td>\n",
       "      <td>967.2</td>\n",
       "    </tr>\n",
       "    <tr>\n",
       "      <td>175</td>\n",
       "      <td>2019-08-02</td>\n",
       "      <td>A</td>\n",
       "      <td>42</td>\n",
       "      <td>36</td>\n",
       "      <td>3734.9</td>\n",
       "    </tr>\n",
       "    <tr>\n",
       "      <td>173</td>\n",
       "      <td>2019-08-02</td>\n",
       "      <td>B</td>\n",
       "      <td>40</td>\n",
       "      <td>39</td>\n",
       "      <td>3535.3</td>\n",
       "    </tr>\n",
       "    <tr>\n",
       "      <td>291</td>\n",
       "      <td>2019-08-03</td>\n",
       "      <td>A</td>\n",
       "      <td>66</td>\n",
       "      <td>60</td>\n",
       "      <td>5550.1</td>\n",
       "    </tr>\n",
       "  </tbody>\n",
       "</table>\n",
       "</div>"
      ],
      "text/plain": [
       "          date group  transactionId  visitorId  revenue\n",
       "55  2019-08-01     A             23         19   2266.6\n",
       "66  2019-08-01     B             17         17    967.2\n",
       "175 2019-08-02     A             42         36   3734.9\n",
       "173 2019-08-02     B             40         39   3535.3\n",
       "291 2019-08-03     A             66         60   5550.1"
      ]
     },
     "execution_count": 21,
     "metadata": {},
     "output_type": "execute_result"
    }
   ],
   "source": [
    "# daily revenue per each group\n",
    "import numpy as np \n",
    "ordersAggregated = datesGroups.apply(lambda x: \n",
    "                                     orders[np.logical_and(orders['date'] <= x['date'], \n",
    "                                                           orders['group'] == x['group'])].\n",
    "                                             agg({'date':'max', \n",
    "                                                  'group':'max', \n",
    "                                                  'transactionId':pd.Series.nunique, \n",
    "                                                  'visitorId':pd.Series.nunique, \n",
    "                                                  'revenue':'sum'}), axis=1).sort_values(by=['date','group'])\n",
    "\n",
    "ordersAggregated.head()"
   ]
  },
  {
   "cell_type": "code",
   "execution_count": 22,
   "metadata": {},
   "outputs": [
    {
     "data": {
      "text/html": [
       "<div>\n",
       "<style scoped>\n",
       "    .dataframe tbody tr th:only-of-type {\n",
       "        vertical-align: middle;\n",
       "    }\n",
       "\n",
       "    .dataframe tbody tr th {\n",
       "        vertical-align: top;\n",
       "    }\n",
       "\n",
       "    .dataframe thead th {\n",
       "        text-align: right;\n",
       "    }\n",
       "</style>\n",
       "<table border=\"1\" class=\"dataframe\">\n",
       "  <thead>\n",
       "    <tr style=\"text-align: right;\">\n",
       "      <th></th>\n",
       "      <th>date</th>\n",
       "      <th>group</th>\n",
       "      <th>visits</th>\n",
       "    </tr>\n",
       "  </thead>\n",
       "  <tbody>\n",
       "    <tr>\n",
       "      <td>55</td>\n",
       "      <td>2019-08-01</td>\n",
       "      <td>A</td>\n",
       "      <td>719</td>\n",
       "    </tr>\n",
       "    <tr>\n",
       "      <td>66</td>\n",
       "      <td>2019-08-01</td>\n",
       "      <td>B</td>\n",
       "      <td>713</td>\n",
       "    </tr>\n",
       "    <tr>\n",
       "      <td>175</td>\n",
       "      <td>2019-08-02</td>\n",
       "      <td>A</td>\n",
       "      <td>1338</td>\n",
       "    </tr>\n",
       "    <tr>\n",
       "      <td>173</td>\n",
       "      <td>2019-08-02</td>\n",
       "      <td>B</td>\n",
       "      <td>1294</td>\n",
       "    </tr>\n",
       "    <tr>\n",
       "      <td>291</td>\n",
       "      <td>2019-08-03</td>\n",
       "      <td>A</td>\n",
       "      <td>1845</td>\n",
       "    </tr>\n",
       "  </tbody>\n",
       "</table>\n",
       "</div>"
      ],
      "text/plain": [
       "          date group  visits\n",
       "55  2019-08-01     A     719\n",
       "66  2019-08-01     B     713\n",
       "175 2019-08-02     A    1338\n",
       "173 2019-08-02     B    1294\n",
       "291 2019-08-03     A    1845"
      ]
     },
     "execution_count": 22,
     "metadata": {},
     "output_type": "execute_result"
    }
   ],
   "source": [
    "# daily vistors per group and date \n",
    "visitorsAggregated = datesGroups.apply(lambda x: visits[np.logical_and(visits['date'] <= x['date'], visits['group'] == x['group'])].agg({'date' : 'max', 'group' : 'max', 'visits' : 'sum'}), axis=1).sort_values(by=['date','group'])\n",
    "\n",
    "visitorsAggregated.head()"
   ]
  },
  {
   "cell_type": "code",
   "execution_count": 23,
   "metadata": {},
   "outputs": [
    {
     "data": {
      "text/html": [
       "<div>\n",
       "<style scoped>\n",
       "    .dataframe tbody tr th:only-of-type {\n",
       "        vertical-align: middle;\n",
       "    }\n",
       "\n",
       "    .dataframe tbody tr th {\n",
       "        vertical-align: top;\n",
       "    }\n",
       "\n",
       "    .dataframe thead th {\n",
       "        text-align: right;\n",
       "    }\n",
       "</style>\n",
       "<table border=\"1\" class=\"dataframe\">\n",
       "  <thead>\n",
       "    <tr style=\"text-align: right;\">\n",
       "      <th></th>\n",
       "      <th>date</th>\n",
       "      <th>group</th>\n",
       "      <th>orders</th>\n",
       "      <th>buyers</th>\n",
       "      <th>revenue</th>\n",
       "      <th>visitors</th>\n",
       "    </tr>\n",
       "  </thead>\n",
       "  <tbody>\n",
       "    <tr>\n",
       "      <td>0</td>\n",
       "      <td>2019-08-01</td>\n",
       "      <td>A</td>\n",
       "      <td>23</td>\n",
       "      <td>19</td>\n",
       "      <td>2266.6</td>\n",
       "      <td>719</td>\n",
       "    </tr>\n",
       "    <tr>\n",
       "      <td>1</td>\n",
       "      <td>2019-08-01</td>\n",
       "      <td>B</td>\n",
       "      <td>17</td>\n",
       "      <td>17</td>\n",
       "      <td>967.2</td>\n",
       "      <td>713</td>\n",
       "    </tr>\n",
       "    <tr>\n",
       "      <td>2</td>\n",
       "      <td>2019-08-02</td>\n",
       "      <td>A</td>\n",
       "      <td>42</td>\n",
       "      <td>36</td>\n",
       "      <td>3734.9</td>\n",
       "      <td>1338</td>\n",
       "    </tr>\n",
       "    <tr>\n",
       "      <td>3</td>\n",
       "      <td>2019-08-02</td>\n",
       "      <td>B</td>\n",
       "      <td>40</td>\n",
       "      <td>39</td>\n",
       "      <td>3535.3</td>\n",
       "      <td>1294</td>\n",
       "    </tr>\n",
       "    <tr>\n",
       "      <td>4</td>\n",
       "      <td>2019-08-03</td>\n",
       "      <td>A</td>\n",
       "      <td>66</td>\n",
       "      <td>60</td>\n",
       "      <td>5550.1</td>\n",
       "      <td>1845</td>\n",
       "    </tr>\n",
       "  </tbody>\n",
       "</table>\n",
       "</div>"
      ],
      "text/plain": [
       "        date group  orders  buyers  revenue  visitors\n",
       "0 2019-08-01     A      23      19   2266.6       719\n",
       "1 2019-08-01     B      17      17    967.2       713\n",
       "2 2019-08-02     A      42      36   3734.9      1338\n",
       "3 2019-08-02     B      40      39   3535.3      1294\n",
       "4 2019-08-03     A      66      60   5550.1      1845"
      ]
     },
     "execution_count": 23,
     "metadata": {},
     "output_type": "execute_result"
    }
   ],
   "source": [
    "# merging the two tables into one and giving its columns descriptive names\n",
    "cumulativeData = ordersAggregated.merge(visitorsAggregated, left_on=['date', 'group'], right_on=['date', 'group'])\n",
    "cumulativeData.columns = ['date', 'group', 'orders', 'buyers', 'revenue', 'visitors']\n",
    "\n",
    "cumulativeData.head()"
   ]
  },
  {
   "cell_type": "code",
   "execution_count": 24,
   "metadata": {},
   "outputs": [],
   "source": [
    "# DataFrame with cumulative orders and cumulative revenue by day, group A\n",
    "cumulativeRevenueA = cumulativeData[cumulativeData['group']=='A'][['date','revenue', 'orders']]\n",
    "\n",
    "# DataFrame with cumulative orders and cumulative revenue by day, group B\n",
    "cumulativeRevenueB = cumulativeData[cumulativeData['group']=='B'][['date','revenue', 'orders']]"
   ]
  },
  {
   "cell_type": "markdown",
   "metadata": {},
   "source": [
    "Graph cumulative revenue by group. Make conclusions and conjectures.\n"
   ]
  },
  {
   "cell_type": "code",
   "execution_count": 25,
   "metadata": {},
   "outputs": [
    {
     "data": {
      "image/png": "[encoded data removed]",
      "text/plain": [
       "<Figure size 720x360 with 1 Axes>"
      ]
     },
     "metadata": {
      "needs_background": "light"
     },
     "output_type": "display_data"
    }
   ],
   "source": [
    "plt.figure(figsize=(10, 5))\n",
    "\n",
    "# Plotting the group A revenue graph \n",
    "plt.plot(cumulativeRevenueA['date'], cumulativeRevenueA['revenue'], label='A')\n",
    "\n",
    "# Plotting the group B revenue graph \n",
    "plt.plot(cumulativeRevenueB['date'], cumulativeRevenueB['revenue'], label='B')\n",
    "\n",
    "plt.legend()\n",
    "plt.xlabel('Date')\n",
    "plt.ylabel('Revenue')\n",
    "plt.title('Cumulative revenue by group by day')\n",
    "plt.show()"
   ]
  },
  {
   "cell_type": "markdown",
   "metadata": {},
   "source": [
    "We can see that revenue of both group is rising steadily throughout the whole test. The cumulative revenue of group B are higher than that of group A. There is a sharp rise in revenue of group B at certain point (after 2019-08-17). This may indicate the existence of outliers (or a jump in number of orders, or presence of very expensive orders)."
   ]
  },
  {
   "cell_type": "markdown",
   "metadata": {},
   "source": [
    "Graph cumulative average order size by group. Make conclusions and conjectures."
   ]
  },
  {
   "cell_type": "markdown",
   "metadata": {},
   "source": [
    "daily average revnue/number of orders per day"
   ]
  },
  {
   "cell_type": "code",
   "execution_count": 26,
   "metadata": {},
   "outputs": [
    {
     "data": {
      "image/png": "[encoded data removed]",
      "text/plain": [
       "<Figure size 720x360 with 1 Axes>"
      ]
     },
     "metadata": {
      "needs_background": "light"
     },
     "output_type": "display_data"
    }
   ],
   "source": [
    "\n",
    "plt.figure(figsize=(10, 5))\n",
    "\n",
    "plt.plot(cumulativeRevenueA['date'], cumulativeRevenueA['revenue']/cumulativeRevenueA['orders'], label='A')\n",
    "\n",
    "plt.plot(cumulativeRevenueB['date'], cumulativeRevenueB['revenue']/cumulativeRevenueB['orders'], label='B')\n",
    "\n",
    "plt.legend()\n",
    "plt.xlabel('Date')\n",
    "plt.ylabel('Average order size')\n",
    "plt.title('Cumulative average order size by group by day')\n",
    "plt.show()"
   ]
  },
  {
   "cell_type": "markdown",
   "metadata": {},
   "source": [
    "It seems like average order size becomes steady by the end of the test for group A. It grows till certain point and then falling for group B. The spike in group B on 2019-08-18 may have been due to the presence of large, expensive orders."
   ]
  },
  {
   "cell_type": "markdown",
   "metadata": {},
   "source": [
    "Graph the relative difference in cumulative average order size for group B compared with group A. Make conclusions and conjectures.\n"
   ]
  },
  {
   "cell_type": "code",
   "execution_count": 27,
   "metadata": {},
   "outputs": [
    {
     "data": {
      "image/png": "[encoded data removed]",
      "text/plain": [
       "<Figure size 720x360 with 1 Axes>"
      ]
     },
     "metadata": {
      "needs_background": "light"
     },
     "output_type": "display_data"
    }
   ],
   "source": [
    "# gathering the data into one DataFrame\n",
    "mergedCumulativeRevenue = cumulativeRevenueA.merge(cumulativeRevenueB, left_on='date', right_on='date', how='left', suffixes=['A', 'B'])\n",
    "\n",
    "plt.figure(figsize=(10, 5))\n",
    "\n",
    "# plotting a relative difference graph for the average order sizes\n",
    "plt.plot(mergedCumulativeRevenue['date'], (mergedCumulativeRevenue['revenueB']/mergedCumulativeRevenue['ordersB'])/(mergedCumulativeRevenue['revenueA']/mergedCumulativeRevenue['ordersA'])-1)\n",
    "\n",
    "# adding the X axis\n",
    "plt.axhline(y=0, color='black', linestyle='--') \n",
    "\n",
    "plt.xlabel('Date')\n",
    "plt.ylabel('Relative difference of the average order size')\n",
    "plt.title('Relative difference in cumulative average order size for group B compared with group A')\n",
    "plt.show()"
   ]
  },
  {
   "cell_type": "markdown",
   "metadata": {},
   "source": [
    "We can see that at several points the difference between the groups spikes. This means there must be some big orders and outliers.\n",
    "\n"
   ]
  },
  {
   "cell_type": "markdown",
   "metadata": {},
   "source": [
    "Calculate each group's conversion rate as the ratio of orders to the number of visits for each day. Plot the daily conversion rates of the two groups and describe the difference. Draw conclusions and make conjectures.\n"
   ]
  },
  {
   "cell_type": "code",
   "execution_count": 28,
   "metadata": {},
   "outputs": [],
   "source": [
    "# calculating cumulative conversion\n",
    "cumulativeData['conversion'] = cumulativeData['orders']/cumulativeData['visitors']\n",
    "\n",
    "# selecting data on group A \n",
    "cumulativeDataA = cumulativeData[cumulativeData['group']=='A']\n",
    "\n",
    "# selecting data on group B\n",
    "cumulativeDataB = cumulativeData[cumulativeData['group']=='B']"
   ]
  },
  {
   "cell_type": "code",
   "execution_count": 29,
   "metadata": {},
   "outputs": [
    {
     "data": {
      "image/png": "[encoded data removed]",
      "text/plain": [
       "<Figure size 720x360 with 1 Axes>"
      ]
     },
     "metadata": {
      "needs_background": "light"
     },
     "output_type": "display_data"
    }
   ],
   "source": [
    "plt.figure(figsize=(10, 5))\n",
    "\n",
    "plt.plot(cumulativeDataA['date'], cumulativeDataA['conversion'], label='A')\n",
    "plt.plot(cumulativeDataB['date'], cumulativeDataB['conversion'], label='B')\n",
    "plt.legend()\n",
    "plt.xlabel('Date')\n",
    "plt.ylabel('Cumulative conversion')\n",
    "plt.title('Daily cumulative conversion graph of each group')\n",
    "\n",
    "\n",
    "# setting the axes' scale\n",
    "plt.axis(['2019-08-01', '2019-09-01', 0, 0.05])\n",
    "plt.show()"
   ]
  },
  {
   "cell_type": "markdown",
   "metadata": {},
   "source": [
    "\n",
    "At the beggining of the test group A had a higher convertion rate than gruop B. But at some point it changed. Conversion rate of group A dropped and then stabilized, the conversion rate of group B rose and then stabilized."
   ]
  },
  {
   "cell_type": "markdown",
   "metadata": {},
   "source": [
    "Plot a scatter chart of the number of orders per user. Make conclusions and conjectures.\n"
   ]
  },
  {
   "cell_type": "code",
   "execution_count": 30,
   "metadata": {},
   "outputs": [
    {
     "data": {
      "image/png": "[encoded data removed]",
      "text/plain": [
       "<Figure size 720x360 with 1 Axes>"
      ]
     },
     "metadata": {
      "needs_background": "light"
     },
     "output_type": "display_data"
    }
   ],
   "source": [
    "mergedCumulativeConversions = cumulativeDataA[['date','conversion']].merge(cumulativeDataB[['date','conversion']], left_on='date', right_on='date', how='left', suffixes=['A', 'B'])\n",
    "\n",
    "plt.figure(figsize=(10, 5))\n",
    "plt.plot(mergedCumulativeConversions['date'], mergedCumulativeConversions['conversionB']/mergedCumulativeConversions['conversionA']-1)\n",
    "plt.xlabel('Date')\n",
    "plt.ylabel('Relative difference between the cumulative conversion rate')\n",
    "plt.title('Relative difference between the cumulative conversion rate of group B compared with that of group A.')\n",
    "\n",
    "\n",
    "plt.axhline(y=0, color='black', linestyle='--')\n",
    "plt.axhline(y=0.15, color='grey', linestyle='--')\n",
    "plt.axis(['2019-08-01', '2019-09-01', -0.5, 0.5])\n",
    "\n",
    "plt.show()"
   ]
  },
  {
   "cell_type": "markdown",
   "metadata": {},
   "source": [
    "Group B was the leader in conversion almost from the beggining. It grew steadily and stabilized about 15% higher than in group A\n",
    "\n"
   ]
  },
  {
   "cell_type": "markdown",
   "metadata": {},
   "source": [
    "Calculate the 95th and 99th percentiles for the number of orders per user. Define the point at which a data point becomes an anomaly.\n"
   ]
  },
  {
   "cell_type": "markdown",
   "metadata": {},
   "source": [
    "Let's find the number of orders per user.\n",
    "\n"
   ]
  },
  {
   "cell_type": "code",
   "execution_count": 31,
   "metadata": {},
   "outputs": [],
   "source": [
    "# remove the unnecessary columns, group the orders by users, find the number of distinct orders\n",
    "ordersByUsers = orders.drop(['group', 'revenue', 'date'], axis=1).groupby('visitorId', as_index=False).agg({'transactionId' : pd.Series.nunique})\n",
    "\n",
    "ordersByUsers.columns = ['userId','orders']"
   ]
  },
  {
   "cell_type": "code",
   "execution_count": 32,
   "metadata": {},
   "outputs": [
    {
     "data": {
      "image/png": "[encoded data removed]",
      "text/plain": [
       "<Figure size 720x360 with 1 Axes>"
      ]
     },
     "metadata": {
      "needs_background": "light"
     },
     "output_type": "display_data"
    }
   ],
   "source": [
    "# the range of numbers from 0 to the number of observations in ordersByUsers\n",
    "x_values = pd.Series(range(0,len(ordersByUsers)))\n",
    "\n",
    "plt.figure(figsize=(10, 5))\n",
    "plt.scatter(x_values, ordersByUsers['orders'])\n",
    "plt.xlabel('range')\n",
    "plt.ylabel('Number of orders per user')\n",
    "plt.title('Scatter chart of the number of orders per user')\n",
    "\n",
    "plt.show()"
   ]
  },
  {
   "cell_type": "markdown",
   "metadata": {},
   "source": [
    "The majority of users placed only one order. We can see also users with two and three orders. It's not clear whether we should consider them anomalies or not. Let's calculate the 95th and 99th percentiles for the number of orders per user.\n",
    "\n"
   ]
  },
  {
   "cell_type": "code",
   "execution_count": 33,
   "metadata": {},
   "outputs": [
    {
     "name": "stdout",
     "output_type": "stream",
     "text": [
      "[1. 2.]\n"
     ]
    }
   ],
   "source": [
    "print(np.percentile(ordersByUsers['orders'], [95, 99]))\n"
   ]
  },
  {
   "cell_type": "markdown",
   "metadata": {},
   "source": [
    "Not more than 5% of users placed more than one order, and not more than 1% of users placed more than two orders.\n",
    "\n"
   ]
  },
  {
   "cell_type": "markdown",
   "metadata": {},
   "source": [
    "Find the statistical significance of the difference in conversion between the groups using the raw data. Make conclusions and conjectures.\n"
   ]
  },
  {
   "cell_type": "markdown",
   "metadata": {},
   "source": [
    "Now we'll plot a scatter chart of order prices.\n"
   ]
  },
  {
   "cell_type": "code",
   "execution_count": 34,
   "metadata": {},
   "outputs": [
    {
     "data": {
      "image/png": "[encoded data removed]",
      "text/plain": [
       "<Figure size 720x360 with 1 Axes>"
      ]
     },
     "metadata": {
      "needs_background": "light"
     },
     "output_type": "display_data"
    }
   ],
   "source": [
    "x_values = pd.Series(range(0, len(orders['revenue'])))\n",
    "\n",
    "plt.figure(figsize=(10, 5))\n",
    "plt.scatter(x_values, orders['revenue'])\n",
    "\n",
    "plt.xlabel('Range')\n",
    "plt.ylabel('Order prices in $')\n",
    "plt.title('Scatter chart of order prices.')\n",
    "\n",
    "plt.show()"
   ]
  },
  {
   "cell_type": "markdown",
   "metadata": {},
   "source": [
    "\n",
    "Most of the order prices is less then 2,000 dollars. We can see one order is about 3,000 dollars and one more is about 20,000 dollars. According to the graph these two values are definitely outliers. But let's look at percentiles.\n",
    "\n",
    "Let's calculate the 95th and 99th percentiles of order prices and define the point at which a data point becomes an anomaly."
   ]
  },
  {
   "cell_type": "code",
   "execution_count": 35,
   "metadata": {},
   "outputs": [
    {
     "name": "stdout",
     "output_type": "stream",
     "text": [
      "[414.275 830.3  ]\n"
     ]
    }
   ],
   "source": [
    "print(np.percentile(orders['revenue'], [95, 99]))\n"
   ]
  },
  {
   "cell_type": "markdown",
   "metadata": {},
   "source": [
    "Not more than 5% of orders cost more than 415 dollars, and not more than 1% cost more than 830 dollars.\n",
    "\n",
    "Let's define anomalous users as those who place one order bigger than 600 dollars.\n",
    "\n",
    "So, we define anomalous users as those who place more than one order or one order bigger than 600 dollars. Thus we'll remove the 5% of users with the largest numbers of orders and from 1% to 5% of the users with the most expensive orders.\n",
    "\n",
    "\n"
   ]
  },
  {
   "cell_type": "code",
   "execution_count": 36,
   "metadata": {},
   "outputs": [],
   "source": [
    "ordersByUsersA = orders[orders['group']=='A'].groupby('visitorId', as_index=False).agg({'transactionId' : pd.Series.nunique})\n",
    "ordersByUsersA.columns = ['userId', 'orders']\n",
    "\n",
    "ordersByUsersB = orders[orders['group']=='B'].groupby('visitorId', as_index=False).agg({'transactionId' : pd.Series.nunique})\n",
    "ordersByUsersB.columns = ['userId', 'orders']"
   ]
  },
  {
   "cell_type": "markdown",
   "metadata": {},
   "source": [
    "Now we'll declare the variables sampleA and sampleB, with users from different groups and corresponding numbers of orders. Those who didn't order anything will have 0.\n",
    "\n"
   ]
  },
  {
   "cell_type": "code",
   "execution_count": 37,
   "metadata": {},
   "outputs": [],
   "source": [
    "\n",
    "sampleA = pd.concat([ordersByUsersA['orders'],pd.Series(0, index=np.arange(visits[visits['group']=='A']['visits'].sum() - len(ordersByUsersA['orders'])), name='orders')],axis=0)\n",
    "\n",
    "sampleB = pd.concat([ordersByUsersB['orders'],pd.Series(0, index=np.arange(visits[visits['group']=='B']['visits'].sum() - len(ordersByUsersB['orders'])), name='orders')],axis=0)"
   ]
  },
  {
   "cell_type": "code",
   "execution_count": 38,
   "metadata": {},
   "outputs": [
    {
     "name": "stdout",
     "output_type": "stream",
     "text": [
      "p-value: 0.006\n",
      "Relative conversion gain for group B: 0.160\n"
     ]
    }
   ],
   "source": [
    "print(\"p-value: {0:.3f}\".format(stats.mannwhitneyu(sampleA, sampleB)[1]))\n",
    "\n",
    "print(\"Relative conversion gain for group B: {0:.3f}\".format(sampleB.mean()/sampleA.mean()-1))"
   ]
  },
  {
   "cell_type": "code",
   "execution_count": 39,
   "metadata": {},
   "outputs": [
    {
     "name": "stdout",
     "output_type": "stream",
     "text": [
      "p-value: 0.431\n",
      "Relative difference in average order size between the groups: 0.278\n"
     ]
    }
   ],
   "source": [
    "print(\"p-value: {0:.3f}\".format(stats.mannwhitneyu(orders[orders['group']=='A']['revenue'], orders[orders['group']=='B']['revenue'])[1],alternative = ' two-sided'))\n",
    "print(\"Relative difference in average order size between the groups: {0:.3f}\".format(orders[orders['group']=='B']['revenue'].mean()/orders[orders['group']=='A']['revenue'].mean()-1))"
   ]
  },
  {
   "cell_type": "markdown",
   "metadata": {},
   "source": [
    "Find the statistical significance of the difference in conversion between the groups using the filtered data. Make conclusions and conjectures.\n"
   ]
  },
  {
   "cell_type": "code",
   "execution_count": 40,
   "metadata": {},
   "outputs": [
    {
     "name": "stdout",
     "output_type": "stream",
     "text": [
      "The number of anomalous users: 59\n"
     ]
    }
   ],
   "source": [
    "# data slices with the users who placed more than one order\n",
    "usersWithManyOrders = pd.concat([ordersByUsersA[ordersByUsersA['orders'] > 1]['userId'], ordersByUsersB[ordersByUsersB['orders'] > 1]['userId']], axis = 0)\n",
    "\n",
    "# users who placed orders for more than $600\n",
    "usersWithExpensiveOrders = orders[orders['revenue'] > 600]['visitorId']\n",
    "\n",
    "# join two tables\n",
    "abnormalUsers = pd.concat([usersWithManyOrders, usersWithExpensiveOrders], axis = 0).drop_duplicates().sort_values()\n",
    "print(\"The number of anomalous users:\", abnormalUsers.shape[0])"
   ]
  },
  {
   "cell_type": "code",
   "execution_count": 41,
   "metadata": {},
   "outputs": [],
   "source": [
    "sampleAFiltered = pd.concat([ordersByUsersA[np.logical_not(ordersByUsersA['userId'].isin(abnormalUsers))]['orders'],pd.Series(0, index=np.arange(visits[visits['group']=='A']['visits'].sum() - len(ordersByUsersA['orders'])),name='orders')],axis=0)\n",
    "\n",
    "sampleBFiltered = pd.concat([ordersByUsersB[np.logical_not(ordersByUsersB['userId'].isin(abnormalUsers))]['orders'],pd.Series(0, index=np.arange(visits[visits['group']=='B']['visits'].sum() - len(ordersByUsersB['orders'])),name='orders')],axis=0)"
   ]
  },
  {
   "cell_type": "code",
   "execution_count": 42,
   "metadata": {},
   "outputs": [
    {
     "name": "stdout",
     "output_type": "stream",
     "text": [
      "p-value: 0.003\n",
      "Relative conversion gain for group B: 0.196\n"
     ]
    }
   ],
   "source": [
    "\n",
    "print(\"p-value: {0:.3f}\".format(stats.mannwhitneyu(sampleAFiltered, sampleBFiltered)[1],alternative =  'two-sided'))\n",
    "print(\"Relative conversion gain for group B: {0:.3f}\".format(sampleBFiltered.mean()/sampleAFiltered.mean()-1))"
   ]
  },
  {
   "cell_type": "markdown",
   "metadata": {},
   "source": [
    "As happaned with raw data, the p-value is lower than 0.05 so we reject the null hypothesis. The groups' conversion rates have statistically significant differences. The relative conversion gain for group B compared with group A is about 20%.\n",
    "\n"
   ]
  },
  {
   "cell_type": "markdown",
   "metadata": {},
   "source": [
    "Find the statistical significance of the difference in average order size between the groups using the filtered data. Make conclusions and conjectures.\n"
   ]
  },
  {
   "cell_type": "code",
   "execution_count": 43,
   "metadata": {},
   "outputs": [
    {
     "name": "stdout",
     "output_type": "stream",
     "text": [
      "p-value: 0.834\n",
      "Relative difference in average order size between the groups: 0.061\n"
     ]
    }
   ],
   "source": [
    "print(\"p-value: {0:.3f}\".format(stats.mannwhitneyu(\n",
    "    orders[np.logical_and(\n",
    "        orders['group']=='A',\n",
    "        np.logical_not(orders['visitorId'].isin(abnormalUsers)))]['revenue'],\n",
    "    orders[np.logical_and(\n",
    "        orders['group']=='B',\n",
    "        np.logical_not(orders['visitorId'].isin(abnormalUsers)))]['revenue'],alternative =  'two-sided')[1]))\n",
    "\n",
    "print(\"Relative difference in average order size between the groups: {0:.3f}\".format(\n",
    "    orders[np.logical_and(orders['group']=='B',np.logical_not(orders['visitorId'].isin(abnormalUsers)))]['revenue'].mean()/\n",
    "    orders[np.logical_and(\n",
    "        orders['group']=='A',\n",
    "        np.logical_not(orders['visitorId'].isin(abnormalUsers)))]['revenue'].mean() - 1))"
   ]
  },
  {
   "cell_type": "markdown",
   "metadata": {},
   "source": [
    "Conclusions\n",
    "* There's a statistically significant difference in conversion rate between the groups, according to both the raw and the filtered data.\n",
    "* Neither raw nor filtered data revealed any statistically significant differences in average order size between the groups.\n",
    "* The graph of the difference in conversion between the groups shows that group B's results are better than those of group A.\n",
    "* We can stop the test and conclud that in terms of average order size we see no statistic difference.That means we attract the same users in terms of purchase behavior. But in term of conversion, group B perfomes better than group A. That means we attract more customers that pay us money"
   ]
  }
 ],
 "metadata": {
  "ExecuteTimeLog": [
   {
    "duration": 752,
    "start_time": "2021-10-22T14:52:53.611Z"
   },
   {
    "duration": 43,
    "start_time": "2021-10-22T14:53:52.363Z"
   },
   {
    "duration": 26,
    "start_time": "2021-10-22T14:53:57.846Z"
   },
   {
    "duration": 90,
    "start_time": "2021-10-22T14:54:26.593Z"
   },
   {
    "duration": 343,
    "start_time": "2021-10-22T14:55:32.299Z"
   },
   {
    "duration": 19,
    "start_time": "2021-10-22T14:58:07.124Z"
   },
   {
    "duration": 11,
    "start_time": "2021-10-22T14:58:10.719Z"
   },
   {
    "duration": 30,
    "start_time": "2021-10-22T15:00:50.691Z"
   },
   {
    "duration": 269,
    "start_time": "2021-10-22T15:01:09.048Z"
   },
   {
    "duration": 14,
    "start_time": "2021-10-22T15:01:17.740Z"
   },
   {
    "duration": 6956,
    "start_time": "2021-10-22T15:08:18.429Z"
   },
   {
    "duration": 6752,
    "start_time": "2021-10-22T15:08:49.029Z"
   },
   {
    "duration": 12,
    "start_time": "2021-10-22T15:09:14.236Z"
   },
   {
    "duration": 12,
    "start_time": "2021-10-22T15:09:46.018Z"
   },
   {
    "duration": 8,
    "start_time": "2021-10-22T15:10:20.720Z"
   },
   {
    "duration": 16,
    "start_time": "2021-10-22T15:13:22.922Z"
   },
   {
    "duration": 16,
    "start_time": "2021-10-22T15:30:09.236Z"
   },
   {
    "duration": 9,
    "start_time": "2021-10-22T15:30:37.330Z"
   },
   {
    "duration": 16,
    "start_time": "2021-10-22T15:31:00.987Z"
   },
   {
    "duration": 18,
    "start_time": "2021-10-22T15:31:19.618Z"
   },
   {
    "duration": 79,
    "start_time": "2021-10-22T15:43:49.179Z"
   },
   {
    "duration": 12,
    "start_time": "2021-10-22T15:43:54.398Z"
   },
   {
    "duration": 10,
    "start_time": "2021-10-22T15:44:02.343Z"
   },
   {
    "duration": 761,
    "start_time": "2021-10-22T15:46:35.533Z"
   },
   {
    "duration": 258,
    "start_time": "2021-10-22T15:47:24.624Z"
   },
   {
    "duration": 5,
    "start_time": "2021-10-22T16:24:04.091Z"
   },
   {
    "duration": 565,
    "start_time": "2021-10-22T16:24:09.790Z"
   },
   {
    "duration": 518,
    "start_time": "2021-10-22T16:24:26.546Z"
   },
   {
    "duration": 7733,
    "start_time": "2021-10-22T16:25:40.588Z"
   },
   {
    "duration": 7279,
    "start_time": "2021-10-22T16:26:01.398Z"
   },
   {
    "duration": 7308,
    "start_time": "2021-10-22T16:26:38.660Z"
   },
   {
    "duration": 8210,
    "start_time": "2021-10-22T16:27:13.615Z"
   },
   {
    "duration": 3709,
    "start_time": "2021-10-22T16:27:45.239Z"
   },
   {
    "duration": 4304,
    "start_time": "2021-10-22T16:28:25.359Z"
   },
   {
    "duration": 3753,
    "start_time": "2021-10-22T16:28:31.541Z"
   },
   {
    "duration": 4097,
    "start_time": "2021-10-22T16:31:25.850Z"
   },
   {
    "duration": 298,
    "start_time": "2021-10-22T16:37:08.752Z"
   },
   {
    "duration": 5,
    "start_time": "2021-10-22T16:38:46.435Z"
   },
   {
    "duration": 6,
    "start_time": "2021-10-22T16:38:51.329Z"
   },
   {
    "duration": 9,
    "start_time": "2021-10-22T16:38:56.120Z"
   },
   {
    "duration": 327,
    "start_time": "2021-10-22T16:40:09.443Z"
   },
   {
    "duration": 267,
    "start_time": "2021-10-22T16:40:29.312Z"
   },
   {
    "duration": 348,
    "start_time": "2021-10-22T16:40:35.377Z"
   },
   {
    "duration": 481,
    "start_time": "2021-10-22T16:43:08.602Z"
   },
   {
    "duration": 92,
    "start_time": "2021-10-22T16:43:22.015Z"
   },
   {
    "duration": 359,
    "start_time": "2021-10-22T16:43:27.300Z"
   },
   {
    "duration": 497,
    "start_time": "2021-10-22T16:48:39.816Z"
   },
   {
    "duration": 512,
    "start_time": "2021-10-22T16:49:11.161Z"
   },
   {
    "duration": 493,
    "start_time": "2021-10-22T16:49:14.746Z"
   },
   {
    "duration": 508,
    "start_time": "2021-10-22T16:49:25.280Z"
   },
   {
    "duration": 485,
    "start_time": "2021-10-22T16:49:31.287Z"
   },
   {
    "duration": 500,
    "start_time": "2021-10-22T16:49:47.537Z"
   },
   {
    "duration": 492,
    "start_time": "2021-10-22T16:50:06.512Z"
   },
   {
    "duration": 484,
    "start_time": "2021-10-22T16:50:11.609Z"
   },
   {
    "duration": -362,
    "start_time": "2021-10-22T16:51:38.164Z"
   },
   {
    "duration": 6555,
    "start_time": "2021-10-22T16:51:45.024Z"
   },
   {
    "duration": 6565,
    "start_time": "2021-10-22T16:52:00.989Z"
   },
   {
    "duration": 20,
    "start_time": "2021-10-22T16:52:11.475Z"
   },
   {
    "duration": 21,
    "start_time": "2021-10-22T16:52:35.499Z"
   },
   {
    "duration": 302,
    "start_time": "2021-10-22T16:52:40.167Z"
   },
   {
    "duration": 15,
    "start_time": "2021-10-22T16:52:43.574Z"
   },
   {
    "duration": 14,
    "start_time": "2021-10-22T16:52:48.505Z"
   },
   {
    "duration": 508,
    "start_time": "2021-10-22T16:52:59.909Z"
   },
   {
    "duration": 493,
    "start_time": "2021-10-22T16:53:08.060Z"
   },
   {
    "duration": 483,
    "start_time": "2021-10-22T16:53:16.708Z"
   },
   {
    "duration": 320,
    "start_time": "2021-10-22T16:53:20.370Z"
   },
   {
    "duration": 205,
    "start_time": "2021-10-22T16:53:47.835Z"
   },
   {
    "duration": 629,
    "start_time": "2021-10-22T16:54:00.797Z"
   },
   {
    "duration": 534,
    "start_time": "2021-10-22T16:54:10.780Z"
   },
   {
    "duration": 280,
    "start_time": "2021-10-22T16:54:48.748Z"
   },
   {
    "duration": 6,
    "start_time": "2021-10-22T16:54:52.638Z"
   },
   {
    "duration": 7,
    "start_time": "2021-10-22T16:55:22.507Z"
   },
   {
    "duration": 9,
    "start_time": "2021-10-22T17:04:21.993Z"
   },
   {
    "duration": 9,
    "start_time": "2021-10-22T17:04:34.425Z"
   },
   {
    "duration": 12,
    "start_time": "2021-10-22T17:05:01.039Z"
   },
   {
    "duration": 3438,
    "start_time": "2021-10-22T17:06:08.499Z"
   },
   {
    "duration": 6,
    "start_time": "2021-10-22T17:06:19.223Z"
   },
   {
    "duration": 221,
    "start_time": "2021-10-22T17:06:21.848Z"
   },
   {
    "duration": 283,
    "start_time": "2021-10-22T17:07:26.542Z"
   },
   {
    "duration": 273,
    "start_time": "2021-10-22T17:07:36.863Z"
   },
   {
    "duration": 15,
    "start_time": "2021-10-22T17:07:41.661Z"
   },
   {
    "duration": 13,
    "start_time": "2021-10-22T17:08:48.620Z"
   },
   {
    "duration": 8,
    "start_time": "2021-10-22T17:09:21.510Z"
   },
   {
    "duration": 9,
    "start_time": "2021-10-22T17:09:51.157Z"
   },
   {
    "duration": 8,
    "start_time": "2021-10-22T17:10:01.651Z"
   },
   {
    "duration": 9,
    "start_time": "2021-10-22T17:10:06.564Z"
   },
   {
    "duration": 9,
    "start_time": "2021-10-22T17:10:09.461Z"
   },
   {
    "duration": 6476,
    "start_time": "2021-10-22T17:11:17.944Z"
   },
   {
    "duration": 7098,
    "start_time": "2021-10-22T17:12:12.623Z"
   },
   {
    "duration": 7,
    "start_time": "2021-10-22T17:13:05.361Z"
   },
   {
    "duration": 272,
    "start_time": "2021-10-22T17:13:13.562Z"
   },
   {
    "duration": 277,
    "start_time": "2021-10-22T17:13:16.229Z"
   },
   {
    "duration": 320,
    "start_time": "2021-10-22T17:13:27.148Z"
   },
   {
    "duration": 13,
    "start_time": "2021-10-22T17:13:31.184Z"
   },
   {
    "duration": 10,
    "start_time": "2021-10-22T17:13:40.061Z"
   },
   {
    "duration": 12,
    "start_time": "2021-10-22T17:13:51.614Z"
   },
   {
    "duration": 13,
    "start_time": "2021-10-22T17:13:54.615Z"
   },
   {
    "duration": 7462,
    "start_time": "2021-10-22T17:15:35.554Z"
   },
   {
    "duration": 10,
    "start_time": "2021-10-22T17:15:51.735Z"
   },
   {
    "duration": 6816,
    "start_time": "2021-10-22T17:15:56.492Z"
   },
   {
    "duration": 6,
    "start_time": "2021-10-22T17:16:56.966Z"
   },
   {
    "duration": 9,
    "start_time": "2021-10-22T17:17:16.774Z"
   },
   {
    "duration": -312,
    "start_time": "2021-10-22T17:17:43.773Z"
   },
   {
    "duration": 98,
    "start_time": "2021-10-22T17:17:53.199Z"
   },
   {
    "duration": 7244,
    "start_time": "2021-10-22T17:17:55.840Z"
   },
   {
    "duration": 6581,
    "start_time": "2021-10-22T17:18:26.572Z"
   },
   {
    "duration": 12,
    "start_time": "2021-10-22T17:19:04.827Z"
   },
   {
    "duration": 4,
    "start_time": "2021-10-22T17:19:15.607Z"
   },
   {
    "duration": 22,
    "start_time": "2021-10-22T17:19:15.614Z"
   },
   {
    "duration": 14,
    "start_time": "2021-10-22T17:19:15.641Z"
   },
   {
    "duration": 29,
    "start_time": "2021-10-22T17:19:15.658Z"
   },
   {
    "duration": 35,
    "start_time": "2021-10-22T17:19:15.689Z"
   },
   {
    "duration": 18,
    "start_time": "2021-10-22T17:19:15.726Z"
   },
   {
    "duration": 17,
    "start_time": "2021-10-22T17:19:15.747Z"
   },
   {
    "duration": 59,
    "start_time": "2021-10-22T17:19:15.769Z"
   },
   {
    "duration": 13,
    "start_time": "2021-10-22T17:19:15.831Z"
   },
   {
    "duration": 23,
    "start_time": "2021-10-22T17:19:15.848Z"
   },
   {
    "duration": 11,
    "start_time": "2021-10-22T17:19:32.369Z"
   },
   {
    "duration": 6,
    "start_time": "2021-10-22T17:19:34.509Z"
   },
   {
    "duration": 3,
    "start_time": "2021-10-22T17:20:02.791Z"
   },
   {
    "duration": 20,
    "start_time": "2021-10-22T17:20:04.533Z"
   },
   {
    "duration": 33,
    "start_time": "2021-10-22T17:20:04.556Z"
   },
   {
    "duration": 38,
    "start_time": "2021-10-22T17:20:04.593Z"
   },
   {
    "duration": 16,
    "start_time": "2021-10-22T17:20:04.635Z"
   },
   {
    "duration": 18,
    "start_time": "2021-10-22T17:20:04.654Z"
   },
   {
    "duration": 54,
    "start_time": "2021-10-22T17:20:04.675Z"
   },
   {
    "duration": 68,
    "start_time": "2021-10-22T17:20:04.732Z"
   },
   {
    "duration": 12,
    "start_time": "2021-10-22T17:20:04.802Z"
   },
   {
    "duration": 24,
    "start_time": "2021-10-22T17:20:04.817Z"
   },
   {
    "duration": 38,
    "start_time": "2021-10-22T17:20:04.850Z"
   },
   {
    "duration": 24,
    "start_time": "2021-10-22T17:20:04.901Z"
   },
   {
    "duration": 22,
    "start_time": "2021-10-22T17:20:04.936Z"
   },
   {
    "duration": 7,
    "start_time": "2021-10-22T17:20:10.611Z"
   },
   {
    "duration": 15,
    "start_time": "2021-10-22T17:20:30.573Z"
   },
   {
    "duration": 16,
    "start_time": "2021-10-22T17:20:33.439Z"
   },
   {
    "duration": 8,
    "start_time": "2021-10-22T17:21:08.069Z"
   },
   {
    "duration": 283,
    "start_time": "2021-10-22T17:21:38.542Z"
   },
   {
    "duration": 12,
    "start_time": "2021-10-22T17:21:49.702Z"
   },
   {
    "duration": 6,
    "start_time": "2021-10-22T17:22:20.988Z"
   },
   {
    "duration": 12,
    "start_time": "2021-10-22T17:22:28.238Z"
   },
   {
    "duration": 19,
    "start_time": "2021-10-22T17:23:03.403Z"
   },
   {
    "duration": 3157,
    "start_time": "2021-10-22T17:26:59.126Z"
   },
   {
    "duration": 566,
    "start_time": "2021-10-22T17:27:16.148Z"
   },
   {
    "duration": 188,
    "start_time": "2021-10-22T17:27:27.222Z"
   },
   {
    "duration": 403,
    "start_time": "2021-10-22T17:28:45.750Z"
   },
   {
    "duration": 17,
    "start_time": "2021-10-22T17:29:06.085Z"
   },
   {
    "duration": 453,
    "start_time": "2021-10-22T17:29:27.825Z"
   },
   {
    "duration": 361,
    "start_time": "2021-10-22T17:29:45.146Z"
   },
   {
    "duration": 540,
    "start_time": "2021-10-22T17:30:07.434Z"
   },
   {
    "duration": 289,
    "start_time": "2021-10-22T17:30:21.773Z"
   },
   {
    "duration": 22,
    "start_time": "2021-10-22T17:30:35.376Z"
   },
   {
    "duration": 11,
    "start_time": "2021-10-22T17:30:49.731Z"
   },
   {
    "duration": 400,
    "start_time": "2021-10-22T17:31:01.288Z"
   },
   {
    "duration": 352,
    "start_time": "2021-10-22T17:31:16.573Z"
   },
   {
    "duration": 456,
    "start_time": "2021-10-22T17:31:29.059Z"
   },
   {
    "duration": 9,
    "start_time": "2021-10-22T17:31:41.442Z"
   },
   {
    "duration": 359,
    "start_time": "2021-10-22T17:31:51.580Z"
   },
   {
    "duration": 459,
    "start_time": "2021-10-22T17:32:04.244Z"
   },
   {
    "duration": 210,
    "start_time": "2021-10-22T17:32:20.184Z"
   },
   {
    "duration": 442,
    "start_time": "2021-10-22T17:32:29.066Z"
   },
   {
    "duration": 6,
    "start_time": "2021-10-22T17:32:40.587Z"
   },
   {
    "duration": 434,
    "start_time": "2021-10-22T17:32:49.351Z"
   },
   {
    "duration": 6,
    "start_time": "2021-10-22T17:32:59.381Z"
   },
   {
    "duration": 194,
    "start_time": "2021-10-22T17:33:08.429Z"
   },
   {
    "duration": 280,
    "start_time": "2021-10-22T17:33:17.364Z"
   },
   {
    "duration": 290,
    "start_time": "2021-10-22T17:33:38.450Z"
   },
   {
    "duration": 10,
    "start_time": "2021-10-22T17:33:53.083Z"
   },
   {
    "duration": 337,
    "start_time": "2021-10-22T17:34:08.174Z"
   },
   {
    "duration": 273,
    "start_time": "2021-10-22T17:34:16.128Z"
   },
   {
    "duration": 266,
    "start_time": "2021-10-22T17:34:29.609Z"
   },
   {
    "duration": 5,
    "start_time": "2021-10-22T17:36:13.957Z"
   },
   {
    "duration": 55,
    "start_time": "2021-10-22T17:36:13.965Z"
   },
   {
    "duration": 16,
    "start_time": "2021-10-22T17:36:14.023Z"
   },
   {
    "duration": 32,
    "start_time": "2021-10-22T17:36:14.041Z"
   },
   {
    "duration": 12,
    "start_time": "2021-10-22T17:36:14.076Z"
   },
   {
    "duration": 43,
    "start_time": "2021-10-22T17:36:14.090Z"
   },
   {
    "duration": 17,
    "start_time": "2021-10-22T17:36:14.135Z"
   },
   {
    "duration": 59,
    "start_time": "2021-10-22T17:36:14.156Z"
   },
   {
    "duration": 12,
    "start_time": "2021-10-22T17:36:14.218Z"
   },
   {
    "duration": 12,
    "start_time": "2021-10-22T17:36:14.234Z"
   },
   {
    "duration": 15,
    "start_time": "2021-10-22T17:36:14.249Z"
   },
   {
    "duration": 9,
    "start_time": "2021-10-22T17:36:14.267Z"
   },
   {
    "duration": 11,
    "start_time": "2021-10-22T17:36:14.322Z"
   },
   {
    "duration": 17,
    "start_time": "2021-10-22T17:36:14.336Z"
   },
   {
    "duration": 7,
    "start_time": "2021-10-22T17:36:14.356Z"
   },
   {
    "duration": 56,
    "start_time": "2021-10-22T17:36:14.366Z"
   },
   {
    "duration": 11,
    "start_time": "2021-10-22T17:36:14.426Z"
   },
   {
    "duration": 11,
    "start_time": "2021-10-22T17:36:14.440Z"
   },
   {
    "duration": 20,
    "start_time": "2021-10-22T17:36:14.454Z"
   },
   {
    "duration": 52,
    "start_time": "2021-10-22T17:36:14.477Z"
   },
   {
    "duration": 366,
    "start_time": "2021-10-22T17:36:14.531Z"
   },
   {
    "duration": 297,
    "start_time": "2021-10-22T17:36:14.900Z"
   },
   {
    "duration": 35,
    "start_time": "2021-10-22T17:36:15.202Z"
   },
   {
    "duration": 11,
    "start_time": "2021-10-22T17:36:15.240Z"
   },
   {
    "duration": 385,
    "start_time": "2021-10-22T17:36:15.254Z"
   },
   {
    "duration": 364,
    "start_time": "2021-10-22T17:36:15.641Z"
   },
   {
    "duration": 489,
    "start_time": "2021-10-22T17:36:16.008Z"
   },
   {
    "duration": 10,
    "start_time": "2021-10-22T17:36:16.499Z"
   },
   {
    "duration": 371,
    "start_time": "2021-10-22T17:36:16.512Z"
   },
   {
    "duration": 504,
    "start_time": "2021-10-22T17:36:16.886Z"
   },
   {
    "duration": 173,
    "start_time": "2021-10-22T17:36:17.392Z"
   },
   {
    "duration": 465,
    "start_time": "2021-10-22T17:36:17.567Z"
   },
   {
    "duration": 7,
    "start_time": "2021-10-22T17:36:18.035Z"
   },
   {
    "duration": 652,
    "start_time": "2021-10-22T17:36:18.045Z"
   },
   {
    "duration": 6,
    "start_time": "2021-10-22T17:36:18.699Z"
   },
   {
    "duration": 216,
    "start_time": "2021-10-22T17:36:18.706Z"
   },
   {
    "duration": 11,
    "start_time": "2021-10-22T17:36:18.924Z"
   },
   {
    "duration": 16,
    "start_time": "2021-10-22T17:36:18.937Z"
   },
   {
    "duration": 15,
    "start_time": "2021-10-22T17:36:18.956Z"
   },
   {
    "duration": 15,
    "start_time": "2021-10-22T17:36:18.974Z"
   },
   {
    "duration": 274,
    "start_time": "2021-10-22T17:36:19.023Z"
   },
   {
    "duration": 1,
    "start_time": "2021-10-22T17:36:19.299Z"
   },
   {
    "duration": -2,
    "start_time": "2021-10-22T17:36:19.303Z"
   },
   {
    "duration": -2,
    "start_time": "2021-10-22T17:36:19.305Z"
   },
   {
    "duration": -3,
    "start_time": "2021-10-22T17:36:19.307Z"
   },
   {
    "duration": -5,
    "start_time": "2021-10-22T17:36:19.310Z"
   },
   {
    "duration": -6,
    "start_time": "2021-10-22T17:36:19.312Z"
   },
   {
    "duration": -5,
    "start_time": "2021-10-22T17:36:19.313Z"
   },
   {
    "duration": -6,
    "start_time": "2021-10-22T17:36:19.315Z"
   },
   {
    "duration": -6,
    "start_time": "2021-10-22T17:36:19.316Z"
   },
   {
    "duration": 18,
    "start_time": "2021-10-22T17:36:43.115Z"
   },
   {
    "duration": 9,
    "start_time": "2021-10-22T17:36:45.270Z"
   },
   {
    "duration": 21,
    "start_time": "2021-10-22T17:36:47.075Z"
   },
   {
    "duration": 13,
    "start_time": "2021-10-22T17:59:32.210Z"
   },
   {
    "duration": 18,
    "start_time": "2021-10-22T17:59:45.967Z"
   },
   {
    "duration": 16,
    "start_time": "2021-10-22T18:00:01.194Z"
   },
   {
    "duration": 15,
    "start_time": "2021-10-22T18:00:06.524Z"
   },
   {
    "duration": 15,
    "start_time": "2021-10-22T18:00:15.655Z"
   },
   {
    "duration": 99,
    "start_time": "2021-10-23T09:20:18.763Z"
   },
   {
    "duration": 328,
    "start_time": "2021-10-23T09:22:24.295Z"
   },
   {
    "duration": 1491,
    "start_time": "2021-10-23T09:22:30.172Z"
   },
   {
    "duration": 19,
    "start_time": "2021-10-23T09:22:31.666Z"
   },
   {
    "duration": 21,
    "start_time": "2021-10-23T09:22:31.688Z"
   },
   {
    "duration": 33,
    "start_time": "2021-10-23T09:22:31.711Z"
   },
   {
    "duration": 12,
    "start_time": "2021-10-23T09:22:31.746Z"
   },
   {
    "duration": 22,
    "start_time": "2021-10-23T09:22:35.023Z"
   },
   {
    "duration": 17,
    "start_time": "2021-10-23T09:22:50.639Z"
   },
   {
    "duration": 342,
    "start_time": "2021-10-23T09:24:13.665Z"
   },
   {
    "duration": 4,
    "start_time": "2021-10-23T09:24:21.312Z"
   },
   {
    "duration": 21,
    "start_time": "2021-10-23T09:24:21.320Z"
   },
   {
    "duration": 16,
    "start_time": "2021-10-23T09:24:21.345Z"
   },
   {
    "duration": 28,
    "start_time": "2021-10-23T09:24:21.364Z"
   },
   {
    "duration": 27,
    "start_time": "2021-10-23T09:24:21.395Z"
   },
   {
    "duration": 17,
    "start_time": "2021-10-23T09:24:21.425Z"
   },
   {
    "duration": 21,
    "start_time": "2021-10-23T09:24:29.903Z"
   },
   {
    "duration": 4,
    "start_time": "2021-10-23T09:25:28.476Z"
   },
   {
    "duration": 20,
    "start_time": "2021-10-23T09:25:28.483Z"
   },
   {
    "duration": 11,
    "start_time": "2021-10-23T09:25:28.507Z"
   },
   {
    "duration": 29,
    "start_time": "2021-10-23T09:25:28.521Z"
   },
   {
    "duration": 13,
    "start_time": "2021-10-23T09:25:28.552Z"
   },
   {
    "duration": 58,
    "start_time": "2021-10-23T09:25:28.568Z"
   },
   {
    "duration": 19,
    "start_time": "2021-10-23T09:25:28.629Z"
   },
   {
    "duration": 62,
    "start_time": "2021-10-23T09:25:28.651Z"
   },
   {
    "duration": 12,
    "start_time": "2021-10-23T09:25:28.717Z"
   },
   {
    "duration": 9,
    "start_time": "2021-10-23T09:25:28.732Z"
   },
   {
    "duration": 13,
    "start_time": "2021-10-23T09:25:28.744Z"
   },
   {
    "duration": 9,
    "start_time": "2021-10-23T09:25:28.760Z"
   },
   {
    "duration": 56,
    "start_time": "2021-10-23T09:25:28.771Z"
   },
   {
    "duration": 15,
    "start_time": "2021-10-23T09:25:28.830Z"
   },
   {
    "duration": 7,
    "start_time": "2021-10-23T09:25:28.847Z"
   },
   {
    "duration": 13,
    "start_time": "2021-10-23T09:25:28.857Z"
   },
   {
    "duration": 8,
    "start_time": "2021-10-23T09:25:28.873Z"
   },
   {
    "duration": 43,
    "start_time": "2021-10-23T09:25:28.883Z"
   },
   {
    "duration": 22,
    "start_time": "2021-10-23T09:25:28.928Z"
   },
   {
    "duration": 19,
    "start_time": "2021-10-23T09:25:28.952Z"
   },
   {
    "duration": 388,
    "start_time": "2021-10-23T09:25:28.974Z"
   },
   {
    "duration": 301,
    "start_time": "2021-10-23T09:25:29.365Z"
   },
   {
    "duration": 21,
    "start_time": "2021-10-23T09:25:29.669Z"
   },
   {
    "duration": 35,
    "start_time": "2021-10-23T09:25:29.693Z"
   },
   {
    "duration": 418,
    "start_time": "2021-10-23T09:25:29.731Z"
   },
   {
    "duration": 365,
    "start_time": "2021-10-23T09:25:30.151Z"
   },
   {
    "duration": 472,
    "start_time": "2021-10-23T09:25:30.525Z"
   },
   {
    "duration": 9,
    "start_time": "2021-10-23T09:25:31.000Z"
   },
   {
    "duration": 452,
    "start_time": "2021-10-23T09:25:31.011Z"
   },
   {
    "duration": 530,
    "start_time": "2021-10-23T09:25:31.466Z"
   },
   {
    "duration": 197,
    "start_time": "2021-10-23T09:25:31.998Z"
   },
   {
    "duration": 577,
    "start_time": "2021-10-23T09:25:32.197Z"
   },
   {
    "duration": 7,
    "start_time": "2021-10-23T09:25:32.776Z"
   },
   {
    "duration": 662,
    "start_time": "2021-10-23T09:25:32.786Z"
   },
   {
    "duration": 5,
    "start_time": "2021-10-23T09:25:33.451Z"
   },
   {
    "duration": 198,
    "start_time": "2021-10-23T09:25:33.458Z"
   },
   {
    "duration": 10,
    "start_time": "2021-10-23T09:25:33.659Z"
   },
   {
    "duration": 13,
    "start_time": "2021-10-23T09:25:33.672Z"
   },
   {
    "duration": 13,
    "start_time": "2021-10-23T09:25:33.687Z"
   },
   {
    "duration": 13,
    "start_time": "2021-10-23T09:25:33.703Z"
   },
   {
    "duration": 19,
    "start_time": "2021-10-23T09:25:33.723Z"
   },
   {
    "duration": 15,
    "start_time": "2021-10-23T09:25:33.745Z"
   },
   {
    "duration": 21,
    "start_time": "2021-10-23T09:25:33.762Z"
   },
   {
    "duration": 79252,
    "start_time": "2021-10-23T16:19:33.077Z"
   },
   {
    "duration": 20,
    "start_time": "2021-10-23T16:20:52.331Z"
   },
   {
    "duration": 15,
    "start_time": "2021-10-23T16:20:52.354Z"
   },
   {
    "duration": 26,
    "start_time": "2021-10-23T16:20:52.372Z"
   },
   {
    "duration": 32,
    "start_time": "2021-10-23T16:20:52.401Z"
   },
   {
    "duration": 19,
    "start_time": "2021-10-23T16:20:52.435Z"
   },
   {
    "duration": 21,
    "start_time": "2021-10-23T16:20:52.456Z"
   },
   {
    "duration": 56,
    "start_time": "2021-10-23T16:20:52.481Z"
   },
   {
    "duration": 12,
    "start_time": "2021-10-23T16:20:52.540Z"
   },
   {
    "duration": 21,
    "start_time": "2021-10-23T16:20:52.555Z"
   },
   {
    "duration": 13,
    "start_time": "2021-10-23T16:20:52.578Z"
   },
   {
    "duration": 7,
    "start_time": "2021-10-23T16:20:52.594Z"
   },
   {
    "duration": 9,
    "start_time": "2021-10-23T16:20:52.623Z"
   },
   {
    "duration": 17,
    "start_time": "2021-10-23T16:20:52.635Z"
   },
   {
    "duration": 8,
    "start_time": "2021-10-23T16:20:52.654Z"
   },
   {
    "duration": 11,
    "start_time": "2021-10-23T16:20:52.665Z"
   },
   {
    "duration": 13,
    "start_time": "2021-10-23T16:20:52.723Z"
   },
   {
    "duration": 14,
    "start_time": "2021-10-23T16:20:52.739Z"
   },
   {
    "duration": 20,
    "start_time": "2021-10-23T16:20:52.755Z"
   },
   {
    "duration": 47,
    "start_time": "2021-10-23T16:20:52.777Z"
   },
   {
    "duration": 307,
    "start_time": "2021-10-23T16:20:52.827Z"
   },
   {
    "duration": 218,
    "start_time": "2021-10-23T16:20:53.136Z"
   },
   {
    "duration": 17,
    "start_time": "2021-10-23T16:20:53.359Z"
   },
   {
    "duration": 8,
    "start_time": "2021-10-23T16:20:53.380Z"
   },
   {
    "duration": 422,
    "start_time": "2021-10-23T16:20:53.390Z"
   },
   {
    "duration": 397,
    "start_time": "2021-10-23T16:20:53.814Z"
   },
   {
    "duration": 563,
    "start_time": "2021-10-23T16:20:54.214Z"
   },
   {
    "duration": 8,
    "start_time": "2021-10-23T16:20:54.780Z"
   },
   {
    "duration": 374,
    "start_time": "2021-10-23T16:20:54.790Z"
   },
   {
    "duration": 488,
    "start_time": "2021-10-23T16:20:55.166Z"
   },
   {
    "duration": 110,
    "start_time": "2021-10-23T16:20:55.656Z"
   },
   {
    "duration": 490,
    "start_time": "2021-10-23T16:20:55.769Z"
   },
   {
    "duration": 6,
    "start_time": "2021-10-23T16:20:56.262Z"
   },
   {
    "duration": 431,
    "start_time": "2021-10-23T16:20:56.271Z"
   },
   {
    "duration": 5,
    "start_time": "2021-10-23T16:20:56.704Z"
   },
   {
    "duration": 133,
    "start_time": "2021-10-23T16:20:56.724Z"
   },
   {
    "duration": 11,
    "start_time": "2021-10-23T16:20:56.859Z"
   },
   {
    "duration": 34,
    "start_time": "2021-10-23T16:20:56.872Z"
   },
   {
    "duration": 27,
    "start_time": "2021-10-23T16:20:56.908Z"
   },
   {
    "duration": 12,
    "start_time": "2021-10-23T16:20:56.938Z"
   },
   {
    "duration": 13,
    "start_time": "2021-10-23T16:20:56.952Z"
   },
   {
    "duration": 70,
    "start_time": "2021-10-23T16:20:56.967Z"
   },
   {
    "duration": 19,
    "start_time": "2021-10-23T16:20:57.039Z"
   },
   {
    "duration": 251,
    "start_time": "2021-10-24T19:41:35.709Z"
   },
   {
    "duration": 1456,
    "start_time": "2021-10-24T19:42:18.553Z"
   },
   {
    "duration": 18,
    "start_time": "2021-10-24T19:42:20.012Z"
   },
   {
    "duration": 21,
    "start_time": "2021-10-24T19:42:20.033Z"
   },
   {
    "duration": 45,
    "start_time": "2021-10-24T19:42:20.057Z"
   },
   {
    "duration": 24,
    "start_time": "2021-10-24T19:42:20.104Z"
   },
   {
    "duration": 16,
    "start_time": "2021-10-24T19:42:20.131Z"
   },
   {
    "duration": 22,
    "start_time": "2021-10-24T19:42:20.150Z"
   },
   {
    "duration": 55,
    "start_time": "2021-10-24T19:42:20.174Z"
   },
   {
    "duration": 11,
    "start_time": "2021-10-24T19:42:20.233Z"
   },
   {
    "duration": 15,
    "start_time": "2021-10-24T19:42:20.247Z"
   },
   {
    "duration": 28,
    "start_time": "2021-10-24T19:42:20.265Z"
   },
   {
    "duration": 13,
    "start_time": "2021-10-24T19:42:20.296Z"
   },
   {
    "duration": 25,
    "start_time": "2021-10-24T19:42:20.312Z"
   },
   {
    "duration": 26,
    "start_time": "2021-10-24T19:42:20.339Z"
   },
   {
    "duration": 8,
    "start_time": "2021-10-24T19:42:20.367Z"
   },
   {
    "duration": 21,
    "start_time": "2021-10-24T19:42:20.378Z"
   },
   {
    "duration": 30,
    "start_time": "2021-10-24T19:42:20.401Z"
   },
   {
    "duration": 31,
    "start_time": "2021-10-24T19:42:20.433Z"
   },
   {
    "duration": 23,
    "start_time": "2021-10-24T19:42:20.466Z"
   },
   {
    "duration": 26,
    "start_time": "2021-10-24T19:42:20.491Z"
   },
   {
    "duration": 373,
    "start_time": "2021-10-24T19:42:20.519Z"
   },
   {
    "duration": 289,
    "start_time": "2021-10-24T19:42:20.894Z"
   },
   {
    "duration": 20,
    "start_time": "2021-10-24T19:42:21.185Z"
   },
   {
    "duration": 27,
    "start_time": "2021-10-24T19:42:21.207Z"
   },
   {
    "duration": 404,
    "start_time": "2021-10-24T19:42:21.236Z"
   },
   {
    "duration": 380,
    "start_time": "2021-10-24T19:42:21.642Z"
   },
   {
    "duration": 475,
    "start_time": "2021-10-24T19:42:22.031Z"
   },
   {
    "duration": 10,
    "start_time": "2021-10-24T19:42:22.508Z"
   },
   {
    "duration": 375,
    "start_time": "2021-10-24T19:42:22.520Z"
   },
   {
    "duration": 500,
    "start_time": "2021-10-24T19:42:22.898Z"
   },
   {
    "duration": 187,
    "start_time": "2021-10-24T19:42:23.401Z"
   },
   {
    "duration": 510,
    "start_time": "2021-10-24T19:42:23.590Z"
   },
   {
    "duration": 6,
    "start_time": "2021-10-24T19:42:24.102Z"
   },
   {
    "duration": 582,
    "start_time": "2021-10-24T19:42:24.110Z"
   },
   {
    "duration": 6,
    "start_time": "2021-10-24T19:42:24.694Z"
   },
   {
    "duration": 236,
    "start_time": "2021-10-24T19:42:24.703Z"
   },
   {
    "duration": 11,
    "start_time": "2021-10-24T19:42:24.941Z"
   },
   {
    "duration": 15,
    "start_time": "2021-10-24T19:42:24.954Z"
   },
   {
    "duration": 15,
    "start_time": "2021-10-24T19:42:24.972Z"
   },
   {
    "duration": 47,
    "start_time": "2021-10-24T19:42:24.989Z"
   },
   {
    "duration": 31,
    "start_time": "2021-10-24T19:42:25.038Z"
   },
   {
    "duration": 10,
    "start_time": "2021-10-24T19:42:25.071Z"
   },
   {
    "duration": 20,
    "start_time": "2021-10-24T19:42:25.083Z"
   },
   {
    "duration": 1417,
    "start_time": "2021-10-24T19:43:10.952Z"
   },
   {
    "duration": 19,
    "start_time": "2021-10-24T19:43:12.372Z"
   },
   {
    "duration": 21,
    "start_time": "2021-10-24T19:43:12.394Z"
   },
   {
    "duration": 36,
    "start_time": "2021-10-24T19:43:12.417Z"
   },
   {
    "duration": 15,
    "start_time": "2021-10-24T19:43:12.455Z"
   },
   {
    "duration": 28,
    "start_time": "2021-10-24T19:43:12.472Z"
   },
   {
    "duration": 44,
    "start_time": "2021-10-24T19:43:12.502Z"
   },
   {
    "duration": 57,
    "start_time": "2021-10-24T19:43:12.548Z"
   },
   {
    "duration": 12,
    "start_time": "2021-10-24T19:43:12.609Z"
   },
   {
    "duration": 11,
    "start_time": "2021-10-24T19:43:12.624Z"
   },
   {
    "duration": 13,
    "start_time": "2021-10-24T19:43:12.638Z"
   },
   {
    "duration": 8,
    "start_time": "2021-10-24T19:43:12.654Z"
   },
   {
    "duration": 15,
    "start_time": "2021-10-24T19:43:12.665Z"
   },
   {
    "duration": 50,
    "start_time": "2021-10-24T19:43:12.682Z"
   },
   {
    "duration": 7,
    "start_time": "2021-10-24T19:43:12.735Z"
   },
   {
    "duration": 19,
    "start_time": "2021-10-24T19:43:12.744Z"
   },
   {
    "duration": 10,
    "start_time": "2021-10-24T19:43:12.765Z"
   },
   {
    "duration": 14,
    "start_time": "2021-10-24T19:43:12.778Z"
   },
   {
    "duration": 49,
    "start_time": "2021-10-24T19:43:12.794Z"
   },
   {
    "duration": 18,
    "start_time": "2021-10-24T19:43:12.845Z"
   },
   {
    "duration": 373,
    "start_time": "2021-10-24T19:43:12.865Z"
   },
   {
    "duration": 276,
    "start_time": "2021-10-24T19:43:13.240Z"
   },
   {
    "duration": 19,
    "start_time": "2021-10-24T19:43:13.529Z"
   },
   {
    "duration": 11,
    "start_time": "2021-10-24T19:43:13.551Z"
   },
   {
    "duration": 404,
    "start_time": "2021-10-24T19:43:13.565Z"
   },
   {
    "duration": 373,
    "start_time": "2021-10-24T19:43:13.971Z"
   },
   {
    "duration": 447,
    "start_time": "2021-10-24T19:43:14.349Z"
   },
   {
    "duration": 10,
    "start_time": "2021-10-24T19:43:14.799Z"
   },
   {
    "duration": 370,
    "start_time": "2021-10-24T19:43:14.811Z"
   },
   {
    "duration": 495,
    "start_time": "2021-10-24T19:43:15.184Z"
   },
   {
    "duration": 179,
    "start_time": "2021-10-24T19:43:15.682Z"
   },
   {
    "duration": 424,
    "start_time": "2021-10-24T19:43:15.864Z"
   },
   {
    "duration": 5,
    "start_time": "2021-10-24T19:43:16.290Z"
   },
   {
    "duration": 536,
    "start_time": "2021-10-24T19:43:16.297Z"
   },
   {
    "duration": 6,
    "start_time": "2021-10-24T19:43:16.836Z"
   },
   {
    "duration": 202,
    "start_time": "2021-10-24T19:43:16.845Z"
   },
   {
    "duration": 10,
    "start_time": "2021-10-24T19:43:17.050Z"
   },
   {
    "duration": 11,
    "start_time": "2021-10-24T19:43:17.062Z"
   },
   {
    "duration": 18,
    "start_time": "2021-10-24T19:43:17.075Z"
   },
   {
    "duration": 42,
    "start_time": "2021-10-24T19:43:17.095Z"
   },
   {
    "duration": 17,
    "start_time": "2021-10-24T19:43:17.139Z"
   },
   {
    "duration": 17,
    "start_time": "2021-10-24T19:43:17.158Z"
   },
   {
    "duration": 22,
    "start_time": "2021-10-24T19:43:17.178Z"
   },
   {
    "duration": 4,
    "start_time": "2021-10-24T19:43:34.464Z"
   },
   {
    "duration": 28,
    "start_time": "2021-10-24T19:43:34.471Z"
   },
   {
    "duration": 26,
    "start_time": "2021-10-24T19:43:34.502Z"
   },
   {
    "duration": 33,
    "start_time": "2021-10-24T19:43:34.531Z"
   },
   {
    "duration": 13,
    "start_time": "2021-10-24T19:43:34.566Z"
   },
   {
    "duration": 48,
    "start_time": "2021-10-24T19:43:34.581Z"
   },
   {
    "duration": 18,
    "start_time": "2021-10-24T19:43:34.632Z"
   },
   {
    "duration": 72,
    "start_time": "2021-10-24T19:43:34.652Z"
   },
   {
    "duration": 11,
    "start_time": "2021-10-24T19:43:34.728Z"
   },
   {
    "duration": 16,
    "start_time": "2021-10-24T19:43:34.742Z"
   },
   {
    "duration": 20,
    "start_time": "2021-10-24T19:43:34.760Z"
   },
   {
    "duration": 25,
    "start_time": "2021-10-24T19:43:34.782Z"
   },
   {
    "duration": 15,
    "start_time": "2021-10-24T19:43:34.809Z"
   },
   {
    "duration": 30,
    "start_time": "2021-10-24T19:43:34.827Z"
   },
   {
    "duration": 7,
    "start_time": "2021-10-24T19:43:34.859Z"
   },
   {
    "duration": 21,
    "start_time": "2021-10-24T19:43:34.868Z"
   },
   {
    "duration": 15,
    "start_time": "2021-10-24T19:43:34.891Z"
   },
   {
    "duration": 21,
    "start_time": "2021-10-24T19:43:34.909Z"
   },
   {
    "duration": 34,
    "start_time": "2021-10-24T19:43:34.934Z"
   },
   {
    "duration": 20,
    "start_time": "2021-10-24T19:43:34.971Z"
   },
   {
    "duration": 378,
    "start_time": "2021-10-24T19:43:34.994Z"
   },
   {
    "duration": 287,
    "start_time": "2021-10-24T19:43:35.374Z"
   },
   {
    "duration": 21,
    "start_time": "2021-10-24T19:43:35.663Z"
   },
   {
    "duration": 34,
    "start_time": "2021-10-24T19:43:35.686Z"
   },
   {
    "duration": 389,
    "start_time": "2021-10-24T19:43:35.723Z"
   },
   {
    "duration": 368,
    "start_time": "2021-10-24T19:43:36.114Z"
   },
   {
    "duration": 488,
    "start_time": "2021-10-24T19:43:36.487Z"
   },
   {
    "duration": 10,
    "start_time": "2021-10-24T19:43:36.978Z"
   },
   {
    "duration": 367,
    "start_time": "2021-10-24T19:43:36.990Z"
   },
   {
    "duration": 449,
    "start_time": "2021-10-24T19:43:37.360Z"
   },
   {
    "duration": 223,
    "start_time": "2021-10-24T19:43:37.811Z"
   },
   {
    "duration": 452,
    "start_time": "2021-10-24T19:43:38.036Z"
   },
   {
    "duration": 8,
    "start_time": "2021-10-24T19:43:38.491Z"
   },
   {
    "duration": 477,
    "start_time": "2021-10-24T19:43:38.502Z"
   },
   {
    "duration": 6,
    "start_time": "2021-10-24T19:43:38.982Z"
   },
   {
    "duration": 220,
    "start_time": "2021-10-24T19:43:38.991Z"
   },
   {
    "duration": 20,
    "start_time": "2021-10-24T19:43:39.213Z"
   },
   {
    "duration": 18,
    "start_time": "2021-10-24T19:43:39.236Z"
   },
   {
    "duration": 18,
    "start_time": "2021-10-24T19:43:39.256Z"
   },
   {
    "duration": 14,
    "start_time": "2021-10-24T19:43:39.277Z"
   },
   {
    "duration": 43,
    "start_time": "2021-10-24T19:43:39.294Z"
   },
   {
    "duration": 15,
    "start_time": "2021-10-24T19:43:39.340Z"
   },
   {
    "duration": 22,
    "start_time": "2021-10-24T19:43:39.358Z"
   },
   {
    "duration": 67,
    "start_time": "2021-10-24T19:44:13.630Z"
   },
   {
    "duration": 74,
    "start_time": "2021-10-24T19:44:26.403Z"
   },
   {
    "duration": 77,
    "start_time": "2021-10-24T19:44:57.099Z"
   },
   {
    "duration": 17,
    "start_time": "2021-10-24T19:46:21.750Z"
   },
   {
    "duration": 1424,
    "start_time": "2021-10-24T19:46:37.435Z"
   },
   {
    "duration": 18,
    "start_time": "2021-10-24T19:46:38.862Z"
   },
   {
    "duration": 18,
    "start_time": "2021-10-24T19:46:38.883Z"
   },
   {
    "duration": 42,
    "start_time": "2021-10-24T19:46:38.903Z"
   },
   {
    "duration": 13,
    "start_time": "2021-10-24T19:46:38.947Z"
   },
   {
    "duration": 20,
    "start_time": "2021-10-24T19:46:38.963Z"
   },
   {
    "duration": 46,
    "start_time": "2021-10-24T19:46:38.985Z"
   },
   {
    "duration": 52,
    "start_time": "2021-10-24T19:46:39.034Z"
   },
   {
    "duration": 11,
    "start_time": "2021-10-24T19:46:39.090Z"
   },
   {
    "duration": 9,
    "start_time": "2021-10-24T19:46:39.104Z"
   },
   {
    "duration": 17,
    "start_time": "2021-10-24T19:46:39.116Z"
   },
   {
    "duration": 12,
    "start_time": "2021-10-24T19:46:39.136Z"
   },
   {
    "duration": 11,
    "start_time": "2021-10-24T19:46:39.150Z"
   },
   {
    "duration": 24,
    "start_time": "2021-10-24T19:46:39.163Z"
   },
   {
    "duration": 7,
    "start_time": "2021-10-24T19:46:39.189Z"
   },
   {
    "duration": 35,
    "start_time": "2021-10-24T19:46:39.198Z"
   },
   {
    "duration": 15,
    "start_time": "2021-10-24T19:46:39.236Z"
   },
   {
    "duration": 14,
    "start_time": "2021-10-24T19:46:39.254Z"
   },
   {
    "duration": 22,
    "start_time": "2021-10-24T19:46:39.270Z"
   },
   {
    "duration": 40,
    "start_time": "2021-10-24T19:46:39.294Z"
   },
   {
    "duration": 365,
    "start_time": "2021-10-24T19:46:39.336Z"
   },
   {
    "duration": 296,
    "start_time": "2021-10-24T19:46:39.704Z"
   },
   {
    "duration": 41,
    "start_time": "2021-10-24T19:46:40.002Z"
   },
   {
    "duration": 10,
    "start_time": "2021-10-24T19:46:40.046Z"
   },
   {
    "duration": 401,
    "start_time": "2021-10-24T19:46:40.058Z"
   },
   {
    "duration": 385,
    "start_time": "2021-10-24T19:46:40.461Z"
   },
   {
    "duration": 459,
    "start_time": "2021-10-24T19:46:40.851Z"
   },
   {
    "duration": 19,
    "start_time": "2021-10-24T19:46:41.313Z"
   },
   {
    "duration": 371,
    "start_time": "2021-10-24T19:46:41.335Z"
   },
   {
    "duration": 487,
    "start_time": "2021-10-24T19:46:41.709Z"
   },
   {
    "duration": 177,
    "start_time": "2021-10-24T19:46:42.198Z"
   },
   {
    "duration": 463,
    "start_time": "2021-10-24T19:46:42.378Z"
   },
   {
    "duration": 6,
    "start_time": "2021-10-24T19:46:42.844Z"
   },
   {
    "duration": 548,
    "start_time": "2021-10-24T19:46:42.852Z"
   },
   {
    "duration": 5,
    "start_time": "2021-10-24T19:46:43.403Z"
   },
   {
    "duration": 245,
    "start_time": "2021-10-24T19:46:43.410Z"
   },
   {
    "duration": 10,
    "start_time": "2021-10-24T19:46:43.658Z"
   },
   {
    "duration": 12,
    "start_time": "2021-10-24T19:46:43.670Z"
   },
   {
    "duration": 44,
    "start_time": "2021-10-24T19:46:43.685Z"
   },
   {
    "duration": 13,
    "start_time": "2021-10-24T19:46:43.731Z"
   },
   {
    "duration": 24,
    "start_time": "2021-10-24T19:46:43.746Z"
   },
   {
    "duration": 19,
    "start_time": "2021-10-24T19:46:43.773Z"
   },
   {
    "duration": 35,
    "start_time": "2021-10-24T19:46:43.794Z"
   },
   {
    "duration": 1474,
    "start_time": "2021-10-25T08:14:18.404Z"
   },
   {
    "duration": 17,
    "start_time": "2021-10-25T08:14:19.881Z"
   },
   {
    "duration": 16,
    "start_time": "2021-10-25T08:14:19.901Z"
   },
   {
    "duration": 31,
    "start_time": "2021-10-25T08:14:19.924Z"
   },
   {
    "duration": 13,
    "start_time": "2021-10-25T08:14:19.957Z"
   },
   {
    "duration": 49,
    "start_time": "2021-10-25T08:14:19.973Z"
   },
   {
    "duration": 20,
    "start_time": "2021-10-25T08:14:20.026Z"
   },
   {
    "duration": 54,
    "start_time": "2021-10-25T08:14:20.049Z"
   },
   {
    "duration": 12,
    "start_time": "2021-10-25T08:14:20.107Z"
   },
   {
    "duration": 11,
    "start_time": "2021-10-25T08:14:20.122Z"
   },
   {
    "duration": 15,
    "start_time": "2021-10-25T08:14:20.136Z"
   },
   {
    "duration": 8,
    "start_time": "2021-10-25T08:14:20.153Z"
   },
   {
    "duration": 10,
    "start_time": "2021-10-25T08:14:20.163Z"
   },
   {
    "duration": 56,
    "start_time": "2021-10-25T08:14:20.175Z"
   },
   {
    "duration": 8,
    "start_time": "2021-10-25T08:14:20.233Z"
   },
   {
    "duration": 15,
    "start_time": "2021-10-25T08:14:20.244Z"
   },
   {
    "duration": 12,
    "start_time": "2021-10-25T08:14:20.261Z"
   },
   {
    "duration": 12,
    "start_time": "2021-10-25T08:14:20.275Z"
   },
   {
    "duration": 22,
    "start_time": "2021-10-25T08:14:20.323Z"
   },
   {
    "duration": 16,
    "start_time": "2021-10-25T08:14:20.348Z"
   },
   {
    "duration": 390,
    "start_time": "2021-10-25T08:14:20.367Z"
   },
   {
    "duration": 285,
    "start_time": "2021-10-25T08:14:20.760Z"
   },
   {
    "duration": 20,
    "start_time": "2021-10-25T08:14:21.047Z"
   },
   {
    "duration": 16,
    "start_time": "2021-10-25T08:14:21.069Z"
   },
   {
    "duration": 410,
    "start_time": "2021-10-25T08:14:21.087Z"
   },
   {
    "duration": 378,
    "start_time": "2021-10-25T08:14:21.500Z"
   },
   {
    "duration": 507,
    "start_time": "2021-10-25T08:14:21.884Z"
   },
   {
    "duration": 10,
    "start_time": "2021-10-25T08:14:22.394Z"
   },
   {
    "duration": 493,
    "start_time": "2021-10-25T08:14:22.406Z"
   },
   {
    "duration": 513,
    "start_time": "2021-10-25T08:14:22.901Z"
   },
   {
    "duration": 234,
    "start_time": "2021-10-25T08:14:23.417Z"
   },
   {
    "duration": 452,
    "start_time": "2021-10-25T08:14:23.654Z"
   },
   {
    "duration": 13,
    "start_time": "2021-10-25T08:14:24.110Z"
   },
   {
    "duration": 577,
    "start_time": "2021-10-25T08:14:24.127Z"
   },
   {
    "duration": 15,
    "start_time": "2021-10-25T08:14:24.707Z"
   },
   {
    "duration": 214,
    "start_time": "2021-10-25T08:14:24.724Z"
   },
   {
    "duration": 12,
    "start_time": "2021-10-25T08:14:24.940Z"
   },
   {
    "duration": 10,
    "start_time": "2021-10-25T08:14:24.955Z"
   },
   {
    "duration": 15,
    "start_time": "2021-10-25T08:14:24.967Z"
   },
   {
    "duration": 53,
    "start_time": "2021-10-25T08:14:24.984Z"
   },
   {
    "duration": 24,
    "start_time": "2021-10-25T08:14:25.039Z"
   },
   {
    "duration": 14,
    "start_time": "2021-10-25T08:14:25.065Z"
   },
   {
    "duration": 23,
    "start_time": "2021-10-25T08:14:25.081Z"
   }
  ],
  "kernelspec": {
   "display_name": "Python 3 (ipykernel)",
   "language": "python",
   "name": "python3"
  },
  "language_info": {
   "codemirror_mode": {
    "name": "ipython",
    "version": 3
   },
   "file_extension": ".py",
   "mimetype": "text/x-python",
   "name": "python",
   "nbconvert_exporter": "python",
   "pygments_lexer": "ipython3",
   "version": "3.9.5"
  },
  "toc": {
   "base_numbering": 1,
   "nav_menu": {},
   "number_sections": true,
   "sideBar": true,
   "skip_h1_title": true,
   "title_cell": "Table of Contents",
   "title_sidebar": "Contents",
   "toc_cell": false,
   "toc_position": {},
   "toc_section_display": true,
   "toc_window_display": false
  }
 },
 "nbformat": 4,
 "nbformat_minor": 2
}
