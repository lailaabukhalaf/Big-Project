{
 "cells": [
  {
   "cell_type": "markdown",
   "metadata": {},
   "source": [
    "# Research for Megaline to know which plan make more revenue"
   ]
  },
  {
   "cell_type": "markdown",
   "metadata": {},
   "source": [
    "The telecom Megaline company offers its clients two prepaid plans, Surf and Ultimate. The commercial department wants to know which of the plans brings in more revenue in order to adjust the advertising budget.\n",
    "We have the data on 500 Megaline clients: who the clients are, where they're from, which plan they use, and the number of calls they made and text messages they sent in 2018. \n",
    "We are going to analyze clients' behavior and determine which prepaid plan brings in more revenue.\n",
    "our goals that we want to acheive\n",
    "- read the 5 data sets\n",
    "- deal with missing value\n",
    "- change data types\n",
    "- looking for duplicates\n",
    "- analyze the merging data with hisograms \n",
    "- calculate the revenue\n",
    "- conclusion"
   ]
  },
  {
   "cell_type": "code",
   "execution_count": 1,
   "metadata": {},
   "outputs": [
    {
     "name": "stdout",
     "output_type": "stream",
     "text": [
      "<class 'pandas.core.frame.DataFrame'>\n",
      "RangeIndex: 137735 entries, 0 to 137734\n",
      "Data columns (total 4 columns):\n",
      "id           137735 non-null object\n",
      "user_id      137735 non-null int64\n",
      "call_date    137735 non-null object\n",
      "duration     137735 non-null float64\n",
      "dtypes: float64(1), int64(1), object(2)\n",
      "memory usage: 4.2+ MB\n",
      "<class 'pandas.core.frame.DataFrame'>\n",
      "RangeIndex: 104825 entries, 0 to 104824\n",
      "Data columns (total 4 columns):\n",
      "id              104825 non-null object\n",
      "user_id         104825 non-null int64\n",
      "session_date    104825 non-null object\n",
      "mb_used         104825 non-null float64\n",
      "dtypes: float64(1), int64(1), object(2)\n",
      "memory usage: 3.2+ MB\n",
      "<class 'pandas.core.frame.DataFrame'>\n",
      "RangeIndex: 76051 entries, 0 to 76050\n",
      "Data columns (total 3 columns):\n",
      "id              76051 non-null object\n",
      "user_id         76051 non-null int64\n",
      "message_date    76051 non-null object\n",
      "dtypes: int64(1), object(2)\n",
      "memory usage: 1.7+ MB\n",
      "<class 'pandas.core.frame.DataFrame'>\n",
      "RangeIndex: 2 entries, 0 to 1\n",
      "Data columns (total 8 columns):\n",
      "messages_included        2 non-null int64\n",
      "mb_per_month_included    2 non-null int64\n",
      "minutes_included         2 non-null int64\n",
      "usd_monthly_pay          2 non-null int64\n",
      "usd_per_gb               2 non-null int64\n",
      "usd_per_message          2 non-null float64\n",
      "usd_per_minute           2 non-null float64\n",
      "plan_name                2 non-null object\n",
      "dtypes: float64(2), int64(5), object(1)\n",
      "memory usage: 256.0+ bytes\n",
      "<class 'pandas.core.frame.DataFrame'>\n",
      "RangeIndex: 500 entries, 0 to 499\n",
      "Data columns (total 8 columns):\n",
      "user_id       500 non-null int64\n",
      "first_name    500 non-null object\n",
      "last_name     500 non-null object\n",
      "age           500 non-null int64\n",
      "city          500 non-null object\n",
      "reg_date      500 non-null object\n",
      "plan          500 non-null object\n",
      "churn_date    34 non-null object\n",
      "dtypes: int64(2), object(6)\n",
      "memory usage: 31.4+ KB\n"
     ]
    }
   ],
   "source": [
    "import pandas as pd\n",
    "import matplotlib.pyplot as plt\n",
    "import math \n",
    "import numpy as np \n",
    "from scipy import stats \n",
    "from scipy.stats import mannwhitneyu\n",
    "calls=pd.read_csv('/datasets/megaline_calls.csv')\n",
    "web=pd.read_csv('/datasets/megaline_internet.csv')\n",
    "text_msg=pd.read_csv('/datasets/megaline_messages.csv')\n",
    "plans=pd.read_csv('/datasets/megaline_plans.csv')\n",
    "user=pd.read_csv('/datasets/megaline_users.csv')\n",
    "calls.info()\n",
    "web.info()\n",
    "text_msg.info()\n",
    "plans.info()\n",
    "user.info()"
   ]
  },
  {
   "cell_type": "markdown",
   "metadata": {},
   "source": [
    "we have 5 data frame \n",
    "- **User**\n",
    "- **Plan**\n",
    "- **Text**\n",
    "- **Call**\n",
    "- **MegaBytes**"
   ]
  },
  {
   "cell_type": "markdown",
   "metadata": {},
   "source": [
    "# Data Preprocessing"
   ]
  },
  {
   "cell_type": "markdown",
   "metadata": {},
   "source": [
    "In this chapter we are going to study the missing values for each dataFrame"
   ]
  },
  {
   "cell_type": "markdown",
   "metadata": {},
   "source": [
    "User"
   ]
  },
  {
   "cell_type": "code",
   "execution_count": 2,
   "metadata": {},
   "outputs": [
    {
     "data": {
      "text/plain": [
       "user_id         0\n",
       "first_name      0\n",
       "last_name       0\n",
       "age             0\n",
       "city            0\n",
       "reg_date        0\n",
       "plan            0\n",
       "churn_date    466\n",
       "dtype: int64"
      ]
     },
     "execution_count": 2,
     "metadata": {},
     "output_type": "execute_result"
    }
   ],
   "source": [
    "user.isnull().sum()"
   ]
  },
  {
   "cell_type": "markdown",
   "metadata": {},
   "source": [
    "we hace 466 missed value in the churn date column which is the column that the user stopped using the service i am going to replace the missing value by 0000-00-00 maybe the user is still using the plan"
   ]
  },
  {
   "cell_type": "code",
   "execution_count": 3,
   "metadata": {},
   "outputs": [
    {
     "data": {
      "text/plain": [
       "2018-12-18    3\n",
       "2018-12-19    2\n",
       "2018-11-14    2\n",
       "2018-12-31    2\n",
       "2018-09-07    1\n",
       "2018-12-27    1\n",
       "2018-11-16    1\n",
       "2018-08-19    1\n",
       "2018-12-10    1\n",
       "2018-11-29    1\n",
       "2018-12-22    1\n",
       "2018-09-18    1\n",
       "2018-12-30    1\n",
       "2018-08-16    1\n",
       "2018-11-11    1\n",
       "2018-11-24    1\n",
       "2018-12-26    1\n",
       "2018-12-15    1\n",
       "2018-10-07    1\n",
       "2018-10-22    1\n",
       "2018-10-13    1\n",
       "2018-10-03    1\n",
       "2018-11-18    1\n",
       "2018-11-30    1\n",
       "2018-11-21    1\n",
       "2018-12-12    1\n",
       "2018-09-17    1\n",
       "2018-07-31    1\n",
       "2018-09-01    1\n",
       "Name: churn_date, dtype: int64"
      ]
     },
     "execution_count": 3,
     "metadata": {},
     "output_type": "execute_result"
    }
   ],
   "source": [
    "user['churn_date'].value_counts()"
   ]
  },
  {
   "cell_type": "code",
   "execution_count": 4,
   "metadata": {},
   "outputs": [
    {
     "data": {
      "text/plain": [
       "0      0000-00-00\n",
       "1      0000-00-00\n",
       "2      0000-00-00\n",
       "3      0000-00-00\n",
       "4      0000-00-00\n",
       "          ...    \n",
       "495    0000-00-00\n",
       "496    0000-00-00\n",
       "497    0000-00-00\n",
       "498    0000-00-00\n",
       "499    0000-00-00\n",
       "Name: churn_date, Length: 500, dtype: object"
      ]
     },
     "execution_count": 4,
     "metadata": {},
     "output_type": "execute_result"
    }
   ],
   "source": [
    "user['churn_date'].fillna('0000-00-00',inplace=True)\n",
    "user['churn_date']"
   ]
  },
  {
   "cell_type": "markdown",
   "metadata": {},
   "source": [
    "Plan"
   ]
  },
  {
   "cell_type": "code",
   "execution_count": 5,
   "metadata": {},
   "outputs": [
    {
     "data": {
      "text/html": [
       "<div>\n",
       "<style scoped>\n",
       "    .dataframe tbody tr th:only-of-type {\n",
       "        vertical-align: middle;\n",
       "    }\n",
       "\n",
       "    .dataframe tbody tr th {\n",
       "        vertical-align: top;\n",
       "    }\n",
       "\n",
       "    .dataframe thead th {\n",
       "        text-align: right;\n",
       "    }\n",
       "</style>\n",
       "<table border=\"1\" class=\"dataframe\">\n",
       "  <thead>\n",
       "    <tr style=\"text-align: right;\">\n",
       "      <th></th>\n",
       "      <th>messages_included</th>\n",
       "      <th>mb_per_month_included</th>\n",
       "      <th>minutes_included</th>\n",
       "      <th>usd_monthly_pay</th>\n",
       "      <th>usd_per_gb</th>\n",
       "      <th>usd_per_message</th>\n",
       "      <th>usd_per_minute</th>\n",
       "      <th>plan_name</th>\n",
       "    </tr>\n",
       "  </thead>\n",
       "  <tbody>\n",
       "    <tr>\n",
       "      <td>0</td>\n",
       "      <td>False</td>\n",
       "      <td>False</td>\n",
       "      <td>False</td>\n",
       "      <td>False</td>\n",
       "      <td>False</td>\n",
       "      <td>False</td>\n",
       "      <td>False</td>\n",
       "      <td>False</td>\n",
       "    </tr>\n",
       "    <tr>\n",
       "      <td>1</td>\n",
       "      <td>False</td>\n",
       "      <td>False</td>\n",
       "      <td>False</td>\n",
       "      <td>False</td>\n",
       "      <td>False</td>\n",
       "      <td>False</td>\n",
       "      <td>False</td>\n",
       "      <td>False</td>\n",
       "    </tr>\n",
       "  </tbody>\n",
       "</table>\n",
       "</div>"
      ],
      "text/plain": [
       "   messages_included  mb_per_month_included  minutes_included  \\\n",
       "0              False                  False             False   \n",
       "1              False                  False             False   \n",
       "\n",
       "   usd_monthly_pay  usd_per_gb  usd_per_message  usd_per_minute  plan_name  \n",
       "0            False       False            False           False      False  \n",
       "1            False       False            False           False      False  "
      ]
     },
     "execution_count": 5,
     "metadata": {},
     "output_type": "execute_result"
    }
   ],
   "source": [
    "plans.isnull()"
   ]
  },
  {
   "cell_type": "markdown",
   "metadata": {},
   "source": [
    "we don't have any missing value in the plan dataframe"
   ]
  },
  {
   "cell_type": "markdown",
   "metadata": {},
   "source": [
    "Web"
   ]
  },
  {
   "cell_type": "code",
   "execution_count": 6,
   "metadata": {},
   "outputs": [
    {
     "data": {
      "text/plain": [
       "id              0\n",
       "user_id         0\n",
       "session_date    0\n",
       "mb_used         0\n",
       "dtype: int64"
      ]
     },
     "execution_count": 6,
     "metadata": {},
     "output_type": "execute_result"
    }
   ],
   "source": [
    "web.isnull().sum()"
   ]
  },
  {
   "cell_type": "markdown",
   "metadata": {},
   "source": [
    "we don't have any missing value in the plan dataframe"
   ]
  },
  {
   "cell_type": "markdown",
   "metadata": {},
   "source": [
    "Text"
   ]
  },
  {
   "cell_type": "code",
   "execution_count": 7,
   "metadata": {},
   "outputs": [
    {
     "data": {
      "text/plain": [
       "id              0\n",
       "user_id         0\n",
       "message_date    0\n",
       "dtype: int64"
      ]
     },
     "execution_count": 7,
     "metadata": {},
     "output_type": "execute_result"
    }
   ],
   "source": [
    "text_msg.isnull().sum()"
   ]
  },
  {
   "cell_type": "code",
   "execution_count": 8,
   "metadata": {},
   "outputs": [
    {
     "data": {
      "text/plain": [
       "user_id       0\n",
       "first_name    0\n",
       "last_name     0\n",
       "age           0\n",
       "city          0\n",
       "reg_date      0\n",
       "plan          0\n",
       "churn_date    0\n",
       "dtype: int64"
      ]
     },
     "execution_count": 8,
     "metadata": {},
     "output_type": "execute_result"
    }
   ],
   "source": [
    "user.isnull().sum()"
   ]
  },
  {
   "cell_type": "markdown",
   "metadata": {},
   "source": [
    "we don't have any missing value in the text dataframe"
   ]
  },
  {
   "cell_type": "markdown",
   "metadata": {},
   "source": [
    "Call"
   ]
  },
  {
   "cell_type": "code",
   "execution_count": 9,
   "metadata": {},
   "outputs": [
    {
     "data": {
      "text/plain": [
       "id           0\n",
       "user_id      0\n",
       "call_date    0\n",
       "duration     0\n",
       "dtype: int64"
      ]
     },
     "execution_count": 9,
     "metadata": {},
     "output_type": "execute_result"
    }
   ],
   "source": [
    "calls.isnull().sum()"
   ]
  },
  {
   "cell_type": "markdown",
   "metadata": {},
   "source": [
    "we don't have any missing value in the call dataframe"
   ]
  },
  {
   "cell_type": "markdown",
   "metadata": {},
   "source": [
    "# Changing data types"
   ]
  },
  {
   "cell_type": "markdown",
   "metadata": {},
   "source": [
    "Changing the dates in each dataset from object to dateTime64 type"
   ]
  },
  {
   "cell_type": "code",
   "execution_count": 10,
   "metadata": {},
   "outputs": [
    {
     "name": "stdout",
     "output_type": "stream",
     "text": [
      "              id  user_id session_date  mb_used\n",
      "0        1000_13     1000   2018-12-29    89.86\n",
      "1       1000_204     1000   2018-12-31     0.00\n",
      "2       1000_379     1000   2018-12-28   660.40\n",
      "3       1000_413     1000   2018-12-26   270.99\n",
      "4       1000_442     1000   2018-12-27   880.22\n",
      "...          ...      ...          ...      ...\n",
      "104820  1499_215     1499   2018-10-20   218.06\n",
      "104821  1499_216     1499   2018-12-30   304.72\n",
      "104822  1499_217     1499   2018-09-22   292.75\n",
      "104823  1499_218     1499   2018-12-07     0.00\n",
      "104824  1499_219     1499   2018-12-24   758.31\n",
      "\n",
      "[104825 rows x 4 columns]\n",
      "<class 'pandas.core.frame.DataFrame'>\n",
      "RangeIndex: 104825 entries, 0 to 104824\n",
      "Data columns (total 4 columns):\n",
      "id              104825 non-null object\n",
      "user_id         104825 non-null int64\n",
      "session_date    104825 non-null datetime64[ns]\n",
      "mb_used         104825 non-null float64\n",
      "dtypes: datetime64[ns](1), float64(1), int64(1), object(1)\n",
      "memory usage: 3.2+ MB\n"
     ]
    }
   ],
   "source": [
    "print(web)\n",
    "\n",
    "web['session_date']=pd.to_datetime(web['session_date'])\n",
    "#web['month']=pd.DatetimeIndex(web['session_date']).month\n",
    "web.info()"
   ]
  },
  {
   "cell_type": "code",
   "execution_count": 11,
   "metadata": {},
   "outputs": [],
   "source": [
    "text_msg['message_date']=pd.to_datetime(text_msg['message_date'])\n"
   ]
  },
  {
   "cell_type": "code",
   "execution_count": 12,
   "metadata": {},
   "outputs": [
    {
     "name": "stdout",
     "output_type": "stream",
     "text": [
      "<class 'pandas.core.frame.DataFrame'>\n",
      "RangeIndex: 500 entries, 0 to 499\n",
      "Data columns (total 8 columns):\n",
      "user_id       500 non-null int64\n",
      "first_name    500 non-null object\n",
      "last_name     500 non-null object\n",
      "age           500 non-null int64\n",
      "city          500 non-null object\n",
      "reg_date      500 non-null datetime64[ns]\n",
      "plan          500 non-null object\n",
      "churn_date    500 non-null object\n",
      "dtypes: datetime64[ns](1), int64(2), object(5)\n",
      "memory usage: 31.4+ KB\n"
     ]
    }
   ],
   "source": [
    "user['reg_date']=pd.to_datetime(user['reg_date'])\n",
    "#user['churn_date']=pd.to_datetime(user['churn_date'])\n",
    "user.info()"
   ]
  },
  {
   "cell_type": "markdown",
   "metadata": {},
   "source": [
    "# looking for duplicates in user data sets"
   ]
  },
  {
   "cell_type": "code",
   "execution_count": 13,
   "metadata": {},
   "outputs": [
    {
     "data": {
      "text/plain": [
       "0"
      ]
     },
     "execution_count": 13,
     "metadata": {},
     "output_type": "execute_result"
    }
   ],
   "source": [
    "user.duplicated().sum()"
   ]
  },
  {
   "cell_type": "markdown",
   "metadata": {},
   "source": [
    "# Adding columns"
   ]
  },
  {
   "cell_type": "markdown",
   "metadata": {},
   "source": [
    "# Call"
   ]
  },
  {
   "cell_type": "code",
   "execution_count": 14,
   "metadata": {},
   "outputs": [
    {
     "name": "stdout",
     "output_type": "stream",
     "text": [
      "             user_id       duration\n",
      "count  137735.000000  137735.000000\n",
      "mean     1247.658046       6.745927\n",
      "std       139.416268       5.839241\n",
      "min      1000.000000       0.000000\n",
      "25%      1128.000000       1.290000\n",
      "50%      1247.000000       5.980000\n",
      "75%      1365.000000      10.690000\n",
      "max      1499.000000      37.600000\n"
     ]
    }
   ],
   "source": [
    "print(calls.describe())\n",
    "calls['duration_round']=np.ceil(calls['duration'])"
   ]
  },
  {
   "cell_type": "markdown",
   "metadata": {},
   "source": [
    "we have **min value** duration for a call which is**zero** maybe it's a missed call \n",
    "\n",
    "**max value** 38 minutes \n",
    "\n",
    "**the average** for the users spent on calls 7 minutes \n",
    "\n",
    "**25%** 2 minutes \n",
    "\n",
    "**50%** 6 minutes\n",
    "\n",
    "**75%** 11 minutes \n",
    "\n",
    "**std** equals to 6 and that's mean that the distribuation of the data are closed to the mean "
   ]
  },
  {
   "cell_type": "code",
   "execution_count": 15,
   "metadata": {},
   "outputs": [
    {
     "name": "stdout",
     "output_type": "stream",
     "text": [
      "The propotional for the zero calls19.48\n",
      "we cannot delete the rows because19.48 its a siginificant data neither consider them as an ouliers\n"
     ]
    }
   ],
   "source": [
    "s=calls.query('duration_round == 0')['duration_round'].count()\n",
    "rate=(s/len(calls))*100\n",
    "print('The propotional for the zero calls{:.2f}'.format(rate))\n",
    "if rate > 10:\n",
    "    print('we cannot delete the rows because{:.2f}'.format(rate),'its a siginificant data neither consider them as an ouliers')\n",
    "else:\n",
    "    print('we are going to delete the data ')"
   ]
  },
  {
   "cell_type": "code",
   "execution_count": 16,
   "metadata": {},
   "outputs": [
    {
     "data": {
      "image/png": "[encoded data removed]",
      "text/plain": [
       "<Figure size 432x288 with 1 Axes>"
      ]
     },
     "metadata": {
      "needs_background": "light"
     },
     "output_type": "display_data"
    },
    {
     "data": {
      "image/png": "[encoded data removed]",
      "text/plain": [
       "<Figure size 432x288 with 1 Axes>"
      ]
     },
     "metadata": {
      "needs_background": "light"
     },
     "output_type": "display_data"
    },
    {
     "name": "stdout",
     "output_type": "stream",
     "text": [
      "lower outlier -11.5 upper outliers 24.5\n"
     ]
    }
   ],
   "source": [
    "calls['duration_round'].hist(bins=100)\n",
    "plt.title('Duration round')\n",
    "plt.xlabel('duration')\n",
    "plt.ylabel('Frequency')\n",
    "plt.show()\n",
    "q1 = calls['duration_round'].quantile(0.25)\n",
    "q3 = calls['duration_round'].quantile(0.75)\n",
    "iqr = (q3 -q1)*1.5\n",
    "lo = q1 - iqr\n",
    "uo = q3 + iqr\n",
    "calls.boxplot('duration_round')\n",
    "plt.title('Minutes boxplot')\n",
    "plt.show()\n",
    "print('lower outlier',lo ,'upper outliers', uo)"
   ]
  },
  {
   "cell_type": "code",
   "execution_count": 17,
   "metadata": {},
   "outputs": [],
   "source": [
    "#print(calls)\n",
    "calls['month']=pd.DatetimeIndex(calls['call_date']).month\n",
    "#number_of_calls_each_month=calls.groupby(['user_id','m'])['id'].count()\n",
    "#number_of_minutes_each_month = calls.groupby(['user_id','m'])['duration'].sum()\n",
    "#print(number_of_minutes_each_month)\n",
    "#print(number_of_calls_each_month)\n",
    "#'calls_each_month','minutes_each_month'\n",
    "call = calls.pivot_table(index=['user_id','month'],values=['id','duration_round'],aggfunc={'count','sum'})\n",
    "call.columns=['1','minutes_each_month','calls_each_month','4']\n",
    "call.drop(['1','4'],axis='columns',inplace=True)\n"
   ]
  },
  {
   "cell_type": "markdown",
   "metadata": {},
   "source": [
    "adding the call month for each user then grouped the data by the user_id and month calculating the number of calls for each user  per month and the minutes_each_month column \n",
    "\n",
    "missed calls are counted in the number of calls with zero minutes duration for a call"
   ]
  },
  {
   "cell_type": "markdown",
   "metadata": {},
   "source": [
    "# Text"
   ]
  },
  {
   "cell_type": "code",
   "execution_count": 18,
   "metadata": {},
   "outputs": [
    {
     "name": "stdout",
     "output_type": "stream",
     "text": [
      "       msg_each_month\n",
      "count     1806.000000\n",
      "mean        42.110188\n",
      "std         33.122931\n",
      "min          1.000000\n",
      "25%         17.000000\n",
      "50%         34.000000\n",
      "75%         59.000000\n",
      "max        266.000000\n",
      "lower outlier -46.0 upper outliers 122.0\n"
     ]
    },
    {
     "data": {
      "image/png": "[encoded data removed]",
      "text/plain": [
       "<Figure size 432x288 with 1 Axes>"
      ]
     },
     "metadata": {
      "needs_background": "light"
     },
     "output_type": "display_data"
    }
   ],
   "source": [
    "#print(text_msg)\n",
    "text_msg['month']=pd.DatetimeIndex(text_msg['message_date']).month\n",
    "#number_of_msgs_each_month=text_msg.groupby(['user_id','month'])['id'].count()\n",
    "#print(number_of_msgs_each_month)\n",
    "txt = text_msg.pivot_table(index=['user_id','month'] ,values=['id'],aggfunc={'count'})\n",
    "txt.columns=['msg_each_month']\n",
    "print(txt.describe())\n",
    "q1 = txt['msg_each_month'].quantile(0.25)\n",
    "q3 = txt['msg_each_month'].quantile(0.75)\n",
    "iqr = (q3 -q1)*1.5\n",
    "lo = q1 - iqr\n",
    "uo = q3 + iqr\n",
    "print('lower outlier',lo ,'upper outliers', uo)\n",
    "txt.boxplot('msg_each_month')\n",
    "plt.title('msg boxplot')\n",
    "plt.show()"
   ]
  },
  {
   "cell_type": "markdown",
   "metadata": {},
   "source": [
    "we have **min value** for text msg each month equals to **one**\n",
    "\n",
    "**max value** 266 msg \n",
    "\n",
    "**the average** for the users sending msgs each month 42 minutes \n",
    "\n",
    "**25%** 17 msg\n",
    "\n",
    "**50%** 34 msg\n",
    "\n",
    "**75%** 59 msg \n",
    "\n",
    "**std** equals to 33 and that's mean that the distribuation of the data around the mean "
   ]
  },
  {
   "cell_type": "markdown",
   "metadata": {},
   "source": [
    "# Plan"
   ]
  },
  {
   "cell_type": "code",
   "execution_count": 19,
   "metadata": {},
   "outputs": [
    {
     "data": {
      "text/html": [
       "<div>\n",
       "<style scoped>\n",
       "    .dataframe tbody tr th:only-of-type {\n",
       "        vertical-align: middle;\n",
       "    }\n",
       "\n",
       "    .dataframe tbody tr th {\n",
       "        vertical-align: top;\n",
       "    }\n",
       "\n",
       "    .dataframe thead th {\n",
       "        text-align: right;\n",
       "    }\n",
       "</style>\n",
       "<table border=\"1\" class=\"dataframe\">\n",
       "  <thead>\n",
       "    <tr style=\"text-align: right;\">\n",
       "      <th></th>\n",
       "      <th>user_id</th>\n",
       "    </tr>\n",
       "    <tr>\n",
       "      <th>plan</th>\n",
       "      <th></th>\n",
       "    </tr>\n",
       "  </thead>\n",
       "  <tbody>\n",
       "    <tr>\n",
       "      <td>surf</td>\n",
       "      <td>339</td>\n",
       "    </tr>\n",
       "    <tr>\n",
       "      <td>ultimate</td>\n",
       "      <td>161</td>\n",
       "    </tr>\n",
       "  </tbody>\n",
       "</table>\n",
       "</div>"
      ],
      "text/plain": [
       "          user_id\n",
       "plan             \n",
       "surf          339\n",
       "ultimate      161"
      ]
     },
     "execution_count": 19,
     "metadata": {},
     "output_type": "execute_result"
    }
   ],
   "source": [
    "plans_count=user.pivot_table(index='plan',values='user_id',aggfunc='count')\n",
    "plans_count"
   ]
  },
  {
   "cell_type": "markdown",
   "metadata": {},
   "source": [
    "There is 339 users subscribe with surf plan while 161 users uses the ultimate one Thats means that the surf users are double of the ultimate ones"
   ]
  },
  {
   "cell_type": "markdown",
   "metadata": {},
   "source": [
    "# Web"
   ]
  },
  {
   "cell_type": "code",
   "execution_count": 20,
   "metadata": {},
   "outputs": [
    {
     "name": "stdout",
     "output_type": "stream",
     "text": [
      "             user_id        mb_used\n",
      "count  104825.000000  104825.000000\n",
      "mean     1242.496361     366.713701\n",
      "std       142.053913     277.170542\n",
      "min      1000.000000       0.000000\n",
      "25%      1122.000000     136.080000\n",
      "50%      1236.000000     343.980000\n",
      "75%      1367.000000     554.610000\n",
      "max      1499.000000    1693.470000\n"
     ]
    },
    {
     "data": {
      "image/png": "[encoded data removed]",
      "text/plain": [
       "<Figure size 432x288 with 1 Axes>"
      ]
     },
     "metadata": {
      "needs_background": "light"
     },
     "output_type": "display_data"
    },
    {
     "data": {
      "image/png": "[encoded data removed]",
      "text/plain": [
       "<Figure size 432x288 with 1 Axes>"
      ]
     },
     "metadata": {
      "needs_background": "light"
     },
     "output_type": "display_data"
    },
    {
     "name": "stdout",
     "output_type": "stream",
     "text": [
      "lower outlier -491.71 upper outliers 1182.40\n",
      "we cannot delete the rows because 13.11423801574052 its a siginificant data so we are going to consider them as an ouliers\n"
     ]
    }
   ],
   "source": [
    "print(web.describe())\n",
    "web['mb_used'].hist(bins=30)\n",
    "plt.title('mb_used')\n",
    "plt.xlabel('mb_used')\n",
    "plt.ylabel('Frequency')\n",
    "plt.show()\n",
    "q1 = web['mb_used'].quantile(0.25)\n",
    "q3 = web['mb_used'].quantile(0.75)\n",
    "iqr = (q3 -q1)*1.5\n",
    "lo = q1 - iqr\n",
    "uo = q3 + iqr\n",
    "web.boxplot('mb_used')\n",
    "plt.title('Session_MB_Used boxplot')\n",
    "plt.show()\n",
    "print('lower outlier {:.2f}'.format(lo) ,'upper outliers {:.2f}'.format(uo))\n",
    "x=web.query('mb_used == 0')['mb_used'].count()\n",
    "r=(x/len(web))*100\n",
    "r\n",
    "if r > 10:\n",
    "    print('we cannot delete the rows because',r,'its a siginificant data so we are going to consider them as an ouliers')\n",
    "else:\n",
    "    print('we are going to delete the data ')\n"
   ]
  },
  {
   "cell_type": "markdown",
   "metadata": {},
   "source": [
    "we have **min value** for a session MB equals to **zero** : a session with wrong data ,for a wrong APN or website that didn't use any data\n",
    "\n",
    "**max value** 1694 MB\n",
    "\n",
    "**the average** for the MB used per session 366 MB\n",
    "\n",
    "**25%** 136 MB\n",
    "\n",
    "**50%** 344 MB\n",
    "\n",
    "**75%** 555 MB \n",
    "\n",
    "**std** equals to 277 and that's mean that the distribuation of the data around the mean \n"
   ]
  },
  {
   "cell_type": "code",
   "execution_count": 21,
   "metadata": {},
   "outputs": [
    {
     "name": "stdout",
     "output_type": "stream",
     "text": [
      "       mb_volume per month  gb_volume per month\n",
      "count          2277.000000          2277.000000\n",
      "mean          16882.697409            16.989021\n",
      "std            7869.776308             7.693683\n",
      "min              93.000000             1.000000\n",
      "25%           12348.000000            13.000000\n",
      "50%           16874.000000            17.000000\n",
      "75%           21042.000000            21.000000\n",
      "max           70932.000000            70.000000\n"
     ]
    }
   ],
   "source": [
    "web['month']=pd.DatetimeIndex(web['session_date']).month\n",
    "web\n",
    "\n",
    "\n",
    "volume_month = web.pivot_table(index=['user_id','month'] ,values=['mb_used'],aggfunc={'sum'})\n",
    "volume_month.columns=['mb_volume per month']\n",
    "volume_month['mb_volume per month']=np.ceil(volume_month['mb_volume per month'])\n",
    "volume_month['mb_volume per month']=volume_month['mb_volume per month'].astype(int)\n",
    "\n",
    "volume_month['gb_volume per month']=volume_month['mb_volume per month']/1024\n",
    "volume_month['gb_volume per month']=np.ceil(volume_month['gb_volume per month'])\n",
    "volume_month['gb_volume per month']=volume_month['gb_volume per month'].astype(int)\n",
    "\n",
    "print(volume_month.describe())"
   ]
  },
  {
   "cell_type": "markdown",
   "metadata": {},
   "source": [
    "i add a month column and grouped the data by user_id and month calculating the total MB used for each user per month and GB column which is the MB converts it to GB by dividing 1024"
   ]
  },
  {
   "cell_type": "markdown",
   "metadata": {},
   "source": [
    "we have **min value** for total MB used per month equals to **93** \n",
    "\n",
    "**max value** 70932 MB\n",
    "\n",
    "**the average**  MB used per month for each user 16882 MB\n",
    "\n",
    "**25%** 12348 MB\n",
    "\n",
    "**50%** 16874 MB\n",
    "\n",
    "**75%** 21042 MB \n",
    "\n",
    "**std** equals to 7869"
   ]
  },
  {
   "cell_type": "markdown",
   "metadata": {},
   "source": [
    "# Conclusion"
   ]
  },
  {
   "cell_type": "markdown",
   "metadata": {},
   "source": [
    "We preprocess the data cheking it to deal with missing values,duplicates,data types and outliers.\n",
    "\n",
    "we noticed that there is no missing values except in user churn date data \n",
    "\n",
    "No duplicates \n",
    "\n",
    "changing data type to the correct type\n",
    "- integer to int64\n",
    "- date to datetime64\n",
    "- float to float64\n",
    "\n",
    "added up specific columns like\n",
    "\n",
    "- GB used per month for each user\n",
    "- rounding up specific columns \n",
    "\n",
    "Then in each data set i made pivot_table indexed by user_id and month"
   ]
  },
  {
   "cell_type": "markdown",
   "metadata": {},
   "source": [
    "# Monthly revenue from each user"
   ]
  },
  {
   "cell_type": "markdown",
   "metadata": {},
   "source": [
    "In this chapter i am going to merge the five data sets together by user_id and month Thus i can calculate the revenue for each plan per user in each month."
   ]
  },
  {
   "cell_type": "markdown",
   "metadata": {},
   "source": [
    "First merging the txt and call dataFrame by user_id and month filling the missing values with 0 for example if a user text message but doesn't mae an call so its going to get nan value i merged it by how='outer'\n",
    "then merging the new1 with the session data save it to new2 \n",
    "merging new2 with user  by user_id to get the plan and city for each user"
   ]
  },
  {
   "cell_type": "code",
   "execution_count": 22,
   "metadata": {},
   "outputs": [
    {
     "data": {
      "text/html": [
       "<div>\n",
       "<style scoped>\n",
       "    .dataframe tbody tr th:only-of-type {\n",
       "        vertical-align: middle;\n",
       "    }\n",
       "\n",
       "    .dataframe tbody tr th {\n",
       "        vertical-align: top;\n",
       "    }\n",
       "\n",
       "    .dataframe thead th {\n",
       "        text-align: right;\n",
       "    }\n",
       "</style>\n",
       "<table border=\"1\" class=\"dataframe\">\n",
       "  <thead>\n",
       "    <tr style=\"text-align: right;\">\n",
       "      <th></th>\n",
       "      <th>user_id</th>\n",
       "      <th>month</th>\n",
       "      <th>msg_each_month</th>\n",
       "      <th>minutes_each_month</th>\n",
       "      <th>calls_each_month</th>\n",
       "      <th>mb_volume per month</th>\n",
       "      <th>gb_volume per month</th>\n",
       "      <th>plan</th>\n",
       "      <th>city</th>\n",
       "    </tr>\n",
       "  </thead>\n",
       "  <tbody>\n",
       "    <tr>\n",
       "      <td>0</td>\n",
       "      <td>1000</td>\n",
       "      <td>12</td>\n",
       "      <td>11.0</td>\n",
       "      <td>124.0</td>\n",
       "      <td>16.0</td>\n",
       "      <td>1902</td>\n",
       "      <td>2</td>\n",
       "      <td>ultimate</td>\n",
       "      <td>Atlanta-Sandy Springs-Roswell, GA MSA</td>\n",
       "    </tr>\n",
       "    <tr>\n",
       "      <td>1</td>\n",
       "      <td>1001</td>\n",
       "      <td>8</td>\n",
       "      <td>30.0</td>\n",
       "      <td>182.0</td>\n",
       "      <td>27.0</td>\n",
       "      <td>6920</td>\n",
       "      <td>7</td>\n",
       "      <td>surf</td>\n",
       "      <td>Seattle-Tacoma-Bellevue, WA MSA</td>\n",
       "    </tr>\n",
       "    <tr>\n",
       "      <td>2</td>\n",
       "      <td>1001</td>\n",
       "      <td>9</td>\n",
       "      <td>44.0</td>\n",
       "      <td>315.0</td>\n",
       "      <td>49.0</td>\n",
       "      <td>13315</td>\n",
       "      <td>14</td>\n",
       "      <td>surf</td>\n",
       "      <td>Seattle-Tacoma-Bellevue, WA MSA</td>\n",
       "    </tr>\n",
       "    <tr>\n",
       "      <td>3</td>\n",
       "      <td>1001</td>\n",
       "      <td>10</td>\n",
       "      <td>53.0</td>\n",
       "      <td>393.0</td>\n",
       "      <td>65.0</td>\n",
       "      <td>22331</td>\n",
       "      <td>22</td>\n",
       "      <td>surf</td>\n",
       "      <td>Seattle-Tacoma-Bellevue, WA MSA</td>\n",
       "    </tr>\n",
       "    <tr>\n",
       "      <td>4</td>\n",
       "      <td>1001</td>\n",
       "      <td>11</td>\n",
       "      <td>36.0</td>\n",
       "      <td>426.0</td>\n",
       "      <td>64.0</td>\n",
       "      <td>18505</td>\n",
       "      <td>19</td>\n",
       "      <td>surf</td>\n",
       "      <td>Seattle-Tacoma-Bellevue, WA MSA</td>\n",
       "    </tr>\n",
       "    <tr>\n",
       "      <td>...</td>\n",
       "      <td>...</td>\n",
       "      <td>...</td>\n",
       "      <td>...</td>\n",
       "      <td>...</td>\n",
       "      <td>...</td>\n",
       "      <td>...</td>\n",
       "      <td>...</td>\n",
       "      <td>...</td>\n",
       "      <td>...</td>\n",
       "    </tr>\n",
       "    <tr>\n",
       "      <td>2270</td>\n",
       "      <td>1498</td>\n",
       "      <td>12</td>\n",
       "      <td>0.0</td>\n",
       "      <td>339.0</td>\n",
       "      <td>39.0</td>\n",
       "      <td>23138</td>\n",
       "      <td>23</td>\n",
       "      <td>surf</td>\n",
       "      <td>New York-Newark-Jersey City, NY-NJ-PA MSA</td>\n",
       "    </tr>\n",
       "    <tr>\n",
       "      <td>2271</td>\n",
       "      <td>1499</td>\n",
       "      <td>9</td>\n",
       "      <td>0.0</td>\n",
       "      <td>346.0</td>\n",
       "      <td>41.0</td>\n",
       "      <td>12985</td>\n",
       "      <td>13</td>\n",
       "      <td>surf</td>\n",
       "      <td>Orlando-Kissimmee-Sanford, FL MSA</td>\n",
       "    </tr>\n",
       "    <tr>\n",
       "      <td>2272</td>\n",
       "      <td>1499</td>\n",
       "      <td>10</td>\n",
       "      <td>0.0</td>\n",
       "      <td>385.0</td>\n",
       "      <td>53.0</td>\n",
       "      <td>19493</td>\n",
       "      <td>20</td>\n",
       "      <td>surf</td>\n",
       "      <td>Orlando-Kissimmee-Sanford, FL MSA</td>\n",
       "    </tr>\n",
       "    <tr>\n",
       "      <td>2273</td>\n",
       "      <td>1499</td>\n",
       "      <td>11</td>\n",
       "      <td>0.0</td>\n",
       "      <td>308.0</td>\n",
       "      <td>45.0</td>\n",
       "      <td>16814</td>\n",
       "      <td>17</td>\n",
       "      <td>surf</td>\n",
       "      <td>Orlando-Kissimmee-Sanford, FL MSA</td>\n",
       "    </tr>\n",
       "    <tr>\n",
       "      <td>2274</td>\n",
       "      <td>1499</td>\n",
       "      <td>12</td>\n",
       "      <td>0.0</td>\n",
       "      <td>496.0</td>\n",
       "      <td>65.0</td>\n",
       "      <td>22060</td>\n",
       "      <td>22</td>\n",
       "      <td>surf</td>\n",
       "      <td>Orlando-Kissimmee-Sanford, FL MSA</td>\n",
       "    </tr>\n",
       "  </tbody>\n",
       "</table>\n",
       "<p>2275 rows × 9 columns</p>\n",
       "</div>"
      ],
      "text/plain": [
       "      user_id  month  msg_each_month  minutes_each_month  calls_each_month  \\\n",
       "0        1000     12            11.0               124.0              16.0   \n",
       "1        1001      8            30.0               182.0              27.0   \n",
       "2        1001      9            44.0               315.0              49.0   \n",
       "3        1001     10            53.0               393.0              65.0   \n",
       "4        1001     11            36.0               426.0              64.0   \n",
       "...       ...    ...             ...                 ...               ...   \n",
       "2270     1498     12             0.0               339.0              39.0   \n",
       "2271     1499      9             0.0               346.0              41.0   \n",
       "2272     1499     10             0.0               385.0              53.0   \n",
       "2273     1499     11             0.0               308.0              45.0   \n",
       "2274     1499     12             0.0               496.0              65.0   \n",
       "\n",
       "      mb_volume per month  gb_volume per month      plan  \\\n",
       "0                    1902                    2  ultimate   \n",
       "1                    6920                    7      surf   \n",
       "2                   13315                   14      surf   \n",
       "3                   22331                   22      surf   \n",
       "4                   18505                   19      surf   \n",
       "...                   ...                  ...       ...   \n",
       "2270                23138                   23      surf   \n",
       "2271                12985                   13      surf   \n",
       "2272                19493                   20      surf   \n",
       "2273                16814                   17      surf   \n",
       "2274                22060                   22      surf   \n",
       "\n",
       "                                           city  \n",
       "0         Atlanta-Sandy Springs-Roswell, GA MSA  \n",
       "1               Seattle-Tacoma-Bellevue, WA MSA  \n",
       "2               Seattle-Tacoma-Bellevue, WA MSA  \n",
       "3               Seattle-Tacoma-Bellevue, WA MSA  \n",
       "4               Seattle-Tacoma-Bellevue, WA MSA  \n",
       "...                                         ...  \n",
       "2270  New York-Newark-Jersey City, NY-NJ-PA MSA  \n",
       "2271          Orlando-Kissimmee-Sanford, FL MSA  \n",
       "2272          Orlando-Kissimmee-Sanford, FL MSA  \n",
       "2273          Orlando-Kissimmee-Sanford, FL MSA  \n",
       "2274          Orlando-Kissimmee-Sanford, FL MSA  \n",
       "\n",
       "[2275 rows x 9 columns]"
      ]
     },
     "execution_count": 22,
     "metadata": {},
     "output_type": "execute_result"
    }
   ],
   "source": [
    "new1 = pd.merge(left=txt,right=call,how='outer',on=['user_id','month']).fillna(0)\n",
    "new2 = pd.merge(left=new1 , right = volume_month , on =['user_id','month']).fillna(0).reset_index()\n",
    "#new2['plan'] = user.groupby('user_id')['plan'].transform((lambda row: pp(row), axis=1))\n",
    "#user['plan_num'] = user['plan']\n",
    "#user['plan_num'] = user['plan_num'].replace({'surf': 1 ,'ultimate':2})\n",
    "new3 = pd.merge(left=new2 , right = user[['user_id','plan','city']] ,how='inner', on =['user_id']).fillna(0)\n",
    "\n",
    "#userr = user.pivot_table(index=['user_id','month'],values='plan_num')\n",
    "#new3 = pd.merge(left=new2 , right = userr ,how='outer', on =['user_id','month']).fillna(0)\n",
    "#new3.drop(columns=['first_name','age','last_name','reg_date','churn_date'],inplace=True,axis=0)\n",
    "new3"
   ]
  },
  {
   "cell_type": "markdown",
   "metadata": {},
   "source": [
    "defining a function rev_msg to calculate the messages revenue for each user per month according to the plan \n",
    "subtracting the number of messages that it allwed for the user to consume it per month according to the plan from the total number of msgs that the user used per month \n",
    "\n",
    "\n",
    "For example if the user used 70 msg and the surf plan limit 50 we are going to gain revenue from th 20 messages he used more\n",
    "- 70 - 50 = 20 \n",
    "- 20 * how much the message cost 0.03 $ = 0.6 $ we gain from the user on a specific month\n",
    "on the other hand if the user used 20 msg\n",
    "- 20 - 50 = - 30 so the remaing was 30 msg for him \n",
    "in this case we are going to gain nothing just the plan cost which is 20 $ the user will not pay extra costs\n",
    "\n",
    "\n",
    "\n"
   ]
  },
  {
   "cell_type": "markdown",
   "metadata": {},
   "source": [
    "***NOTE: the same strategy is applied to the call and Mb columns***\n"
   ]
  },
  {
   "cell_type": "code",
   "execution_count": 23,
   "metadata": {},
   "outputs": [],
   "source": [
    "def rev_msg(data):\n",
    "    if data['plan'] == 'surf':\n",
    "        x = data['msg_each_month']-plans['messages_included'][0]\n",
    "        if x > 0: \n",
    "            y = x * plans['usd_per_message'][0]\n",
    "            return y\n",
    "        elif x <= 0:\n",
    "            return x\n",
    "    elif data['plan'] == 'ultimate':\n",
    "        x= data['msg_each_month'] - plans['messages_included'][1]\n",
    "        if x > 0: \n",
    "            y = x * plans['usd_per_message'][1]\n",
    "            return y\n",
    "        elif x <= 0:\n",
    "            return x\n",
    "\n",
    "for row in new3:\n",
    "    new3['msg_rev']=  new3.apply(rev_msg,axis=1)\n",
    "    "
   ]
  },
  {
   "cell_type": "code",
   "execution_count": 24,
   "metadata": {},
   "outputs": [
    {
     "name": "stdout",
     "output_type": "stream",
     "text": [
      "the revenue in surf plan for msg = $ 310.89 the revenue in ultimate plan for msg = $ 0.0\n"
     ]
    }
   ],
   "source": [
    "x = new3[(new3['plan'] == 'surf')&(new3['msg_rev'] > 0)]['msg_rev'].sum()\n",
    "z = new3[(new3['plan'] == 'ultimate')&(new3['msg_rev'] > 0)]['msg_rev'].sum()\n",
    "print('the revenue in surf plan for msg =','$',x,'the revenue in ultimate plan for msg =','$',z)"
   ]
  },
  {
   "cell_type": "code",
   "execution_count": 25,
   "metadata": {},
   "outputs": [
    {
     "name": "stdout",
     "output_type": "stream",
     "text": [
      "the revenue in surf plan for calls = $ 2888.46 the revenue in ultimate plan  calls = $ 0.0\n"
     ]
    }
   ],
   "source": [
    "def rev_call(data):\n",
    "    if data['plan'] == 'surf':\n",
    "        x = data['minutes_each_month']-plans['minutes_included'][0]\n",
    "        if x > 0: \n",
    "            y = x * plans['usd_per_minute'][0]\n",
    "            return y\n",
    "        elif x <= 0:\n",
    "            return x\n",
    "    elif data['plan'] == 'ultimate':\n",
    "        x= data['minutes_each_month'] - plans['minutes_included'][1]\n",
    "        if x > 0: \n",
    "            y = x * plans['usd_per_minute'][0]\n",
    "            return y\n",
    "        elif x <= 0:\n",
    "            return x\n",
    "\n",
    "for row in new3:\n",
    "    new3['call_rev']=  new3.apply(rev_call,axis=1)\n",
    "g = new3[(new3['plan'] == 'surf')&(new3['call_rev'] > 0)]['call_rev'].sum()\n",
    "h = new3[(new3['plan'] == 'ultimate')&(new3['call_rev'] > 0)]['call_rev'].sum()\n",
    "print('the revenue in surf plan for calls =','$',g,'the revenue in ultimate plan  calls =','$',h)\n"
   ]
  },
  {
   "cell_type": "code",
   "execution_count": 26,
   "metadata": {},
   "outputs": [
    {
     "name": "stdout",
     "output_type": "stream",
     "text": [
      "the revenue in surf plan for sessions = $ 57377.33 the revenue in ultimate plan for sessions = $ 1560.3\n"
     ]
    }
   ],
   "source": [
    "def rev_mg(data):\n",
    "    if data['plan'] == 'surf':\n",
    "        x = data['mb_volume per month']-plans['mb_per_month_included'][0]\n",
    "        if x > 0: \n",
    "            y = (x/1000) * plans['usd_per_gb'][0]\n",
    "            return y\n",
    "        elif x <= 0:\n",
    "            return x\n",
    "    elif data['plan'] == 'ultimate':\n",
    "        x= data['mb_volume per month'] - plans['mb_per_month_included'][1]\n",
    "        if x > 0: \n",
    "            y = (x/1000) * plans['usd_per_gb'][1]\n",
    "            return y\n",
    "        elif x <= 0:\n",
    "            return x\n",
    "\n",
    "for row in new3:\n",
    "    new3['mg_rev']=  new3.apply(rev_mg,axis=1)\n",
    "d = new3[(new3['plan'] == 'surf')&(new3['mg_rev'] > 0)]['mg_rev'].sum()\n",
    "f = new3[(new3['plan'] == 'ultimate')&(new3['mg_rev'] > 0)]['mg_rev'].sum()\n",
    "print('the revenue in surf plan for sessions =','$',d,'the revenue in ultimate plan for sessions =','$',f)\n"
   ]
  },
  {
   "cell_type": "code",
   "execution_count": 27,
   "metadata": {},
   "outputs": [
    {
     "data": {
      "text/html": [
       "<div>\n",
       "<style scoped>\n",
       "    .dataframe tbody tr th:only-of-type {\n",
       "        vertical-align: middle;\n",
       "    }\n",
       "\n",
       "    .dataframe tbody tr th {\n",
       "        vertical-align: top;\n",
       "    }\n",
       "\n",
       "    .dataframe thead th {\n",
       "        text-align: right;\n",
       "    }\n",
       "</style>\n",
       "<table border=\"1\" class=\"dataframe\">\n",
       "  <thead>\n",
       "    <tr style=\"text-align: right;\">\n",
       "      <th></th>\n",
       "      <th>user_id</th>\n",
       "      <th>month</th>\n",
       "      <th>msg_each_month</th>\n",
       "      <th>minutes_each_month</th>\n",
       "      <th>calls_each_month</th>\n",
       "      <th>mb_volume per month</th>\n",
       "      <th>gb_volume per month</th>\n",
       "      <th>plan</th>\n",
       "      <th>city</th>\n",
       "      <th>msg_rev</th>\n",
       "      <th>call_rev</th>\n",
       "      <th>mg_rev</th>\n",
       "    </tr>\n",
       "  </thead>\n",
       "  <tbody>\n",
       "    <tr>\n",
       "      <td>0</td>\n",
       "      <td>1000</td>\n",
       "      <td>12</td>\n",
       "      <td>11.0</td>\n",
       "      <td>124.0</td>\n",
       "      <td>16.0</td>\n",
       "      <td>1902</td>\n",
       "      <td>2</td>\n",
       "      <td>ultimate</td>\n",
       "      <td>Atlanta-Sandy Springs-Roswell, GA MSA</td>\n",
       "      <td>-989.0</td>\n",
       "      <td>-2876.0</td>\n",
       "      <td>-28818.0</td>\n",
       "    </tr>\n",
       "    <tr>\n",
       "      <td>1</td>\n",
       "      <td>1001</td>\n",
       "      <td>8</td>\n",
       "      <td>30.0</td>\n",
       "      <td>182.0</td>\n",
       "      <td>27.0</td>\n",
       "      <td>6920</td>\n",
       "      <td>7</td>\n",
       "      <td>surf</td>\n",
       "      <td>Seattle-Tacoma-Bellevue, WA MSA</td>\n",
       "      <td>-20.0</td>\n",
       "      <td>-318.0</td>\n",
       "      <td>-8440.0</td>\n",
       "    </tr>\n",
       "    <tr>\n",
       "      <td>2</td>\n",
       "      <td>1001</td>\n",
       "      <td>9</td>\n",
       "      <td>44.0</td>\n",
       "      <td>315.0</td>\n",
       "      <td>49.0</td>\n",
       "      <td>13315</td>\n",
       "      <td>14</td>\n",
       "      <td>surf</td>\n",
       "      <td>Seattle-Tacoma-Bellevue, WA MSA</td>\n",
       "      <td>-6.0</td>\n",
       "      <td>-185.0</td>\n",
       "      <td>-2045.0</td>\n",
       "    </tr>\n",
       "  </tbody>\n",
       "</table>\n",
       "</div>"
      ],
      "text/plain": [
       "   user_id  month  msg_each_month  minutes_each_month  calls_each_month  \\\n",
       "0     1000     12            11.0               124.0              16.0   \n",
       "1     1001      8            30.0               182.0              27.0   \n",
       "2     1001      9            44.0               315.0              49.0   \n",
       "\n",
       "   mb_volume per month  gb_volume per month      plan  \\\n",
       "0                 1902                    2  ultimate   \n",
       "1                 6920                    7      surf   \n",
       "2                13315                   14      surf   \n",
       "\n",
       "                                    city  msg_rev  call_rev   mg_rev  \n",
       "0  Atlanta-Sandy Springs-Roswell, GA MSA   -989.0   -2876.0 -28818.0  \n",
       "1        Seattle-Tacoma-Bellevue, WA MSA    -20.0    -318.0  -8440.0  \n",
       "2        Seattle-Tacoma-Bellevue, WA MSA     -6.0    -185.0  -2045.0  "
      ]
     },
     "execution_count": 27,
     "metadata": {},
     "output_type": "execute_result"
    }
   ],
   "source": [
    "new3.head(3)"
   ]
  },
  {
   "cell_type": "markdown",
   "metadata": {},
   "source": [
    "# total pay for each user"
   ]
  },
  {
   "cell_type": "markdown",
   "metadata": {},
   "source": [
    "if you are curious to now how much revenue company gaiqned for each plan then let's take a loo on the total_pay column which adds up the revenue plus the plan cost for each user per month\n",
    "sums up the revenue for call msg and Mb used adds them to the default plan cost \n",
    "for example if Tom used surf plan with\n",
    "- msg revenue = 1.2 \n",
    "- call revenue =  4.3\n",
    "- and MB revenue =  0.0\n",
    "\n",
    "\n",
    "how much is tom going to pay ?\n",
    "\n",
    "**1.2 + 4.3 + 0.0 + 20 (surf plan) =$ 25.5**\n"
   ]
  },
  {
   "cell_type": "code",
   "execution_count": 28,
   "metadata": {},
   "outputs": [],
   "source": [
    "def total(data):\n",
    "    call = data['call_rev']\n",
    "    gb =  data['mg_rev']\n",
    "    msg =  data['msg_rev']\n",
    "    if data['plan'] == 'surf':\n",
    "        x = plans['usd_monthly_pay'][0]\n",
    "        if call > 0:\n",
    "            x = x + call\n",
    "        elif gb >0:\n",
    "            x = x+gb\n",
    "        elif msg > 0:\n",
    "            x=x+msg\n",
    "        return x\n",
    "    elif data['plan'] == 'ultimate':\n",
    "        y = plans['usd_monthly_pay'][1]\n",
    "        if call > 0:\n",
    "            y = y + call\n",
    "        elif gb >0:\n",
    "            y = y+gb\n",
    "        elif msg > 0:\n",
    "            y=y+msg\n",
    "        return y\n",
    "new3['total_pay']=new3.apply(total,axis=1)\n"
   ]
  },
  {
   "cell_type": "markdown",
   "metadata": {},
   "source": [
    "# Describing the Data with Histograms"
   ]
  },
  {
   "cell_type": "markdown",
   "metadata": {},
   "source": [
    "Above we saw the mean ,std ,and the despersion for each dataset for all plans\n",
    "\n",
    "**$But$ here we are going to see for each plan for each user per month how are users using them?!!**"
   ]
  },
  {
   "cell_type": "markdown",
   "metadata": {},
   "source": [
    "# Texts"
   ]
  },
  {
   "cell_type": "markdown",
   "metadata": {},
   "source": [
    "To compare between two plans the surf and ultimate in the total number of messages the users used per month i grouped the data by month summing the number of messages and counting how many useres sent messages on a specific month and that help us to now which month are people texting more with each other"
   ]
  },
  {
   "cell_type": "code",
   "execution_count": 29,
   "metadata": {},
   "outputs": [
    {
     "name": "stdout",
     "output_type": "stream",
     "text": [
      "           month  surf_count_msg  ultimate_count_msg  surf_sum_msg  \\\n",
      "count  12.000000       12.000000           12.000000     12.000000   \n",
      "mean    6.500000      129.833333           59.750000   3989.583333   \n",
      "std     3.605551      107.310792           48.932467   3951.608222   \n",
      "min     1.000000        2.000000            4.000000     21.000000   \n",
      "25%     3.750000       42.500000           18.750000    735.750000   \n",
      "50%     6.500000      107.500000           52.500000   2721.500000   \n",
      "75%     9.250000      203.250000           90.750000   6330.750000   \n",
      "max    12.000000      317.000000          150.000000  12122.000000   \n",
      "\n",
      "       ultimate_sum_msg  \n",
      "count         12.000000  \n",
      "mean        2252.916667  \n",
      "std         2167.671623  \n",
      "min           62.000000  \n",
      "25%          408.000000  \n",
      "50%         1658.000000  \n",
      "75%         3489.000000  \n",
      "max         6796.000000  \n"
     ]
    },
    {
     "data": {
      "image/png": "[encoded data removed]",
      "text/plain": [
       "<Figure size 432x288 with 1 Axes>"
      ]
     },
     "metadata": {
      "needs_background": "light"
     },
     "output_type": "display_data"
    }
   ],
   "source": [
    "total_msg_per_month=new3.pivot_table(index =['month'],values=['msg_each_month'],columns=['plan'],aggfunc={'count','sum'}).reset_index()\n",
    "total_msg_per_month.columns=['month','surf_count_msg','ultimate_count_msg','surf_sum_msg','ultimate_sum_msg']\n",
    "print(total_msg_per_month.describe())\n",
    "total_msg_per_month.plot(y=['surf_sum_msg','ultimate_sum_msg'],x='month',kind='bar',title='total messages for each plan per month')\n",
    "plt.show()\n"
   ]
  },
  {
   "cell_type": "markdown",
   "metadata": {},
   "source": [
    "**Overall view :**\n",
    "    \n",
    "    The total messages for each plan per month bar graph we can see the users subscribe with the surf plan texting much more then ultimate user \n",
    "**Sekweness**:\n",
    "\n",
    "    Both chart skew to the right maybe because users register more in later months of the year not at the begining of the year\n",
    "    \n",
    "**Describe**\n",
    "- **Surf**\n",
    "\n",
    "   * the max value happened on december and its around 12K msg sent by 317 users\n",
    "   * at january there is no users sent msgs\n",
    "   * the avg for msgs sent per month around 4K msg\n",
    "   * 25 % of users sent 735 msg per month\n",
    "   * 50% 2721 msg\n",
    "   * 75% 6430 msg\n",
    "   * the std 3952 \n",
    "   \n",
    "- **Ultimate**\n",
    "\n",
    "   * the max value happened on december and its around 6800 msg \n",
    "   * the min value happened at january there is 62 msgs sent by 4 users\n",
    "   * the avg for msgs sent per month around 2252 msg\n",
    "   * 25 % of users sent 408 msg per month\n",
    "   * 50% 1658 msg\n",
    "   * 75% 3489 msg\n",
    "   * the std 2167 \n"
   ]
  },
  {
   "cell_type": "markdown",
   "metadata": {},
   "source": [
    "**variance**"
   ]
  },
  {
   "cell_type": "code",
   "execution_count": 30,
   "metadata": {},
   "outputs": [
    {
     "name": "stdout",
     "output_type": "stream",
     "text": [
      " variance is the squared deviation of a variable from its mean\n",
      "variance for surf = 14313940.24 variance for ultimate plan =4307233.58\n"
     ]
    }
   ],
   "source": [
    "variance_surf = np.var(total_msg_per_month['surf_sum_msg'])\n",
    "variance_ultimate = np.var(total_msg_per_month['ultimate_sum_msg'])\n",
    "print(' variance is the squared deviation of a variable from its mean')\n",
    "print('variance for surf = {:.2f}'.format(variance_surf),'variance for ultimate plan ={:.2f}'.format(variance_ultimate))"
   ]
  },
  {
   "cell_type": "markdown",
   "metadata": {},
   "source": [
    "# Call"
   ]
  },
  {
   "cell_type": "markdown",
   "metadata": {},
   "source": [
    "To compare between two plans the surf and ultimate in the total number of minutes the users used per month i grouped the data by month summing the number of minutes and counting how many useres spend on a call duration on a specific month and that help us to now At which month are people talking to each other more"
   ]
  },
  {
   "cell_type": "code",
   "execution_count": 31,
   "metadata": {},
   "outputs": [
    {
     "name": "stdout",
     "output_type": "stream",
     "text": [
      "           month  surf_count_min  ultimate_count_min   surf_sum_min  \\\n",
      "count  12.000000       12.000000           12.000000      12.000000   \n",
      "mean    6.500000      129.833333           59.750000   55807.750000   \n",
      "std     3.605551      107.310792           48.932467   48753.825299   \n",
      "min     1.000000        2.000000            4.000000     406.000000   \n",
      "25%     3.750000       42.500000           18.750000   15047.250000   \n",
      "50%     6.500000      107.500000           52.500000   47590.500000   \n",
      "75%     9.250000      203.250000           90.750000   85135.500000   \n",
      "max    12.000000      317.000000          150.000000  150088.000000   \n",
      "\n",
      "       ultimate_sum_min  \n",
      "count         12.000000  \n",
      "mean       25827.000000  \n",
      "std        22846.433388  \n",
      "min          774.000000  \n",
      "25%         6218.250000  \n",
      "50%        21316.000000  \n",
      "75%        40164.000000  \n",
      "max        69324.000000  \n"
     ]
    },
    {
     "data": {
      "image/png": "[encoded data removed]",
      "text/plain": [
       "<Figure size 432x288 with 1 Axes>"
      ]
     },
     "metadata": {
      "needs_background": "light"
     },
     "output_type": "display_data"
    }
   ],
   "source": [
    "total_min_per_month=new3.pivot_table(index =['month'],values=['minutes_each_month'],columns=['plan'],aggfunc={'count','sum'}).reset_index()\n",
    "total_min_per_month.columns=['month','surf_count_min','ultimate_count_min','surf_sum_min','ultimate_sum_min']\n",
    "print(total_min_per_month.describe())\n",
    "total_min_per_month.plot(y=['surf_sum_min','ultimate_sum_min'],grid=True,x='month',kind='bar',title='total minutes for each plan per month')\n",
    "plt.show()"
   ]
  },
  {
   "cell_type": "markdown",
   "metadata": {},
   "source": [
    "**Overall view :**\n",
    "    \n",
    "    The total number of minutes for each plan per month by the bar chart we can see the users subscribe with the surf plan calling duration much more then ultimate user like the texting chart\n",
    "**Sekweness**:\n",
    "\n",
    "    Both chart skew to the right maybe because users register more in the later months of the year not at the begining of the year\n",
    "    \n",
    "**Describe**\n",
    "- **Surf**\n",
    "\n",
    "   * the max value happened on december and its around 15K minutes\n",
    "   * at january there is 406 minutes which is the minimum value by 2 users\n",
    "   * the avg for calls duration per month around 56K minutes\n",
    "   * 25 % of users spend on a call 15K minutes per month\n",
    "   * 50% 47590 minutes \n",
    "   * 75% 85136 minutes\n",
    "   * the std 49K \n",
    "   \n",
    "- **Ultimate**\n",
    "\n",
    "   * the max value happened on december, its around 69K minutes\n",
    "   * the min value happened at january 774 minutes\n",
    "   * the avg for time spent during the calls per month around 26K minutes\n",
    "   * 25 % of users spend on a call 6K minutes per month\n",
    "   * 50% 21K msg\n",
    "   * 75% 40K msg\n",
    "   * the std 23K\n"
   ]
  },
  {
   "cell_type": "code",
   "execution_count": 32,
   "metadata": {},
   "outputs": [
    {
     "name": "stdout",
     "output_type": "stream",
     "text": [
      "           month  surf_count_mg  ultimate_count_mg   surf_sum_mg  \\\n",
      "count  12.000000      12.000000          12.000000  1.200000e+01   \n",
      "mean    6.500000     129.833333          59.750000  2.170580e+06   \n",
      "std     3.605551     107.310792          48.932467  1.922086e+06   \n",
      "min     1.000000       2.000000           4.000000  9.750000e+03   \n",
      "25%     3.750000      42.500000          18.750000  5.261640e+05   \n",
      "50%     6.500000     107.500000          52.500000  1.757584e+06   \n",
      "75%     9.250000     203.250000          90.750000  3.439850e+06   \n",
      "max    12.000000     317.000000         150.000000  5.766286e+06   \n",
      "\n",
      "       ultimate_sum_mg  \n",
      "count     1.200000e+01  \n",
      "mean      1.032768e+06  \n",
      "std       8.846527e+05  \n",
      "min       2.767400e+04  \n",
      "25%       3.088908e+05  \n",
      "50%       8.418895e+05  \n",
      "75%       1.561334e+06  \n",
      "max       2.766642e+06  \n"
     ]
    },
    {
     "data": {
      "image/png": "[encoded data removed]",
      "text/plain": [
       "<Figure size 432x288 with 1 Axes>"
      ]
     },
     "metadata": {
      "needs_background": "light"
     },
     "output_type": "display_data"
    }
   ],
   "source": [
    "total_mg_per_month=new3.pivot_table(index =['month'],values=['mb_volume per month'],columns=['plan'],aggfunc={'count','sum'}).reset_index()\n",
    "total_mg_per_month.columns=['month','surf_count_mg','ultimate_count_mg','surf_sum_mg','ultimate_sum_mg']\n",
    "print(total_mg_per_month.describe())\n",
    "total_mg_per_month.plot(y=['surf_sum_mg','ultimate_sum_mg'],grid=True,x='month',kind='bar',title='total megabytes for each plan per month')\n",
    "plt.show()"
   ]
  },
  {
   "cell_type": "markdown",
   "metadata": {},
   "source": [
    "**Overall view :**\n",
    "    \n",
    "    The total number of minutes for each plan per month by the bar chart we can see the users subscribe with the surf plan calling duration much more then ultimate user\n",
    "**Sekweness**:\n",
    "\n",
    "    Both chart skew to the right maybe because users register more in the later months of the year not at the begining of the year\n"
   ]
  },
  {
   "cell_type": "markdown",
   "metadata": {},
   "source": [
    "**Variance**"
   ]
  },
  {
   "cell_type": "code",
   "execution_count": 33,
   "metadata": {},
   "outputs": [
    {
     "name": "stdout",
     "output_type": "stream",
     "text": [
      " variance is the squared deviation of a variable from its mean\n",
      "variance for surf = 3386546516264.39 variance for ultimate plan =717392810593.02\n"
     ]
    }
   ],
   "source": [
    "variance_surf = np.var(total_mg_per_month['surf_sum_mg'])\n",
    "variance_ultimate = np.var(total_mg_per_month['ultimate_sum_mg'])\n",
    "print(' variance is the squared deviation of a variable from its mean')\n",
    "print('variance for surf = {:.2f}'.format(variance_surf),'variance for ultimate plan ={:.2f}'.format(variance_ultimate))"
   ]
  },
  {
   "cell_type": "markdown",
   "metadata": {},
   "source": [
    "# Conclusion"
   ]
  },
  {
   "cell_type": "markdown",
   "metadata": {},
   "source": [
    "we have two plan for each plan i calculate the mean the std and the variance for the total minutes and text in each month\n",
    "\n",
    "For both Surf and Ultimate\n",
    "we can see that either the total minutes or total msgs start with a miniumum value and then the values start geting bigger with increasing the month we can see that the peak arrives in december \n",
    "\n"
   ]
  },
  {
   "cell_type": "markdown",
   "metadata": {},
   "source": [
    "# Revenue"
   ]
  },
  {
   "cell_type": "markdown",
   "metadata": {},
   "source": [
    "how much messages revenue the company are going to gain per month for each plan\n",
    "grouping the data by month and plan and suming up the messages revenue for each month and count the number of users that we gain from them\n"
   ]
  },
  {
   "cell_type": "code",
   "execution_count": 34,
   "metadata": {},
   "outputs": [
    {
     "name": "stdout",
     "output_type": "stream",
     "text": [
      "    month  plan    sum  count\n",
      "0       2  surf   0.24      1\n",
      "1       3  surf   0.39      2\n",
      "2       4  surf   2.61      3\n",
      "3       5  surf   9.63     10\n",
      "4       6  surf  12.00     15\n",
      "5       7  surf  14.67     22\n",
      "6       8  surf  26.46     28\n",
      "7       9  surf  33.69     41\n",
      "8      10  surf  56.37     59\n",
      "9      11  surf  56.46     56\n",
      "10     12  surf  98.37     94\n",
      "           month        sum      count\n",
      "count  11.000000  11.000000  11.000000\n",
      "mean    7.000000  28.262727  30.090909\n",
      "std     3.316625  30.902235  29.632599\n",
      "min     2.000000   0.240000   1.000000\n",
      "25%     4.500000   6.120000   6.500000\n",
      "50%     7.000000  14.670000  22.000000\n",
      "75%     9.500000  45.030000  48.500000\n",
      "max    12.000000  98.370000  94.000000\n"
     ]
    },
    {
     "data": {
      "image/png": "[encoded data removed]",
      "text/plain": [
       "<Figure size 432x288 with 1 Axes>"
      ]
     },
     "metadata": {
      "needs_background": "light"
     },
     "output_type": "display_data"
    }
   ],
   "source": [
    "\n",
    "total_rev_msg_per_month=new3.query('msg_rev > 0').groupby(['month','plan'])['msg_rev'].agg({'count','sum'}).reset_index()\n",
    "print(total_rev_msg_per_month)\n",
    "total_rev_msg_per_month.plot(x='month',y='sum',kind='scatter',title='message revenue  per month')\n",
    "print(total_rev_msg_per_month.describe())\n"
   ]
  },
  {
   "cell_type": "markdown",
   "metadata": {},
   "source": [
    "we dropped **scatter plot** between the month and the total number of revenue each month \n",
    "\n",
    "we can see that there is **no revenue** from ultimate plan just the surf plan\n",
    "\n",
    "* The maximum gain at december and the minimum at february don't forget that on january there is no sent messages\n",
    "* october and november approximately the same revenue\n",
    "\n",
    "**we can recognize from the chart that the revunue is incresing with the month**\n",
    "* the average gain 28 usd\n",
    "* the max gain 98 usd\n",
    "* the min gain 0.24 usd\n",
    "* 25% from gains around 6 usd\n",
    "* 50% -- 14 usd\n",
    "* 75% -- 45 usd\n",
    "*the std 31"
   ]
  },
  {
   "cell_type": "markdown",
   "metadata": {},
   "source": [
    "how much calls duration revenue the company are going to gain per month that exceed the limit of minutes for each plan\n",
    "grouping the data by month and plan and suming up the minutes revenue for each month and count the number of users that we gain from them"
   ]
  },
  {
   "cell_type": "code",
   "execution_count": 35,
   "metadata": {},
   "outputs": [
    {
     "name": "stdout",
     "output_type": "stream",
     "text": [
      "    month  plan     sum  count\n",
      "0       2  surf    9.33      1\n",
      "1       3  surf   16.26      3\n",
      "2       4  surf   52.92     14\n",
      "3       5  surf  127.71     30\n",
      "4       6  surf  153.36     33\n",
      "5       7  surf  265.26     50\n",
      "6       8  surf  265.26     56\n",
      "7       9  surf  278.58     61\n",
      "8      10  surf  425.25     87\n",
      "9      11  surf  491.61     98\n",
      "10     12  surf  802.92    128\n",
      "           month         sum      count\n",
      "count  11.000000   11.000000   11.00000\n",
      "mean    7.000000  262.587273   51.00000\n",
      "std     3.316625  238.754957   40.61773\n",
      "min     2.000000    9.330000    1.00000\n",
      "25%     4.500000   90.315000   22.00000\n",
      "50%     7.000000  265.260000   50.00000\n",
      "75%     9.500000  351.915000   74.00000\n",
      "max    12.000000  802.920000  128.00000\n"
     ]
    },
    {
     "data": {
      "image/png": "[encoded data removed]",
      "text/plain": [
       "<Figure size 432x288 with 1 Axes>"
      ]
     },
     "metadata": {
      "needs_background": "light"
     },
     "output_type": "display_data"
    }
   ],
   "source": [
    "total_rev_min_per_month=new3.query('call_rev > 0').groupby(['month','plan'])['call_rev'].agg({'count','sum'}).reset_index()\n",
    "print(total_rev_min_per_month)\n",
    "total_rev_min_per_month.plot(x='month',y='sum',kind='scatter',title='minutes revenue  per month')\n",
    "print(total_rev_min_per_month.describe())\n"
   ]
  },
  {
   "cell_type": "markdown",
   "metadata": {},
   "source": [
    "we dropped **scatter plot** between the month and the total number of minutes revenue each month \n",
    "\n",
    "we can see that there is **no revenue** from ultimate plan just the surf plan just like the messages revenue\n",
    "\n",
    "    * The maximum gain at december and the minimum at february \n",
    "    * july ,August,and September almost the same revenue and the it's continue increasing on october and november\n",
    "**we can recognize from the chart that the revunue is increasing with the month**\n",
    "* the average gain 263 usd\n",
    "* the max gain 803 usd\n",
    "* the min gain 9 usd\n",
    "* 25% from gains around 90 usd\n",
    "* 50% -- 265 usd\n",
    "* 75% -- 351 usd\n",
    "*the std 239"
   ]
  },
  {
   "cell_type": "markdown",
   "metadata": {},
   "source": [
    "MegaBytes revenue"
   ]
  },
  {
   "cell_type": "code",
   "execution_count": 36,
   "metadata": {},
   "outputs": [
    {
     "name": "stdout",
     "output_type": "stream",
     "text": [
      "    month      plan        sum  count\n",
      "0       2      surf    111.360      4\n",
      "1       3      surf    541.890     11\n",
      "2       3  ultimate     41.699      3\n",
      "3       4      surf    917.730     17\n",
      "4       4  ultimate     59.605      2\n",
      "5       5      surf   1888.990     30\n",
      "6       5  ultimate     15.316      1\n",
      "7       6      surf   2435.320     50\n",
      "8       6  ultimate     71.092      2\n",
      "9       7      surf   4619.480     73\n",
      "10      7  ultimate    111.797      2\n",
      "11      8      surf   6499.350     92\n",
      "12      8  ultimate    194.873      4\n",
      "13      9      surf   6680.250    115\n",
      "14      9  ultimate    159.621      5\n",
      "15     10      surf   9702.210    147\n",
      "16     10  ultimate    227.066      6\n",
      "17     11      surf   9664.080    156\n",
      "18     11  ultimate    208.257      5\n",
      "19     12      surf  14316.670    216\n",
      "20     12  ultimate    470.974     11\n"
     ]
    },
    {
     "data": {
      "image/png": "[encoded data removed]",
      "text/plain": [
       "<Figure size 432x288 with 1 Axes>"
      ]
     },
     "metadata": {
      "needs_background": "light"
     },
     "output_type": "display_data"
    },
    {
     "data": {
      "image/png": "[encoded data removed]",
      "text/plain": [
       "<Figure size 432x288 with 1 Axes>"
      ]
     },
     "metadata": {
      "needs_background": "light"
     },
     "output_type": "display_data"
    },
    {
     "data": {
      "image/png": "[encoded data removed]",
      "text/plain": [
       "<Figure size 432x288 with 1 Axes>"
      ]
     },
     "metadata": {
      "needs_background": "light"
     },
     "output_type": "display_data"
    }
   ],
   "source": [
    "total_rev_mg_per_month=new3.query('mg_rev > 0').groupby(['month','plan'])['mg_rev'].agg({'count','sum'}).reset_index()\n",
    "print(total_rev_mg_per_month)\n",
    "total_rev_mg_per_month[total_rev_mg_per_month['plan']=='surf'].plot(x='month',y='sum',kind='scatter',color='black',title='message revenue  per month for surf plan')\n",
    "total_rev_mg_per_month[total_rev_mg_per_month['plan']=='ultimate'].plot(x='month',y='sum',kind='scatter',title='message revenue  per month for ultimate plan')\n",
    "total_rev_mg_per_month.plot(x='month',y='sum',kind='scatter',title='MB revenue  per month for both plans')\n",
    "plt.show()\n",
    "#print(total_rev_mg_per_month.describe())\n"
   ]
  },
  {
   "cell_type": "markdown",
   "metadata": {},
   "source": [
    "we dropped **scatter plot** between the month and the total number of MB revenue  each month \n",
    "\n",
    "we can see that there is **revenue** from ultimate plan not just the surf plan unlike the messages and minutes revenue\n",
    "\n",
    "the revenue from surf plan is much higher than the ultimate plan \n",
    "**Surf**\n",
    "the revenue increases with the monththe max MB revenue 15K usd on December\n",
    "the min MB revenue 111 usd on February\n",
    "October and November almost the same revenue 9650 usd\n",
    "August and September almost the same revenue 6600 usd\n",
    "\n",
    "**Ultimate**\n",
    "the revenue vast with the month\n",
    "we start gaing revenue on march increased on April but on May it falls down to a low gain the it turned to increse on June July and August \n",
    "On september it decreases \n",
    "but the peak its on December we gain much more than all others months\n",
    "the max MB revenue 470 usd on December\n",
    "the min MB revenue 15 usd on May"
   ]
  },
  {
   "cell_type": "code",
   "execution_count": 37,
   "metadata": {
    "scrolled": true
   },
   "outputs": [
    {
     "name": "stdout",
     "output_type": "stream",
     "text": [
      "lower outlier -52.52500000000002 upper outliers 143.51500000000001\n"
     ]
    },
    {
     "data": {
      "text/html": [
       "<div>\n",
       "<style scoped>\n",
       "    .dataframe tbody tr th:only-of-type {\n",
       "        vertical-align: middle;\n",
       "    }\n",
       "\n",
       "    .dataframe tbody tr th {\n",
       "        vertical-align: top;\n",
       "    }\n",
       "\n",
       "    .dataframe thead th {\n",
       "        text-align: right;\n",
       "    }\n",
       "</style>\n",
       "<table border=\"1\" class=\"dataframe\">\n",
       "  <thead>\n",
       "    <tr style=\"text-align: right;\">\n",
       "      <th></th>\n",
       "      <th>user_id</th>\n",
       "      <th>month</th>\n",
       "      <th>msg_each_month</th>\n",
       "      <th>minutes_each_month</th>\n",
       "      <th>calls_each_month</th>\n",
       "      <th>mb_volume per month</th>\n",
       "      <th>gb_volume per month</th>\n",
       "      <th>plan</th>\n",
       "      <th>city</th>\n",
       "      <th>msg_rev</th>\n",
       "      <th>call_rev</th>\n",
       "      <th>mg_rev</th>\n",
       "      <th>total_pay</th>\n",
       "    </tr>\n",
       "  </thead>\n",
       "  <tbody>\n",
       "    <tr>\n",
       "      <td>13</td>\n",
       "      <td>1004</td>\n",
       "      <td>8</td>\n",
       "      <td>25.0</td>\n",
       "      <td>354.0</td>\n",
       "      <td>49.0</td>\n",
       "      <td>27982</td>\n",
       "      <td>28</td>\n",
       "      <td>surf</td>\n",
       "      <td>Seattle-Tacoma-Bellevue, WA MSA</td>\n",
       "      <td>-25.00</td>\n",
       "      <td>-146.0</td>\n",
       "      <td>126.220</td>\n",
       "      <td>146.220</td>\n",
       "    </tr>\n",
       "    <tr>\n",
       "      <td>22</td>\n",
       "      <td>1007</td>\n",
       "      <td>9</td>\n",
       "      <td>47.0</td>\n",
       "      <td>399.0</td>\n",
       "      <td>63.0</td>\n",
       "      <td>28124</td>\n",
       "      <td>28</td>\n",
       "      <td>surf</td>\n",
       "      <td>Grand Rapids-Kentwood, MI MSA</td>\n",
       "      <td>-3.00</td>\n",
       "      <td>-101.0</td>\n",
       "      <td>127.640</td>\n",
       "      <td>147.640</td>\n",
       "    </tr>\n",
       "    <tr>\n",
       "      <td>45</td>\n",
       "      <td>1017</td>\n",
       "      <td>10</td>\n",
       "      <td>35.0</td>\n",
       "      <td>400.0</td>\n",
       "      <td>68.0</td>\n",
       "      <td>28479</td>\n",
       "      <td>28</td>\n",
       "      <td>surf</td>\n",
       "      <td>Washington-Arlington-Alexandria, DC-VA-MD-WV MSA</td>\n",
       "      <td>-15.00</td>\n",
       "      <td>-100.0</td>\n",
       "      <td>131.190</td>\n",
       "      <td>151.190</td>\n",
       "    </tr>\n",
       "    <tr>\n",
       "      <td>52</td>\n",
       "      <td>1019</td>\n",
       "      <td>12</td>\n",
       "      <td>128.0</td>\n",
       "      <td>467.0</td>\n",
       "      <td>59.0</td>\n",
       "      <td>28128</td>\n",
       "      <td>28</td>\n",
       "      <td>surf</td>\n",
       "      <td>Jacksonville, FL MSA</td>\n",
       "      <td>2.34</td>\n",
       "      <td>-33.0</td>\n",
       "      <td>127.680</td>\n",
       "      <td>147.680</td>\n",
       "    </tr>\n",
       "    <tr>\n",
       "      <td>73</td>\n",
       "      <td>1028</td>\n",
       "      <td>10</td>\n",
       "      <td>73.0</td>\n",
       "      <td>39.0</td>\n",
       "      <td>6.0</td>\n",
       "      <td>46596</td>\n",
       "      <td>46</td>\n",
       "      <td>ultimate</td>\n",
       "      <td>Philadelphia-Camden-Wilmington, PA-NJ-DE-MD MSA</td>\n",
       "      <td>-927.00</td>\n",
       "      <td>-2961.0</td>\n",
       "      <td>111.132</td>\n",
       "      <td>181.132</td>\n",
       "    </tr>\n",
       "    <tr>\n",
       "      <td>...</td>\n",
       "      <td>...</td>\n",
       "      <td>...</td>\n",
       "      <td>...</td>\n",
       "      <td>...</td>\n",
       "      <td>...</td>\n",
       "      <td>...</td>\n",
       "      <td>...</td>\n",
       "      <td>...</td>\n",
       "      <td>...</td>\n",
       "      <td>...</td>\n",
       "      <td>...</td>\n",
       "      <td>...</td>\n",
       "      <td>...</td>\n",
       "    </tr>\n",
       "    <tr>\n",
       "      <td>2207</td>\n",
       "      <td>1418</td>\n",
       "      <td>9</td>\n",
       "      <td>0.0</td>\n",
       "      <td>241.0</td>\n",
       "      <td>35.0</td>\n",
       "      <td>33260</td>\n",
       "      <td>33</td>\n",
       "      <td>surf</td>\n",
       "      <td>New York-Newark-Jersey City, NY-NJ-PA MSA</td>\n",
       "      <td>-50.00</td>\n",
       "      <td>-259.0</td>\n",
       "      <td>179.000</td>\n",
       "      <td>199.000</td>\n",
       "    </tr>\n",
       "    <tr>\n",
       "      <td>2208</td>\n",
       "      <td>1418</td>\n",
       "      <td>10</td>\n",
       "      <td>0.0</td>\n",
       "      <td>237.0</td>\n",
       "      <td>38.0</td>\n",
       "      <td>33918</td>\n",
       "      <td>34</td>\n",
       "      <td>surf</td>\n",
       "      <td>New York-Newark-Jersey City, NY-NJ-PA MSA</td>\n",
       "      <td>-50.00</td>\n",
       "      <td>-263.0</td>\n",
       "      <td>185.580</td>\n",
       "      <td>205.580</td>\n",
       "    </tr>\n",
       "    <tr>\n",
       "      <td>2209</td>\n",
       "      <td>1418</td>\n",
       "      <td>11</td>\n",
       "      <td>0.0</td>\n",
       "      <td>233.0</td>\n",
       "      <td>37.0</td>\n",
       "      <td>36260</td>\n",
       "      <td>36</td>\n",
       "      <td>surf</td>\n",
       "      <td>New York-Newark-Jersey City, NY-NJ-PA MSA</td>\n",
       "      <td>-50.00</td>\n",
       "      <td>-267.0</td>\n",
       "      <td>209.000</td>\n",
       "      <td>229.000</td>\n",
       "    </tr>\n",
       "    <tr>\n",
       "      <td>2210</td>\n",
       "      <td>1418</td>\n",
       "      <td>12</td>\n",
       "      <td>0.0</td>\n",
       "      <td>327.0</td>\n",
       "      <td>42.0</td>\n",
       "      <td>41925</td>\n",
       "      <td>41</td>\n",
       "      <td>surf</td>\n",
       "      <td>New York-Newark-Jersey City, NY-NJ-PA MSA</td>\n",
       "      <td>-50.00</td>\n",
       "      <td>-173.0</td>\n",
       "      <td>265.650</td>\n",
       "      <td>285.650</td>\n",
       "    </tr>\n",
       "    <tr>\n",
       "      <td>2250</td>\n",
       "      <td>1490</td>\n",
       "      <td>12</td>\n",
       "      <td>0.0</td>\n",
       "      <td>368.0</td>\n",
       "      <td>50.0</td>\n",
       "      <td>46216</td>\n",
       "      <td>46</td>\n",
       "      <td>ultimate</td>\n",
       "      <td>Sacramento–Roseville–Folsom, CA MSA</td>\n",
       "      <td>-1000.00</td>\n",
       "      <td>-2632.0</td>\n",
       "      <td>108.472</td>\n",
       "      <td>178.472</td>\n",
       "    </tr>\n",
       "  </tbody>\n",
       "</table>\n",
       "<p>62 rows × 13 columns</p>\n",
       "</div>"
      ],
      "text/plain": [
       "      user_id  month  msg_each_month  minutes_each_month  calls_each_month  \\\n",
       "13       1004      8            25.0               354.0              49.0   \n",
       "22       1007      9            47.0               399.0              63.0   \n",
       "45       1017     10            35.0               400.0              68.0   \n",
       "52       1019     12           128.0               467.0              59.0   \n",
       "73       1028     10            73.0                39.0               6.0   \n",
       "...       ...    ...             ...                 ...               ...   \n",
       "2207     1418      9             0.0               241.0              35.0   \n",
       "2208     1418     10             0.0               237.0              38.0   \n",
       "2209     1418     11             0.0               233.0              37.0   \n",
       "2210     1418     12             0.0               327.0              42.0   \n",
       "2250     1490     12             0.0               368.0              50.0   \n",
       "\n",
       "      mb_volume per month  gb_volume per month      plan  \\\n",
       "13                  27982                   28      surf   \n",
       "22                  28124                   28      surf   \n",
       "45                  28479                   28      surf   \n",
       "52                  28128                   28      surf   \n",
       "73                  46596                   46  ultimate   \n",
       "...                   ...                  ...       ...   \n",
       "2207                33260                   33      surf   \n",
       "2208                33918                   34      surf   \n",
       "2209                36260                   36      surf   \n",
       "2210                41925                   41      surf   \n",
       "2250                46216                   46  ultimate   \n",
       "\n",
       "                                                  city  msg_rev  call_rev  \\\n",
       "13                     Seattle-Tacoma-Bellevue, WA MSA   -25.00    -146.0   \n",
       "22                       Grand Rapids-Kentwood, MI MSA    -3.00    -101.0   \n",
       "45    Washington-Arlington-Alexandria, DC-VA-MD-WV MSA   -15.00    -100.0   \n",
       "52                                Jacksonville, FL MSA     2.34     -33.0   \n",
       "73     Philadelphia-Camden-Wilmington, PA-NJ-DE-MD MSA  -927.00   -2961.0   \n",
       "...                                                ...      ...       ...   \n",
       "2207         New York-Newark-Jersey City, NY-NJ-PA MSA   -50.00    -259.0   \n",
       "2208         New York-Newark-Jersey City, NY-NJ-PA MSA   -50.00    -263.0   \n",
       "2209         New York-Newark-Jersey City, NY-NJ-PA MSA   -50.00    -267.0   \n",
       "2210         New York-Newark-Jersey City, NY-NJ-PA MSA   -50.00    -173.0   \n",
       "2250               Sacramento–Roseville–Folsom, CA MSA -1000.00   -2632.0   \n",
       "\n",
       "       mg_rev  total_pay  \n",
       "13    126.220    146.220  \n",
       "22    127.640    147.640  \n",
       "45    131.190    151.190  \n",
       "52    127.680    147.680  \n",
       "73    111.132    181.132  \n",
       "...       ...        ...  \n",
       "2207  179.000    199.000  \n",
       "2208  185.580    205.580  \n",
       "2209  209.000    229.000  \n",
       "2210  265.650    285.650  \n",
       "2250  108.472    178.472  \n",
       "\n",
       "[62 rows x 13 columns]"
      ]
     },
     "execution_count": 37,
     "metadata": {},
     "output_type": "execute_result"
    }
   ],
   "source": [
    "#para=new3['call_rev','total_pay']\n",
    "#limits=[]\n",
    "#for row in :\n",
    "q1 = new3['total_pay'].quantile(0.25)\n",
    "q3 = new3['total_pay'].quantile(0.75)\n",
    "iqr = (q3 -q1)*1.5\n",
    "lo = q1 - iqr\n",
    "uo = q3 + iqr\n",
    "   # limits.append([row,lo,uo])\n",
    "#limits  \n",
    "print('lower outlier',lo ,'upper outliers', uo)\n",
    "filt=new3.query('(total_pay > -52.53) and (total_pay > 143.52)')\n",
    "filt"
   ]
  },
  {
   "cell_type": "markdown",
   "metadata": {},
   "source": [
    "# Conclusion"
   ]
  },
  {
   "cell_type": "markdown",
   "metadata": {},
   "source": [
    "so lets see which revenue we have more for each plan \n",
    "\n",
    "**Messages**\n",
    "\n",
    "- surf : on average 28 usd\n",
    "\n",
    "the despersion of the data diverse from one point to another however the std is 31 we can conclude up that the data are far away from the mean \n",
    "- ultimate : no revenue\n",
    "\n",
    "**Calls**\n",
    "- surf : on average 263 usd\n",
    "\n",
    "- ultimate : no revenue\n",
    "\n",
    "**MB**\n",
    "- surf : on average 6000 usd\n",
    "- ultimate : on average 250 used\n"
   ]
  },
  {
   "cell_type": "markdown",
   "metadata": {},
   "source": [
    "# Hypothesis"
   ]
  },
  {
   "cell_type": "markdown",
   "metadata": {},
   "source": [
    "Revenue"
   ]
  },
  {
   "cell_type": "markdown",
   "metadata": {},
   "source": [
    "null hypothesis : The average revenue from users of Ultimate equals the avg profit of Surf \n",
    "\n",
    "alternative hypothesis : The average revenue from users of Ultimate and Surf calling plans doesn't differ from the texting and session plan\n"
   ]
  },
  {
   "cell_type": "code",
   "execution_count": 38,
   "metadata": {},
   "outputs": [
    {
     "data": {
      "image/png": "[encoded data removed]",
      "text/plain": [
       "<Figure size 432x288 with 1 Axes>"
      ]
     },
     "metadata": {
      "needs_background": "light"
     },
     "output_type": "display_data"
    },
    {
     "data": {
      "image/png": "[encoded data removed]",
      "text/plain": [
       "<Figure size 432x288 with 1 Axes>"
      ]
     },
     "metadata": {
      "needs_background": "light"
     },
     "output_type": "display_data"
    },
    {
     "data": {
      "text/plain": [
       "<matplotlib.axes._subplots.AxesSubplot at 0x7fe0f1d6b110>"
      ]
     },
     "execution_count": 38,
     "metadata": {},
     "output_type": "execute_result"
    },
    {
     "data": {
      "image/png": "[encoded data removed]",
      "text/plain": [
       "<Figure size 432x288 with 1 Axes>"
      ]
     },
     "metadata": {
      "needs_background": "light"
     },
     "output_type": "display_data"
    },
    {
     "data": {
      "image/png": "[encoded data removed]",
      "text/plain": [
       "<Figure size 432x288 with 1 Axes>"
      ]
     },
     "metadata": {
      "needs_background": "light"
     },
     "output_type": "display_data"
    }
   ],
   "source": [
    "new3.head(3)\n",
    "#q-q plot\n",
    "#As you can see, most of the points, do not lie in a straight line. Showing that the underlying distribution is not normal\n",
    "surf = new3[new3['plan']== 'surf'].query('total_pay > 20')\n",
    "res = stats.probplot( surf['total_pay'], plot=plt)\n",
    "plt.title('surf plan and revenue')\n",
    "plt.show()\n",
    "ultimate = new3[new3['plan']== 'ultimate'].query('total_pay > 70')\n",
    "re = stats.probplot( ultimate['total_pay'], plot=plt)\n",
    "plt.title('ultimate plan and revenue')\n",
    "plt.show()\n",
    "fig, ax = plt.subplots()\n",
    "surf['total_pay'].plot.kde(ax=ax, legend=False, title='Surf plan and revenue ')\n",
    "surf['total_pay'].plot.hist(density=True, ax=ax)\n",
    "#ax.set_ylabel('Frequency')\n",
    "fig, xl = plt.subplots()\n",
    "\n",
    "ultimate['total_pay'].plot.kde(ax=xl, legend=False, title='ultimate plan and revenue ')\n",
    "ultimate['total_pay'].plot.hist(density=True, ax=xl)\n",
    "#xl.set_ylabel('Frequency')\n"
   ]
  },
  {
   "cell_type": "markdown",
   "metadata": {},
   "source": [
    "for each plan i had draw a q-q plot and the distribution plot \n",
    "surf\n",
    "I’d like you to look at surf plan and revenue (Q-Q) graph we can see that the values are far a way from the red line and that's tell us that we have non normal distribution however there's just little dots intercept with the line it tells us that we have right and left tail \n",
    "The points clearly follow another shape than the straight line.\n",
    "\n",
    "The distribution is not bell-shaped but positively skewed .\n",
    "\n",
    "Histograms of normal distributions show the highest frequency in the center of the distribution.\n",
    "we need to see the revenue so we took the users who pay more than 20$ because 20 usd is the fee of subscribtion same with ultimate but the partnership fee 70 usd\n",
    "\n",
    "ultimate\n",
    "\n",
    "I’d like you to look at ultimate plan and revenue (Q-Q) graph we can see that the values are near the red line and that's prefers to normal distribution however we have more tail and outliers from the right \n",
    "The deviations from the straight line are minimal. This indicates normal distribution.\n",
    "\n",
    "The distribution is not bell-shaped but positively skewed .\n",
    "\n",
    "Histograms of normal distributions show the highest frequency in the center of the distribution."
   ]
  },
  {
   "cell_type": "code",
   "execution_count": 39,
   "metadata": {},
   "outputs": [
    {
     "name": "stdout",
     "output_type": "stream",
     "text": [
      "p-value:  5.808589901308907e-18\n",
      "We reject the null hypothesis\n"
     ]
    }
   ],
   "source": [
    "\n",
    "alpha = 0.5\n",
    "#y = new3[new3['plan']== 'ultimate']['total_pay'].mean()\n",
    "#x = new3[new3['plan']== 'surf']['total_pay'].mean()\n",
    "\n",
    "# Carrying out the Wilcoxon–Mann–Whitney test\n",
    "results = mannwhitneyu(surf['total_pay'], ultimate['total_pay'])\n",
    "print('p-value: ', results.pvalue)\n",
    "\n",
    "if results.pvalue < alpha:\n",
    "    print('We reject the null hypothesis')\n",
    "else:\n",
    "    print(\"We can't reject the null hypothesis\") \n"
   ]
  },
  {
   "cell_type": "markdown",
   "metadata": {},
   "source": [
    "Conclusion"
   ]
  },
  {
   "cell_type": "markdown",
   "metadata": {},
   "source": [
    "using mann white u test on non normal distribution for surf and ultimate plan on the total revenue we had the probablity value equlas 5.8e-18 "
   ]
  },
  {
   "cell_type": "markdown",
   "metadata": {},
   "source": [
    "City"
   ]
  },
  {
   "cell_type": "markdown",
   "metadata": {},
   "source": [
    "null hypothesis : The average revenue from users in NY-NJ area is not different from that of the users from other regions.\n",
    "alternative hypothesis : The average revenue from users in NY-NJ area different from that of the users from other regions."
   ]
  },
  {
   "cell_type": "code",
   "execution_count": 40,
   "metadata": {},
   "outputs": [
    {
     "data": {
      "image/png": "[encoded data removed]",
      "text/plain": [
       "<Figure size 432x288 with 1 Axes>"
      ]
     },
     "metadata": {
      "needs_background": "light"
     },
     "output_type": "display_data"
    }
   ],
   "source": [
    "#new3[(new3['city']=='new york-newark-jersey city, ny-nj-pa msa')]\n",
    "\n",
    "new3['city'] = new3['city'].str.lower()\n",
    "s = new3[(new3['city']=='new york-newark-jersey city, ny-nj-pa msa')]\n",
    "rese = stats.probplot( s['total_pay'], plot=plt)\n",
    "plt.title('NY-NJ usres Q-Q PLOT')\n",
    "plt.show()\n",
    "\n",
    "\n",
    "#y['city'].unique()"
   ]
  },
  {
   "cell_type": "code",
   "execution_count": 41,
   "metadata": {},
   "outputs": [
    {
     "data": {
      "image/png": "[encoded data removed]",
      "text/plain": [
       "<Figure size 432x288 with 1 Axes>"
      ]
     },
     "metadata": {
      "needs_background": "light"
     },
     "output_type": "display_data"
    },
    {
     "data": {
      "image/png": "[encoded data removed]",
      "text/plain": [
       "<Figure size 432x288 with 1 Axes>"
      ]
     },
     "metadata": {
      "needs_background": "light"
     },
     "output_type": "display_data"
    },
    {
     "data": {
      "image/png": "[encoded data removed]",
      "text/plain": [
       "<Figure size 432x288 with 1 Axes>"
      ]
     },
     "metadata": {
      "needs_background": "light"
     },
     "output_type": "display_data"
    }
   ],
   "source": [
    "fig, ax = plt.subplots()\n",
    "s['total_pay'].plot.kde(ax=ax, legend=False, title='NY-NJ usres')\n",
    "s['total_pay'].plot.hist(density=True, ax=ax)\n",
    "ax.set_ylabel('Frequency')\n",
    "plt.show()\n",
    "\n",
    "y = new3[(new3['city']!='new york-newark-jersey city, ny-nj-pa msa')]\n",
    "re = stats.probplot( y['total_pay'], plot=plt)\n",
    "plt.title('not NY-NJ usres Q-Q plot')\n",
    "plt.show()\n",
    "fig, ax = plt.subplots()\n",
    "y['total_pay'].plot.kde(ax=ax, legend=False, title='not NY-NJ usres')\n",
    "y['total_pay'].plot.hist(density=True, ax=ax)\n",
    "ax.set_ylabel('Frequency')\n",
    "plt.show()"
   ]
  },
  {
   "cell_type": "code",
   "execution_count": 42,
   "metadata": {},
   "outputs": [
    {
     "name": "stdout",
     "output_type": "stream",
     "text": [
      "p-value:  1.6792999334658324e-06\n",
      "We reject the null hypothesis\n"
     ]
    }
   ],
   "source": [
    "alpha = 0.5\n",
    "\n",
    "# Carrying out the Wilcoxon–Mann–Whitney test\n",
    "results = mannwhitneyu(s['total_pay'],y['total_pay'])\n",
    "print('p-value: ', results.pvalue)\n",
    "\n",
    "if results.pvalue < alpha:\n",
    "    print('We reject the null hypothesis')\n",
    "else:\n",
    "    print(\"We can't reject the null hypothesis\") "
   ]
  },
  {
   "cell_type": "markdown",
   "metadata": {},
   "source": [
    "conclusion"
   ]
  },
  {
   "cell_type": "markdown",
   "metadata": {},
   "source": [
    "for each plan i had draw a q-q plot and the distribution plot \n",
    "\n",
    "**ny-nj**\n",
    "\n",
    "I’d like you to look at ny-nj (Q-Q) graph we can see that the values are near the red line and that's tell us that we have non normal distribution because we have two peaks inth bell graph however there's just little dots intercept with the line it tells us that we have right and left tail \n",
    "The points clearly follow another shape than the straight line.\n",
    "\n",
    "The distribution is not bell-shaped but positively skewed .\n",
    "\n",
    "Histograms of normal distributions show the highest frequency in the center of the distribution.\n",
    "we need to see the revenue so we took the users who pay more than 20 because 20 is the fee of subscribtion same with ultimate but the partnership fee 70\n",
    "\n",
    "**others**\n",
    "\n",
    "I’d like you to look at others cities (Q-Q) graph we can see that the values are near the red line and that's prefers to normal distribution however we have more tail and outliers from the right \n",
    "The deviations from the straight line are minimal. This indicates normal distribution.\n",
    "\n",
    "The distribution is not bell-shaped but positively skewed .\n",
    "\n",
    "Histograms of normal distributions show the highest frequency in the center of the distribution."
   ]
  },
  {
   "cell_type": "markdown",
   "metadata": {},
   "source": [
    "# Conclusion"
   ]
  },
  {
   "cell_type": "markdown",
   "metadata": {},
   "source": [
    "p-value approach to hypothesis testing uses the calculated probability to determine whether there is evidence to reject the null hypothesis. The null hypothesis, also known as the conjecture, is the initial claim about a population (or data generating process). The alternative hypothesis states whether the population parameter differs from the value of the population parameter stated in the conjecture.\n",
    "\n",
    "the significance level is stated as 0.5 in advance to determine how small the p-value must be in order to reject the null hypothesis.\n",
    "we had reject the null hypothesis in th both formulated hypothesis\n",
    "The average revenue from users in NY-NJ area different from that of the users from other regions.\n"
   ]
  },
  {
   "cell_type": "raw",
   "metadata": {},
   "source": [
    "import nltk\n",
    "import numpy as np\n",
    "from nltk.stem import SnowballStemmer\n",
    "english_stemmer = SnowballStemmer('english') \n",
    "\n",
    "def nynj(row):\n",
    "    word  =['new york','ny','nj','jersey','ny-nj','newark']\n",
    "    for w in row.split(\" \"):\n",
    "            stemmed_word = english_stemmer.stem(w)\n",
    "            if stemmed_word in word:\n",
    "                return 'NY-NJ'\n",
    "            else:\n",
    "                return 'others'\n",
    "            \n",
    "new3['city_hyp'] = new3['city'].apply(nynj)\n",
    "new3['city_hyp'].unique()"
   ]
  },
  {
   "cell_type": "markdown",
   "metadata": {},
   "source": [
    "**How you formulated the null and alternative hypotheses?**\n"
   ]
  },
  {
   "cell_type": "markdown",
   "metadata": {},
   "source": [
    "Since the null and alternative hypotheses are contradictory \n",
    "- H0: The null hypothesis: It is a statement about the population that either is believed to be true \n",
    "- Ha: The alternative hypothesis: It is a claim about the population that is contradictory to H0 and what we conclude when we reject H0.\n",
    "\n",
    "***We reject the null hypothesis for both tests***\n",
    "\n",
    "\n",
    "**plan test**\n",
    "* null hypothesis : The average revenue from users of Ultimate equals the avg profit of Surf \n",
    "\n",
    "* alternative hypothesis : The average revenue from users of Ultimate and Surf calling plans doesn't differ from the texting and session plan\n",
    "\n",
    "**city test**\n",
    "\n",
    "* null hypothesis : The average revenue from users in NY-NJ area is not different from that of the users from other regions.\n",
    "* alternative hypothesis : The average revenue from users in NY-NJ area different from that of the users from other regions.\n"
   ]
  },
  {
   "cell_type": "markdown",
   "metadata": {},
   "source": [
    "**What criterion you used to test the hypotheses and why?**"
   ]
  },
  {
   "cell_type": "markdown",
   "metadata": {},
   "source": [
    "I used **Mann-Whitney U test** because the total pay variable is continous and not normally distributed. Furthermore, use it to compare differences between two independent group"
   ]
  },
  {
   "cell_type": "raw",
   "metadata": {},
   "source": [
    "new3.hist('msg_rev',by='plan')\n",
    "new3.hist('mg_rev',by='plan')\n",
    "new3.hist('call_rev',by='plan')\n",
    "new3.hist('total_pay',by='plan')"
   ]
  },
  {
   "cell_type": "markdown",
   "metadata": {},
   "source": [
    "# conclusion"
   ]
  },
  {
   "cell_type": "markdown",
   "metadata": {},
   "source": [
    "Analyze for the telecom operator Megaline. The company offers its clients two prepaid plans, Surf and Ultimate. The commercial department wants to know which of the plans brings in more revenue in order to adjust the advertising budget.\n",
    "our data had conclude a preliminary analysis of the plans based on a relatively small client selection about 500 Megaline clients \n",
    "\n",
    "the goal was to analyze clients' behavior and determine which prepaid plan brings in more revenue.\n",
    "After preparing the data dealing with the missing values and filter the data from outliers \n",
    "we can see the total pay for each plan and how much revenue does the company gain from each plan and whixh plan is the most profitable for the company \n",
    "\n",
    "As we can see we 56% from the users we gain from them more than the ultimate 44% where as useres participate in surf plan 70% comparing to the ultimate plan \n",
    "\n",
    "That's makes sense when people see the cost of the two plan with a great difference in price between them ofcourse most of them are going to pick the cheaper regardless of what the plan offer so for example when we are dealing with cents per minutes most of people will not calculate it so they will think they are not going to loose money but when we gather all these users that the company benifit from them by making a revenue then it means a difference for the company it's like piggy bank if you put each day a dollar you will not feel that you are losing or saving money but after a year you will have 365 dollar however you see the impact after a year and the happiness will cover you \n",
    "\n",
    "however if you go down to the histogram chart you can see how many payments is the company gain in each month! as you can see at the end of the year for both plans the comapny gain more rather than the beginning of the year\n"
   ]
  },
  {
   "cell_type": "code",
   "execution_count": 43,
   "metadata": {},
   "outputs": [
    {
     "data": {
      "image/png": "[encoded data removed]",
      "text/plain": [
       "<Figure size 432x288 with 1 Axes>"
      ]
     },
     "metadata": {},
     "output_type": "display_data"
    },
    {
     "data": {
      "image/png": "[encoded data removed]",
      "text/plain": [
       "<Figure size 432x288 with 1 Axes>"
      ]
     },
     "metadata": {},
     "output_type": "display_data"
    }
   ],
   "source": [
    "b=new3.groupby('plan')['user_id'].count()\n",
    "c=new3.groupby('plan')['total_pay'].sum()\n",
    "\n",
    "b.plot(kind='pie',title='number of users for each plan',autopct='%1.1f%%')\n",
    "plt.show()\n",
    "c.plot(kind='pie',title='total revenue for each plan',autopct='%1.1f%%')\n",
    "plt.show()"
   ]
  },
  {
   "cell_type": "code",
   "execution_count": 44,
   "metadata": {},
   "outputs": [
    {
     "data": {
      "image/png": "[encoded data removed]",
      "text/plain": [
       "<Figure size 432x288 with 1 Axes>"
      ]
     },
     "metadata": {
      "needs_background": "light"
     },
     "output_type": "display_data"
    }
   ],
   "source": [
    "total_pay_per_month=new3.pivot_table(index =['month'],values=['total_pay'],columns=['plan'],aggfunc={'count','sum'}).reset_index()\n",
    "total_pay_per_month.columns=['month','surf_count_pay','ultimate_count_pay','surf_sum_pay','ultimate_sum_pay']\n",
    "total_pay_per_month.plot(y=['surf_sum_pay','ultimate_sum_pay'],grid=True,x='month',kind='bar',title='total pay for each plan per month')\n",
    "plt.show()"
   ]
  },
  {
   "cell_type": "code",
   "execution_count": 45,
   "metadata": {},
   "outputs": [
    {
     "name": "stdout",
     "output_type": "stream",
     "text": [
      "To sum up:\n",
      "the total of charge with and without the extra fees\n",
      "number of surf clients revenue without extra charge$ 31160\n",
      "number of ultimate clients revenue without extra charge$ 50190\n",
      "number of surf clients revenue with extra charge$ 91736.68000000001\n",
      "number of ultimate clients revenue with extra charge$ 51750.3\n",
      "how much extra fees does the company earn from each offer it gaves\n",
      "extra surf charge for sessions$ 57377.33\n",
      "extra surf charge for calls$ 2888.46\n",
      "extra surf charge for msgs$ 310.89\n",
      "extra ultimate charge for sessions$ 1560.3\n",
      "extra ultimate charge for calls$ 0.0\n",
      "extra ultimate charge for msgs$ 0.0\n"
     ]
    }
   ],
   "source": [
    "#d for surf extra mg f for ultimate extra mg\n",
    "#g for surf extra calls h for ultimate extra calls\n",
    "#x for surf extra msg z for ultimate extra msgs\n",
    "print('To sum up:')\n",
    "print('the total of charge with and without the extra fees')\n",
    "\n",
    "surf_clients_rev= new3[(new3['plan'] == 'surf')]['plan'].count() * plans['usd_monthly_pay'][0]\n",
    "ulti_clients_rev = new3[(new3['plan'] == 'ultimate')]['plan'].count() * plans['usd_monthly_pay'][1]\n",
    "print('number of surf clients revenue without extra charge$',surf_clients_rev)\n",
    "print('number of ultimate clients revenue without extra charge$',ulti_clients_rev)\n",
    "\n",
    "total_surf_clients_rev = surf_clients_rev + d + g + x\n",
    "total_ulti_clients_rev = ulti_clients_rev + f + h + z\n",
    "print('number of surf clients revenue with extra charge$',total_surf_clients_rev)\n",
    "print('number of ultimate clients revenue with extra charge$',total_ulti_clients_rev)\n",
    "\n",
    "print(\"how much extra fees does the company earn from each offer it gaves\")\n",
    "print('extra surf charge for sessions$',d)\n",
    "print('extra surf charge for calls$',g)\n",
    "print('extra surf charge for msgs$',x)\n",
    "print('extra ultimate charge for sessions$',f)\n",
    "print('extra ultimate charge for calls$',h)\n",
    "print('extra ultimate charge for msgs$',z)"
   ]
  }
 ],
 "metadata": {
  "ExecuteTimeLog": [
   {
    "duration": 774,
    "start_time": "2021-07-14T21:50:04.854Z"
   },
   {
    "duration": 407,
    "start_time": "2021-07-14T21:53:39.631Z"
   },
   {
    "duration": 451,
    "start_time": "2021-07-14T21:53:55.975Z"
   },
   {
    "duration": 440,
    "start_time": "2021-07-14T21:54:31.355Z"
   },
   {
    "duration": 357,
    "start_time": "2021-07-15T08:39:25.571Z"
   },
   {
    "duration": 1827,
    "start_time": "2021-07-15T08:39:32.149Z"
   },
   {
    "duration": 22,
    "start_time": "2021-07-15T08:39:39.712Z"
   },
   {
    "duration": 22,
    "start_time": "2021-07-15T08:42:11.579Z"
   },
   {
    "duration": 7,
    "start_time": "2021-07-15T08:54:57.849Z"
   },
   {
    "duration": 6,
    "start_time": "2021-07-15T08:55:03.535Z"
   },
   {
    "duration": 338,
    "start_time": "2021-07-15T08:55:38.550Z"
   },
   {
    "duration": 8,
    "start_time": "2021-07-15T08:55:49.046Z"
   },
   {
    "duration": 8,
    "start_time": "2021-07-15T08:56:20.577Z"
   },
   {
    "duration": 5,
    "start_time": "2021-07-15T08:59:28.192Z"
   },
   {
    "duration": 10,
    "start_time": "2021-07-15T08:59:37.368Z"
   },
   {
    "duration": 10,
    "start_time": "2021-07-15T08:59:59.352Z"
   },
   {
    "duration": 20,
    "start_time": "2021-07-15T09:00:16.136Z"
   },
   {
    "duration": 39,
    "start_time": "2021-07-15T09:00:35.383Z"
   },
   {
    "duration": 22,
    "start_time": "2021-07-15T09:00:43.537Z"
   },
   {
    "duration": 19,
    "start_time": "2021-07-15T09:02:52.883Z"
   },
   {
    "duration": 343,
    "start_time": "2021-07-15T09:03:10.505Z"
   },
   {
    "duration": 14,
    "start_time": "2021-07-15T09:03:27.831Z"
   },
   {
    "duration": 97,
    "start_time": "2021-07-15T09:04:58.802Z"
   },
   {
    "duration": 28,
    "start_time": "2021-07-15T09:05:37.801Z"
   },
   {
    "duration": 18,
    "start_time": "2021-07-15T09:05:42.321Z"
   },
   {
    "duration": 45,
    "start_time": "2021-07-15T09:05:45.666Z"
   },
   {
    "duration": 23,
    "start_time": "2021-07-15T09:05:49.899Z"
   },
   {
    "duration": 42,
    "start_time": "2021-07-15T09:06:52.419Z"
   },
   {
    "duration": 50,
    "start_time": "2021-07-15T09:07:15.344Z"
   },
   {
    "duration": 34,
    "start_time": "2021-07-15T09:09:28.062Z"
   },
   {
    "duration": 44,
    "start_time": "2021-07-15T09:09:34.240Z"
   },
   {
    "duration": 346,
    "start_time": "2021-07-15T09:14:17.833Z"
   },
   {
    "duration": 628,
    "start_time": "2021-07-15T09:15:41.472Z"
   },
   {
    "duration": 420,
    "start_time": "2021-07-15T09:15:52.134Z"
   },
   {
    "duration": 622,
    "start_time": "2021-07-15T09:16:01.941Z"
   },
   {
    "duration": 388,
    "start_time": "2021-07-15T09:16:08.081Z"
   },
   {
    "duration": 293,
    "start_time": "2021-07-15T09:16:55.380Z"
   },
   {
    "duration": 9,
    "start_time": "2021-07-15T09:17:04.868Z"
   },
   {
    "duration": 382,
    "start_time": "2021-07-15T09:17:14.681Z"
   },
   {
    "duration": 367,
    "start_time": "2021-07-15T09:18:38.652Z"
   },
   {
    "duration": 386,
    "start_time": "2021-07-15T09:19:51.472Z"
   },
   {
    "duration": 10,
    "start_time": "2021-07-15T09:19:55.977Z"
   },
   {
    "duration": 14,
    "start_time": "2021-07-15T09:20:09.740Z"
   },
   {
    "duration": 14,
    "start_time": "2021-07-15T09:20:44.138Z"
   },
   {
    "duration": 37,
    "start_time": "2021-07-15T09:22:02.850Z"
   },
   {
    "duration": 27,
    "start_time": "2021-07-15T09:22:09.800Z"
   },
   {
    "duration": 41,
    "start_time": "2021-07-15T09:22:38.572Z"
   },
   {
    "duration": 296,
    "start_time": "2021-07-15T09:23:19.209Z"
   },
   {
    "duration": 11,
    "start_time": "2021-07-15T09:23:31.215Z"
   },
   {
    "duration": 15,
    "start_time": "2021-07-15T09:23:42.271Z"
   },
   {
    "duration": 26,
    "start_time": "2021-07-15T09:23:50.830Z"
   },
   {
    "duration": 401,
    "start_time": "2021-07-15T09:24:38.285Z"
   },
   {
    "duration": 332,
    "start_time": "2021-07-15T09:24:41.075Z"
   },
   {
    "duration": 332,
    "start_time": "2021-07-15T09:24:52.485Z"
   },
   {
    "duration": 57,
    "start_time": "2021-07-15T09:25:04.126Z"
   },
   {
    "duration": 39,
    "start_time": "2021-07-15T09:28:12.638Z"
   },
   {
    "duration": 67,
    "start_time": "2021-07-15T09:28:25.471Z"
   },
   {
    "duration": 62,
    "start_time": "2021-07-15T09:28:39.888Z"
   },
   {
    "duration": 51,
    "start_time": "2021-07-15T09:28:43.047Z"
   },
   {
    "duration": 356,
    "start_time": "2021-07-15T09:30:34.294Z"
   },
   {
    "duration": 405,
    "start_time": "2021-07-15T09:32:00.843Z"
   },
   {
    "duration": 367,
    "start_time": "2021-07-15T09:32:44.812Z"
   },
   {
    "duration": 573,
    "start_time": "2021-07-15T09:32:54.114Z"
   },
   {
    "duration": 60,
    "start_time": "2021-07-15T09:33:02.880Z"
   },
   {
    "duration": 74,
    "start_time": "2021-07-15T09:33:34.857Z"
   },
   {
    "duration": 69,
    "start_time": "2021-07-15T09:34:21.360Z"
   },
   {
    "duration": 76,
    "start_time": "2021-07-15T09:34:29.836Z"
   },
   {
    "duration": 77,
    "start_time": "2021-07-15T09:34:45.207Z"
   },
   {
    "duration": 100,
    "start_time": "2021-07-15T09:34:59.570Z"
   },
   {
    "duration": 67,
    "start_time": "2021-07-15T09:35:04.595Z"
   },
   {
    "duration": 69,
    "start_time": "2021-07-15T09:35:14.198Z"
   },
   {
    "duration": 91,
    "start_time": "2021-07-15T09:35:21.411Z"
   },
   {
    "duration": 87,
    "start_time": "2021-07-15T09:35:51.214Z"
   },
   {
    "duration": 95,
    "start_time": "2021-07-15T09:35:54.915Z"
   },
   {
    "duration": 85,
    "start_time": "2021-07-15T09:36:18.517Z"
   },
   {
    "duration": 74,
    "start_time": "2021-07-15T09:36:24.793Z"
   },
   {
    "duration": 69,
    "start_time": "2021-07-15T09:36:37.468Z"
   },
   {
    "duration": 69,
    "start_time": "2021-07-15T10:33:48.251Z"
   },
   {
    "duration": 79,
    "start_time": "2021-07-15T10:33:53.006Z"
   },
   {
    "duration": 61,
    "start_time": "2021-07-15T10:33:58.039Z"
   },
   {
    "duration": 62,
    "start_time": "2021-07-15T10:34:09.197Z"
   },
   {
    "duration": 68,
    "start_time": "2021-07-15T10:34:13.171Z"
   },
   {
    "duration": 62,
    "start_time": "2021-07-15T10:34:21.414Z"
   },
   {
    "duration": 68,
    "start_time": "2021-07-15T10:34:27.244Z"
   },
   {
    "duration": 8409,
    "start_time": "2021-07-15T10:34:45.617Z"
   },
   {
    "duration": 60,
    "start_time": "2021-07-15T10:35:44.221Z"
   },
   {
    "duration": 68,
    "start_time": "2021-07-15T10:35:50.213Z"
   },
   {
    "duration": 8140,
    "start_time": "2021-07-15T10:35:58.603Z"
   },
   {
    "duration": 54,
    "start_time": "2021-07-15T10:37:01.024Z"
   },
   {
    "duration": 56,
    "start_time": "2021-07-15T10:37:04.137Z"
   },
   {
    "duration": 114,
    "start_time": "2021-07-15T10:37:23.537Z"
   },
   {
    "duration": 79,
    "start_time": "2021-07-15T10:37:28.094Z"
   },
   {
    "duration": 74,
    "start_time": "2021-07-15T10:37:33.011Z"
   },
   {
    "duration": 76,
    "start_time": "2021-07-15T10:37:42.449Z"
   },
   {
    "duration": 63,
    "start_time": "2021-07-15T10:38:31.339Z"
   },
   {
    "duration": 68,
    "start_time": "2021-07-15T10:38:35.632Z"
   },
   {
    "duration": 78,
    "start_time": "2021-07-15T10:38:50.715Z"
   },
   {
    "duration": 72,
    "start_time": "2021-07-15T10:39:04.655Z"
   },
   {
    "duration": 74,
    "start_time": "2021-07-15T10:39:12.539Z"
   },
   {
    "duration": 67,
    "start_time": "2021-07-15T10:39:19.359Z"
   },
   {
    "duration": 73,
    "start_time": "2021-07-15T10:39:21.541Z"
   },
   {
    "duration": 64,
    "start_time": "2021-07-15T10:39:54.319Z"
   },
   {
    "duration": 69,
    "start_time": "2021-07-15T10:39:59.100Z"
   },
   {
    "duration": 62,
    "start_time": "2021-07-15T10:40:05.230Z"
   },
   {
    "duration": 89,
    "start_time": "2021-07-15T10:52:20.405Z"
   },
   {
    "duration": 122,
    "start_time": "2021-07-15T10:52:23.762Z"
   },
   {
    "duration": 136,
    "start_time": "2021-07-15T10:52:53.535Z"
   },
   {
    "duration": 62,
    "start_time": "2021-07-15T10:53:37.802Z"
   },
   {
    "duration": 410,
    "start_time": "2021-07-15T10:55:53.017Z"
   },
   {
    "duration": 71,
    "start_time": "2021-07-15T10:56:09.910Z"
   },
   {
    "duration": 62,
    "start_time": "2021-07-15T11:15:11.582Z"
   },
   {
    "duration": 9,
    "start_time": "2021-07-15T11:21:48.482Z"
   },
   {
    "duration": 26,
    "start_time": "2021-07-15T11:22:45.372Z"
   },
   {
    "duration": 66,
    "start_time": "2021-07-15T11:28:07.509Z"
   },
   {
    "duration": 355,
    "start_time": "2021-07-15T11:28:17.396Z"
   },
   {
    "duration": 67,
    "start_time": "2021-07-15T11:28:25.730Z"
   },
   {
    "duration": 57,
    "start_time": "2021-07-15T11:30:03.937Z"
   },
   {
    "duration": 24,
    "start_time": "2021-07-15T11:30:38.581Z"
   },
   {
    "duration": 24,
    "start_time": "2021-07-15T11:31:06.577Z"
   },
   {
    "duration": 35,
    "start_time": "2021-07-15T11:31:21.944Z"
   },
   {
    "duration": 38,
    "start_time": "2021-07-15T11:32:17.117Z"
   },
   {
    "duration": 32,
    "start_time": "2021-07-15T11:32:24.452Z"
   },
   {
    "duration": 47,
    "start_time": "2021-07-15T11:32:49.048Z"
   },
   {
    "duration": 41,
    "start_time": "2021-07-15T11:33:32.000Z"
   },
   {
    "duration": 8168,
    "start_time": "2021-07-15T11:35:27.102Z"
   },
   {
    "duration": 19,
    "start_time": "2021-07-15T11:36:05.590Z"
   },
   {
    "duration": 21,
    "start_time": "2021-07-15T11:36:35.365Z"
   },
   {
    "duration": 26,
    "start_time": "2021-07-15T11:36:41.488Z"
   },
   {
    "duration": 9,
    "start_time": "2021-07-15T11:39:01.873Z"
   },
   {
    "duration": 39,
    "start_time": "2021-07-15T12:22:33.246Z"
   },
   {
    "duration": 17,
    "start_time": "2021-07-15T12:22:47.794Z"
   },
   {
    "duration": 22,
    "start_time": "2021-07-15T12:22:59.857Z"
   },
   {
    "duration": 42,
    "start_time": "2021-07-15T12:23:13.303Z"
   },
   {
    "duration": 42,
    "start_time": "2021-07-15T12:23:36.504Z"
   },
   {
    "duration": 9,
    "start_time": "2021-07-15T12:29:48.962Z"
   },
   {
    "duration": 359,
    "start_time": "2021-07-15T12:31:10.500Z"
   },
   {
    "duration": 339,
    "start_time": "2021-07-15T12:31:15.249Z"
   },
   {
    "duration": 680,
    "start_time": "2021-07-15T12:31:24.658Z"
   },
   {
    "duration": 679,
    "start_time": "2021-07-15T12:31:29.110Z"
   },
   {
    "duration": 15,
    "start_time": "2021-07-15T12:31:53.312Z"
   },
   {
    "duration": 12,
    "start_time": "2021-07-15T12:32:11.608Z"
   },
   {
    "duration": 13,
    "start_time": "2021-07-15T12:32:23.141Z"
   },
   {
    "duration": 11,
    "start_time": "2021-07-15T12:33:04.729Z"
   },
   {
    "duration": 12,
    "start_time": "2021-07-15T12:33:57.326Z"
   },
   {
    "duration": 137,
    "start_time": "2021-07-15T12:36:01.347Z"
   },
   {
    "duration": 14,
    "start_time": "2021-07-15T12:36:10.227Z"
   },
   {
    "duration": 12,
    "start_time": "2021-07-15T12:36:12.963Z"
   },
   {
    "duration": 435,
    "start_time": "2021-07-15T12:50:12.401Z"
   },
   {
    "duration": 299,
    "start_time": "2021-07-15T12:50:40.509Z"
   },
   {
    "duration": 531,
    "start_time": "2021-07-15T12:50:45.397Z"
   },
   {
    "duration": 986,
    "start_time": "2021-07-15T12:51:11.678Z"
   },
   {
    "duration": 937,
    "start_time": "2021-07-15T12:51:17.838Z"
   },
   {
    "duration": 989,
    "start_time": "2021-07-15T12:51:25.316Z"
   },
   {
    "duration": 946,
    "start_time": "2021-07-15T12:52:04.485Z"
   },
   {
    "duration": 891,
    "start_time": "2021-07-15T12:52:40.815Z"
   },
   {
    "duration": 916,
    "start_time": "2021-07-15T12:52:55.514Z"
   },
   {
    "duration": 482,
    "start_time": "2021-07-15T12:53:28.903Z"
   },
   {
    "duration": 8701,
    "start_time": "2021-07-15T12:53:40.117Z"
   },
   {
    "duration": 8748,
    "start_time": "2021-07-15T12:53:58.328Z"
   },
   {
    "duration": 672,
    "start_time": "2021-07-15T12:56:07.737Z"
   },
   {
    "duration": 8133,
    "start_time": "2021-07-15T12:56:45.157Z"
   },
   {
    "duration": 8108,
    "start_time": "2021-07-15T12:59:55.774Z"
   },
   {
    "duration": 7822,
    "start_time": "2021-07-15T13:00:37.408Z"
   },
   {
    "duration": 1812,
    "start_time": "2021-07-15T13:01:38.645Z"
   },
   {
    "duration": 24,
    "start_time": "2021-07-15T13:01:40.461Z"
   },
   {
    "duration": 16,
    "start_time": "2021-07-15T13:01:40.489Z"
   },
   {
    "duration": 12,
    "start_time": "2021-07-15T13:01:40.508Z"
   },
   {
    "duration": 42,
    "start_time": "2021-07-15T13:01:40.522Z"
   },
   {
    "duration": 8,
    "start_time": "2021-07-15T13:01:40.567Z"
   },
   {
    "duration": 16,
    "start_time": "2021-07-15T13:01:40.578Z"
   },
   {
    "duration": 21,
    "start_time": "2021-07-15T13:01:40.598Z"
   },
   {
    "duration": 50,
    "start_time": "2021-07-15T13:01:40.622Z"
   },
   {
    "duration": 14,
    "start_time": "2021-07-15T13:01:40.675Z"
   },
   {
    "duration": 27,
    "start_time": "2021-07-15T13:01:40.692Z"
   },
   {
    "duration": 89,
    "start_time": "2021-07-15T13:01:40.721Z"
   },
   {
    "duration": 56,
    "start_time": "2021-07-15T13:01:40.813Z"
   },
   {
    "duration": 30,
    "start_time": "2021-07-15T13:01:40.871Z"
   },
   {
    "duration": 17,
    "start_time": "2021-07-15T13:01:40.904Z"
   },
   {
    "duration": 8687,
    "start_time": "2021-07-15T13:01:40.924Z"
   },
   {
    "duration": -2267,
    "start_time": "2021-07-15T13:01:51.881Z"
   },
   {
    "duration": -2271,
    "start_time": "2021-07-15T13:01:51.886Z"
   },
   {
    "duration": -2273,
    "start_time": "2021-07-15T13:01:51.890Z"
   },
   {
    "duration": -2277,
    "start_time": "2021-07-15T13:01:51.895Z"
   },
   {
    "duration": -2283,
    "start_time": "2021-07-15T13:01:51.903Z"
   },
   {
    "duration": -2288,
    "start_time": "2021-07-15T13:01:51.909Z"
   },
   {
    "duration": -2291,
    "start_time": "2021-07-15T13:01:51.914Z"
   },
   {
    "duration": -2298,
    "start_time": "2021-07-15T13:01:51.922Z"
   },
   {
    "duration": 355,
    "start_time": "2021-07-15T20:43:54.348Z"
   },
   {
    "duration": 2073,
    "start_time": "2021-07-15T20:44:01.817Z"
   },
   {
    "duration": 15,
    "start_time": "2021-07-15T20:44:03.893Z"
   },
   {
    "duration": 8,
    "start_time": "2021-07-15T20:44:03.911Z"
   },
   {
    "duration": 36,
    "start_time": "2021-07-15T20:44:03.922Z"
   },
   {
    "duration": 9,
    "start_time": "2021-07-15T20:44:03.961Z"
   },
   {
    "duration": 9,
    "start_time": "2021-07-15T20:44:03.972Z"
   },
   {
    "duration": 14,
    "start_time": "2021-07-15T20:44:03.983Z"
   },
   {
    "duration": 58,
    "start_time": "2021-07-15T20:44:03.999Z"
   },
   {
    "duration": 16,
    "start_time": "2021-07-15T20:44:04.061Z"
   },
   {
    "duration": 15,
    "start_time": "2021-07-15T20:44:04.080Z"
   },
   {
    "duration": 68,
    "start_time": "2021-07-15T20:44:04.097Z"
   },
   {
    "duration": 28,
    "start_time": "2021-07-15T20:44:04.168Z"
   },
   {
    "duration": 16,
    "start_time": "2021-07-15T20:44:04.198Z"
   },
   {
    "duration": 7422,
    "start_time": "2021-07-15T20:44:04.217Z"
   },
   {
    "duration": -2735,
    "start_time": "2021-07-15T20:44:14.377Z"
   },
   {
    "duration": 7716,
    "start_time": "2021-07-15T20:44:25.451Z"
   },
   {
    "duration": 455,
    "start_time": "2021-07-15T20:44:49.728Z"
   },
   {
    "duration": 11,
    "start_time": "2021-07-15T20:44:50.185Z"
   },
   {
    "duration": 9,
    "start_time": "2021-07-15T20:44:50.199Z"
   },
   {
    "duration": 10,
    "start_time": "2021-07-15T20:44:50.212Z"
   },
   {
    "duration": 8,
    "start_time": "2021-07-15T20:44:50.257Z"
   },
   {
    "duration": 7,
    "start_time": "2021-07-15T20:44:50.268Z"
   },
   {
    "duration": 16,
    "start_time": "2021-07-15T20:44:50.278Z"
   },
   {
    "duration": 18,
    "start_time": "2021-07-15T20:44:50.298Z"
   },
   {
    "duration": 17,
    "start_time": "2021-07-15T20:44:50.356Z"
   },
   {
    "duration": 14,
    "start_time": "2021-07-15T20:44:50.376Z"
   },
   {
    "duration": 66,
    "start_time": "2021-07-15T20:44:50.392Z"
   },
   {
    "duration": 28,
    "start_time": "2021-07-15T20:44:50.461Z"
   },
   {
    "duration": 17,
    "start_time": "2021-07-15T20:44:50.491Z"
   },
   {
    "duration": 9,
    "start_time": "2021-07-15T20:44:50.510Z"
   },
   {
    "duration": 10,
    "start_time": "2021-07-15T20:44:50.557Z"
   },
   {
    "duration": 37,
    "start_time": "2021-07-15T20:44:50.570Z"
   },
   {
    "duration": 458,
    "start_time": "2021-07-15T20:44:50.609Z"
   },
   {
    "duration": -2894,
    "start_time": "2021-07-15T20:44:53.964Z"
   },
   {
    "duration": -2899,
    "start_time": "2021-07-15T20:44:53.971Z"
   },
   {
    "duration": -2904,
    "start_time": "2021-07-15T20:44:53.977Z"
   },
   {
    "duration": -2917,
    "start_time": "2021-07-15T20:44:53.992Z"
   },
   {
    "duration": -2923,
    "start_time": "2021-07-15T20:44:53.999Z"
   },
   {
    "duration": 321,
    "start_time": "2021-07-15T20:46:07.621Z"
   },
   {
    "duration": 8132,
    "start_time": "2021-07-15T20:46:17.377Z"
   },
   {
    "duration": 309,
    "start_time": "2021-07-15T20:48:05.401Z"
   },
   {
    "duration": 297,
    "start_time": "2021-07-15T20:48:15.053Z"
   },
   {
    "duration": 30,
    "start_time": "2021-07-15T20:48:56.615Z"
   },
   {
    "duration": 37,
    "start_time": "2021-07-15T20:49:03.087Z"
   },
   {
    "duration": 14,
    "start_time": "2021-07-15T20:49:05.270Z"
   },
   {
    "duration": 549,
    "start_time": "2021-07-15T20:49:08.935Z"
   },
   {
    "duration": 38,
    "start_time": "2021-07-15T20:49:29.338Z"
   },
   {
    "duration": 12,
    "start_time": "2021-07-15T20:51:15.402Z"
   },
   {
    "duration": 7971,
    "start_time": "2021-07-15T20:51:19.963Z"
   },
   {
    "duration": 8,
    "start_time": "2021-07-15T20:51:37.669Z"
   },
   {
    "duration": 7277,
    "start_time": "2021-07-15T20:51:45.245Z"
   },
   {
    "duration": 20,
    "start_time": "2021-07-15T20:51:56.056Z"
   },
   {
    "duration": 293,
    "start_time": "2021-07-15T20:55:50.217Z"
   },
   {
    "duration": 6667,
    "start_time": "2021-07-15T20:56:03.207Z"
   },
   {
    "duration": 15,
    "start_time": "2021-07-15T20:56:38.195Z"
   },
   {
    "duration": 26,
    "start_time": "2021-07-15T20:56:52.665Z"
   },
   {
    "duration": 22,
    "start_time": "2021-07-15T20:57:21.641Z"
   },
   {
    "duration": 257,
    "start_time": "2021-07-16T08:29:26.601Z"
   },
   {
    "duration": 920,
    "start_time": "2021-07-16T08:29:32.057Z"
   },
   {
    "duration": 11,
    "start_time": "2021-07-16T08:29:32.979Z"
   },
   {
    "duration": 5,
    "start_time": "2021-07-16T08:29:32.992Z"
   },
   {
    "duration": 6,
    "start_time": "2021-07-16T08:29:32.999Z"
   },
   {
    "duration": 6,
    "start_time": "2021-07-16T08:29:33.006Z"
   },
   {
    "duration": 6,
    "start_time": "2021-07-16T08:29:33.014Z"
   },
   {
    "duration": 8,
    "start_time": "2021-07-16T08:29:33.021Z"
   },
   {
    "duration": 15,
    "start_time": "2021-07-16T08:29:33.031Z"
   },
   {
    "duration": 11,
    "start_time": "2021-07-16T08:29:33.047Z"
   },
   {
    "duration": 9,
    "start_time": "2021-07-16T08:29:33.091Z"
   },
   {
    "duration": 25,
    "start_time": "2021-07-16T08:29:33.102Z"
   },
   {
    "duration": 17,
    "start_time": "2021-07-16T08:29:33.129Z"
   },
   {
    "duration": 10,
    "start_time": "2021-07-16T08:29:33.147Z"
   },
   {
    "duration": 36,
    "start_time": "2021-07-16T08:29:33.158Z"
   },
   {
    "duration": 6,
    "start_time": "2021-07-16T08:29:33.195Z"
   },
   {
    "duration": 20,
    "start_time": "2021-07-16T08:29:33.202Z"
   },
   {
    "duration": 13,
    "start_time": "2021-07-16T08:29:33.223Z"
   },
   {
    "duration": 311,
    "start_time": "2021-07-16T08:29:33.237Z"
   },
   {
    "duration": 15,
    "start_time": "2021-07-16T08:29:33.550Z"
   },
   {
    "duration": 21,
    "start_time": "2021-07-16T08:29:43.120Z"
   },
   {
    "duration": 18,
    "start_time": "2021-07-16T08:30:15.384Z"
   },
   {
    "duration": 26,
    "start_time": "2021-07-16T08:30:25.944Z"
   },
   {
    "duration": 23,
    "start_time": "2021-07-16T08:30:59.578Z"
   },
   {
    "duration": 307,
    "start_time": "2021-07-16T09:01:42.414Z"
   },
   {
    "duration": 235,
    "start_time": "2021-07-16T09:01:58.386Z"
   },
   {
    "duration": 207,
    "start_time": "2021-07-16T09:02:09.681Z"
   },
   {
    "duration": 211,
    "start_time": "2021-07-16T09:03:17.280Z"
   },
   {
    "duration": 215,
    "start_time": "2021-07-16T09:05:40.395Z"
   },
   {
    "duration": 456,
    "start_time": "2021-07-16T09:06:36.728Z"
   },
   {
    "duration": 580,
    "start_time": "2021-07-16T09:06:59.844Z"
   },
   {
    "duration": 216,
    "start_time": "2021-07-16T09:07:10.114Z"
   },
   {
    "duration": 222,
    "start_time": "2021-07-16T09:07:17.298Z"
   },
   {
    "duration": 218,
    "start_time": "2021-07-16T09:07:43.368Z"
   },
   {
    "duration": 234,
    "start_time": "2021-07-16T09:07:54.643Z"
   },
   {
    "duration": 217,
    "start_time": "2021-07-16T09:08:16.764Z"
   },
   {
    "duration": 290,
    "start_time": "2021-07-16T09:08:22.451Z"
   },
   {
    "duration": 12,
    "start_time": "2021-07-16T09:17:36.378Z"
   },
   {
    "duration": 312,
    "start_time": "2021-07-16T09:20:51.216Z"
   },
   {
    "duration": 38,
    "start_time": "2021-07-16T09:21:41.145Z"
   },
   {
    "duration": 58,
    "start_time": "2021-07-16T09:22:07.110Z"
   },
   {
    "duration": 64,
    "start_time": "2021-07-16T09:22:13.596Z"
   },
   {
    "duration": 300,
    "start_time": "2021-07-16T09:23:04.301Z"
   },
   {
    "duration": 69,
    "start_time": "2021-07-16T09:23:14.675Z"
   },
   {
    "duration": 55,
    "start_time": "2021-07-16T09:24:06.682Z"
   },
   {
    "duration": 60,
    "start_time": "2021-07-16T09:25:43.863Z"
   },
   {
    "duration": 70,
    "start_time": "2021-07-16T09:25:53.965Z"
   },
   {
    "duration": 67,
    "start_time": "2021-07-16T09:27:17.104Z"
   },
   {
    "duration": 277,
    "start_time": "2021-07-16T09:27:36.758Z"
   },
   {
    "duration": 286,
    "start_time": "2021-07-16T09:27:47.649Z"
   },
   {
    "duration": 74,
    "start_time": "2021-07-16T09:27:55.101Z"
   },
   {
    "duration": 14,
    "start_time": "2021-07-16T09:28:16.084Z"
   },
   {
    "duration": 5919,
    "start_time": "2021-07-16T09:34:25.563Z"
   },
   {
    "duration": 7039,
    "start_time": "2021-07-16T09:34:39.026Z"
   },
   {
    "duration": 6207,
    "start_time": "2021-07-16T09:34:58.188Z"
   },
   {
    "duration": 234,
    "start_time": "2021-07-16T09:35:25.507Z"
   },
   {
    "duration": 243,
    "start_time": "2021-07-16T09:35:39.942Z"
   },
   {
    "duration": 239,
    "start_time": "2021-07-16T09:35:57.475Z"
   },
   {
    "duration": 10,
    "start_time": "2021-07-16T09:36:19.291Z"
   },
   {
    "duration": 20,
    "start_time": "2021-07-16T09:36:26.891Z"
   },
   {
    "duration": 20,
    "start_time": "2021-07-16T09:36:31.860Z"
   },
   {
    "duration": 20,
    "start_time": "2021-07-16T09:41:08.912Z"
   },
   {
    "duration": 102,
    "start_time": "2021-07-16T09:52:59.378Z"
   },
   {
    "duration": 27,
    "start_time": "2021-07-16T09:53:06.403Z"
   },
   {
    "duration": 34,
    "start_time": "2021-07-16T09:53:10.500Z"
   },
   {
    "duration": 43,
    "start_time": "2021-07-16T09:53:33.036Z"
   },
   {
    "duration": 35,
    "start_time": "2021-07-16T09:54:14.055Z"
   },
   {
    "duration": 42,
    "start_time": "2021-07-16T09:54:28.158Z"
   },
   {
    "duration": 8,
    "start_time": "2021-07-16T09:58:27.290Z"
   },
   {
    "duration": 12,
    "start_time": "2021-07-16T09:58:38.040Z"
   },
   {
    "duration": 220,
    "start_time": "2021-07-16T09:59:05.725Z"
   },
   {
    "duration": 6,
    "start_time": "2021-07-16T09:59:29.483Z"
   },
   {
    "duration": 10,
    "start_time": "2021-07-16T09:59:37.295Z"
   },
   {
    "duration": 7,
    "start_time": "2021-07-16T09:59:55.733Z"
   },
   {
    "duration": 9,
    "start_time": "2021-07-16T10:00:24.430Z"
   },
   {
    "duration": 12,
    "start_time": "2021-07-16T10:00:30.870Z"
   },
   {
    "duration": 10,
    "start_time": "2021-07-16T10:16:01.550Z"
   },
   {
    "duration": 13,
    "start_time": "2021-07-16T10:17:52.739Z"
   },
   {
    "duration": 212,
    "start_time": "2021-07-16T10:18:05.588Z"
   },
   {
    "duration": 10,
    "start_time": "2021-07-16T10:18:18.945Z"
   },
   {
    "duration": 28,
    "start_time": "2021-07-16T10:19:35.098Z"
   },
   {
    "duration": 35,
    "start_time": "2021-07-16T10:19:42.950Z"
   },
   {
    "duration": 29,
    "start_time": "2021-07-16T10:21:02.876Z"
   },
   {
    "duration": 32,
    "start_time": "2021-07-16T10:21:13.156Z"
   },
   {
    "duration": 37,
    "start_time": "2021-07-16T10:22:55.196Z"
   },
   {
    "duration": 33,
    "start_time": "2021-07-16T10:23:07.065Z"
   },
   {
    "duration": 33,
    "start_time": "2021-07-16T10:23:09.364Z"
   },
   {
    "duration": 33,
    "start_time": "2021-07-16T10:23:17.775Z"
   },
   {
    "duration": 36,
    "start_time": "2021-07-16T10:24:13.761Z"
   },
   {
    "duration": 29,
    "start_time": "2021-07-16T10:25:07.234Z"
   },
   {
    "duration": 37,
    "start_time": "2021-07-16T10:25:15.795Z"
   },
   {
    "duration": 31,
    "start_time": "2021-07-16T10:25:44.559Z"
   },
   {
    "duration": 34,
    "start_time": "2021-07-16T10:25:48.552Z"
   },
   {
    "duration": 38,
    "start_time": "2021-07-16T10:25:54.197Z"
   },
   {
    "duration": 34,
    "start_time": "2021-07-16T10:26:12.594Z"
   },
   {
    "duration": 34,
    "start_time": "2021-07-16T10:30:39.266Z"
   },
   {
    "duration": 35,
    "start_time": "2021-07-16T10:31:05.803Z"
   },
   {
    "duration": 34,
    "start_time": "2021-07-16T10:31:22.401Z"
   },
   {
    "duration": 45,
    "start_time": "2021-07-16T10:31:49.427Z"
   },
   {
    "duration": 2,
    "start_time": "2021-07-16T10:32:31.552Z"
   },
   {
    "duration": 7,
    "start_time": "2021-07-16T10:32:36.756Z"
   },
   {
    "duration": 234,
    "start_time": "2021-07-16T10:33:34.750Z"
   },
   {
    "duration": 228,
    "start_time": "2021-07-16T10:36:17.336Z"
   },
   {
    "duration": 228,
    "start_time": "2021-07-16T10:36:35.113Z"
   },
   {
    "duration": 215,
    "start_time": "2021-07-16T10:36:38.505Z"
   },
   {
    "duration": 317,
    "start_time": "2021-07-16T10:40:11.024Z"
   },
   {
    "duration": 249,
    "start_time": "2021-07-16T10:40:49.235Z"
   },
   {
    "duration": 3,
    "start_time": "2021-07-16T10:41:28.975Z"
   },
   {
    "duration": 10,
    "start_time": "2021-07-16T10:41:34.884Z"
   },
   {
    "duration": 257,
    "start_time": "2021-07-16T10:42:16.712Z"
   },
   {
    "duration": 12,
    "start_time": "2021-07-16T10:42:46.223Z"
   },
   {
    "duration": 26,
    "start_time": "2021-07-16T10:44:53.100Z"
   },
   {
    "duration": 34,
    "start_time": "2021-07-16T10:44:58.739Z"
   },
   {
    "duration": 33,
    "start_time": "2021-07-16T10:45:10.201Z"
   },
   {
    "duration": 296,
    "start_time": "2021-07-16T10:48:54.820Z"
   },
   {
    "duration": 259,
    "start_time": "2021-07-16T10:50:06.807Z"
   },
   {
    "duration": 273,
    "start_time": "2021-07-16T10:50:39.543Z"
   },
   {
    "duration": 326,
    "start_time": "2021-07-16T10:50:53.037Z"
   },
   {
    "duration": 298,
    "start_time": "2021-07-16T10:51:11.524Z"
   },
   {
    "duration": 271,
    "start_time": "2021-07-16T10:52:14.097Z"
   },
   {
    "duration": 283,
    "start_time": "2021-07-16T10:54:16.863Z"
   },
   {
    "duration": 275,
    "start_time": "2021-07-16T10:54:22.549Z"
   },
   {
    "duration": 486,
    "start_time": "2021-07-16T10:56:09.557Z"
   },
   {
    "duration": 288,
    "start_time": "2021-07-16T10:56:26.156Z"
   },
   {
    "duration": 319,
    "start_time": "2021-07-16T14:56:52.125Z"
   },
   {
    "duration": 991,
    "start_time": "2021-07-16T14:57:14.411Z"
   },
   {
    "duration": 14,
    "start_time": "2021-07-16T14:57:15.404Z"
   },
   {
    "duration": 13,
    "start_time": "2021-07-16T14:57:15.420Z"
   },
   {
    "duration": 10,
    "start_time": "2021-07-16T14:57:15.435Z"
   },
   {
    "duration": 7,
    "start_time": "2021-07-16T14:57:15.446Z"
   },
   {
    "duration": 6,
    "start_time": "2021-07-16T14:57:15.455Z"
   },
   {
    "duration": 11,
    "start_time": "2021-07-16T14:57:15.462Z"
   },
   {
    "duration": 16,
    "start_time": "2021-07-16T14:57:15.475Z"
   },
   {
    "duration": 13,
    "start_time": "2021-07-16T14:57:15.493Z"
   },
   {
    "duration": 37,
    "start_time": "2021-07-16T14:57:15.508Z"
   },
   {
    "duration": 28,
    "start_time": "2021-07-16T14:57:15.546Z"
   },
   {
    "duration": 18,
    "start_time": "2021-07-16T14:57:15.575Z"
   },
   {
    "duration": 10,
    "start_time": "2021-07-16T14:57:15.595Z"
   },
   {
    "duration": 35,
    "start_time": "2021-07-16T14:57:15.606Z"
   },
   {
    "duration": 6,
    "start_time": "2021-07-16T14:57:15.642Z"
   },
   {
    "duration": 20,
    "start_time": "2021-07-16T14:57:15.650Z"
   },
   {
    "duration": 15,
    "start_time": "2021-07-16T14:57:15.672Z"
   },
   {
    "duration": 341,
    "start_time": "2021-07-16T14:57:15.688Z"
   },
   {
    "duration": 298,
    "start_time": "2021-07-16T14:57:16.031Z"
   },
   {
    "duration": 41,
    "start_time": "2021-07-16T14:57:16.330Z"
   },
   {
    "duration": 22,
    "start_time": "2021-07-16T14:57:16.373Z"
   },
   {
    "duration": 11,
    "start_time": "2021-07-16T14:57:16.397Z"
   },
   {
    "duration": 266,
    "start_time": "2021-07-16T14:57:16.410Z"
   },
   {
    "duration": 37,
    "start_time": "2021-07-16T14:57:16.678Z"
   },
   {
    "duration": 7,
    "start_time": "2021-07-16T14:57:16.717Z"
   },
   {
    "duration": 16,
    "start_time": "2021-07-16T14:57:50.401Z"
   },
   {
    "duration": 281,
    "start_time": "2021-07-16T15:02:47.277Z"
   },
   {
    "duration": 4,
    "start_time": "2021-07-16T15:02:57.946Z"
   },
   {
    "duration": 8,
    "start_time": "2021-07-16T15:03:02.845Z"
   },
   {
    "duration": 11,
    "start_time": "2021-07-16T15:03:12.499Z"
   },
   {
    "duration": 85,
    "start_time": "2021-07-16T15:06:01.484Z"
   },
   {
    "duration": 139,
    "start_time": "2021-07-16T15:11:06.595Z"
   },
   {
    "duration": 259,
    "start_time": "2021-07-16T15:11:25.518Z"
   },
   {
    "duration": 350,
    "start_time": "2021-07-16T15:11:56.462Z"
   },
   {
    "duration": 3,
    "start_time": "2021-07-16T15:12:43.945Z"
   },
   {
    "duration": 269,
    "start_time": "2021-07-16T15:14:03.241Z"
   },
   {
    "duration": 174,
    "start_time": "2021-07-16T15:14:18.606Z"
   },
   {
    "duration": 83,
    "start_time": "2021-07-16T15:21:05.992Z"
   },
   {
    "duration": 274,
    "start_time": "2021-07-16T15:21:11.354Z"
   },
   {
    "duration": 273,
    "start_time": "2021-07-16T15:26:07.414Z"
   },
   {
    "duration": 263,
    "start_time": "2021-07-16T15:26:22.247Z"
   },
   {
    "duration": 6529,
    "start_time": "2021-07-16T15:27:44.874Z"
   },
   {
    "duration": 1890,
    "start_time": "2021-07-16T15:28:09.927Z"
   },
   {
    "duration": 2110,
    "start_time": "2021-07-16T15:28:22.137Z"
   },
   {
    "duration": 9,
    "start_time": "2021-07-16T15:28:51.015Z"
   },
   {
    "duration": 6,
    "start_time": "2021-07-16T15:29:03.600Z"
   },
   {
    "duration": 8,
    "start_time": "2021-07-16T15:29:16.924Z"
   },
   {
    "duration": 6,
    "start_time": "2021-07-16T15:29:31.239Z"
   },
   {
    "duration": 6,
    "start_time": "2021-07-16T15:29:35.773Z"
   },
   {
    "duration": 8,
    "start_time": "2021-07-16T15:29:43.271Z"
   },
   {
    "duration": 9,
    "start_time": "2021-07-16T15:29:46.934Z"
   },
   {
    "duration": 7,
    "start_time": "2021-07-16T15:29:58.779Z"
   },
   {
    "duration": 7,
    "start_time": "2021-07-16T15:30:09.537Z"
   },
   {
    "duration": 6647,
    "start_time": "2021-07-16T15:30:41.675Z"
   },
   {
    "duration": -426,
    "start_time": "2021-07-16T15:31:09.906Z"
   },
   {
    "duration": -493,
    "start_time": "2021-07-16T15:31:32.439Z"
   },
   {
    "duration": 6846,
    "start_time": "2021-07-16T15:31:43.562Z"
   },
   {
    "duration": 4,
    "start_time": "2021-07-16T15:32:17.698Z"
   },
   {
    "duration": 4,
    "start_time": "2021-07-16T15:32:29.572Z"
   },
   {
    "duration": 7082,
    "start_time": "2021-07-16T15:34:08.944Z"
   },
   {
    "duration": 6827,
    "start_time": "2021-07-16T15:34:55.516Z"
   },
   {
    "duration": 6741,
    "start_time": "2021-07-16T15:35:35.073Z"
   },
   {
    "duration": 6651,
    "start_time": "2021-07-16T15:35:57.681Z"
   },
   {
    "duration": 273,
    "start_time": "2021-07-16T15:40:10.875Z"
   },
   {
    "duration": 10,
    "start_time": "2021-07-16T15:41:29.540Z"
   },
   {
    "duration": 18,
    "start_time": "2021-07-16T15:41:37.285Z"
   },
   {
    "duration": 271,
    "start_time": "2021-07-16T15:43:04.773Z"
   },
   {
    "duration": 406,
    "start_time": "2021-07-16T15:43:29.111Z"
   },
   {
    "duration": 56,
    "start_time": "2021-07-16T15:43:36.615Z"
   },
   {
    "duration": 22,
    "start_time": "2021-07-16T15:43:54.985Z"
   },
   {
    "duration": 22,
    "start_time": "2021-07-16T15:45:51.208Z"
   },
   {
    "duration": 6582,
    "start_time": "2021-07-16T15:46:50.305Z"
   },
   {
    "duration": 96,
    "start_time": "2021-07-16T15:47:24.871Z"
   },
   {
    "duration": 264,
    "start_time": "2021-07-16T15:48:33.940Z"
   },
   {
    "duration": 321,
    "start_time": "2021-07-16T15:48:54.298Z"
   },
   {
    "duration": 5,
    "start_time": "2021-07-16T15:54:30.685Z"
   },
   {
    "duration": 8,
    "start_time": "2021-07-16T15:54:43.750Z"
   },
   {
    "duration": 8,
    "start_time": "2021-07-16T15:55:31.158Z"
   },
   {
    "duration": 6983,
    "start_time": "2021-07-16T15:55:52.596Z"
   },
   {
    "duration": 10,
    "start_time": "2021-07-16T15:56:18.368Z"
   },
   {
    "duration": 11,
    "start_time": "2021-07-16T15:56:30.046Z"
   },
   {
    "duration": 91,
    "start_time": "2021-07-16T15:58:23.386Z"
   },
   {
    "duration": 87,
    "start_time": "2021-07-16T16:01:28.914Z"
   },
   {
    "duration": 87,
    "start_time": "2021-07-16T16:01:37.564Z"
   },
   {
    "duration": 395,
    "start_time": "2021-07-16T16:01:52.462Z"
   },
   {
    "duration": 35,
    "start_time": "2021-07-16T16:02:07.533Z"
   },
   {
    "duration": 280,
    "start_time": "2021-07-16T16:02:12.301Z"
   },
   {
    "duration": 275,
    "start_time": "2021-07-16T16:08:10.776Z"
   },
   {
    "duration": 265,
    "start_time": "2021-07-16T16:08:23.146Z"
   },
   {
    "duration": 13,
    "start_time": "2021-07-16T16:08:43.721Z"
   },
   {
    "duration": 262,
    "start_time": "2021-07-16T16:09:46.931Z"
   },
   {
    "duration": 270,
    "start_time": "2021-07-16T16:09:56.678Z"
   },
   {
    "duration": 298,
    "start_time": "2021-07-16T16:10:59.743Z"
   },
   {
    "duration": 7,
    "start_time": "2021-07-16T16:11:15.826Z"
   },
   {
    "duration": 21,
    "start_time": "2021-07-16T16:11:21.714Z"
   },
   {
    "duration": 281,
    "start_time": "2021-07-16T16:14:25.900Z"
   },
   {
    "duration": 36,
    "start_time": "2021-07-16T16:15:28.446Z"
   },
   {
    "duration": 8,
    "start_time": "2021-07-16T16:15:37.218Z"
   },
   {
    "duration": 15,
    "start_time": "2021-07-16T16:15:45.293Z"
   },
   {
    "duration": 6,
    "start_time": "2021-07-16T16:24:55.394Z"
   },
   {
    "duration": 8,
    "start_time": "2021-07-16T16:25:00.308Z"
   },
   {
    "duration": 6566,
    "start_time": "2021-07-16T16:29:18.244Z"
   },
   {
    "duration": 10,
    "start_time": "2021-07-16T16:29:34.027Z"
   },
   {
    "duration": 15,
    "start_time": "2021-07-16T16:29:42.278Z"
   },
   {
    "duration": 33,
    "start_time": "2021-07-16T16:51:52.177Z"
   },
   {
    "duration": 289,
    "start_time": "2021-07-16T16:52:33.546Z"
   },
   {
    "duration": 287,
    "start_time": "2021-07-16T16:52:38.880Z"
   },
   {
    "duration": 12,
    "start_time": "2021-07-16T16:52:44.706Z"
   },
   {
    "duration": 22,
    "start_time": "2021-07-16T16:53:30.378Z"
   },
   {
    "duration": 26,
    "start_time": "2021-07-16T16:53:34.818Z"
   },
   {
    "duration": 103,
    "start_time": "2021-07-16T17:00:55.519Z"
   },
   {
    "duration": 3,
    "start_time": "2021-07-16T17:01:08.051Z"
   },
   {
    "duration": 138,
    "start_time": "2021-07-16T17:01:09.917Z"
   },
   {
    "duration": 101,
    "start_time": "2021-07-16T17:01:53.609Z"
   },
   {
    "duration": 1073,
    "start_time": "2021-07-16T17:02:14.049Z"
   },
   {
    "duration": 1523,
    "start_time": "2021-07-16T17:02:25.469Z"
   },
   {
    "duration": 1496,
    "start_time": "2021-07-16T17:03:55.358Z"
   },
   {
    "duration": 106,
    "start_time": "2021-07-16T17:04:10.727Z"
   },
   {
    "duration": 290,
    "start_time": "2021-07-16T17:21:09.233Z"
   },
   {
    "duration": 258,
    "start_time": "2021-07-16T17:21:21.523Z"
   },
   {
    "duration": 18,
    "start_time": "2021-07-16T17:23:37.483Z"
   },
   {
    "duration": 37,
    "start_time": "2021-07-16T17:23:41.877Z"
   },
   {
    "duration": 35,
    "start_time": "2021-07-16T17:24:18.905Z"
   },
   {
    "duration": 18,
    "start_time": "2021-07-16T17:24:26.378Z"
   },
   {
    "duration": 36,
    "start_time": "2021-07-16T17:24:29.482Z"
   },
   {
    "duration": 674,
    "start_time": "2021-07-16T17:25:09.457Z"
   },
   {
    "duration": 628,
    "start_time": "2021-07-16T17:25:45.126Z"
   },
   {
    "duration": 3,
    "start_time": "2021-07-16T17:25:48.957Z"
   },
   {
    "duration": 641,
    "start_time": "2021-07-16T17:28:24.702Z"
   },
   {
    "duration": 1150,
    "start_time": "2021-07-16T17:28:44.118Z"
   },
   {
    "duration": 1089,
    "start_time": "2021-07-16T17:28:55.435Z"
   },
   {
    "duration": 1076,
    "start_time": "2021-07-16T17:29:14.537Z"
   },
   {
    "duration": 3,
    "start_time": "2021-07-16T17:30:23.682Z"
   },
   {
    "duration": 3,
    "start_time": "2021-07-16T17:30:33.846Z"
   },
   {
    "duration": 304,
    "start_time": "2021-07-16T17:30:40.708Z"
   },
   {
    "duration": 276,
    "start_time": "2021-07-16T17:31:07.577Z"
   },
   {
    "duration": 283,
    "start_time": "2021-07-16T17:32:54.607Z"
   },
   {
    "duration": 2,
    "start_time": "2021-07-16T17:33:11.973Z"
   },
   {
    "duration": 22,
    "start_time": "2021-07-16T17:33:17.715Z"
   },
   {
    "duration": 93,
    "start_time": "2021-07-16T17:34:30.472Z"
   },
   {
    "duration": 93,
    "start_time": "2021-07-16T17:34:45.828Z"
   },
   {
    "duration": 5,
    "start_time": "2021-07-16T17:36:37.110Z"
   },
   {
    "duration": 19,
    "start_time": "2021-07-16T17:36:41.467Z"
   },
   {
    "duration": 17,
    "start_time": "2021-07-16T17:38:24.960Z"
   },
   {
    "duration": 27,
    "start_time": "2021-07-16T17:38:31.639Z"
   },
   {
    "duration": 278,
    "start_time": "2021-07-16T17:39:09.827Z"
   },
   {
    "duration": 287,
    "start_time": "2021-07-16T17:39:34.340Z"
   },
   {
    "duration": 294,
    "start_time": "2021-07-16T17:39:42.249Z"
   },
   {
    "duration": 278,
    "start_time": "2021-07-16T17:39:57.686Z"
   },
   {
    "duration": 30,
    "start_time": "2021-07-16T17:43:26.332Z"
   },
   {
    "duration": 928,
    "start_time": "2021-07-16T17:43:40.390Z"
   },
   {
    "duration": 11,
    "start_time": "2021-07-16T17:43:41.320Z"
   },
   {
    "duration": 5,
    "start_time": "2021-07-16T17:43:41.333Z"
   },
   {
    "duration": 6,
    "start_time": "2021-07-16T17:43:41.340Z"
   },
   {
    "duration": 11,
    "start_time": "2021-07-16T17:43:41.348Z"
   },
   {
    "duration": 8,
    "start_time": "2021-07-16T17:43:41.360Z"
   },
   {
    "duration": 10,
    "start_time": "2021-07-16T17:43:41.370Z"
   },
   {
    "duration": 16,
    "start_time": "2021-07-16T17:43:41.383Z"
   },
   {
    "duration": 40,
    "start_time": "2021-07-16T17:43:41.401Z"
   },
   {
    "duration": 11,
    "start_time": "2021-07-16T17:43:41.442Z"
   },
   {
    "duration": 32,
    "start_time": "2021-07-16T17:43:41.454Z"
   },
   {
    "duration": 20,
    "start_time": "2021-07-16T17:43:41.487Z"
   },
   {
    "duration": 33,
    "start_time": "2021-07-16T17:43:41.509Z"
   },
   {
    "duration": 7,
    "start_time": "2021-07-16T17:43:41.543Z"
   },
   {
    "duration": 13,
    "start_time": "2021-07-16T17:43:41.552Z"
   },
   {
    "duration": 24,
    "start_time": "2021-07-16T17:43:41.566Z"
   },
   {
    "duration": 16,
    "start_time": "2021-07-16T17:43:41.592Z"
   },
   {
    "duration": 350,
    "start_time": "2021-07-16T17:43:41.610Z"
   },
   {
    "duration": 300,
    "start_time": "2021-07-16T17:43:41.961Z"
   },
   {
    "duration": 40,
    "start_time": "2021-07-16T17:43:42.262Z"
   },
   {
    "duration": 39,
    "start_time": "2021-07-16T17:43:42.304Z"
   },
   {
    "duration": 18,
    "start_time": "2021-07-16T17:43:42.345Z"
   },
   {
    "duration": 247,
    "start_time": "2021-07-16T17:43:42.366Z"
   },
   {
    "duration": 47,
    "start_time": "2021-07-16T17:43:42.615Z"
   },
   {
    "duration": 7,
    "start_time": "2021-07-16T17:43:42.664Z"
   },
   {
    "duration": 358,
    "start_time": "2021-07-16T17:43:42.673Z"
   },
   {
    "duration": 28,
    "start_time": "2021-07-16T17:44:04.493Z"
   },
   {
    "duration": 28,
    "start_time": "2021-07-16T17:44:48.935Z"
   },
   {
    "duration": 307,
    "start_time": "2021-07-16T17:45:04.776Z"
   },
   {
    "duration": 25,
    "start_time": "2021-07-16T17:45:20.539Z"
   },
   {
    "duration": 30,
    "start_time": "2021-07-16T17:45:29.243Z"
   },
   {
    "duration": 315,
    "start_time": "2021-07-16T17:46:41.157Z"
   },
   {
    "duration": 35,
    "start_time": "2021-07-16T17:46:51.281Z"
   },
   {
    "duration": 277,
    "start_time": "2021-07-16T17:47:10.518Z"
   },
   {
    "duration": 31,
    "start_time": "2021-07-16T17:47:18.487Z"
   },
   {
    "duration": 6793,
    "start_time": "2021-07-16T17:48:38.746Z"
   },
   {
    "duration": 40,
    "start_time": "2021-07-16T17:49:33.912Z"
   },
   {
    "duration": 47,
    "start_time": "2021-07-16T17:49:38.274Z"
   },
   {
    "duration": 95,
    "start_time": "2021-07-16T17:50:20.793Z"
   },
   {
    "duration": 31,
    "start_time": "2021-07-16T17:50:24.279Z"
   },
   {
    "duration": 30,
    "start_time": "2021-07-16T17:51:23.141Z"
   },
   {
    "duration": 41,
    "start_time": "2021-07-16T17:51:27.724Z"
   },
   {
    "duration": 25,
    "start_time": "2021-07-16T17:53:01.034Z"
   },
   {
    "duration": 40,
    "start_time": "2021-07-16T17:53:06.963Z"
   },
   {
    "duration": 41,
    "start_time": "2021-07-16T17:54:05.784Z"
   },
   {
    "duration": 321,
    "start_time": "2021-07-16T17:58:35.725Z"
   },
   {
    "duration": 984,
    "start_time": "2021-07-16T17:58:43.032Z"
   },
   {
    "duration": 11,
    "start_time": "2021-07-16T17:58:44.018Z"
   },
   {
    "duration": 16,
    "start_time": "2021-07-16T17:58:44.031Z"
   },
   {
    "duration": 9,
    "start_time": "2021-07-16T17:58:44.049Z"
   },
   {
    "duration": 7,
    "start_time": "2021-07-16T17:58:44.060Z"
   },
   {
    "duration": 7,
    "start_time": "2021-07-16T17:58:44.069Z"
   },
   {
    "duration": 11,
    "start_time": "2021-07-16T17:58:44.078Z"
   },
   {
    "duration": 17,
    "start_time": "2021-07-16T17:58:44.091Z"
   },
   {
    "duration": 11,
    "start_time": "2021-07-16T17:58:44.111Z"
   },
   {
    "duration": 10,
    "start_time": "2021-07-16T17:58:44.141Z"
   },
   {
    "duration": 28,
    "start_time": "2021-07-16T17:58:44.152Z"
   },
   {
    "duration": 19,
    "start_time": "2021-07-16T17:58:44.182Z"
   },
   {
    "duration": 11,
    "start_time": "2021-07-16T17:58:44.202Z"
   },
   {
    "duration": 7,
    "start_time": "2021-07-16T17:58:44.241Z"
   },
   {
    "duration": 10,
    "start_time": "2021-07-16T17:58:44.250Z"
   },
   {
    "duration": 22,
    "start_time": "2021-07-16T17:58:44.261Z"
   },
   {
    "duration": 16,
    "start_time": "2021-07-16T17:58:44.284Z"
   },
   {
    "duration": 353,
    "start_time": "2021-07-16T17:58:44.301Z"
   },
   {
    "duration": 476,
    "start_time": "2021-07-16T17:58:44.656Z"
   },
   {
    "duration": 42,
    "start_time": "2021-07-16T17:58:45.133Z"
   },
   {
    "duration": 25,
    "start_time": "2021-07-16T17:58:45.177Z"
   },
   {
    "duration": 10,
    "start_time": "2021-07-16T17:58:45.204Z"
   },
   {
    "duration": 266,
    "start_time": "2021-07-16T17:58:45.215Z"
   },
   {
    "duration": 38,
    "start_time": "2021-07-16T17:58:45.483Z"
   },
   {
    "duration": 18,
    "start_time": "2021-07-16T17:58:45.523Z"
   },
   {
    "duration": 40,
    "start_time": "2021-07-16T17:58:45.543Z"
   },
   {
    "duration": 31,
    "start_time": "2021-07-16T18:41:27.851Z"
   },
   {
    "duration": 8,
    "start_time": "2021-07-16T18:45:02.568Z"
   },
   {
    "duration": 3,
    "start_time": "2021-07-16T18:46:13.663Z"
   },
   {
    "duration": 4,
    "start_time": "2021-07-16T18:46:28.438Z"
   },
   {
    "duration": 286,
    "start_time": "2021-07-16T18:49:28.597Z"
   },
   {
    "duration": 3709,
    "start_time": "2021-07-16T18:49:46.686Z"
   },
   {
    "duration": 3794,
    "start_time": "2021-07-16T18:50:48.252Z"
   },
   {
    "duration": 1197,
    "start_time": "2021-07-16T18:51:04.040Z"
   },
   {
    "duration": 1180,
    "start_time": "2021-07-16T18:51:13.092Z"
   },
   {
    "duration": 3608,
    "start_time": "2021-07-16T18:51:28.248Z"
   },
   {
    "duration": 270,
    "start_time": "2021-07-16T18:53:14.989Z"
   },
   {
    "duration": 258,
    "start_time": "2021-07-16T18:53:24.972Z"
   },
   {
    "duration": 266,
    "start_time": "2021-07-16T18:53:33.047Z"
   },
   {
    "duration": 1050,
    "start_time": "2021-07-16T18:53:58.632Z"
   },
   {
    "duration": 3,
    "start_time": "2021-07-16T18:54:10.557Z"
   },
   {
    "duration": 4,
    "start_time": "2021-07-16T19:01:35.650Z"
   },
   {
    "duration": 90,
    "start_time": "2021-07-16T19:18:04.840Z"
   },
   {
    "duration": 112,
    "start_time": "2021-07-16T19:18:30.209Z"
   },
   {
    "duration": 91,
    "start_time": "2021-07-16T19:18:53.951Z"
   },
   {
    "duration": 101,
    "start_time": "2021-07-16T19:19:05.355Z"
   },
   {
    "duration": 3,
    "start_time": "2021-07-16T19:19:14.585Z"
   },
   {
    "duration": 89,
    "start_time": "2021-07-16T19:19:34.005Z"
   },
   {
    "duration": 4,
    "start_time": "2021-07-16T19:19:41.982Z"
   },
   {
    "duration": 86,
    "start_time": "2021-07-16T19:19:57.132Z"
   },
   {
    "duration": 4,
    "start_time": "2021-07-16T19:20:03.090Z"
   },
   {
    "duration": 4,
    "start_time": "2021-07-16T19:20:16.143Z"
   },
   {
    "duration": 3608,
    "start_time": "2021-07-16T19:23:48.261Z"
   },
   {
    "duration": 6539,
    "start_time": "2021-07-16T19:24:16.940Z"
   },
   {
    "duration": 3876,
    "start_time": "2021-07-16T19:24:25.337Z"
   },
   {
    "duration": 6592,
    "start_time": "2021-07-16T19:24:46.856Z"
   },
   {
    "duration": 3868,
    "start_time": "2021-07-16T19:25:13.164Z"
   },
   {
    "duration": 3604,
    "start_time": "2021-07-16T19:25:26.272Z"
   },
   {
    "duration": 7299,
    "start_time": "2021-07-16T19:28:10.020Z"
   },
   {
    "duration": 6892,
    "start_time": "2021-07-16T19:28:22.244Z"
   },
   {
    "duration": 4220,
    "start_time": "2021-07-16T19:30:23.040Z"
   },
   {
    "duration": 4677,
    "start_time": "2021-07-16T19:31:51.798Z"
   },
   {
    "duration": 4215,
    "start_time": "2021-07-16T19:32:14.759Z"
   },
   {
    "duration": 7987,
    "start_time": "2021-07-16T19:32:55.988Z"
   },
   {
    "duration": 29,
    "start_time": "2021-07-16T19:34:41.484Z"
   },
   {
    "duration": 6847,
    "start_time": "2021-07-16T19:34:54.277Z"
   },
   {
    "duration": 465,
    "start_time": "2021-07-16T19:35:03.746Z"
   },
   {
    "duration": 458,
    "start_time": "2021-07-16T19:35:06.702Z"
   },
   {
    "duration": 101,
    "start_time": "2021-07-16T19:36:43.724Z"
   },
   {
    "duration": 93,
    "start_time": "2021-07-16T19:37:17.626Z"
   },
   {
    "duration": 3256,
    "start_time": "2021-07-16T19:37:27.607Z"
   },
   {
    "duration": 3202,
    "start_time": "2021-07-16T19:37:43.375Z"
   },
   {
    "duration": 272,
    "start_time": "2021-07-16T19:38:22.022Z"
   },
   {
    "duration": 3089,
    "start_time": "2021-07-16T19:38:31.178Z"
   },
   {
    "duration": 997,
    "start_time": "2021-07-16T19:39:49.063Z"
   },
   {
    "duration": 11,
    "start_time": "2021-07-16T19:39:50.062Z"
   },
   {
    "duration": 14,
    "start_time": "2021-07-16T19:39:50.075Z"
   },
   {
    "duration": 11,
    "start_time": "2021-07-16T19:39:50.091Z"
   },
   {
    "duration": 8,
    "start_time": "2021-07-16T19:39:50.104Z"
   },
   {
    "duration": 6,
    "start_time": "2021-07-16T19:39:50.113Z"
   },
   {
    "duration": 27,
    "start_time": "2021-07-16T19:39:50.121Z"
   },
   {
    "duration": 16,
    "start_time": "2021-07-16T19:39:50.151Z"
   },
   {
    "duration": 12,
    "start_time": "2021-07-16T19:39:50.170Z"
   },
   {
    "duration": 10,
    "start_time": "2021-07-16T19:39:50.184Z"
   },
   {
    "duration": 58,
    "start_time": "2021-07-16T19:39:50.196Z"
   },
   {
    "duration": 21,
    "start_time": "2021-07-16T19:39:50.256Z"
   },
   {
    "duration": 11,
    "start_time": "2021-07-16T19:39:50.278Z"
   },
   {
    "duration": 11,
    "start_time": "2021-07-16T19:39:50.291Z"
   },
   {
    "duration": 9,
    "start_time": "2021-07-16T19:39:50.303Z"
   },
   {
    "duration": 23,
    "start_time": "2021-07-16T19:39:50.341Z"
   },
   {
    "duration": 17,
    "start_time": "2021-07-16T19:39:50.366Z"
   },
   {
    "duration": 345,
    "start_time": "2021-07-16T19:39:50.385Z"
   },
   {
    "duration": 315,
    "start_time": "2021-07-16T19:39:50.731Z"
   },
   {
    "duration": 41,
    "start_time": "2021-07-16T19:39:51.047Z"
   },
   {
    "duration": 56,
    "start_time": "2021-07-16T19:39:51.090Z"
   },
   {
    "duration": 14,
    "start_time": "2021-07-16T19:39:51.148Z"
   },
   {
    "duration": 277,
    "start_time": "2021-07-16T19:39:51.166Z"
   },
   {
    "duration": 38,
    "start_time": "2021-07-16T19:39:51.445Z"
   },
   {
    "duration": 7,
    "start_time": "2021-07-16T19:39:51.485Z"
   },
   {
    "duration": 55,
    "start_time": "2021-07-16T19:39:51.493Z"
   },
   {
    "duration": 155,
    "start_time": "2021-07-16T19:39:51.550Z"
   },
   {
    "duration": 107,
    "start_time": "2021-07-16T19:39:51.706Z"
   },
   {
    "duration": 2103,
    "start_time": "2021-07-16T19:42:30.705Z"
   },
   {
    "duration": 158,
    "start_time": "2021-07-16T19:42:50.246Z"
   },
   {
    "duration": 2048,
    "start_time": "2021-07-16T19:43:23.972Z"
   },
   {
    "duration": 448,
    "start_time": "2021-07-16T19:43:44.356Z"
   },
   {
    "duration": 148,
    "start_time": "2021-07-16T19:43:52.913Z"
   },
   {
    "duration": 150,
    "start_time": "2021-07-16T19:44:19.330Z"
   },
   {
    "duration": 8,
    "start_time": "2021-07-16T19:53:57.918Z"
   },
   {
    "duration": 98,
    "start_time": "2021-07-16T19:54:55.145Z"
   },
   {
    "duration": 1441,
    "start_time": "2021-07-16T19:55:13.233Z"
   },
   {
    "duration": 1421,
    "start_time": "2021-07-16T19:55:30.530Z"
   },
   {
    "duration": 1587,
    "start_time": "2021-07-16T19:56:12.901Z"
   },
   {
    "duration": 1532,
    "start_time": "2021-07-16T19:56:43.581Z"
   },
   {
    "duration": 1476,
    "start_time": "2021-07-16T19:56:50.958Z"
   },
   {
    "duration": 149,
    "start_time": "2021-07-16T19:57:35.945Z"
   },
   {
    "duration": 183,
    "start_time": "2021-07-16T19:57:50.023Z"
   },
   {
    "duration": 178,
    "start_time": "2021-07-16T19:58:16.242Z"
   },
   {
    "duration": 4054,
    "start_time": "2021-07-16T20:00:42.764Z"
   },
   {
    "duration": 4775,
    "start_time": "2021-07-16T20:47:29.927Z"
   },
   {
    "duration": 3481,
    "start_time": "2021-07-16T20:48:06.301Z"
   },
   {
    "duration": 935,
    "start_time": "2021-07-16T20:48:16.998Z"
   },
   {
    "duration": 10,
    "start_time": "2021-07-16T20:48:17.934Z"
   },
   {
    "duration": 12,
    "start_time": "2021-07-16T20:48:17.946Z"
   },
   {
    "duration": 14,
    "start_time": "2021-07-16T20:48:17.960Z"
   },
   {
    "duration": 12,
    "start_time": "2021-07-16T20:48:17.975Z"
   },
   {
    "duration": 7,
    "start_time": "2021-07-16T20:48:17.988Z"
   },
   {
    "duration": 10,
    "start_time": "2021-07-16T20:48:17.997Z"
   },
   {
    "duration": 13,
    "start_time": "2021-07-16T20:48:18.009Z"
   },
   {
    "duration": 20,
    "start_time": "2021-07-16T20:48:18.024Z"
   },
   {
    "duration": 9,
    "start_time": "2021-07-16T20:48:18.045Z"
   },
   {
    "duration": 28,
    "start_time": "2021-07-16T20:48:18.056Z"
   },
   {
    "duration": 18,
    "start_time": "2021-07-16T20:48:18.086Z"
   },
   {
    "duration": 11,
    "start_time": "2021-07-16T20:48:18.106Z"
   },
   {
    "duration": 28,
    "start_time": "2021-07-16T20:48:18.118Z"
   },
   {
    "duration": 11,
    "start_time": "2021-07-16T20:48:18.148Z"
   },
   {
    "duration": 21,
    "start_time": "2021-07-16T20:48:18.161Z"
   },
   {
    "duration": 15,
    "start_time": "2021-07-16T20:48:18.184Z"
   },
   {
    "duration": 334,
    "start_time": "2021-07-16T20:48:18.201Z"
   },
   {
    "duration": 309,
    "start_time": "2021-07-16T20:48:18.537Z"
   },
   {
    "duration": 38,
    "start_time": "2021-07-16T20:48:18.848Z"
   },
   {
    "duration": 27,
    "start_time": "2021-07-16T20:48:18.888Z"
   },
   {
    "duration": 34,
    "start_time": "2021-07-16T20:48:18.917Z"
   },
   {
    "duration": 252,
    "start_time": "2021-07-16T20:48:18.954Z"
   },
   {
    "duration": -280,
    "start_time": "2021-07-16T20:48:23.619Z"
   },
   {
    "duration": -285,
    "start_time": "2021-07-16T20:48:23.625Z"
   },
   {
    "duration": -295,
    "start_time": "2021-07-16T20:48:23.636Z"
   },
   {
    "duration": -312,
    "start_time": "2021-07-16T20:48:23.654Z"
   },
   {
    "duration": -317,
    "start_time": "2021-07-16T20:48:23.660Z"
   },
   {
    "duration": -422,
    "start_time": "2021-07-16T20:48:23.766Z"
   },
   {
    "duration": -425,
    "start_time": "2021-07-16T20:48:23.770Z"
   },
   {
    "duration": -426,
    "start_time": "2021-07-16T20:48:23.772Z"
   },
   {
    "duration": -429,
    "start_time": "2021-07-16T20:48:23.776Z"
   },
   {
    "duration": -431,
    "start_time": "2021-07-16T20:48:23.779Z"
   },
   {
    "duration": -434,
    "start_time": "2021-07-16T20:48:23.783Z"
   },
   {
    "duration": -436,
    "start_time": "2021-07-16T20:48:23.786Z"
   },
   {
    "duration": -439,
    "start_time": "2021-07-16T20:48:23.790Z"
   },
   {
    "duration": -440,
    "start_time": "2021-07-16T20:48:23.792Z"
   },
   {
    "duration": -443,
    "start_time": "2021-07-16T20:48:23.796Z"
   },
   {
    "duration": -457,
    "start_time": "2021-07-16T20:48:23.811Z"
   },
   {
    "duration": -461,
    "start_time": "2021-07-16T20:48:23.816Z"
   },
   {
    "duration": -463,
    "start_time": "2021-07-16T20:48:23.819Z"
   },
   {
    "duration": -466,
    "start_time": "2021-07-16T20:48:23.823Z"
   },
   {
    "duration": -468,
    "start_time": "2021-07-16T20:48:23.826Z"
   },
   {
    "duration": -545,
    "start_time": "2021-07-16T20:48:23.904Z"
   },
   {
    "duration": -555,
    "start_time": "2021-07-16T20:48:23.915Z"
   },
   {
    "duration": -558,
    "start_time": "2021-07-16T20:48:23.919Z"
   },
   {
    "duration": -560,
    "start_time": "2021-07-16T20:48:23.922Z"
   },
   {
    "duration": -565,
    "start_time": "2021-07-16T20:48:23.927Z"
   },
   {
    "duration": -569,
    "start_time": "2021-07-16T20:48:23.932Z"
   },
   {
    "duration": -571,
    "start_time": "2021-07-16T20:48:23.935Z"
   },
   {
    "duration": -573,
    "start_time": "2021-07-16T20:48:23.938Z"
   },
   {
    "duration": -576,
    "start_time": "2021-07-16T20:48:23.942Z"
   },
   {
    "duration": 4043,
    "start_time": "2021-07-16T20:48:36.120Z"
   },
   {
    "duration": 155,
    "start_time": "2021-07-16T20:48:59.402Z"
   },
   {
    "duration": 329,
    "start_time": "2021-07-16T20:49:05.050Z"
   },
   {
    "duration": 7,
    "start_time": "2021-07-16T20:49:05.381Z"
   },
   {
    "duration": 6,
    "start_time": "2021-07-16T20:49:05.390Z"
   },
   {
    "duration": 7,
    "start_time": "2021-07-16T20:49:05.399Z"
   },
   {
    "duration": 7,
    "start_time": "2021-07-16T20:49:05.407Z"
   },
   {
    "duration": 26,
    "start_time": "2021-07-16T20:49:05.415Z"
   },
   {
    "duration": 8,
    "start_time": "2021-07-16T20:49:05.443Z"
   },
   {
    "duration": 16,
    "start_time": "2021-07-16T20:49:05.453Z"
   },
   {
    "duration": 11,
    "start_time": "2021-07-16T20:49:05.471Z"
   },
   {
    "duration": 9,
    "start_time": "2021-07-16T20:49:05.484Z"
   },
   {
    "duration": 49,
    "start_time": "2021-07-16T20:49:05.495Z"
   },
   {
    "duration": 18,
    "start_time": "2021-07-16T20:49:05.545Z"
   },
   {
    "duration": 10,
    "start_time": "2021-07-16T20:49:05.565Z"
   },
   {
    "duration": 10,
    "start_time": "2021-07-16T20:49:05.576Z"
   },
   {
    "duration": 11,
    "start_time": "2021-07-16T20:49:05.587Z"
   },
   {
    "duration": 41,
    "start_time": "2021-07-16T20:49:05.600Z"
   },
   {
    "duration": 13,
    "start_time": "2021-07-16T20:49:05.642Z"
   },
   {
    "duration": 506,
    "start_time": "2021-07-16T20:49:05.656Z"
   },
   {
    "duration": 324,
    "start_time": "2021-07-16T20:49:06.164Z"
   },
   {
    "duration": 35,
    "start_time": "2021-07-16T20:49:06.489Z"
   },
   {
    "duration": 36,
    "start_time": "2021-07-16T20:49:06.526Z"
   },
   {
    "duration": 10,
    "start_time": "2021-07-16T20:49:06.563Z"
   },
   {
    "duration": 242,
    "start_time": "2021-07-16T20:49:06.576Z"
   },
   {
    "duration": 45,
    "start_time": "2021-07-16T20:49:06.820Z"
   },
   {
    "duration": 8,
    "start_time": "2021-07-16T20:49:06.866Z"
   },
   {
    "duration": 32,
    "start_time": "2021-07-16T20:49:06.876Z"
   },
   {
    "duration": 174,
    "start_time": "2021-07-16T20:49:06.910Z"
   },
   {
    "duration": 3507,
    "start_time": "2021-07-16T20:49:12.167Z"
   },
   {
    "duration": 3468,
    "start_time": "2021-07-16T20:50:30.057Z"
   },
   {
    "duration": 3486,
    "start_time": "2021-07-16T20:51:40.731Z"
   },
   {
    "duration": 3611,
    "start_time": "2021-07-16T20:52:05.101Z"
   },
   {
    "duration": 141,
    "start_time": "2021-07-16T20:52:32.630Z"
   },
   {
    "duration": 146,
    "start_time": "2021-07-16T20:52:39.672Z"
   },
   {
    "duration": 284,
    "start_time": "2021-07-16T20:52:51.307Z"
   },
   {
    "duration": 5437,
    "start_time": "2021-07-16T20:53:12.325Z"
   },
   {
    "duration": 3540,
    "start_time": "2021-07-16T20:53:40.694Z"
   },
   {
    "duration": 3756,
    "start_time": "2021-07-16T20:54:10.034Z"
   },
   {
    "duration": 1271,
    "start_time": "2021-07-16T20:54:25.886Z"
   },
   {
    "duration": 7,
    "start_time": "2021-07-16T20:54:32.552Z"
   },
   {
    "duration": 4,
    "start_time": "2021-07-16T20:56:01.156Z"
   },
   {
    "duration": 7,
    "start_time": "2021-07-16T20:56:05.984Z"
   },
   {
    "duration": 3660,
    "start_time": "2021-07-16T20:58:05.053Z"
   },
   {
    "duration": 277,
    "start_time": "2021-07-16T20:59:41.178Z"
   },
   {
    "duration": 320,
    "start_time": "2021-07-16T21:04:54.257Z"
   },
   {
    "duration": 281,
    "start_time": "2021-07-16T21:05:07.109Z"
   },
   {
    "duration": 4016,
    "start_time": "2021-07-16T21:05:33.274Z"
   },
   {
    "duration": 1365,
    "start_time": "2021-07-16T21:06:00.733Z"
   },
   {
    "duration": 1248,
    "start_time": "2021-07-16T21:06:15.787Z"
   },
   {
    "duration": 3568,
    "start_time": "2021-07-16T21:10:30.780Z"
   },
   {
    "duration": 4445,
    "start_time": "2021-07-16T21:10:42.488Z"
   },
   {
    "duration": 457,
    "start_time": "2021-07-16T21:11:01.356Z"
   },
   {
    "duration": 450,
    "start_time": "2021-07-16T21:11:19.699Z"
   },
   {
    "duration": 8,
    "start_time": "2021-07-16T21:13:53.809Z"
   },
   {
    "duration": 12,
    "start_time": "2021-07-16T21:13:57.148Z"
   },
   {
    "duration": 7,
    "start_time": "2021-07-16T21:14:31.459Z"
   },
   {
    "duration": 6,
    "start_time": "2021-07-16T21:15:10.233Z"
   },
   {
    "duration": 9,
    "start_time": "2021-07-16T21:15:25.247Z"
   },
   {
    "duration": 8,
    "start_time": "2021-07-16T21:15:50.630Z"
   },
   {
    "duration": 300,
    "start_time": "2021-07-16T21:16:11.340Z"
   },
   {
    "duration": 9,
    "start_time": "2021-07-16T21:16:16.252Z"
   },
   {
    "duration": 8,
    "start_time": "2021-07-16T21:16:32.301Z"
   },
   {
    "duration": 8,
    "start_time": "2021-07-16T21:16:49.105Z"
   },
   {
    "duration": 13,
    "start_time": "2021-07-16T21:17:01.543Z"
   },
   {
    "duration": 9,
    "start_time": "2021-07-16T21:17:09.951Z"
   },
   {
    "duration": 9,
    "start_time": "2021-07-16T21:17:17.668Z"
   },
   {
    "duration": 8,
    "start_time": "2021-07-16T21:17:22.820Z"
   },
   {
    "duration": 8,
    "start_time": "2021-07-16T21:17:43.514Z"
   },
   {
    "duration": 199,
    "start_time": "2021-07-16T21:18:35.512Z"
   },
   {
    "duration": 8,
    "start_time": "2021-07-16T21:19:44.433Z"
   },
   {
    "duration": 8,
    "start_time": "2021-07-16T21:19:48.147Z"
   },
   {
    "duration": 9,
    "start_time": "2021-07-16T21:20:12.536Z"
   },
   {
    "duration": 117,
    "start_time": "2021-07-16T21:20:26.812Z"
   },
   {
    "duration": 8,
    "start_time": "2021-07-16T21:20:31.293Z"
   },
   {
    "duration": 12,
    "start_time": "2021-07-16T21:20:39.529Z"
   },
   {
    "duration": 9,
    "start_time": "2021-07-16T21:20:51.868Z"
   },
   {
    "duration": 93,
    "start_time": "2021-07-16T21:21:00.443Z"
   },
   {
    "duration": 10,
    "start_time": "2021-07-16T21:21:04.363Z"
   },
   {
    "duration": 8,
    "start_time": "2021-07-16T21:21:11.390Z"
   },
   {
    "duration": 11,
    "start_time": "2021-07-16T21:21:17.510Z"
   },
   {
    "duration": 10,
    "start_time": "2021-07-16T21:21:29.601Z"
   },
   {
    "duration": 10,
    "start_time": "2021-07-16T21:21:39.590Z"
   },
   {
    "duration": 12,
    "start_time": "2021-07-16T21:22:05.854Z"
   },
   {
    "duration": 238,
    "start_time": "2021-07-16T21:22:37.902Z"
   },
   {
    "duration": 144,
    "start_time": "2021-07-16T21:22:52.867Z"
   },
   {
    "duration": 9,
    "start_time": "2021-07-16T21:23:42.074Z"
   },
   {
    "duration": 8,
    "start_time": "2021-07-16T21:23:53.369Z"
   },
   {
    "duration": 8,
    "start_time": "2021-07-16T21:24:25.422Z"
   },
   {
    "duration": 9,
    "start_time": "2021-07-16T21:24:43.380Z"
   },
   {
    "duration": 142,
    "start_time": "2021-07-16T21:25:30.971Z"
   },
   {
    "duration": 32,
    "start_time": "2021-07-16T21:25:34.549Z"
   },
   {
    "duration": 159,
    "start_time": "2021-07-16T21:25:53.060Z"
   },
   {
    "duration": 10,
    "start_time": "2021-07-16T21:26:40.199Z"
   },
   {
    "duration": 155,
    "start_time": "2021-07-16T21:30:16.835Z"
   },
   {
    "duration": 157,
    "start_time": "2021-07-16T21:30:43.757Z"
   },
   {
    "duration": 162,
    "start_time": "2021-07-16T21:32:14.819Z"
   },
   {
    "duration": 160,
    "start_time": "2021-07-16T21:32:31.569Z"
   },
   {
    "duration": 214,
    "start_time": "2021-07-16T21:32:39.499Z"
   },
   {
    "duration": 170,
    "start_time": "2021-07-16T21:32:49.885Z"
   },
   {
    "duration": 175,
    "start_time": "2021-07-16T21:33:00.386Z"
   },
   {
    "duration": 167,
    "start_time": "2021-07-16T21:33:26.772Z"
   },
   {
    "duration": 237,
    "start_time": "2021-07-16T21:34:13.615Z"
   },
   {
    "duration": 209,
    "start_time": "2021-07-16T21:35:23.792Z"
   },
   {
    "duration": 8,
    "start_time": "2021-07-16T21:36:33.817Z"
   },
   {
    "duration": 142,
    "start_time": "2021-07-16T21:41:54.063Z"
   },
   {
    "duration": 7,
    "start_time": "2021-07-16T22:00:43.234Z"
   },
   {
    "duration": 8,
    "start_time": "2021-07-16T22:00:47.451Z"
   },
   {
    "duration": 7,
    "start_time": "2021-07-16T22:01:15.413Z"
   },
   {
    "duration": 6,
    "start_time": "2021-07-16T22:04:00.074Z"
   },
   {
    "duration": 7,
    "start_time": "2021-07-16T22:06:07.538Z"
   },
   {
    "duration": 165,
    "start_time": "2021-07-16T22:09:29.818Z"
   },
   {
    "duration": 166,
    "start_time": "2021-07-16T22:09:52.708Z"
   },
   {
    "duration": 5,
    "start_time": "2021-07-16T22:10:53.118Z"
   },
   {
    "duration": 5,
    "start_time": "2021-07-16T22:14:37.287Z"
   },
   {
    "duration": 10,
    "start_time": "2021-07-16T22:15:13.290Z"
   },
   {
    "duration": 10,
    "start_time": "2021-07-16T22:17:00.238Z"
   },
   {
    "duration": 346,
    "start_time": "2021-07-16T23:23:55.687Z"
   },
   {
    "duration": 32,
    "start_time": "2021-07-16T23:24:12.660Z"
   },
   {
    "duration": 289,
    "start_time": "2021-07-16T23:25:55.032Z"
   },
   {
    "duration": 22,
    "start_time": "2021-07-16T23:26:12.570Z"
   },
   {
    "duration": 35,
    "start_time": "2021-07-16T23:26:21.836Z"
   },
   {
    "duration": 92,
    "start_time": "2021-07-16T23:26:33.954Z"
   },
   {
    "duration": 15,
    "start_time": "2021-07-16T23:27:24.751Z"
   },
   {
    "duration": 99,
    "start_time": "2021-07-16T23:27:41.139Z"
   },
   {
    "duration": 92,
    "start_time": "2021-07-16T23:27:48.484Z"
   },
   {
    "duration": 9,
    "start_time": "2021-07-16T23:27:53.406Z"
   },
   {
    "duration": 17,
    "start_time": "2021-07-16T23:27:57.956Z"
   },
   {
    "duration": 96,
    "start_time": "2021-07-16T23:28:10.171Z"
   },
   {
    "duration": 17,
    "start_time": "2021-07-16T23:28:14.388Z"
   },
   {
    "duration": 17,
    "start_time": "2021-07-16T23:29:03.595Z"
   },
   {
    "duration": 287,
    "start_time": "2021-07-16T23:29:22.549Z"
   },
   {
    "duration": 3,
    "start_time": "2021-07-16T23:29:37.388Z"
   },
   {
    "duration": 18,
    "start_time": "2021-07-16T23:29:42.103Z"
   },
   {
    "duration": 26,
    "start_time": "2021-07-16T23:41:54.972Z"
   },
   {
    "duration": 19,
    "start_time": "2021-07-16T23:42:45.311Z"
   },
   {
    "duration": 29,
    "start_time": "2021-07-16T23:42:54.095Z"
   },
   {
    "duration": 344,
    "start_time": "2021-07-16T23:49:01.990Z"
   },
   {
    "duration": 6426,
    "start_time": "2021-07-16T23:49:20.789Z"
   },
   {
    "duration": 26,
    "start_time": "2021-07-16T23:49:46.369Z"
   },
   {
    "duration": 35,
    "start_time": "2021-07-16T23:49:57.386Z"
   },
   {
    "duration": 275,
    "start_time": "2021-07-16T23:50:16.174Z"
   },
   {
    "duration": 39,
    "start_time": "2021-07-16T23:50:26.642Z"
   },
   {
    "duration": 38,
    "start_time": "2021-07-16T23:50:51.361Z"
   },
   {
    "duration": 33,
    "start_time": "2021-07-16T23:51:16.204Z"
   },
   {
    "duration": 297,
    "start_time": "2021-07-16T23:51:39.660Z"
   },
   {
    "duration": 99,
    "start_time": "2021-07-17T00:00:21.905Z"
   },
   {
    "duration": 7419,
    "start_time": "2021-07-17T00:00:27.858Z"
   },
   {
    "duration": 7218,
    "start_time": "2021-07-17T00:02:20.848Z"
   },
   {
    "duration": 308,
    "start_time": "2021-07-17T00:05:25.122Z"
   },
   {
    "duration": 29,
    "start_time": "2021-07-17T00:05:32.979Z"
   },
   {
    "duration": 40,
    "start_time": "2021-07-17T00:05:38.685Z"
   },
   {
    "duration": 285,
    "start_time": "2021-07-17T00:06:13.022Z"
   },
   {
    "duration": 40,
    "start_time": "2021-07-17T00:07:06.406Z"
   },
   {
    "duration": 100,
    "start_time": "2021-07-17T00:07:53.059Z"
   },
   {
    "duration": 45,
    "start_time": "2021-07-17T00:08:01.960Z"
   },
   {
    "duration": 42,
    "start_time": "2021-07-17T00:08:09.187Z"
   },
   {
    "duration": 294,
    "start_time": "2021-07-17T00:10:00.056Z"
   },
   {
    "duration": 34,
    "start_time": "2021-07-17T00:10:16.949Z"
   },
   {
    "duration": 121,
    "start_time": "2021-07-17T00:12:49.178Z"
   },
   {
    "duration": 134,
    "start_time": "2021-07-17T00:14:01.804Z"
   },
   {
    "duration": 133,
    "start_time": "2021-07-17T00:15:18.959Z"
   },
   {
    "duration": 299,
    "start_time": "2021-07-17T00:16:53.642Z"
   },
   {
    "duration": 974,
    "start_time": "2021-07-17T00:17:03.961Z"
   },
   {
    "duration": 11,
    "start_time": "2021-07-17T00:17:04.937Z"
   },
   {
    "duration": 8,
    "start_time": "2021-07-17T00:17:04.949Z"
   },
   {
    "duration": 6,
    "start_time": "2021-07-17T00:17:04.959Z"
   },
   {
    "duration": 8,
    "start_time": "2021-07-17T00:17:04.966Z"
   },
   {
    "duration": 16,
    "start_time": "2021-07-17T00:17:04.975Z"
   },
   {
    "duration": 11,
    "start_time": "2021-07-17T00:17:04.992Z"
   },
   {
    "duration": 16,
    "start_time": "2021-07-17T00:17:05.005Z"
   },
   {
    "duration": 20,
    "start_time": "2021-07-17T00:17:05.023Z"
   },
   {
    "duration": 8,
    "start_time": "2021-07-17T00:17:05.045Z"
   },
   {
    "duration": 28,
    "start_time": "2021-07-17T00:17:05.055Z"
   },
   {
    "duration": 18,
    "start_time": "2021-07-17T00:17:05.084Z"
   },
   {
    "duration": 10,
    "start_time": "2021-07-17T00:17:05.103Z"
   },
   {
    "duration": 31,
    "start_time": "2021-07-17T00:17:05.115Z"
   },
   {
    "duration": 14,
    "start_time": "2021-07-17T00:17:05.147Z"
   },
   {
    "duration": 22,
    "start_time": "2021-07-17T00:17:05.162Z"
   },
   {
    "duration": 15,
    "start_time": "2021-07-17T00:17:05.185Z"
   },
   {
    "duration": 337,
    "start_time": "2021-07-17T00:17:05.202Z"
   },
   {
    "duration": 287,
    "start_time": "2021-07-17T00:17:05.541Z"
   },
   {
    "duration": 42,
    "start_time": "2021-07-17T00:17:05.829Z"
   },
   {
    "duration": 25,
    "start_time": "2021-07-17T00:17:05.872Z"
   },
   {
    "duration": 10,
    "start_time": "2021-07-17T00:17:05.898Z"
   },
   {
    "duration": 257,
    "start_time": "2021-07-17T00:17:05.911Z"
   },
   {
    "duration": 37,
    "start_time": "2021-07-17T00:17:06.169Z"
   },
   {
    "duration": 7,
    "start_time": "2021-07-17T00:17:06.208Z"
   },
   {
    "duration": 56,
    "start_time": "2021-07-17T00:17:06.216Z"
   },
   {
    "duration": 110,
    "start_time": "2021-07-17T00:17:10.714Z"
   },
   {
    "duration": 120,
    "start_time": "2021-07-17T00:18:45.805Z"
   },
   {
    "duration": 119,
    "start_time": "2021-07-17T00:20:05.022Z"
   },
   {
    "duration": 110,
    "start_time": "2021-07-17T00:20:15.099Z"
   },
   {
    "duration": 109,
    "start_time": "2021-07-17T00:20:26.308Z"
   },
   {
    "duration": 112,
    "start_time": "2021-07-17T00:20:36.505Z"
   },
   {
    "duration": 86,
    "start_time": "2021-07-17T00:21:18.896Z"
   },
   {
    "duration": 101,
    "start_time": "2021-07-17T00:21:24.278Z"
   },
   {
    "duration": 101,
    "start_time": "2021-07-17T00:21:39.773Z"
   },
   {
    "duration": 472,
    "start_time": "2021-07-17T00:21:53.872Z"
   },
   {
    "duration": 444,
    "start_time": "2021-07-17T00:22:15.023Z"
   },
   {
    "duration": 442,
    "start_time": "2021-07-17T00:22:40.054Z"
   },
   {
    "duration": 102,
    "start_time": "2021-07-17T00:23:25.695Z"
   },
   {
    "duration": 324,
    "start_time": "2021-07-17T10:45:30.847Z"
   },
   {
    "duration": 888,
    "start_time": "2021-07-17T10:45:37.795Z"
   },
   {
    "duration": 9,
    "start_time": "2021-07-17T10:45:38.685Z"
   },
   {
    "duration": 8,
    "start_time": "2021-07-17T10:45:38.696Z"
   },
   {
    "duration": 6,
    "start_time": "2021-07-17T10:45:38.705Z"
   },
   {
    "duration": 6,
    "start_time": "2021-07-17T10:45:38.712Z"
   },
   {
    "duration": 6,
    "start_time": "2021-07-17T10:45:38.719Z"
   },
   {
    "duration": 8,
    "start_time": "2021-07-17T10:45:38.727Z"
   },
   {
    "duration": 14,
    "start_time": "2021-07-17T10:45:38.737Z"
   },
   {
    "duration": 10,
    "start_time": "2021-07-17T10:45:38.753Z"
   },
   {
    "duration": 30,
    "start_time": "2021-07-17T10:45:38.765Z"
   },
   {
    "duration": 24,
    "start_time": "2021-07-17T10:45:38.797Z"
   },
   {
    "duration": 17,
    "start_time": "2021-07-17T10:45:38.823Z"
   },
   {
    "duration": 10,
    "start_time": "2021-07-17T10:45:38.841Z"
   },
   {
    "duration": 9,
    "start_time": "2021-07-17T10:45:38.852Z"
   },
   {
    "duration": 33,
    "start_time": "2021-07-17T10:45:38.862Z"
   },
   {
    "duration": 23,
    "start_time": "2021-07-17T10:45:38.896Z"
   },
   {
    "duration": 14,
    "start_time": "2021-07-17T10:45:38.921Z"
   },
   {
    "duration": 314,
    "start_time": "2021-07-17T10:45:38.936Z"
   },
   {
    "duration": 281,
    "start_time": "2021-07-17T10:45:39.251Z"
   },
   {
    "duration": 38,
    "start_time": "2021-07-17T10:45:39.534Z"
   },
   {
    "duration": 37,
    "start_time": "2021-07-17T10:45:39.573Z"
   },
   {
    "duration": 11,
    "start_time": "2021-07-17T10:45:39.612Z"
   },
   {
    "duration": 238,
    "start_time": "2021-07-17T10:45:39.626Z"
   },
   {
    "duration": 44,
    "start_time": "2021-07-17T10:45:39.865Z"
   },
   {
    "duration": 7,
    "start_time": "2021-07-17T10:45:39.910Z"
   },
   {
    "duration": 32,
    "start_time": "2021-07-17T10:45:39.919Z"
   },
   {
    "duration": 438,
    "start_time": "2021-07-17T10:45:39.953Z"
   },
   {
    "duration": 363,
    "start_time": "2021-07-17T10:45:52.075Z"
   },
   {
    "duration": 290,
    "start_time": "2021-07-17T10:46:09.028Z"
   },
   {
    "duration": 7,
    "start_time": "2021-07-17T10:46:09.319Z"
   },
   {
    "duration": 16,
    "start_time": "2021-07-17T10:46:09.327Z"
   },
   {
    "duration": 5,
    "start_time": "2021-07-17T10:46:09.344Z"
   },
   {
    "duration": 6,
    "start_time": "2021-07-17T10:46:09.350Z"
   },
   {
    "duration": 5,
    "start_time": "2021-07-17T10:46:09.358Z"
   },
   {
    "duration": 8,
    "start_time": "2021-07-17T10:46:09.364Z"
   },
   {
    "duration": 13,
    "start_time": "2021-07-17T10:46:09.391Z"
   },
   {
    "duration": 10,
    "start_time": "2021-07-17T10:46:09.406Z"
   },
   {
    "duration": 10,
    "start_time": "2021-07-17T10:46:09.418Z"
   },
   {
    "duration": 27,
    "start_time": "2021-07-17T10:46:09.429Z"
   },
   {
    "duration": 38,
    "start_time": "2021-07-17T10:46:09.458Z"
   },
   {
    "duration": 10,
    "start_time": "2021-07-17T10:46:09.497Z"
   },
   {
    "duration": 10,
    "start_time": "2021-07-17T10:46:09.508Z"
   },
   {
    "duration": 8,
    "start_time": "2021-07-17T10:46:09.519Z"
   },
   {
    "duration": 21,
    "start_time": "2021-07-17T10:46:09.529Z"
   },
   {
    "duration": 10,
    "start_time": "2021-07-17T10:46:09.551Z"
   },
   {
    "duration": 372,
    "start_time": "2021-07-17T10:46:09.562Z"
   },
   {
    "duration": 277,
    "start_time": "2021-07-17T10:46:09.935Z"
   },
   {
    "duration": 33,
    "start_time": "2021-07-17T10:46:10.213Z"
   },
   {
    "duration": 24,
    "start_time": "2021-07-17T10:46:10.248Z"
   },
   {
    "duration": 27,
    "start_time": "2021-07-17T10:46:10.273Z"
   },
   {
    "duration": 235,
    "start_time": "2021-07-17T10:46:10.302Z"
   },
   {
    "duration": 33,
    "start_time": "2021-07-17T10:46:10.539Z"
   },
   {
    "duration": 19,
    "start_time": "2021-07-17T10:46:10.574Z"
   },
   {
    "duration": 32,
    "start_time": "2021-07-17T10:46:10.594Z"
   },
   {
    "duration": 377,
    "start_time": "2021-07-17T10:46:10.627Z"
   },
   {
    "duration": -1081,
    "start_time": "2021-07-17T10:46:12.087Z"
   },
   {
    "duration": -1090,
    "start_time": "2021-07-17T10:46:12.097Z"
   },
   {
    "duration": -1099,
    "start_time": "2021-07-17T10:46:12.107Z"
   },
   {
    "duration": -1105,
    "start_time": "2021-07-17T10:46:12.115Z"
   },
   {
    "duration": -1111,
    "start_time": "2021-07-17T10:46:12.122Z"
   },
   {
    "duration": 8,
    "start_time": "2021-07-17T10:46:13.840Z"
   },
   {
    "duration": 108,
    "start_time": "2021-07-17T10:46:29.108Z"
   },
   {
    "duration": 89,
    "start_time": "2021-07-17T10:46:38.758Z"
   },
   {
    "duration": 83,
    "start_time": "2021-07-17T10:46:42.146Z"
   },
   {
    "duration": 368,
    "start_time": "2021-07-17T10:46:53.513Z"
   },
   {
    "duration": 106,
    "start_time": "2021-07-17T10:52:25.929Z"
   },
   {
    "duration": 128,
    "start_time": "2021-07-17T10:52:33.838Z"
   },
   {
    "duration": 136,
    "start_time": "2021-07-17T10:54:25.114Z"
   },
   {
    "duration": 123,
    "start_time": "2021-07-17T10:54:42.537Z"
   },
   {
    "duration": 101,
    "start_time": "2021-07-17T11:01:45.056Z"
   },
   {
    "duration": 7,
    "start_time": "2021-07-17T11:02:01.731Z"
   },
   {
    "duration": 162,
    "start_time": "2021-07-17T11:03:19.479Z"
   },
   {
    "duration": 148,
    "start_time": "2021-07-17T11:06:36.732Z"
   },
   {
    "duration": 215,
    "start_time": "2021-07-17T11:08:20.253Z"
   },
   {
    "duration": 149,
    "start_time": "2021-07-17T11:08:44.054Z"
   },
   {
    "duration": 146,
    "start_time": "2021-07-17T11:09:36.953Z"
   },
   {
    "duration": 157,
    "start_time": "2021-07-17T11:09:51.189Z"
   },
   {
    "duration": 144,
    "start_time": "2021-07-17T11:09:58.037Z"
   },
   {
    "duration": 145,
    "start_time": "2021-07-17T11:10:08.567Z"
   },
   {
    "duration": 161,
    "start_time": "2021-07-17T11:10:24.982Z"
   },
   {
    "duration": 12,
    "start_time": "2021-07-17T11:14:18.405Z"
   },
   {
    "duration": 3,
    "start_time": "2021-07-17T11:29:46.979Z"
   },
   {
    "duration": 149,
    "start_time": "2021-07-17T11:30:04.971Z"
   },
   {
    "duration": 875,
    "start_time": "2021-07-17T11:30:56.835Z"
   },
   {
    "duration": 10,
    "start_time": "2021-07-17T11:30:57.712Z"
   },
   {
    "duration": 6,
    "start_time": "2021-07-17T11:30:57.724Z"
   },
   {
    "duration": 6,
    "start_time": "2021-07-17T11:30:57.731Z"
   },
   {
    "duration": 6,
    "start_time": "2021-07-17T11:30:57.739Z"
   },
   {
    "duration": 6,
    "start_time": "2021-07-17T11:30:57.747Z"
   },
   {
    "duration": 10,
    "start_time": "2021-07-17T11:30:57.754Z"
   },
   {
    "duration": 37,
    "start_time": "2021-07-17T11:30:57.765Z"
   },
   {
    "duration": 14,
    "start_time": "2021-07-17T11:30:57.805Z"
   },
   {
    "duration": 10,
    "start_time": "2021-07-17T11:30:57.821Z"
   },
   {
    "duration": 58,
    "start_time": "2021-07-17T11:30:57.833Z"
   },
   {
    "duration": 20,
    "start_time": "2021-07-17T11:30:57.893Z"
   },
   {
    "duration": 11,
    "start_time": "2021-07-17T11:30:57.914Z"
   },
   {
    "duration": 8,
    "start_time": "2021-07-17T11:30:57.926Z"
   },
   {
    "duration": 8,
    "start_time": "2021-07-17T11:30:57.935Z"
   },
   {
    "duration": 46,
    "start_time": "2021-07-17T11:30:57.945Z"
   },
   {
    "duration": 15,
    "start_time": "2021-07-17T11:30:57.993Z"
   },
   {
    "duration": 330,
    "start_time": "2021-07-17T11:30:58.010Z"
   },
   {
    "duration": 301,
    "start_time": "2021-07-17T11:30:58.342Z"
   },
   {
    "duration": 38,
    "start_time": "2021-07-17T11:30:58.645Z"
   },
   {
    "duration": 25,
    "start_time": "2021-07-17T11:30:58.691Z"
   },
   {
    "duration": 9,
    "start_time": "2021-07-17T11:30:58.718Z"
   },
   {
    "duration": 247,
    "start_time": "2021-07-17T11:30:58.729Z"
   },
   {
    "duration": 42,
    "start_time": "2021-07-17T11:30:58.978Z"
   },
   {
    "duration": 7,
    "start_time": "2021-07-17T11:30:59.021Z"
   },
   {
    "duration": 36,
    "start_time": "2021-07-17T11:30:59.029Z"
   },
   {
    "duration": 98,
    "start_time": "2021-07-17T11:30:59.068Z"
   },
   {
    "duration": 7,
    "start_time": "2021-07-17T11:30:59.167Z"
   },
   {
    "duration": 102,
    "start_time": "2021-07-17T11:30:59.175Z"
   },
   {
    "duration": 99,
    "start_time": "2021-07-17T11:30:59.278Z"
   },
   {
    "duration": 18,
    "start_time": "2021-07-17T11:30:59.379Z"
   },
   {
    "duration": 12,
    "start_time": "2021-07-17T11:30:59.399Z"
   },
   {
    "duration": 130,
    "start_time": "2021-07-17T11:31:14.052Z"
   },
   {
    "duration": 35,
    "start_time": "2021-07-17T11:47:36.649Z"
   },
   {
    "duration": 32,
    "start_time": "2021-07-17T11:48:05.058Z"
   },
   {
    "duration": 26,
    "start_time": "2021-07-17T11:48:29.351Z"
   },
   {
    "duration": 285,
    "start_time": "2021-07-17T11:49:17.172Z"
   },
   {
    "duration": 230,
    "start_time": "2021-07-17T11:49:28.164Z"
   },
   {
    "duration": 29,
    "start_time": "2021-07-17T11:50:46.008Z"
   },
   {
    "duration": 30,
    "start_time": "2021-07-17T11:50:53.542Z"
   },
   {
    "duration": 29,
    "start_time": "2021-07-17T11:51:39.153Z"
   },
   {
    "duration": 240,
    "start_time": "2021-07-17T11:52:09.220Z"
   },
   {
    "duration": 28,
    "start_time": "2021-07-17T11:52:17.628Z"
   },
   {
    "duration": 29,
    "start_time": "2021-07-17T11:52:45.565Z"
   },
   {
    "duration": 31,
    "start_time": "2021-07-17T11:53:56.126Z"
   },
   {
    "duration": 29,
    "start_time": "2021-07-17T11:55:31.917Z"
   },
   {
    "duration": 37,
    "start_time": "2021-07-17T11:55:42.423Z"
   },
   {
    "duration": 38,
    "start_time": "2021-07-17T11:55:52.726Z"
   },
   {
    "duration": 23,
    "start_time": "2021-07-17T11:56:12.825Z"
   },
   {
    "duration": 39,
    "start_time": "2021-07-17T11:56:20.382Z"
   },
   {
    "duration": 79,
    "start_time": "2021-07-17T11:56:46.014Z"
   },
   {
    "duration": 34,
    "start_time": "2021-07-17T11:57:30.540Z"
   },
   {
    "duration": 33,
    "start_time": "2021-07-17T11:57:44.416Z"
   },
   {
    "duration": 229,
    "start_time": "2021-07-17T12:00:22.567Z"
   },
   {
    "duration": 4,
    "start_time": "2021-07-17T12:00:30.771Z"
   },
   {
    "duration": 17,
    "start_time": "2021-07-17T12:00:34.441Z"
   },
   {
    "duration": 35,
    "start_time": "2021-07-17T12:01:03.506Z"
   },
   {
    "duration": 278,
    "start_time": "2021-07-17T12:01:26.221Z"
   },
   {
    "duration": 853,
    "start_time": "2021-07-17T12:01:31.327Z"
   },
   {
    "duration": 11,
    "start_time": "2021-07-17T12:01:32.182Z"
   },
   {
    "duration": 5,
    "start_time": "2021-07-17T12:01:32.195Z"
   },
   {
    "duration": 6,
    "start_time": "2021-07-17T12:01:32.202Z"
   },
   {
    "duration": 7,
    "start_time": "2021-07-17T12:01:32.209Z"
   },
   {
    "duration": 6,
    "start_time": "2021-07-17T12:01:32.217Z"
   },
   {
    "duration": 11,
    "start_time": "2021-07-17T12:01:32.224Z"
   },
   {
    "duration": 14,
    "start_time": "2021-07-17T12:01:32.236Z"
   },
   {
    "duration": 39,
    "start_time": "2021-07-17T12:01:32.253Z"
   },
   {
    "duration": 10,
    "start_time": "2021-07-17T12:01:32.294Z"
   },
   {
    "duration": 30,
    "start_time": "2021-07-17T12:01:32.306Z"
   },
   {
    "duration": 17,
    "start_time": "2021-07-17T12:01:32.338Z"
   },
   {
    "duration": 13,
    "start_time": "2021-07-17T12:01:32.357Z"
   },
   {
    "duration": 7,
    "start_time": "2021-07-17T12:01:32.391Z"
   },
   {
    "duration": 18,
    "start_time": "2021-07-17T12:01:32.399Z"
   },
   {
    "duration": 35,
    "start_time": "2021-07-17T12:01:32.418Z"
   },
   {
    "duration": 14,
    "start_time": "2021-07-17T12:01:32.454Z"
   },
   {
    "duration": 298,
    "start_time": "2021-07-17T12:01:32.470Z"
   },
   {
    "duration": 292,
    "start_time": "2021-07-17T12:01:32.770Z"
   },
   {
    "duration": 45,
    "start_time": "2021-07-17T12:01:33.063Z"
   },
   {
    "duration": 9,
    "start_time": "2021-07-17T12:01:33.109Z"
   },
   {
    "duration": 226,
    "start_time": "2021-07-17T12:01:33.120Z"
   },
   {
    "duration": 50,
    "start_time": "2021-07-17T12:01:33.348Z"
   },
   {
    "duration": 8,
    "start_time": "2021-07-17T12:01:33.399Z"
   },
   {
    "duration": 31,
    "start_time": "2021-07-17T12:01:33.409Z"
   },
   {
    "duration": 5572,
    "start_time": "2021-07-17T12:02:42.111Z"
   },
   {
    "duration": 5585,
    "start_time": "2021-07-17T12:03:02.061Z"
   },
   {
    "duration": 29,
    "start_time": "2021-07-17T12:03:46.316Z"
   },
   {
    "duration": 37,
    "start_time": "2021-07-17T12:03:52.134Z"
   },
   {
    "duration": 20,
    "start_time": "2021-07-17T12:05:26.658Z"
   },
   {
    "duration": 24,
    "start_time": "2021-07-17T12:05:56.236Z"
   },
   {
    "duration": 251,
    "start_time": "2021-07-17T12:09:58.077Z"
   },
   {
    "duration": 5839,
    "start_time": "2021-07-17T12:10:46.621Z"
   },
   {
    "duration": 26,
    "start_time": "2021-07-17T12:11:07.077Z"
   },
   {
    "duration": 33,
    "start_time": "2021-07-17T12:15:31.887Z"
   },
   {
    "duration": 16,
    "start_time": "2021-07-17T12:15:35.799Z"
   },
   {
    "duration": 25,
    "start_time": "2021-07-17T12:15:41.215Z"
   },
   {
    "duration": 41,
    "start_time": "2021-07-17T12:17:23.372Z"
   },
   {
    "duration": 3,
    "start_time": "2021-07-17T12:19:00.220Z"
   },
   {
    "duration": 3,
    "start_time": "2021-07-17T12:19:03.391Z"
   },
   {
    "duration": 354,
    "start_time": "2021-07-17T12:21:15.221Z"
   },
   {
    "duration": 375,
    "start_time": "2021-07-17T12:21:57.498Z"
   },
   {
    "duration": 390,
    "start_time": "2021-07-17T12:22:45.640Z"
   },
   {
    "duration": 381,
    "start_time": "2021-07-17T12:23:00.914Z"
   },
   {
    "duration": 2896,
    "start_time": "2021-07-17T12:23:49.462Z"
   },
   {
    "duration": 2818,
    "start_time": "2021-07-17T12:23:56.768Z"
   },
   {
    "duration": 89,
    "start_time": "2021-07-17T12:25:23.436Z"
   },
   {
    "duration": 12,
    "start_time": "2021-07-17T12:25:53.614Z"
   },
   {
    "duration": 1611,
    "start_time": "2021-07-17T12:26:56.192Z"
   },
   {
    "duration": 5541,
    "start_time": "2021-07-17T12:27:05.466Z"
   },
   {
    "duration": 1264,
    "start_time": "2021-07-17T14:56:03.848Z"
   },
   {
    "duration": 15,
    "start_time": "2021-07-17T14:56:05.115Z"
   },
   {
    "duration": 24,
    "start_time": "2021-07-17T14:56:05.133Z"
   },
   {
    "duration": 7,
    "start_time": "2021-07-17T14:56:05.160Z"
   },
   {
    "duration": 9,
    "start_time": "2021-07-17T14:56:05.169Z"
   },
   {
    "duration": 9,
    "start_time": "2021-07-17T14:56:05.180Z"
   },
   {
    "duration": 14,
    "start_time": "2021-07-17T14:56:05.191Z"
   },
   {
    "duration": 57,
    "start_time": "2021-07-17T14:56:05.209Z"
   },
   {
    "duration": 17,
    "start_time": "2021-07-17T14:56:05.268Z"
   },
   {
    "duration": 14,
    "start_time": "2021-07-17T14:56:05.287Z"
   },
   {
    "duration": 72,
    "start_time": "2021-07-17T14:56:05.303Z"
   },
   {
    "duration": 27,
    "start_time": "2021-07-17T14:56:05.377Z"
   },
   {
    "duration": 15,
    "start_time": "2021-07-17T14:56:05.407Z"
   },
   {
    "duration": 35,
    "start_time": "2021-07-17T14:56:05.425Z"
   },
   {
    "duration": 17,
    "start_time": "2021-07-17T14:56:05.463Z"
   },
   {
    "duration": 29,
    "start_time": "2021-07-17T14:56:05.483Z"
   },
   {
    "duration": 45,
    "start_time": "2021-07-17T14:56:05.515Z"
   },
   {
    "duration": 581,
    "start_time": "2021-07-17T14:56:05.563Z"
   },
   {
    "duration": 557,
    "start_time": "2021-07-17T14:56:12.917Z"
   },
   {
    "duration": 566,
    "start_time": "2021-07-17T14:56:19.031Z"
   },
   {
    "duration": 43,
    "start_time": "2021-07-17T14:59:59.843Z"
   },
   {
    "duration": 916,
    "start_time": "2021-07-17T15:00:19.030Z"
   },
   {
    "duration": 1100,
    "start_time": "2021-07-17T15:00:23.557Z"
   },
   {
    "duration": 33362,
    "start_time": "2021-07-17T15:00:46.256Z"
   },
   {
    "duration": 32790,
    "start_time": "2021-07-17T15:02:14.091Z"
   },
   {
    "duration": 33,
    "start_time": "2021-07-17T15:03:41.201Z"
   },
   {
    "duration": 358,
    "start_time": "2021-07-17T15:04:33.535Z"
   },
   {
    "duration": 30,
    "start_time": "2021-07-17T15:04:45.891Z"
   },
   {
    "duration": 1927,
    "start_time": "2021-07-17T15:29:33.217Z"
   },
   {
    "duration": 15,
    "start_time": "2021-07-17T15:29:35.146Z"
   },
   {
    "duration": 8,
    "start_time": "2021-07-17T15:29:35.164Z"
   },
   {
    "duration": 7,
    "start_time": "2021-07-17T15:29:35.175Z"
   },
   {
    "duration": 14,
    "start_time": "2021-07-17T15:29:35.184Z"
   },
   {
    "duration": 13,
    "start_time": "2021-07-17T15:29:35.201Z"
   },
   {
    "duration": 49,
    "start_time": "2021-07-17T15:29:35.216Z"
   },
   {
    "duration": 23,
    "start_time": "2021-07-17T15:29:35.271Z"
   },
   {
    "duration": 18,
    "start_time": "2021-07-17T15:29:35.298Z"
   },
   {
    "duration": 43,
    "start_time": "2021-07-17T15:29:35.319Z"
   },
   {
    "duration": 42,
    "start_time": "2021-07-17T15:29:35.365Z"
   },
   {
    "duration": 62,
    "start_time": "2021-07-17T15:29:35.410Z"
   },
   {
    "duration": 17,
    "start_time": "2021-07-17T15:29:35.476Z"
   },
   {
    "duration": 12,
    "start_time": "2021-07-17T15:29:35.496Z"
   },
   {
    "duration": 12,
    "start_time": "2021-07-17T15:29:35.510Z"
   },
   {
    "duration": 60,
    "start_time": "2021-07-17T15:29:35.524Z"
   },
   {
    "duration": 22,
    "start_time": "2021-07-17T15:29:35.587Z"
   },
   {
    "duration": 613,
    "start_time": "2021-07-17T15:29:35.612Z"
   },
   {
    "duration": 587,
    "start_time": "2021-07-17T15:29:36.228Z"
   },
   {
    "duration": 56,
    "start_time": "2021-07-17T15:29:36.818Z"
   },
   {
    "duration": 18,
    "start_time": "2021-07-17T15:29:36.877Z"
   },
   {
    "duration": 415,
    "start_time": "2021-07-17T15:29:36.897Z"
   },
   {
    "duration": 63,
    "start_time": "2021-07-17T15:29:37.316Z"
   },
   {
    "duration": 53,
    "start_time": "2021-07-17T15:30:36.920Z"
   },
   {
    "duration": 43,
    "start_time": "2021-07-17T15:30:52.096Z"
   },
   {
    "duration": 23,
    "start_time": "2021-07-17T15:32:03.570Z"
   },
   {
    "duration": 99,
    "start_time": "2021-07-17T15:34:20.302Z"
   },
   {
    "duration": 7555,
    "start_time": "2021-07-17T15:34:24.761Z"
   },
   {
    "duration": 51,
    "start_time": "2021-07-17T15:35:08.353Z"
   },
   {
    "duration": 53,
    "start_time": "2021-07-17T15:35:16.997Z"
   },
   {
    "duration": 54,
    "start_time": "2021-07-17T15:35:31.215Z"
   },
   {
    "duration": 56,
    "start_time": "2021-07-17T15:35:45.347Z"
   },
   {
    "duration": 53,
    "start_time": "2021-07-17T15:35:55.393Z"
   },
   {
    "duration": 54,
    "start_time": "2021-07-17T15:36:09.905Z"
   },
   {
    "duration": 50,
    "start_time": "2021-07-17T15:36:28.995Z"
   },
   {
    "duration": 47,
    "start_time": "2021-07-17T15:36:37.507Z"
   },
   {
    "duration": 51,
    "start_time": "2021-07-17T15:36:55.995Z"
   },
   {
    "duration": 53,
    "start_time": "2021-07-17T15:37:09.841Z"
   },
   {
    "duration": 76,
    "start_time": "2021-07-17T15:37:17.092Z"
   },
   {
    "duration": 50,
    "start_time": "2021-07-17T15:37:24.950Z"
   },
   {
    "duration": 50,
    "start_time": "2021-07-17T15:37:32.581Z"
   },
   {
    "duration": 53,
    "start_time": "2021-07-17T15:37:40.171Z"
   },
   {
    "duration": 50,
    "start_time": "2021-07-17T15:37:50.062Z"
   },
   {
    "duration": 1193,
    "start_time": "2021-07-17T15:38:37.183Z"
   },
   {
    "duration": 1347,
    "start_time": "2021-07-17T15:38:47.575Z"
   },
   {
    "duration": 1416,
    "start_time": "2021-07-17T15:38:54.973Z"
   },
   {
    "duration": 318,
    "start_time": "2021-07-17T15:39:05.189Z"
   },
   {
    "duration": 16,
    "start_time": "2021-07-17T15:39:19.179Z"
   },
   {
    "duration": 15,
    "start_time": "2021-07-17T15:39:25.495Z"
   },
   {
    "duration": 517,
    "start_time": "2021-07-17T15:40:32.251Z"
   },
   {
    "duration": 556,
    "start_time": "2021-07-17T15:40:58.529Z"
   },
   {
    "duration": 1970,
    "start_time": "2021-07-17T15:41:27.081Z"
   },
   {
    "duration": 4,
    "start_time": "2021-07-17T15:42:59.930Z"
   },
   {
    "duration": 5,
    "start_time": "2021-07-17T15:43:04.423Z"
   },
   {
    "duration": 18,
    "start_time": "2021-07-17T15:43:13.759Z"
   },
   {
    "duration": 307,
    "start_time": "2021-07-17T15:43:30.193Z"
   },
   {
    "duration": 8,
    "start_time": "2021-07-17T15:43:38.483Z"
   },
   {
    "duration": 18,
    "start_time": "2021-07-17T15:43:53.236Z"
   },
   {
    "duration": 13,
    "start_time": "2021-07-17T15:44:17.585Z"
   },
   {
    "duration": 8,
    "start_time": "2021-07-17T15:44:37.894Z"
   },
   {
    "duration": 11,
    "start_time": "2021-07-17T16:16:51.542Z"
   },
   {
    "duration": 11,
    "start_time": "2021-07-17T16:19:57.242Z"
   },
   {
    "duration": 13,
    "start_time": "2021-07-17T16:20:05.415Z"
   },
   {
    "duration": 11,
    "start_time": "2021-07-17T16:20:32.528Z"
   },
   {
    "duration": 4572,
    "start_time": "2021-07-17T16:24:50.467Z"
   },
   {
    "duration": 4848,
    "start_time": "2021-07-17T16:25:07.883Z"
   },
   {
    "duration": 4709,
    "start_time": "2021-07-17T16:26:40.385Z"
   },
   {
    "duration": 4950,
    "start_time": "2021-07-17T16:27:15.838Z"
   },
   {
    "duration": 4611,
    "start_time": "2021-07-17T16:27:35.777Z"
   },
   {
    "duration": 11,
    "start_time": "2021-07-17T16:33:31.609Z"
   },
   {
    "duration": 9,
    "start_time": "2021-07-17T16:33:58.842Z"
   },
   {
    "duration": 82,
    "start_time": "2021-07-17T16:38:08.372Z"
   },
   {
    "duration": 90,
    "start_time": "2021-07-17T16:38:31.898Z"
   },
   {
    "duration": 28,
    "start_time": "2021-07-17T16:38:43.479Z"
   },
   {
    "duration": 12,
    "start_time": "2021-07-17T16:43:57.551Z"
   },
   {
    "duration": 262,
    "start_time": "2021-07-17T16:52:48.349Z"
   },
   {
    "duration": 32,
    "start_time": "2021-07-17T16:53:17.924Z"
   },
   {
    "duration": 11,
    "start_time": "2021-07-17T16:53:34.073Z"
   },
   {
    "duration": 84,
    "start_time": "2021-07-17T16:57:17.463Z"
   },
   {
    "duration": 51,
    "start_time": "2021-07-17T16:57:23.637Z"
   },
   {
    "duration": 49,
    "start_time": "2021-07-17T16:59:22.655Z"
   },
   {
    "duration": 63,
    "start_time": "2021-07-17T17:01:04.574Z"
   },
   {
    "duration": 58,
    "start_time": "2021-07-17T17:01:13.352Z"
   },
   {
    "duration": 92,
    "start_time": "2021-07-17T17:01:52.877Z"
   },
   {
    "duration": 1262,
    "start_time": "2021-07-17T19:34:01.072Z"
   },
   {
    "duration": 18,
    "start_time": "2021-07-17T19:34:02.337Z"
   },
   {
    "duration": 16,
    "start_time": "2021-07-17T19:34:02.359Z"
   },
   {
    "duration": 20,
    "start_time": "2021-07-17T19:34:02.378Z"
   },
   {
    "duration": 17,
    "start_time": "2021-07-17T19:34:02.401Z"
   },
   {
    "duration": 10,
    "start_time": "2021-07-17T19:34:02.420Z"
   },
   {
    "duration": 33,
    "start_time": "2021-07-17T19:34:02.433Z"
   },
   {
    "duration": 26,
    "start_time": "2021-07-17T19:34:02.471Z"
   },
   {
    "duration": 19,
    "start_time": "2021-07-17T19:34:02.501Z"
   },
   {
    "duration": 43,
    "start_time": "2021-07-17T19:34:02.523Z"
   },
   {
    "duration": 38,
    "start_time": "2021-07-17T19:34:02.569Z"
   },
   {
    "duration": 55,
    "start_time": "2021-07-17T19:34:02.610Z"
   },
   {
    "duration": 16,
    "start_time": "2021-07-17T19:34:02.667Z"
   },
   {
    "duration": 14,
    "start_time": "2021-07-17T19:34:02.685Z"
   },
   {
    "duration": 10,
    "start_time": "2021-07-17T19:34:02.701Z"
   },
   {
    "duration": 62,
    "start_time": "2021-07-17T19:34:02.713Z"
   },
   {
    "duration": 20,
    "start_time": "2021-07-17T19:34:02.777Z"
   },
   {
    "duration": 582,
    "start_time": "2021-07-17T19:34:02.799Z"
   },
   {
    "duration": 573,
    "start_time": "2021-07-17T19:34:03.385Z"
   },
   {
    "duration": 44,
    "start_time": "2021-07-17T19:34:03.960Z"
   },
   {
    "duration": 16,
    "start_time": "2021-07-17T19:34:04.007Z"
   },
   {
    "duration": 423,
    "start_time": "2021-07-17T19:34:04.026Z"
   },
   {
    "duration": 58,
    "start_time": "2021-07-17T19:34:04.453Z"
   },
   {
    "duration": 77,
    "start_time": "2021-07-17T19:34:04.514Z"
   },
   {
    "duration": 7,
    "start_time": "2021-07-17T19:34:04.593Z"
   },
   {
    "duration": 1223,
    "start_time": "2021-07-17T19:34:04.602Z"
   },
   {
    "duration": 13,
    "start_time": "2021-07-17T19:34:05.828Z"
   },
   {
    "duration": 1364,
    "start_time": "2021-07-17T19:34:05.843Z"
   },
   {
    "duration": 1369,
    "start_time": "2021-07-17T19:34:07.209Z"
   },
   {
    "duration": 15,
    "start_time": "2021-07-17T19:34:08.580Z"
   },
   {
    "duration": 21,
    "start_time": "2021-07-17T19:34:08.597Z"
   },
   {
    "duration": 1937,
    "start_time": "2021-07-17T19:34:08.620Z"
   },
   {
    "duration": 65,
    "start_time": "2021-07-17T19:34:10.559Z"
   },
   {
    "duration": 36,
    "start_time": "2021-07-17T19:34:10.627Z"
   },
   {
    "duration": 94,
    "start_time": "2021-07-17T19:35:07.191Z"
   },
   {
    "duration": 97,
    "start_time": "2021-07-17T19:40:54.698Z"
   },
   {
    "duration": 96,
    "start_time": "2021-07-17T19:41:56.192Z"
   },
   {
    "duration": 301,
    "start_time": "2021-07-17T19:42:07.206Z"
   },
   {
    "duration": 1111,
    "start_time": "2021-07-17T19:42:12.474Z"
   },
   {
    "duration": 85,
    "start_time": "2021-07-17T19:42:38.888Z"
   },
   {
    "duration": 82,
    "start_time": "2021-07-17T19:43:44.874Z"
   },
   {
    "duration": 354,
    "start_time": "2021-07-17T19:45:43.213Z"
   },
   {
    "duration": 412,
    "start_time": "2021-07-17T19:46:23.951Z"
   },
   {
    "duration": 186,
    "start_time": "2021-07-17T19:47:40.245Z"
   },
   {
    "duration": 419,
    "start_time": "2021-07-17T19:49:26.574Z"
   },
   {
    "duration": 354,
    "start_time": "2021-07-17T19:50:02.886Z"
   },
   {
    "duration": 339,
    "start_time": "2021-07-17T19:52:28.764Z"
   },
   {
    "duration": -2115,
    "start_time": "2021-07-17T19:53:06.178Z"
   },
   {
    "duration": 393,
    "start_time": "2021-07-17T19:53:11.132Z"
   },
   {
    "duration": 357,
    "start_time": "2021-07-17T19:53:51.509Z"
   },
   {
    "duration": 340,
    "start_time": "2021-07-17T19:55:50.169Z"
   },
   {
    "duration": 639,
    "start_time": "2021-07-17T19:56:33.734Z"
   },
   {
    "duration": 671,
    "start_time": "2021-07-17T20:00:32.207Z"
   },
   {
    "duration": 706,
    "start_time": "2021-07-17T20:00:51.109Z"
   },
   {
    "duration": 310,
    "start_time": "2021-07-17T20:03:47.433Z"
   },
   {
    "duration": 330,
    "start_time": "2021-07-17T20:04:10.732Z"
   },
   {
    "duration": 328,
    "start_time": "2021-07-17T20:08:00.687Z"
   },
   {
    "duration": 351,
    "start_time": "2021-07-17T20:08:12.330Z"
   },
   {
    "duration": 326,
    "start_time": "2021-07-17T20:08:41.474Z"
   },
   {
    "duration": 331,
    "start_time": "2021-07-17T20:08:54.857Z"
   },
   {
    "duration": 328,
    "start_time": "2021-07-17T20:09:06.065Z"
   },
   {
    "duration": 472,
    "start_time": "2021-07-17T20:09:16.131Z"
   },
   {
    "duration": 641,
    "start_time": "2021-07-17T20:10:23.377Z"
   },
   {
    "duration": 361,
    "start_time": "2021-07-17T20:10:28.098Z"
   },
   {
    "duration": 1082,
    "start_time": "2021-07-17T20:10:42.525Z"
   },
   {
    "duration": 1195,
    "start_time": "2021-07-17T20:10:56.145Z"
   },
   {
    "duration": 339,
    "start_time": "2021-07-17T20:11:38.487Z"
   },
   {
    "duration": 325,
    "start_time": "2021-07-17T20:12:03.429Z"
   },
   {
    "duration": 332,
    "start_time": "2021-07-17T20:12:22.729Z"
   },
   {
    "duration": 1039,
    "start_time": "2021-07-17T20:16:51.892Z"
   },
   {
    "duration": 306,
    "start_time": "2021-07-17T20:17:48.754Z"
   },
   {
    "duration": 530,
    "start_time": "2021-07-17T20:18:24.367Z"
   },
   {
    "duration": 571,
    "start_time": "2021-07-17T20:20:20.444Z"
   },
   {
    "duration": 563,
    "start_time": "2021-07-17T20:20:36.595Z"
   },
   {
    "duration": 688,
    "start_time": "2021-07-17T20:23:37.815Z"
   },
   {
    "duration": 478,
    "start_time": "2021-07-17T20:24:02.217Z"
   },
   {
    "duration": 317,
    "start_time": "2021-07-17T20:24:32.451Z"
   },
   {
    "duration": 98,
    "start_time": "2021-07-17T20:24:53.043Z"
   },
   {
    "duration": 341,
    "start_time": "2021-07-17T20:25:08.820Z"
   },
   {
    "duration": 6,
    "start_time": "2021-07-17T20:25:21.349Z"
   },
   {
    "duration": 333,
    "start_time": "2021-07-17T20:25:27.163Z"
   },
   {
    "duration": 322,
    "start_time": "2021-07-17T20:25:38.187Z"
   },
   {
    "duration": 149,
    "start_time": "2021-07-17T20:25:51.375Z"
   },
   {
    "duration": 319,
    "start_time": "2021-07-17T20:25:56.374Z"
   },
   {
    "duration": 544,
    "start_time": "2021-07-17T20:27:56.645Z"
   },
   {
    "duration": 64,
    "start_time": "2021-07-17T20:28:16.998Z"
   },
   {
    "duration": 359,
    "start_time": "2021-07-17T20:28:38.247Z"
   },
   {
    "duration": 86,
    "start_time": "2021-07-17T20:29:04.879Z"
   },
   {
    "duration": 323,
    "start_time": "2021-07-17T20:29:08.832Z"
   },
   {
    "duration": 334,
    "start_time": "2021-07-17T20:29:31.386Z"
   },
   {
    "duration": 2202,
    "start_time": "2021-07-17T20:29:55.538Z"
   },
   {
    "duration": 2277,
    "start_time": "2021-07-17T20:30:10.704Z"
   },
   {
    "duration": 3531,
    "start_time": "2021-07-17T20:30:32.507Z"
   },
   {
    "duration": 577,
    "start_time": "2021-07-17T20:30:52.323Z"
   },
   {
    "duration": 331,
    "start_time": "2021-07-17T20:31:18.243Z"
   },
   {
    "duration": 91,
    "start_time": "2021-07-17T20:32:17.667Z"
   },
   {
    "duration": 309,
    "start_time": "2021-07-17T20:32:24.618Z"
   },
   {
    "duration": 568,
    "start_time": "2021-07-17T20:34:36.111Z"
   },
   {
    "duration": 360,
    "start_time": "2021-07-17T20:34:50.848Z"
   },
   {
    "duration": 334,
    "start_time": "2021-07-17T20:35:13.892Z"
   },
   {
    "duration": 335,
    "start_time": "2021-07-17T20:35:54.701Z"
   },
   {
    "duration": 341,
    "start_time": "2021-07-17T20:36:12.741Z"
   },
   {
    "duration": 393,
    "start_time": "2021-07-17T20:37:08.679Z"
   },
   {
    "duration": 568,
    "start_time": "2021-07-17T20:38:07.469Z"
   },
   {
    "duration": 380,
    "start_time": "2021-07-17T20:42:11.665Z"
   },
   {
    "duration": 384,
    "start_time": "2021-07-17T20:42:48.092Z"
   },
   {
    "duration": 302,
    "start_time": "2021-07-17T21:11:21.896Z"
   },
   {
    "duration": 381,
    "start_time": "2021-07-17T21:11:48.439Z"
   },
   {
    "duration": 2336,
    "start_time": "2021-07-17T21:14:53.100Z"
   },
   {
    "duration": 2514,
    "start_time": "2021-07-17T21:15:32.136Z"
   },
   {
    "duration": 2549,
    "start_time": "2021-07-17T21:16:20.050Z"
   },
   {
    "duration": 3020,
    "start_time": "2021-07-17T21:17:10.437Z"
   },
   {
    "duration": 3386,
    "start_time": "2021-07-17T21:17:42.548Z"
   },
   {
    "duration": 4144,
    "start_time": "2021-07-17T21:18:25.669Z"
   },
   {
    "duration": 1835,
    "start_time": "2021-07-17T21:19:37.848Z"
   },
   {
    "duration": 388,
    "start_time": "2021-07-17T21:21:38.406Z"
   },
   {
    "duration": 406,
    "start_time": "2021-07-17T21:24:08.395Z"
   },
   {
    "duration": 470,
    "start_time": "2021-07-17T21:24:51.540Z"
   },
   {
    "duration": 663,
    "start_time": "2021-07-17T21:40:46.532Z"
   },
   {
    "duration": 321,
    "start_time": "2021-07-17T21:40:56.947Z"
   },
   {
    "duration": 253,
    "start_time": "2021-07-17T21:41:24.943Z"
   },
   {
    "duration": 253,
    "start_time": "2021-07-17T21:41:32.910Z"
   },
   {
    "duration": 12305,
    "start_time": "2021-07-17T21:41:52.880Z"
   },
   {
    "duration": 1060,
    "start_time": "2021-07-17T21:42:25.098Z"
   },
   {
    "duration": 236,
    "start_time": "2021-07-17T21:44:15.502Z"
   },
   {
    "duration": 108,
    "start_time": "2021-07-17T21:44:20.884Z"
   },
   {
    "duration": 109,
    "start_time": "2021-07-17T21:45:48.103Z"
   },
   {
    "duration": 33,
    "start_time": "2021-07-17T22:08:49.728Z"
   },
   {
    "duration": 46,
    "start_time": "2021-07-17T22:08:54.162Z"
   },
   {
    "duration": 761,
    "start_time": "2021-07-17T22:11:10.876Z"
   },
   {
    "duration": 6365,
    "start_time": "2021-07-17T22:16:06.217Z"
   },
   {
    "duration": 323,
    "start_time": "2021-07-17T23:50:33.105Z"
   },
   {
    "duration": 6178,
    "start_time": "2021-07-17T23:50:47.621Z"
   },
   {
    "duration": 6327,
    "start_time": "2021-07-17T23:50:58.855Z"
   },
   {
    "duration": 6487,
    "start_time": "2021-07-17T23:51:48.208Z"
   },
   {
    "duration": 42,
    "start_time": "2021-07-17T23:52:23.050Z"
   },
   {
    "duration": 36,
    "start_time": "2021-07-17T23:53:01.094Z"
   },
   {
    "duration": 69,
    "start_time": "2021-07-17T23:53:45.153Z"
   },
   {
    "duration": 38,
    "start_time": "2021-07-17T23:54:14.731Z"
   },
   {
    "duration": 46,
    "start_time": "2021-07-17T23:54:19.950Z"
   },
   {
    "duration": 45,
    "start_time": "2021-07-17T23:54:26.215Z"
   },
   {
    "duration": 53,
    "start_time": "2021-07-17T23:55:08.880Z"
   },
   {
    "duration": 45,
    "start_time": "2021-07-17T23:55:39.775Z"
   },
   {
    "duration": 37,
    "start_time": "2021-07-17T23:55:55.074Z"
   },
   {
    "duration": 36,
    "start_time": "2021-07-17T23:56:04.670Z"
   },
   {
    "duration": 49,
    "start_time": "2021-07-17T23:56:15.659Z"
   },
   {
    "duration": 45,
    "start_time": "2021-07-17T23:56:23.431Z"
   },
   {
    "duration": 6276,
    "start_time": "2021-07-17T23:56:51.085Z"
   },
   {
    "duration": 48,
    "start_time": "2021-07-17T23:57:08.128Z"
   },
   {
    "duration": 6322,
    "start_time": "2021-07-17T23:57:35.988Z"
   },
   {
    "duration": 19,
    "start_time": "2021-07-17T23:59:33.606Z"
   },
   {
    "duration": 327,
    "start_time": "2021-07-18T00:00:15.248Z"
   },
   {
    "duration": 22,
    "start_time": "2021-07-18T00:00:35.482Z"
   },
   {
    "duration": 303,
    "start_time": "2021-07-18T00:01:17.821Z"
   },
   {
    "duration": 524,
    "start_time": "2021-07-18T00:01:33.916Z"
   },
   {
    "duration": 82,
    "start_time": "2021-07-18T00:04:55.324Z"
   },
   {
    "duration": 6325,
    "start_time": "2021-07-18T00:05:03.662Z"
   },
   {
    "duration": 6236,
    "start_time": "2021-07-18T00:07:49.599Z"
   },
   {
    "duration": 6331,
    "start_time": "2021-07-18T00:08:00.420Z"
   },
   {
    "duration": 1063,
    "start_time": "2021-07-18T00:09:12.054Z"
   },
   {
    "duration": 16,
    "start_time": "2021-07-18T00:09:37.838Z"
   },
   {
    "duration": 25,
    "start_time": "2021-07-18T00:09:46.067Z"
   },
   {
    "duration": 24,
    "start_time": "2021-07-18T00:10:09.578Z"
   },
   {
    "duration": 23,
    "start_time": "2021-07-18T00:10:19.970Z"
   },
   {
    "duration": 1242,
    "start_time": "2021-07-18T00:10:37.582Z"
   },
   {
    "duration": 15,
    "start_time": "2021-07-18T00:10:38.827Z"
   },
   {
    "duration": 12,
    "start_time": "2021-07-18T00:10:38.845Z"
   },
   {
    "duration": 9,
    "start_time": "2021-07-18T00:10:38.860Z"
   },
   {
    "duration": 9,
    "start_time": "2021-07-18T00:10:38.872Z"
   },
   {
    "duration": 8,
    "start_time": "2021-07-18T00:10:38.884Z"
   },
   {
    "duration": 24,
    "start_time": "2021-07-18T00:10:38.895Z"
   },
   {
    "duration": 32,
    "start_time": "2021-07-18T00:10:38.959Z"
   },
   {
    "duration": 27,
    "start_time": "2021-07-18T00:10:38.995Z"
   },
   {
    "duration": 49,
    "start_time": "2021-07-18T00:10:39.025Z"
   },
   {
    "duration": 40,
    "start_time": "2021-07-18T00:10:39.076Z"
   },
   {
    "duration": 51,
    "start_time": "2021-07-18T00:10:39.119Z"
   },
   {
    "duration": 17,
    "start_time": "2021-07-18T00:10:39.172Z"
   },
   {
    "duration": 12,
    "start_time": "2021-07-18T00:10:39.192Z"
   },
   {
    "duration": 9,
    "start_time": "2021-07-18T00:10:39.207Z"
   },
   {
    "duration": 67,
    "start_time": "2021-07-18T00:10:39.218Z"
   },
   {
    "duration": 23,
    "start_time": "2021-07-18T00:10:39.287Z"
   },
   {
    "duration": 580,
    "start_time": "2021-07-18T00:10:39.313Z"
   },
   {
    "duration": 559,
    "start_time": "2021-07-18T00:10:39.896Z"
   },
   {
    "duration": 44,
    "start_time": "2021-07-18T00:10:40.458Z"
   },
   {
    "duration": 16,
    "start_time": "2021-07-18T00:10:40.505Z"
   },
   {
    "duration": 441,
    "start_time": "2021-07-18T00:10:40.524Z"
   },
   {
    "duration": 63,
    "start_time": "2021-07-18T00:10:40.969Z"
   },
   {
    "duration": 67,
    "start_time": "2021-07-18T00:10:41.035Z"
   },
   {
    "duration": 6,
    "start_time": "2021-07-18T00:10:41.104Z"
   },
   {
    "duration": 1201,
    "start_time": "2021-07-18T00:10:41.113Z"
   },
   {
    "duration": 12,
    "start_time": "2021-07-18T00:10:42.316Z"
   },
   {
    "duration": 1569,
    "start_time": "2021-07-18T00:10:42.331Z"
   },
   {
    "duration": 1372,
    "start_time": "2021-07-18T00:10:43.902Z"
   },
   {
    "duration": 14,
    "start_time": "2021-07-18T00:10:45.276Z"
   },
   {
    "duration": 25,
    "start_time": "2021-07-18T00:10:45.292Z"
   },
   {
    "duration": 1923,
    "start_time": "2021-07-18T00:10:45.320Z"
   },
   {
    "duration": 405,
    "start_time": "2021-07-18T00:10:47.245Z"
   },
   {
    "duration": 466,
    "start_time": "2021-07-18T00:10:47.655Z"
   },
   {
    "duration": 410,
    "start_time": "2021-07-18T00:10:48.123Z"
   },
   {
    "duration": 20,
    "start_time": "2021-07-18T00:10:48.536Z"
   },
   {
    "duration": 23,
    "start_time": "2021-07-18T00:11:04.857Z"
   },
   {
    "duration": 6555,
    "start_time": "2021-07-18T00:11:23.354Z"
   },
   {
    "duration": 34,
    "start_time": "2021-07-18T00:11:46.214Z"
   },
   {
    "duration": 16,
    "start_time": "2021-07-18T00:12:13.700Z"
   },
   {
    "duration": 23,
    "start_time": "2021-07-18T00:12:22.263Z"
   },
   {
    "duration": 25,
    "start_time": "2021-07-18T00:12:36.150Z"
   },
   {
    "duration": 18,
    "start_time": "2021-07-18T00:12:43.214Z"
   },
   {
    "duration": 329,
    "start_time": "2021-07-18T00:12:56.834Z"
   },
   {
    "duration": 292,
    "start_time": "2021-07-18T00:13:28.540Z"
   },
   {
    "duration": 96,
    "start_time": "2021-07-18T00:13:46.078Z"
   },
   {
    "duration": 384,
    "start_time": "2021-07-18T00:13:51.931Z"
   },
   {
    "duration": 296,
    "start_time": "2021-07-18T00:15:54.075Z"
   },
   {
    "duration": 405,
    "start_time": "2021-07-18T00:16:45.239Z"
   },
   {
    "duration": 361,
    "start_time": "2021-07-18T00:17:46.560Z"
   },
   {
    "duration": 388,
    "start_time": "2021-07-18T00:17:57.252Z"
   },
   {
    "duration": 605,
    "start_time": "2021-07-18T00:18:52.511Z"
   },
   {
    "duration": 373,
    "start_time": "2021-07-18T00:19:40.080Z"
   },
   {
    "duration": 505,
    "start_time": "2021-07-18T00:20:13.201Z"
   },
   {
    "duration": 99,
    "start_time": "2021-07-18T00:20:33.646Z"
   },
   {
    "duration": 374,
    "start_time": "2021-07-18T00:20:44.703Z"
   },
   {
    "duration": 382,
    "start_time": "2021-07-18T00:21:22.360Z"
   },
   {
    "duration": 423,
    "start_time": "2021-07-18T00:23:11.940Z"
   },
   {
    "duration": 401,
    "start_time": "2021-07-18T00:23:34.326Z"
   },
   {
    "duration": 793,
    "start_time": "2021-07-18T00:25:12.163Z"
   },
   {
    "duration": 762,
    "start_time": "2021-07-18T00:28:56.759Z"
   },
   {
    "duration": 761,
    "start_time": "2021-07-18T00:29:20.733Z"
   },
   {
    "duration": 508,
    "start_time": "2021-07-18T00:30:36.920Z"
   },
   {
    "duration": 431,
    "start_time": "2021-07-18T00:30:52.116Z"
   },
   {
    "duration": 775,
    "start_time": "2021-07-18T00:34:09.549Z"
   },
   {
    "duration": 775,
    "start_time": "2021-07-18T00:38:55.385Z"
   },
   {
    "duration": 371,
    "start_time": "2021-07-18T00:39:36.269Z"
   },
   {
    "duration": 501,
    "start_time": "2021-07-18T00:40:07.219Z"
   },
   {
    "duration": 267,
    "start_time": "2021-07-18T00:40:37.956Z"
   },
   {
    "duration": 367,
    "start_time": "2021-07-18T00:40:56.679Z"
   },
   {
    "duration": 756,
    "start_time": "2021-07-18T00:41:09.731Z"
   },
   {
    "duration": 954,
    "start_time": "2021-07-18T00:41:48.798Z"
   },
   {
    "duration": 391,
    "start_time": "2021-07-18T00:52:23.603Z"
   },
   {
    "duration": 390,
    "start_time": "2021-07-18T00:52:42.703Z"
   },
   {
    "duration": 396,
    "start_time": "2021-07-18T00:53:10.950Z"
   },
   {
    "duration": 396,
    "start_time": "2021-07-18T00:53:28.435Z"
   },
   {
    "duration": 394,
    "start_time": "2021-07-18T00:53:54.307Z"
   },
   {
    "duration": 560,
    "start_time": "2021-07-18T00:54:20.273Z"
   },
   {
    "duration": 992,
    "start_time": "2021-07-18T00:55:09.390Z"
   },
   {
    "duration": 1179,
    "start_time": "2021-07-18T00:56:55.216Z"
   },
   {
    "duration": 1024,
    "start_time": "2021-07-18T00:57:05.958Z"
   },
   {
    "duration": 107,
    "start_time": "2021-07-18T00:59:42.965Z"
   },
   {
    "duration": 111,
    "start_time": "2021-07-18T01:00:20.267Z"
   },
   {
    "duration": 111,
    "start_time": "2021-07-18T01:00:29.637Z"
   },
   {
    "duration": 230,
    "start_time": "2021-07-18T01:00:54.168Z"
   },
   {
    "duration": 211,
    "start_time": "2021-07-18T01:01:18.445Z"
   },
   {
    "duration": 214,
    "start_time": "2021-07-18T01:01:34.748Z"
   },
   {
    "duration": 214,
    "start_time": "2021-07-18T01:02:37.402Z"
   },
   {
    "duration": 15,
    "start_time": "2021-07-18T01:03:58.523Z"
   },
   {
    "duration": 58,
    "start_time": "2021-07-18T18:51:24.357Z"
   },
   {
    "duration": 55,
    "start_time": "2021-07-18T18:51:52.467Z"
   },
   {
    "duration": 18,
    "start_time": "2021-07-18T18:55:22.599Z"
   },
   {
    "duration": 47,
    "start_time": "2021-07-18T19:36:02.114Z"
   },
   {
    "duration": 55,
    "start_time": "2021-07-18T20:54:29.493Z"
   },
   {
    "duration": 83,
    "start_time": "2021-07-18T21:18:44.593Z"
   },
   {
    "duration": 88,
    "start_time": "2021-07-18T21:18:56.847Z"
   },
   {
    "duration": 302,
    "start_time": "2021-07-18T21:19:11.350Z"
   },
   {
    "duration": 281,
    "start_time": "2021-07-18T21:59:53.591Z"
   },
   {
    "duration": 94,
    "start_time": "2021-07-18T22:15:13.862Z"
   },
   {
    "duration": 133,
    "start_time": "2021-07-19T10:43:11.670Z"
   },
   {
    "duration": 134,
    "start_time": "2021-07-19T10:50:03.527Z"
   },
   {
    "duration": 477,
    "start_time": "2021-07-19T10:50:41.342Z"
   },
   {
    "duration": 1609,
    "start_time": "2021-07-19T10:51:50.537Z"
   },
   {
    "duration": 17,
    "start_time": "2021-07-19T10:51:52.149Z"
   },
   {
    "duration": 8,
    "start_time": "2021-07-19T10:51:52.170Z"
   },
   {
    "duration": 13,
    "start_time": "2021-07-19T10:51:52.182Z"
   },
   {
    "duration": 13,
    "start_time": "2021-07-19T10:51:52.198Z"
   },
   {
    "duration": 30,
    "start_time": "2021-07-19T10:51:52.214Z"
   },
   {
    "duration": 41,
    "start_time": "2021-07-19T10:51:52.246Z"
   },
   {
    "duration": 15,
    "start_time": "2021-07-19T10:51:52.290Z"
   },
   {
    "duration": 7,
    "start_time": "2021-07-19T10:51:52.310Z"
   },
   {
    "duration": 64,
    "start_time": "2021-07-19T10:51:52.320Z"
   },
   {
    "duration": 42,
    "start_time": "2021-07-19T10:51:52.386Z"
   },
   {
    "duration": 42,
    "start_time": "2021-07-19T10:51:52.430Z"
   },
   {
    "duration": 12,
    "start_time": "2021-07-19T10:51:52.475Z"
   },
   {
    "duration": 23,
    "start_time": "2021-07-19T10:51:52.489Z"
   },
   {
    "duration": 34,
    "start_time": "2021-07-19T10:51:52.514Z"
   },
   {
    "duration": 35,
    "start_time": "2021-07-19T10:51:52.551Z"
   },
   {
    "duration": 703,
    "start_time": "2021-07-19T10:51:52.589Z"
   },
   {
    "duration": 630,
    "start_time": "2021-07-19T10:51:53.296Z"
   },
   {
    "duration": 68,
    "start_time": "2021-07-19T10:51:53.928Z"
   },
   {
    "duration": 17,
    "start_time": "2021-07-19T10:51:53.999Z"
   },
   {
    "duration": 501,
    "start_time": "2021-07-19T10:51:54.019Z"
   },
   {
    "duration": 74,
    "start_time": "2021-07-19T10:51:54.522Z"
   },
   {
    "duration": 54,
    "start_time": "2021-07-19T10:51:54.598Z"
   },
   {
    "duration": 1439,
    "start_time": "2021-07-19T10:51:54.668Z"
   },
   {
    "duration": 14,
    "start_time": "2021-07-19T10:51:56.110Z"
   },
   {
    "duration": 1543,
    "start_time": "2021-07-19T10:51:56.126Z"
   },
   {
    "duration": 1579,
    "start_time": "2021-07-19T10:51:57.674Z"
   },
   {
    "duration": 27,
    "start_time": "2021-07-19T10:51:59.255Z"
   },
   {
    "duration": 2196,
    "start_time": "2021-07-19T10:51:59.284Z"
   },
   {
    "duration": 479,
    "start_time": "2021-07-19T10:52:01.483Z"
   },
   {
    "duration": 524,
    "start_time": "2021-07-19T10:52:01.967Z"
   },
   {
    "duration": 477,
    "start_time": "2021-07-19T10:52:02.493Z"
   },
   {
    "duration": 407,
    "start_time": "2021-07-19T10:52:02.972Z"
   },
   {
    "duration": 423,
    "start_time": "2021-07-19T10:52:03.381Z"
   },
   {
    "duration": 1052,
    "start_time": "2021-07-19T11:00:11.600Z"
   },
   {
    "duration": 1127,
    "start_time": "2021-07-19T11:01:51.930Z"
   },
   {
    "duration": 350,
    "start_time": "2021-07-19T13:06:46.110Z"
   },
   {
    "duration": 296,
    "start_time": "2021-07-19T13:07:04.461Z"
   },
   {
    "duration": 291,
    "start_time": "2021-07-19T13:07:13.402Z"
   },
   {
    "duration": 1314,
    "start_time": "2021-07-19T13:07:24.591Z"
   },
   {
    "duration": 16,
    "start_time": "2021-07-19T13:07:25.908Z"
   },
   {
    "duration": 26,
    "start_time": "2021-07-19T13:07:25.928Z"
   },
   {
    "duration": 15,
    "start_time": "2021-07-19T13:07:25.957Z"
   },
   {
    "duration": 25,
    "start_time": "2021-07-19T13:07:25.974Z"
   },
   {
    "duration": 34,
    "start_time": "2021-07-19T13:07:26.001Z"
   },
   {
    "duration": 22,
    "start_time": "2021-07-19T13:07:26.038Z"
   },
   {
    "duration": 16,
    "start_time": "2021-07-19T13:07:26.062Z"
   },
   {
    "duration": 23,
    "start_time": "2021-07-19T13:07:26.082Z"
   },
   {
    "duration": 38,
    "start_time": "2021-07-19T13:07:26.108Z"
   },
   {
    "duration": 55,
    "start_time": "2021-07-19T13:07:26.148Z"
   },
   {
    "duration": 18,
    "start_time": "2021-07-19T13:07:26.205Z"
   },
   {
    "duration": 12,
    "start_time": "2021-07-19T13:07:26.225Z"
   },
   {
    "duration": 10,
    "start_time": "2021-07-19T13:07:26.254Z"
   },
   {
    "duration": 32,
    "start_time": "2021-07-19T13:07:26.266Z"
   },
   {
    "duration": 22,
    "start_time": "2021-07-19T13:07:26.301Z"
   },
   {
    "duration": 635,
    "start_time": "2021-07-19T13:07:26.326Z"
   },
   {
    "duration": 615,
    "start_time": "2021-07-19T13:07:26.963Z"
   },
   {
    "duration": 56,
    "start_time": "2021-07-19T13:07:27.580Z"
   },
   {
    "duration": 31,
    "start_time": "2021-07-19T13:07:27.639Z"
   },
   {
    "duration": 468,
    "start_time": "2021-07-19T13:07:27.673Z"
   },
   {
    "duration": 74,
    "start_time": "2021-07-19T13:07:28.143Z"
   },
   {
    "duration": 75,
    "start_time": "2021-07-19T13:07:28.220Z"
   },
   {
    "duration": 1303,
    "start_time": "2021-07-19T13:07:28.297Z"
   },
   {
    "duration": 13,
    "start_time": "2021-07-19T13:07:29.602Z"
   },
   {
    "duration": 1475,
    "start_time": "2021-07-19T13:07:29.617Z"
   },
   {
    "duration": 1449,
    "start_time": "2021-07-19T13:07:31.097Z"
   },
   {
    "duration": 20,
    "start_time": "2021-07-19T13:07:32.553Z"
   },
   {
    "duration": 2145,
    "start_time": "2021-07-19T13:07:32.576Z"
   },
   {
    "duration": 535,
    "start_time": "2021-07-19T13:07:34.723Z"
   },
   {
    "duration": 529,
    "start_time": "2021-07-19T13:07:35.260Z"
   },
   {
    "duration": 463,
    "start_time": "2021-07-19T13:07:35.791Z"
   },
   {
    "duration": 417,
    "start_time": "2021-07-19T13:07:36.257Z"
   },
   {
    "duration": 409,
    "start_time": "2021-07-19T13:07:36.677Z"
   },
   {
    "duration": 1109,
    "start_time": "2021-07-19T13:07:37.088Z"
   },
   {
    "duration": 2089,
    "start_time": "2021-07-19T13:07:38.200Z"
   },
   {
    "duration": 531,
    "start_time": "2021-07-19T13:07:40.291Z"
   },
   {
    "duration": 256,
    "start_time": "2021-07-19T13:07:40.825Z"
   },
   {
    "duration": 18,
    "start_time": "2021-07-19T13:07:41.085Z"
   },
   {
    "duration": 217,
    "start_time": "2021-07-25T09:56:27.104Z"
   },
   {
    "duration": 974,
    "start_time": "2021-07-25T09:56:44.200Z"
   },
   {
    "duration": 11,
    "start_time": "2021-07-25T09:56:45.175Z"
   },
   {
    "duration": 8,
    "start_time": "2021-07-25T09:56:45.187Z"
   },
   {
    "duration": 8,
    "start_time": "2021-07-25T09:56:45.196Z"
   },
   {
    "duration": 6,
    "start_time": "2021-07-25T09:56:45.206Z"
   },
   {
    "duration": 12,
    "start_time": "2021-07-25T09:56:45.214Z"
   },
   {
    "duration": 13,
    "start_time": "2021-07-25T09:56:45.228Z"
   },
   {
    "duration": 42,
    "start_time": "2021-07-25T09:56:45.244Z"
   },
   {
    "duration": 5,
    "start_time": "2021-07-25T09:56:45.288Z"
   },
   {
    "duration": 15,
    "start_time": "2021-07-25T09:56:45.295Z"
   },
   {
    "duration": 28,
    "start_time": "2021-07-25T09:56:45.311Z"
   },
   {
    "duration": 12,
    "start_time": "2021-07-25T09:56:45.341Z"
   },
   {
    "duration": 35,
    "start_time": "2021-07-25T09:56:45.354Z"
   },
   {
    "duration": 9,
    "start_time": "2021-07-25T09:56:45.390Z"
   },
   {
    "duration": 20,
    "start_time": "2021-07-25T09:56:45.401Z"
   },
   {
    "duration": 12,
    "start_time": "2021-07-25T09:56:45.422Z"
   },
   {
    "duration": 388,
    "start_time": "2021-07-25T09:56:45.436Z"
   },
   {
    "duration": 332,
    "start_time": "2021-07-25T09:56:45.825Z"
   },
   {
    "duration": 46,
    "start_time": "2021-07-25T09:56:46.159Z"
   },
   {
    "duration": 10,
    "start_time": "2021-07-25T09:56:46.207Z"
   },
   {
    "duration": 278,
    "start_time": "2021-07-25T09:56:46.218Z"
   },
   {
    "duration": 43,
    "start_time": "2021-07-25T09:56:46.498Z"
   },
   {
    "duration": 47,
    "start_time": "2021-07-25T09:56:46.544Z"
   },
   {
    "duration": 645,
    "start_time": "2021-07-25T09:56:46.593Z"
   },
   {
    "duration": 9,
    "start_time": "2021-07-25T09:56:47.240Z"
   },
   {
    "duration": 760,
    "start_time": "2021-07-25T09:56:47.250Z"
   },
   {
    "duration": 777,
    "start_time": "2021-07-25T09:56:48.012Z"
   },
   {
    "duration": 10,
    "start_time": "2021-07-25T09:56:48.791Z"
   },
   {
    "duration": 1066,
    "start_time": "2021-07-25T09:56:48.803Z"
   },
   {
    "duration": 264,
    "start_time": "2021-07-25T09:56:49.871Z"
   },
   {
    "duration": 324,
    "start_time": "2021-07-25T09:56:50.137Z"
   },
   {
    "duration": 267,
    "start_time": "2021-07-25T09:56:50.462Z"
   },
   {
    "duration": 274,
    "start_time": "2021-07-25T09:56:50.731Z"
   },
   {
    "duration": 299,
    "start_time": "2021-07-25T09:56:51.006Z"
   },
   {
    "duration": 667,
    "start_time": "2021-07-25T09:56:51.307Z"
   },
   {
    "duration": 223,
    "start_time": "2021-07-25T09:57:06.086Z"
   },
   {
    "duration": 4313,
    "start_time": "2021-07-25T09:58:11.093Z"
   },
   {
    "duration": 13,
    "start_time": "2021-07-25T09:58:40.000Z"
   },
   {
    "duration": 15,
    "start_time": "2021-07-25T09:58:43.696Z"
   },
   {
    "duration": 7,
    "start_time": "2021-07-25T09:59:03.921Z"
   },
   {
    "duration": 611,
    "start_time": "2021-07-25T10:11:03.274Z"
   },
   {
    "duration": 13,
    "start_time": "2021-07-25T10:11:38.322Z"
   },
   {
    "duration": 200,
    "start_time": "2021-07-25T10:12:17.489Z"
   },
   {
    "duration": 61,
    "start_time": "2021-07-25T10:12:22.827Z"
   },
   {
    "duration": 191,
    "start_time": "2021-07-25T10:12:27.704Z"
   },
   {
    "duration": 8,
    "start_time": "2021-07-25T10:13:26.014Z"
   },
   {
    "duration": 7,
    "start_time": "2021-07-25T10:13:39.848Z"
   },
   {
    "duration": 12,
    "start_time": "2021-07-25T10:13:48.472Z"
   },
   {
    "duration": 20,
    "start_time": "2021-07-25T10:13:59.180Z"
   },
   {
    "duration": 6,
    "start_time": "2021-07-25T10:14:18.442Z"
   },
   {
    "duration": 6,
    "start_time": "2021-07-25T10:14:35.346Z"
   },
   {
    "duration": 8,
    "start_time": "2021-07-25T10:14:38.358Z"
   },
   {
    "duration": 166,
    "start_time": "2021-07-25T11:26:36.730Z"
   },
   {
    "duration": 207,
    "start_time": "2021-07-25T11:30:19.401Z"
   },
   {
    "duration": 206,
    "start_time": "2021-07-25T11:30:27.549Z"
   },
   {
    "duration": 62,
    "start_time": "2021-07-25T11:30:49.904Z"
   },
   {
    "duration": 208,
    "start_time": "2021-07-25T11:31:07.555Z"
   },
   {
    "duration": 236,
    "start_time": "2021-07-25T11:31:16.254Z"
   },
   {
    "duration": 185,
    "start_time": "2021-07-25T11:32:18.099Z"
   },
   {
    "duration": 196,
    "start_time": "2021-07-25T11:32:25.017Z"
   },
   {
    "duration": 302,
    "start_time": "2021-07-25T11:35:46.110Z"
   },
   {
    "duration": 306,
    "start_time": "2021-07-25T11:35:52.242Z"
   },
   {
    "duration": 300,
    "start_time": "2021-07-25T11:36:13.652Z"
   },
   {
    "duration": 307,
    "start_time": "2021-07-25T11:36:21.455Z"
   },
   {
    "duration": 172,
    "start_time": "2021-07-25T11:36:40.638Z"
   },
   {
    "duration": 9,
    "start_time": "2021-07-25T11:37:08.867Z"
   },
   {
    "duration": 186,
    "start_time": "2021-07-25T11:39:46.200Z"
   },
   {
    "duration": 176,
    "start_time": "2021-07-25T11:40:09.098Z"
   },
   {
    "duration": 329,
    "start_time": "2021-07-25T11:42:03.166Z"
   },
   {
    "duration": 351,
    "start_time": "2021-07-25T11:42:51.650Z"
   },
   {
    "duration": 402,
    "start_time": "2021-07-25T11:43:51.765Z"
   },
   {
    "duration": 331,
    "start_time": "2021-07-25T11:44:20.802Z"
   },
   {
    "duration": 333,
    "start_time": "2021-07-25T11:44:58.059Z"
   },
   {
    "duration": 571,
    "start_time": "2021-07-25T12:00:29.941Z"
   },
   {
    "duration": 597,
    "start_time": "2021-07-25T12:01:37.311Z"
   },
   {
    "duration": 648,
    "start_time": "2021-07-25T12:02:03.214Z"
   },
   {
    "duration": 678,
    "start_time": "2021-07-25T12:02:13.695Z"
   },
   {
    "duration": 585,
    "start_time": "2021-07-25T12:02:25.078Z"
   },
   {
    "duration": 66,
    "start_time": "2021-07-25T12:02:32.502Z"
   },
   {
    "duration": 655,
    "start_time": "2021-07-25T12:02:35.711Z"
   },
   {
    "duration": 737,
    "start_time": "2021-07-25T12:03:34.194Z"
   },
   {
    "duration": 205,
    "start_time": "2021-07-25T12:06:10.243Z"
   },
   {
    "duration": 181,
    "start_time": "2021-07-25T12:06:25.553Z"
   },
   {
    "duration": 317,
    "start_time": "2021-07-25T12:06:48.884Z"
   },
   {
    "duration": 10,
    "start_time": "2021-07-25T12:07:18.203Z"
   },
   {
    "duration": 9,
    "start_time": "2021-07-25T12:08:08.686Z"
   },
   {
    "duration": 174,
    "start_time": "2021-07-25T12:09:14.782Z"
   },
   {
    "duration": 754,
    "start_time": "2021-07-25T12:10:50.698Z"
   },
   {
    "duration": 185,
    "start_time": "2021-07-25T12:11:13.163Z"
   },
   {
    "duration": 5,
    "start_time": "2021-07-25T12:12:06.452Z"
   },
   {
    "duration": 7,
    "start_time": "2021-07-25T14:24:14.607Z"
   },
   {
    "duration": 5,
    "start_time": "2021-07-25T14:29:32.083Z"
   },
   {
    "duration": 5,
    "start_time": "2021-07-25T14:29:37.256Z"
   },
   {
    "duration": 6,
    "start_time": "2021-07-25T14:34:59.075Z"
   },
   {
    "duration": 327,
    "start_time": "2021-07-25T16:00:32.911Z"
   },
   {
    "duration": 404,
    "start_time": "2021-07-25T16:06:20.900Z"
   },
   {
    "duration": 6010,
    "start_time": "2021-07-25T16:07:27.521Z"
   },
   {
    "duration": 4842,
    "start_time": "2021-07-25T16:08:28.009Z"
   },
   {
    "duration": 4215,
    "start_time": "2021-07-25T16:09:17.128Z"
   },
   {
    "duration": 7,
    "start_time": "2021-07-25T16:10:32.817Z"
   },
   {
    "duration": 4348,
    "start_time": "2021-07-25T16:13:23.444Z"
   },
   {
    "duration": -319,
    "start_time": "2021-07-25T16:13:47.004Z"
   },
   {
    "duration": 4287,
    "start_time": "2021-07-25T16:13:55.158Z"
   },
   {
    "duration": 25,
    "start_time": "2021-07-25T16:14:33.621Z"
   },
   {
    "duration": 4273,
    "start_time": "2021-07-25T16:14:48.952Z"
   },
   {
    "duration": 15,
    "start_time": "2021-07-25T16:15:05.787Z"
   },
   {
    "duration": 16,
    "start_time": "2021-07-25T16:15:24.489Z"
   },
   {
    "duration": 12,
    "start_time": "2021-07-25T16:15:32.040Z"
   },
   {
    "duration": 26,
    "start_time": "2021-07-25T16:15:35.298Z"
   },
   {
    "duration": 10,
    "start_time": "2021-07-25T16:15:46.593Z"
   },
   {
    "duration": 13,
    "start_time": "2021-07-25T16:15:49.791Z"
   },
   {
    "duration": 9,
    "start_time": "2021-07-25T16:16:08.411Z"
   },
   {
    "duration": 12,
    "start_time": "2021-07-25T16:16:15.904Z"
   },
   {
    "duration": 27,
    "start_time": "2021-07-25T16:16:29.404Z"
   },
   {
    "duration": 801,
    "start_time": "2021-07-25T16:17:21.787Z"
   },
   {
    "duration": 749,
    "start_time": "2021-07-25T16:17:41.003Z"
   },
   {
    "duration": 729,
    "start_time": "2021-07-25T16:17:57.149Z"
   },
   {
    "duration": 826,
    "start_time": "2021-07-25T16:18:20.012Z"
   },
   {
    "duration": 7,
    "start_time": "2021-07-25T16:18:42.849Z"
   },
   {
    "duration": 6,
    "start_time": "2021-07-25T16:18:46.609Z"
   },
   {
    "duration": 759,
    "start_time": "2021-07-25T16:19:02.721Z"
   },
   {
    "duration": 7,
    "start_time": "2021-07-25T16:19:06.878Z"
   },
   {
    "duration": 513,
    "start_time": "2021-07-25T16:23:23.958Z"
   },
   {
    "duration": 177,
    "start_time": "2021-07-25T16:23:37.261Z"
   },
   {
    "duration": 187,
    "start_time": "2021-07-25T16:23:54.912Z"
   },
   {
    "duration": 7,
    "start_time": "2021-07-25T16:28:34.849Z"
   },
   {
    "duration": 72,
    "start_time": "2021-07-25T16:29:40.721Z"
   },
   {
    "duration": 79,
    "start_time": "2021-07-25T16:29:44.055Z"
   },
   {
    "duration": 65,
    "start_time": "2021-07-25T16:30:38.833Z"
   },
   {
    "duration": 34,
    "start_time": "2021-07-25T16:30:43.130Z"
   },
   {
    "duration": 38,
    "start_time": "2021-07-25T16:30:49.685Z"
   },
   {
    "duration": 8,
    "start_time": "2021-07-25T16:31:24.194Z"
   },
   {
    "duration": 216,
    "start_time": "2021-07-25T16:31:41.408Z"
   },
   {
    "duration": 5,
    "start_time": "2021-07-25T16:31:48.486Z"
   },
   {
    "duration": 38,
    "start_time": "2021-07-25T16:32:42.166Z"
   },
   {
    "duration": 38,
    "start_time": "2021-07-25T16:33:21.217Z"
   },
   {
    "duration": 37,
    "start_time": "2021-07-25T16:33:28.543Z"
   },
   {
    "duration": 37,
    "start_time": "2021-07-25T16:34:35.853Z"
   },
   {
    "duration": 4531,
    "start_time": "2021-07-25T16:35:24.377Z"
   },
   {
    "duration": 177,
    "start_time": "2021-07-25T16:35:38.466Z"
   },
   {
    "duration": 9,
    "start_time": "2021-07-25T16:35:48.435Z"
   },
   {
    "duration": 990,
    "start_time": "2021-07-25T16:36:16.392Z"
   },
   {
    "duration": 12,
    "start_time": "2021-07-25T16:36:17.384Z"
   },
   {
    "duration": 6,
    "start_time": "2021-07-25T16:36:17.398Z"
   },
   {
    "duration": 7,
    "start_time": "2021-07-25T16:36:17.406Z"
   },
   {
    "duration": 6,
    "start_time": "2021-07-25T16:36:17.415Z"
   },
   {
    "duration": 10,
    "start_time": "2021-07-25T16:36:17.422Z"
   },
   {
    "duration": 13,
    "start_time": "2021-07-25T16:36:17.433Z"
   },
   {
    "duration": 39,
    "start_time": "2021-07-25T16:36:17.449Z"
   },
   {
    "duration": 5,
    "start_time": "2021-07-25T16:36:17.489Z"
   },
   {
    "duration": 15,
    "start_time": "2021-07-25T16:36:17.496Z"
   },
   {
    "duration": 27,
    "start_time": "2021-07-25T16:36:17.513Z"
   },
   {
    "duration": 11,
    "start_time": "2021-07-25T16:36:17.542Z"
   },
   {
    "duration": 34,
    "start_time": "2021-07-25T16:36:17.555Z"
   },
   {
    "duration": 6,
    "start_time": "2021-07-25T16:36:17.590Z"
   },
   {
    "duration": 21,
    "start_time": "2021-07-25T16:36:17.598Z"
   },
   {
    "duration": 12,
    "start_time": "2021-07-25T16:36:17.621Z"
   },
   {
    "duration": 380,
    "start_time": "2021-07-25T16:36:17.634Z"
   },
   {
    "duration": 299,
    "start_time": "2021-07-25T16:36:18.016Z"
   },
   {
    "duration": 40,
    "start_time": "2021-07-25T16:36:18.317Z"
   },
   {
    "duration": 27,
    "start_time": "2021-07-25T16:36:18.359Z"
   },
   {
    "duration": 265,
    "start_time": "2021-07-25T16:36:18.387Z"
   },
   {
    "duration": 49,
    "start_time": "2021-07-25T16:36:18.654Z"
   },
   {
    "duration": 31,
    "start_time": "2021-07-25T16:36:18.706Z"
   },
   {
    "duration": 694,
    "start_time": "2021-07-25T16:36:18.739Z"
   },
   {
    "duration": 9,
    "start_time": "2021-07-25T16:36:19.434Z"
   },
   {
    "duration": 797,
    "start_time": "2021-07-25T16:36:19.444Z"
   },
   {
    "duration": 787,
    "start_time": "2021-07-25T16:36:20.242Z"
   },
   {
    "duration": 11,
    "start_time": "2021-07-25T16:36:21.030Z"
   },
   {
    "duration": 1077,
    "start_time": "2021-07-25T16:36:21.043Z"
   },
   {
    "duration": 266,
    "start_time": "2021-07-25T16:36:22.122Z"
   },
   {
    "duration": 328,
    "start_time": "2021-07-25T16:36:22.389Z"
   },
   {
    "duration": 287,
    "start_time": "2021-07-25T16:36:22.719Z"
   },
   {
    "duration": 307,
    "start_time": "2021-07-25T16:36:23.007Z"
   },
   {
    "duration": 296,
    "start_time": "2021-07-25T16:36:23.316Z"
   },
   {
    "duration": 757,
    "start_time": "2021-07-25T16:36:23.614Z"
   },
   {
    "duration": 30,
    "start_time": "2021-07-25T16:36:24.373Z"
   },
   {
    "duration": 248,
    "start_time": "2021-07-25T16:36:24.405Z"
   },
   {
    "duration": -65,
    "start_time": "2021-07-25T16:36:24.720Z"
   },
   {
    "duration": 60,
    "start_time": "2021-07-25T16:41:57.127Z"
   },
   {
    "duration": 66,
    "start_time": "2021-07-25T16:44:58.233Z"
   },
   {
    "duration": 21,
    "start_time": "2021-07-25T16:45:07.211Z"
   },
   {
    "duration": 221,
    "start_time": "2021-07-25T16:46:22.791Z"
   },
   {
    "duration": 23,
    "start_time": "2021-07-25T16:47:14.086Z"
   },
   {
    "duration": 636,
    "start_time": "2021-07-25T16:51:31.839Z"
   },
   {
    "duration": 38,
    "start_time": "2021-07-25T16:51:39.665Z"
   },
   {
    "duration": 39,
    "start_time": "2021-07-25T16:56:26.925Z"
   },
   {
    "duration": 41,
    "start_time": "2021-07-25T16:56:44.750Z"
   },
   {
    "duration": 40,
    "start_time": "2021-07-25T16:56:49.509Z"
   },
   {
    "duration": 38,
    "start_time": "2021-07-25T16:58:04.751Z"
   },
   {
    "duration": 221,
    "start_time": "2021-07-25T17:00:02.047Z"
   },
   {
    "duration": 4,
    "start_time": "2021-07-25T17:00:53.533Z"
   },
   {
    "duration": 255,
    "start_time": "2021-07-25T17:01:07.783Z"
   },
   {
    "duration": 219,
    "start_time": "2021-07-25T17:01:15.932Z"
   },
   {
    "duration": 213,
    "start_time": "2021-07-25T17:01:24.788Z"
   },
   {
    "duration": 259,
    "start_time": "2021-07-25T17:01:46.926Z"
   },
   {
    "duration": 6,
    "start_time": "2021-07-25T17:01:54.514Z"
   },
   {
    "duration": 3,
    "start_time": "2021-07-25T17:01:59.893Z"
   },
   {
    "duration": 246,
    "start_time": "2021-07-25T17:02:40.182Z"
   },
   {
    "duration": 6,
    "start_time": "2021-07-25T17:02:52.428Z"
   },
   {
    "duration": 5,
    "start_time": "2021-07-25T17:02:57.979Z"
   },
   {
    "duration": 4611,
    "start_time": "2021-07-25T17:03:14.987Z"
   },
   {
    "duration": 176,
    "start_time": "2021-07-25T17:05:47.574Z"
   },
   {
    "duration": 378,
    "start_time": "2021-07-25T17:06:23.285Z"
   },
   {
    "duration": 849,
    "start_time": "2021-07-25T17:06:34.900Z"
   },
   {
    "duration": 5,
    "start_time": "2021-07-25T17:06:40.110Z"
   },
   {
    "duration": 58,
    "start_time": "2021-07-25T17:07:51.384Z"
   },
   {
    "duration": 9,
    "start_time": "2021-07-25T17:07:58.235Z"
   },
   {
    "duration": 10,
    "start_time": "2021-07-25T17:08:09.667Z"
   },
   {
    "duration": 27,
    "start_time": "2021-07-25T17:08:15.811Z"
   },
   {
    "duration": 22,
    "start_time": "2021-07-25T17:08:50.348Z"
   },
   {
    "duration": 179,
    "start_time": "2021-07-25T17:10:39.838Z"
   },
   {
    "duration": 380,
    "start_time": "2021-07-25T17:11:15.233Z"
   },
   {
    "duration": 409,
    "start_time": "2021-07-25T17:12:02.926Z"
   },
   {
    "duration": 617,
    "start_time": "2021-07-25T17:13:37.511Z"
   },
   {
    "duration": 750,
    "start_time": "2021-07-25T17:13:55.448Z"
   },
   {
    "duration": 913,
    "start_time": "2021-07-25T17:14:16.336Z"
   },
   {
    "duration": 769,
    "start_time": "2021-07-25T17:14:48.919Z"
   },
   {
    "duration": 792,
    "start_time": "2021-07-25T17:15:22.843Z"
   },
   {
    "duration": 6,
    "start_time": "2021-07-25T17:16:11.838Z"
   },
   {
    "duration": 1221,
    "start_time": "2021-07-25T20:32:35.542Z"
   },
   {
    "duration": 391,
    "start_time": "2021-07-25T20:32:41.623Z"
   },
   {
    "duration": 153,
    "start_time": "2021-07-25T20:32:46.168Z"
   },
   {
    "duration": 181,
    "start_time": "2021-07-25T20:32:50.577Z"
   },
   {
    "duration": 1294,
    "start_time": "2021-07-25T20:35:14.827Z"
   },
   {
    "duration": 10,
    "start_time": "2021-07-25T20:35:16.123Z"
   },
   {
    "duration": 5,
    "start_time": "2021-07-25T20:35:16.135Z"
   },
   {
    "duration": 6,
    "start_time": "2021-07-25T20:35:16.142Z"
   },
   {
    "duration": 6,
    "start_time": "2021-07-25T20:35:16.149Z"
   },
   {
    "duration": 10,
    "start_time": "2021-07-25T20:35:16.156Z"
   },
   {
    "duration": 18,
    "start_time": "2021-07-25T20:35:16.167Z"
   },
   {
    "duration": 9,
    "start_time": "2021-07-25T20:35:16.187Z"
   },
   {
    "duration": 7,
    "start_time": "2021-07-25T20:35:16.199Z"
   },
   {
    "duration": 20,
    "start_time": "2021-07-25T20:35:16.208Z"
   },
   {
    "duration": 70,
    "start_time": "2021-07-25T20:35:16.229Z"
   },
   {
    "duration": 12,
    "start_time": "2021-07-25T20:35:16.301Z"
   },
   {
    "duration": 8,
    "start_time": "2021-07-25T20:35:16.315Z"
   },
   {
    "duration": 8,
    "start_time": "2021-07-25T20:35:16.324Z"
   },
   {
    "duration": 22,
    "start_time": "2021-07-25T20:35:16.333Z"
   },
   {
    "duration": 39,
    "start_time": "2021-07-25T20:35:16.356Z"
   },
   {
    "duration": 428,
    "start_time": "2021-07-25T20:35:16.397Z"
   },
   {
    "duration": 303,
    "start_time": "2021-07-25T20:35:16.826Z"
   },
   {
    "duration": 69,
    "start_time": "2021-07-25T20:35:17.131Z"
   },
   {
    "duration": 10,
    "start_time": "2021-07-25T20:35:17.202Z"
   },
   {
    "duration": 343,
    "start_time": "2021-07-25T20:35:17.214Z"
   },
   {
    "duration": 46,
    "start_time": "2021-07-25T20:35:17.559Z"
   },
   {
    "duration": 31,
    "start_time": "2021-07-25T20:35:17.607Z"
   },
   {
    "duration": 721,
    "start_time": "2021-07-25T20:35:17.639Z"
   },
   {
    "duration": 7,
    "start_time": "2021-07-25T20:35:18.362Z"
   },
   {
    "duration": 763,
    "start_time": "2021-07-25T20:35:18.371Z"
   },
   {
    "duration": 776,
    "start_time": "2021-07-25T20:35:19.137Z"
   },
   {
    "duration": 12,
    "start_time": "2021-07-25T20:35:19.915Z"
   },
   {
    "duration": 1088,
    "start_time": "2021-07-25T20:35:19.928Z"
   },
   {
    "duration": 270,
    "start_time": "2021-07-25T20:35:21.018Z"
   },
   {
    "duration": 282,
    "start_time": "2021-07-25T20:35:21.289Z"
   },
   {
    "duration": 293,
    "start_time": "2021-07-25T20:35:21.573Z"
   },
   {
    "duration": 321,
    "start_time": "2021-07-25T20:35:21.867Z"
   },
   {
    "duration": 313,
    "start_time": "2021-07-25T20:35:22.190Z"
   },
   {
    "duration": 827,
    "start_time": "2021-07-25T20:35:22.505Z"
   },
   {
    "duration": 26,
    "start_time": "2021-07-25T20:35:23.333Z"
   },
   {
    "duration": 809,
    "start_time": "2021-07-25T20:35:23.360Z"
   },
   {
    "duration": 5,
    "start_time": "2021-07-25T20:35:24.171Z"
   },
   {
    "duration": 602,
    "start_time": "2021-07-25T20:35:24.185Z"
   },
   {
    "duration": -1193,
    "start_time": "2021-07-25T20:35:25.981Z"
   },
   {
    "duration": -1202,
    "start_time": "2021-07-25T20:35:25.991Z"
   },
   {
    "duration": -1210,
    "start_time": "2021-07-25T20:35:26.000Z"
   },
   {
    "duration": -1218,
    "start_time": "2021-07-25T20:35:26.009Z"
   },
   {
    "duration": -1225,
    "start_time": "2021-07-25T20:35:26.017Z"
   },
   {
    "duration": 475,
    "start_time": "2021-07-25T20:35:57.334Z"
   },
   {
    "duration": 152,
    "start_time": "2021-07-25T20:36:36.023Z"
   },
   {
    "duration": 157,
    "start_time": "2021-07-25T20:37:23.849Z"
   },
   {
    "duration": 64,
    "start_time": "2021-07-25T20:41:25.222Z"
   },
   {
    "duration": 177,
    "start_time": "2021-07-25T20:41:35.562Z"
   },
   {
    "duration": 58,
    "start_time": "2021-07-25T20:42:04.292Z"
   },
   {
    "duration": 64,
    "start_time": "2021-07-25T20:42:32.922Z"
   },
   {
    "duration": 179,
    "start_time": "2021-07-25T20:42:40.839Z"
   },
   {
    "duration": 183,
    "start_time": "2021-07-25T20:43:04.271Z"
   },
   {
    "duration": 155,
    "start_time": "2021-07-25T20:44:06.500Z"
   },
   {
    "duration": 241,
    "start_time": "2021-07-25T20:44:31.771Z"
   },
   {
    "duration": 153,
    "start_time": "2021-07-25T20:44:35.427Z"
   },
   {
    "duration": 155,
    "start_time": "2021-07-25T20:44:48.510Z"
   },
   {
    "duration": 161,
    "start_time": "2021-07-25T20:45:02.415Z"
   },
   {
    "duration": 342,
    "start_time": "2021-07-25T20:45:07.558Z"
   },
   {
    "duration": 153,
    "start_time": "2021-07-25T20:45:26.047Z"
   },
   {
    "duration": 151,
    "start_time": "2021-07-25T20:45:43.377Z"
   },
   {
    "duration": 9,
    "start_time": "2021-07-25T20:45:54.389Z"
   },
   {
    "duration": 4,
    "start_time": "2021-07-25T20:46:06.493Z"
   },
   {
    "duration": 4,
    "start_time": "2021-07-25T20:46:14.177Z"
   },
   {
    "duration": 6,
    "start_time": "2021-07-25T20:46:17.764Z"
   },
   {
    "duration": 57,
    "start_time": "2021-07-25T20:46:36.143Z"
   },
   {
    "duration": 8,
    "start_time": "2021-07-25T20:46:41.224Z"
   },
   {
    "duration": 5,
    "start_time": "2021-07-25T20:46:54.181Z"
   },
   {
    "duration": 10,
    "start_time": "2021-07-25T20:47:21.177Z"
   },
   {
    "duration": 1326,
    "start_time": "2021-07-25T20:47:50.227Z"
   },
   {
    "duration": 11,
    "start_time": "2021-07-25T20:47:51.555Z"
   },
   {
    "duration": 8,
    "start_time": "2021-07-25T20:47:51.567Z"
   },
   {
    "duration": 8,
    "start_time": "2021-07-25T20:47:51.576Z"
   },
   {
    "duration": 7,
    "start_time": "2021-07-25T20:47:51.585Z"
   },
   {
    "duration": 10,
    "start_time": "2021-07-25T20:47:51.594Z"
   },
   {
    "duration": 14,
    "start_time": "2021-07-25T20:47:51.606Z"
   },
   {
    "duration": 10,
    "start_time": "2021-07-25T20:47:51.623Z"
   },
   {
    "duration": 6,
    "start_time": "2021-07-25T20:47:51.635Z"
   },
   {
    "duration": 45,
    "start_time": "2021-07-25T20:47:51.643Z"
   },
   {
    "duration": 29,
    "start_time": "2021-07-25T20:47:51.690Z"
   },
   {
    "duration": 13,
    "start_time": "2021-07-25T20:47:51.721Z"
   },
   {
    "duration": 8,
    "start_time": "2021-07-25T20:47:51.736Z"
   },
   {
    "duration": 6,
    "start_time": "2021-07-25T20:47:51.746Z"
   },
   {
    "duration": 23,
    "start_time": "2021-07-25T20:47:51.784Z"
   },
   {
    "duration": 12,
    "start_time": "2021-07-25T20:47:51.809Z"
   },
   {
    "duration": 384,
    "start_time": "2021-07-25T20:47:51.823Z"
   },
   {
    "duration": 307,
    "start_time": "2021-07-25T20:47:52.209Z"
   },
   {
    "duration": 36,
    "start_time": "2021-07-25T20:47:52.518Z"
   },
   {
    "duration": 10,
    "start_time": "2021-07-25T20:47:52.556Z"
   },
   {
    "duration": 292,
    "start_time": "2021-07-25T20:47:52.568Z"
   },
   {
    "duration": 55,
    "start_time": "2021-07-25T20:47:52.862Z"
   },
   {
    "duration": 33,
    "start_time": "2021-07-25T20:47:52.920Z"
   },
   {
    "duration": 707,
    "start_time": "2021-07-25T20:47:52.955Z"
   },
   {
    "duration": 9,
    "start_time": "2021-07-25T20:47:53.663Z"
   },
   {
    "duration": 873,
    "start_time": "2021-07-25T20:47:53.674Z"
   },
   {
    "duration": 800,
    "start_time": "2021-07-25T20:47:54.549Z"
   },
   {
    "duration": 11,
    "start_time": "2021-07-25T20:47:55.351Z"
   },
   {
    "duration": 1126,
    "start_time": "2021-07-25T20:47:55.364Z"
   },
   {
    "duration": 253,
    "start_time": "2021-07-25T20:47:56.491Z"
   },
   {
    "duration": 285,
    "start_time": "2021-07-25T20:47:56.746Z"
   },
   {
    "duration": 288,
    "start_time": "2021-07-25T20:47:57.032Z"
   },
   {
    "duration": 281,
    "start_time": "2021-07-25T20:47:57.322Z"
   },
   {
    "duration": 304,
    "start_time": "2021-07-25T20:47:57.605Z"
   },
   {
    "duration": 805,
    "start_time": "2021-07-25T20:47:57.911Z"
   },
   {
    "duration": 25,
    "start_time": "2021-07-25T20:47:58.718Z"
   },
   {
    "duration": 781,
    "start_time": "2021-07-25T20:47:58.745Z"
   },
   {
    "duration": 5,
    "start_time": "2021-07-25T20:47:59.528Z"
   },
   {
    "duration": 9,
    "start_time": "2021-07-25T20:48:07.202Z"
   },
   {
    "duration": 11,
    "start_time": "2021-07-25T20:48:13.262Z"
   },
   {
    "duration": 9,
    "start_time": "2021-07-25T20:48:26.138Z"
   },
   {
    "duration": 10,
    "start_time": "2021-07-25T20:49:22.261Z"
   },
   {
    "duration": 20,
    "start_time": "2021-07-25T20:49:33.771Z"
   },
   {
    "duration": 264,
    "start_time": "2021-07-25T20:49:51.563Z"
   },
   {
    "duration": 168,
    "start_time": "2021-07-25T20:50:00.943Z"
   },
   {
    "duration": 175,
    "start_time": "2021-07-25T20:50:48.219Z"
   },
   {
    "duration": 582,
    "start_time": "2021-07-25T20:50:51.502Z"
   },
   {
    "duration": 6,
    "start_time": "2021-07-25T20:51:00.357Z"
   },
   {
    "duration": 1272,
    "start_time": "2021-07-25T20:51:00.450Z"
   },
   {
    "duration": 294,
    "start_time": "2021-07-25T20:51:01.724Z"
   },
   {
    "duration": 160,
    "start_time": "2021-07-25T20:51:02.020Z"
   },
   {
    "duration": 12,
    "start_time": "2021-07-25T20:51:02.186Z"
   },
   {
    "duration": 1342,
    "start_time": "2021-07-26T09:23:07.263Z"
   },
   {
    "duration": 10,
    "start_time": "2021-07-26T09:23:08.607Z"
   },
   {
    "duration": 20,
    "start_time": "2021-07-26T09:23:08.621Z"
   },
   {
    "duration": 13,
    "start_time": "2021-07-26T09:23:08.642Z"
   },
   {
    "duration": 22,
    "start_time": "2021-07-26T09:23:08.656Z"
   },
   {
    "duration": 24,
    "start_time": "2021-07-26T09:23:08.679Z"
   },
   {
    "duration": 29,
    "start_time": "2021-07-26T09:23:08.705Z"
   },
   {
    "duration": 26,
    "start_time": "2021-07-26T09:23:08.736Z"
   },
   {
    "duration": 6,
    "start_time": "2021-07-26T09:23:08.764Z"
   },
   {
    "duration": 33,
    "start_time": "2021-07-26T09:23:08.771Z"
   },
   {
    "duration": 36,
    "start_time": "2021-07-26T09:23:08.805Z"
   },
   {
    "duration": 11,
    "start_time": "2021-07-26T09:23:08.843Z"
   },
   {
    "duration": 7,
    "start_time": "2021-07-26T09:23:08.856Z"
   },
   {
    "duration": 6,
    "start_time": "2021-07-26T09:23:08.864Z"
   },
   {
    "duration": 27,
    "start_time": "2021-07-26T09:23:08.872Z"
   },
   {
    "duration": 12,
    "start_time": "2021-07-26T09:23:08.900Z"
   },
   {
    "duration": 364,
    "start_time": "2021-07-26T09:23:08.914Z"
   },
   {
    "duration": 299,
    "start_time": "2021-07-26T09:23:09.280Z"
   },
   {
    "duration": 36,
    "start_time": "2021-07-26T09:23:09.580Z"
   },
   {
    "duration": 11,
    "start_time": "2021-07-26T09:23:09.618Z"
   },
   {
    "duration": 285,
    "start_time": "2021-07-26T09:23:09.631Z"
   },
   {
    "duration": 43,
    "start_time": "2021-07-26T09:23:09.920Z"
   },
   {
    "duration": 48,
    "start_time": "2021-07-26T09:23:09.965Z"
   },
   {
    "duration": 665,
    "start_time": "2021-07-26T09:23:10.015Z"
   },
   {
    "duration": 9,
    "start_time": "2021-07-26T09:23:10.684Z"
   },
   {
    "duration": 752,
    "start_time": "2021-07-26T09:23:10.695Z"
   },
   {
    "duration": 813,
    "start_time": "2021-07-26T09:23:11.449Z"
   },
   {
    "duration": 11,
    "start_time": "2021-07-26T09:23:12.264Z"
   },
   {
    "duration": 1083,
    "start_time": "2021-07-26T09:23:12.276Z"
   },
   {
    "duration": 252,
    "start_time": "2021-07-26T09:23:13.361Z"
   },
   {
    "duration": 286,
    "start_time": "2021-07-26T09:23:13.614Z"
   },
   {
    "duration": 271,
    "start_time": "2021-07-26T09:23:13.901Z"
   },
   {
    "duration": 313,
    "start_time": "2021-07-26T09:23:14.174Z"
   },
   {
    "duration": 317,
    "start_time": "2021-07-26T09:23:14.489Z"
   },
   {
    "duration": 754,
    "start_time": "2021-07-26T09:23:14.808Z"
   },
   {
    "duration": 34,
    "start_time": "2021-07-26T09:23:15.564Z"
   },
   {
    "duration": 784,
    "start_time": "2021-07-26T09:23:15.600Z"
   },
   {
    "duration": 5,
    "start_time": "2021-07-26T09:23:16.386Z"
   },
   {
    "duration": 195,
    "start_time": "2021-07-26T09:23:16.393Z"
   },
   {
    "duration": 616,
    "start_time": "2021-07-26T09:23:16.590Z"
   },
   {
    "duration": 5,
    "start_time": "2021-07-26T09:23:17.208Z"
   },
   {
    "duration": 1298,
    "start_time": "2021-07-26T09:23:17.214Z"
   },
   {
    "duration": 283,
    "start_time": "2021-07-26T09:23:18.514Z"
   },
   {
    "duration": 158,
    "start_time": "2021-07-26T09:23:18.798Z"
   },
   {
    "duration": 10,
    "start_time": "2021-07-26T09:23:18.958Z"
   },
   {
    "duration": 1448,
    "start_time": "2021-07-26T17:25:25.901Z"
   },
   {
    "duration": 11,
    "start_time": "2021-07-26T17:25:27.351Z"
   },
   {
    "duration": 17,
    "start_time": "2021-07-26T17:25:27.363Z"
   },
   {
    "duration": 21,
    "start_time": "2021-07-26T17:25:27.381Z"
   },
   {
    "duration": 25,
    "start_time": "2021-07-26T17:25:27.404Z"
   },
   {
    "duration": 22,
    "start_time": "2021-07-26T17:25:27.431Z"
   },
   {
    "duration": 33,
    "start_time": "2021-07-26T17:25:27.455Z"
   },
   {
    "duration": 28,
    "start_time": "2021-07-26T17:25:27.490Z"
   },
   {
    "duration": 21,
    "start_time": "2021-07-26T17:25:27.519Z"
   },
   {
    "duration": 37,
    "start_time": "2021-07-26T17:25:27.542Z"
   },
   {
    "duration": 37,
    "start_time": "2021-07-26T17:25:27.581Z"
   },
   {
    "duration": 16,
    "start_time": "2021-07-26T17:25:27.620Z"
   },
   {
    "duration": 22,
    "start_time": "2021-07-26T17:25:27.637Z"
   },
   {
    "duration": 24,
    "start_time": "2021-07-26T17:25:27.660Z"
   },
   {
    "duration": 35,
    "start_time": "2021-07-26T17:25:27.685Z"
   },
   {
    "duration": 11,
    "start_time": "2021-07-26T17:25:27.722Z"
   },
   {
    "duration": 1440,
    "start_time": "2021-07-26T17:25:27.734Z"
   },
   {
    "duration": 94,
    "start_time": "2021-07-26T17:25:29.176Z"
   },
   {
    "duration": 41,
    "start_time": "2021-07-26T17:25:29.272Z"
   },
   {
    "duration": 10,
    "start_time": "2021-07-26T17:25:29.314Z"
   },
   {
    "duration": 201,
    "start_time": "2021-07-26T17:25:29.325Z"
   },
   {
    "duration": 115,
    "start_time": "2021-07-26T17:25:29.527Z"
   },
   {
    "duration": 32,
    "start_time": "2021-07-26T17:25:29.645Z"
   },
   {
    "duration": 411,
    "start_time": "2021-07-26T17:25:29.678Z"
   },
   {
    "duration": 7,
    "start_time": "2021-07-26T17:25:30.091Z"
   },
   {
    "duration": 483,
    "start_time": "2021-07-26T17:25:30.099Z"
   },
   {
    "duration": 457,
    "start_time": "2021-07-26T17:25:30.585Z"
   },
   {
    "duration": 12,
    "start_time": "2021-07-26T17:25:31.044Z"
   },
   {
    "duration": 622,
    "start_time": "2021-07-26T17:25:31.057Z"
   },
   {
    "duration": 196,
    "start_time": "2021-07-26T17:25:31.681Z"
   },
   {
    "duration": 211,
    "start_time": "2021-07-26T17:25:31.878Z"
   },
   {
    "duration": 203,
    "start_time": "2021-07-26T17:25:32.090Z"
   },
   {
    "duration": 141,
    "start_time": "2021-07-26T17:25:32.295Z"
   },
   {
    "duration": 136,
    "start_time": "2021-07-26T17:25:32.437Z"
   },
   {
    "duration": 338,
    "start_time": "2021-07-26T17:25:32.574Z"
   },
   {
    "duration": 24,
    "start_time": "2021-07-26T17:25:32.914Z"
   },
   {
    "duration": 588,
    "start_time": "2021-07-26T17:25:32.939Z"
   },
   {
    "duration": 5,
    "start_time": "2021-07-26T17:25:33.529Z"
   },
   {
    "duration": 127,
    "start_time": "2021-07-26T17:25:33.536Z"
   },
   {
    "duration": 402,
    "start_time": "2021-07-26T17:25:33.664Z"
   },
   {
    "duration": 6,
    "start_time": "2021-07-26T17:25:34.068Z"
   },
   {
    "duration": 785,
    "start_time": "2021-07-26T17:25:34.076Z"
   },
   {
    "duration": 211,
    "start_time": "2021-07-26T17:25:34.863Z"
   },
   {
    "duration": 246,
    "start_time": "2021-07-26T17:25:35.076Z"
   },
   {
    "duration": 9,
    "start_time": "2021-07-26T17:25:35.323Z"
   },
   {
    "duration": 1768,
    "start_time": "2021-07-26T20:21:35.245Z"
   },
   {
    "duration": 16,
    "start_time": "2021-07-26T20:21:37.016Z"
   },
   {
    "duration": 20,
    "start_time": "2021-07-26T20:21:37.038Z"
   },
   {
    "duration": 8,
    "start_time": "2021-07-26T20:21:37.060Z"
   },
   {
    "duration": 13,
    "start_time": "2021-07-26T20:21:37.070Z"
   },
   {
    "duration": 16,
    "start_time": "2021-07-26T20:21:37.085Z"
   },
   {
    "duration": 54,
    "start_time": "2021-07-26T20:21:37.105Z"
   },
   {
    "duration": 14,
    "start_time": "2021-07-26T20:21:37.162Z"
   },
   {
    "duration": 8,
    "start_time": "2021-07-26T20:21:37.178Z"
   },
   {
    "duration": 23,
    "start_time": "2021-07-26T20:21:37.188Z"
   },
   {
    "duration": 72,
    "start_time": "2021-07-26T20:21:37.213Z"
   },
   {
    "duration": 16,
    "start_time": "2021-07-26T20:21:37.288Z"
   },
   {
    "duration": 13,
    "start_time": "2021-07-26T20:21:37.306Z"
   },
   {
    "duration": 37,
    "start_time": "2021-07-26T20:21:37.321Z"
   },
   {
    "duration": 30,
    "start_time": "2021-07-26T20:21:37.361Z"
   },
   {
    "duration": 20,
    "start_time": "2021-07-26T20:21:37.394Z"
   },
   {
    "duration": 598,
    "start_time": "2021-07-26T20:21:37.417Z"
   },
   {
    "duration": 673,
    "start_time": "2021-07-26T20:21:38.017Z"
   },
   {
    "duration": 66,
    "start_time": "2021-07-26T20:21:38.693Z"
   },
   {
    "duration": 16,
    "start_time": "2021-07-26T20:21:38.761Z"
   },
   {
    "duration": 442,
    "start_time": "2021-07-26T20:21:38.780Z"
   },
   {
    "duration": 96,
    "start_time": "2021-07-26T20:21:39.229Z"
   },
   {
    "duration": 92,
    "start_time": "2021-07-26T20:21:39.329Z"
   },
   {
    "duration": 1222,
    "start_time": "2021-07-26T20:21:39.423Z"
   },
   {
    "duration": 15,
    "start_time": "2021-07-26T20:21:40.648Z"
   },
   {
    "duration": 1498,
    "start_time": "2021-07-26T20:21:40.666Z"
   },
   {
    "duration": 1471,
    "start_time": "2021-07-26T20:21:42.166Z"
   },
   {
    "duration": 26,
    "start_time": "2021-07-26T20:21:43.639Z"
   },
   {
    "duration": 2011,
    "start_time": "2021-07-26T20:21:43.667Z"
   },
   {
    "duration": 409,
    "start_time": "2021-07-26T20:21:45.681Z"
   },
   {
    "duration": 438,
    "start_time": "2021-07-26T20:21:46.092Z"
   },
   {
    "duration": 434,
    "start_time": "2021-07-26T20:21:46.533Z"
   },
   {
    "duration": 388,
    "start_time": "2021-07-26T20:21:46.970Z"
   },
   {
    "duration": 431,
    "start_time": "2021-07-26T20:21:47.360Z"
   },
   {
    "duration": 1148,
    "start_time": "2021-07-26T20:21:47.794Z"
   },
   {
    "duration": 42,
    "start_time": "2021-07-26T20:21:48.944Z"
   },
   {
    "duration": 1316,
    "start_time": "2021-07-26T20:21:48.988Z"
   },
   {
    "duration": 7,
    "start_time": "2021-07-26T20:21:50.307Z"
   },
   {
    "duration": 303,
    "start_time": "2021-07-26T20:21:50.316Z"
   },
   {
    "duration": 1070,
    "start_time": "2021-07-26T20:21:50.622Z"
   },
   {
    "duration": 7,
    "start_time": "2021-07-26T20:21:51.694Z"
   },
   {
    "duration": 2010,
    "start_time": "2021-07-26T20:21:51.703Z"
   },
   {
    "duration": 425,
    "start_time": "2021-07-26T20:21:53.715Z"
   },
   {
    "duration": 258,
    "start_time": "2021-07-26T20:21:54.142Z"
   },
   {
    "duration": 15,
    "start_time": "2021-07-26T20:21:54.403Z"
   },
   {
    "duration": 1817,
    "start_time": "2021-07-26T23:08:29.938Z"
   },
   {
    "duration": 16,
    "start_time": "2021-07-26T23:08:31.757Z"
   },
   {
    "duration": 7,
    "start_time": "2021-07-26T23:08:31.776Z"
   },
   {
    "duration": 12,
    "start_time": "2021-07-26T23:08:31.786Z"
   },
   {
    "duration": 8,
    "start_time": "2021-07-26T23:08:31.800Z"
   },
   {
    "duration": 50,
    "start_time": "2021-07-26T23:08:31.810Z"
   },
   {
    "duration": 18,
    "start_time": "2021-07-26T23:08:31.862Z"
   },
   {
    "duration": 14,
    "start_time": "2021-07-26T23:08:31.883Z"
   },
   {
    "duration": 8,
    "start_time": "2021-07-26T23:08:31.900Z"
   },
   {
    "duration": 57,
    "start_time": "2021-07-26T23:08:31.910Z"
   },
   {
    "duration": 42,
    "start_time": "2021-07-26T23:08:31.970Z"
   },
   {
    "duration": 43,
    "start_time": "2021-07-26T23:08:32.014Z"
   },
   {
    "duration": 12,
    "start_time": "2021-07-26T23:08:32.059Z"
   },
   {
    "duration": 8,
    "start_time": "2021-07-26T23:08:32.074Z"
   },
   {
    "duration": 33,
    "start_time": "2021-07-26T23:08:32.085Z"
   },
   {
    "duration": 51,
    "start_time": "2021-07-26T23:08:32.120Z"
   },
   {
    "duration": 595,
    "start_time": "2021-07-26T23:08:32.174Z"
   },
   {
    "duration": 575,
    "start_time": "2021-07-26T23:08:32.772Z"
   },
   {
    "duration": 51,
    "start_time": "2021-07-26T23:08:33.350Z"
   },
   {
    "duration": 16,
    "start_time": "2021-07-26T23:08:33.403Z"
   },
   {
    "duration": 437,
    "start_time": "2021-07-26T23:08:33.421Z"
   },
   {
    "duration": 64,
    "start_time": "2021-07-26T23:08:33.860Z"
   },
   {
    "duration": 71,
    "start_time": "2021-07-26T23:08:33.929Z"
   },
   {
    "duration": 1362,
    "start_time": "2021-07-26T23:08:34.003Z"
   },
   {
    "duration": 13,
    "start_time": "2021-07-26T23:08:35.367Z"
   },
   {
    "duration": 1414,
    "start_time": "2021-07-26T23:08:35.382Z"
   },
   {
    "duration": 1455,
    "start_time": "2021-07-26T23:08:36.799Z"
   },
   {
    "duration": 17,
    "start_time": "2021-07-26T23:08:38.257Z"
   },
   {
    "duration": 2004,
    "start_time": "2021-07-26T23:08:38.277Z"
   },
   {
    "duration": 421,
    "start_time": "2021-07-26T23:08:40.284Z"
   },
   {
    "duration": 434,
    "start_time": "2021-07-26T23:08:40.708Z"
   },
   {
    "duration": 447,
    "start_time": "2021-07-26T23:08:41.145Z"
   },
   {
    "duration": 442,
    "start_time": "2021-07-26T23:08:41.595Z"
   },
   {
    "duration": 428,
    "start_time": "2021-07-26T23:08:42.040Z"
   },
   {
    "duration": 1112,
    "start_time": "2021-07-26T23:08:42.470Z"
   },
   {
    "duration": 41,
    "start_time": "2021-07-26T23:08:43.584Z"
   },
   {
    "duration": 1344,
    "start_time": "2021-07-26T23:08:43.629Z"
   },
   {
    "duration": 8,
    "start_time": "2021-07-26T23:08:44.976Z"
   },
   {
    "duration": 297,
    "start_time": "2021-07-26T23:08:44.986Z"
   },
   {
    "duration": 1065,
    "start_time": "2021-07-26T23:08:45.285Z"
   },
   {
    "duration": 8,
    "start_time": "2021-07-26T23:08:46.354Z"
   },
   {
    "duration": 2171,
    "start_time": "2021-07-26T23:08:46.364Z"
   },
   {
    "duration": 421,
    "start_time": "2021-07-26T23:08:48.537Z"
   },
   {
    "duration": 250,
    "start_time": "2021-07-26T23:08:48.960Z"
   },
   {
    "duration": 15,
    "start_time": "2021-07-26T23:08:49.212Z"
   },
   {
    "duration": 1801,
    "start_time": "2021-07-27T00:04:03.522Z"
   },
   {
    "duration": 19,
    "start_time": "2021-07-27T00:04:05.326Z"
   },
   {
    "duration": 9,
    "start_time": "2021-07-27T00:04:05.357Z"
   },
   {
    "duration": 14,
    "start_time": "2021-07-27T00:04:05.369Z"
   },
   {
    "duration": 11,
    "start_time": "2021-07-27T00:04:05.386Z"
   },
   {
    "duration": 56,
    "start_time": "2021-07-27T00:04:05.400Z"
   },
   {
    "duration": 19,
    "start_time": "2021-07-27T00:04:05.462Z"
   },
   {
    "duration": 17,
    "start_time": "2021-07-27T00:04:05.485Z"
   },
   {
    "duration": 13,
    "start_time": "2021-07-27T00:04:05.505Z"
   },
   {
    "duration": 56,
    "start_time": "2021-07-27T00:04:05.520Z"
   },
   {
    "duration": 44,
    "start_time": "2021-07-27T00:04:05.578Z"
   },
   {
    "duration": 22,
    "start_time": "2021-07-27T00:04:05.654Z"
   },
   {
    "duration": 14,
    "start_time": "2021-07-27T00:04:05.679Z"
   },
   {
    "duration": 11,
    "start_time": "2021-07-27T00:04:05.696Z"
   },
   {
    "duration": 63,
    "start_time": "2021-07-27T00:04:05.710Z"
   },
   {
    "duration": 21,
    "start_time": "2021-07-27T00:04:05.775Z"
   },
   {
    "duration": 599,
    "start_time": "2021-07-27T00:04:05.798Z"
   },
   {
    "duration": 563,
    "start_time": "2021-07-27T00:04:06.399Z"
   },
   {
    "duration": 53,
    "start_time": "2021-07-27T00:04:06.964Z"
   },
   {
    "duration": 36,
    "start_time": "2021-07-27T00:04:07.019Z"
   },
   {
    "duration": 422,
    "start_time": "2021-07-27T00:04:07.057Z"
   },
   {
    "duration": 75,
    "start_time": "2021-07-27T00:04:07.484Z"
   },
   {
    "duration": 53,
    "start_time": "2021-07-27T00:04:07.562Z"
   },
   {
    "duration": 1290,
    "start_time": "2021-07-27T00:04:07.618Z"
   },
   {
    "duration": 13,
    "start_time": "2021-07-27T00:04:08.911Z"
   },
   {
    "duration": 1587,
    "start_time": "2021-07-27T00:04:08.926Z"
   },
   {
    "duration": 1439,
    "start_time": "2021-07-27T00:04:10.515Z"
   },
   {
    "duration": 20,
    "start_time": "2021-07-27T00:04:11.956Z"
   },
   {
    "duration": 2052,
    "start_time": "2021-07-27T00:04:11.979Z"
   },
   {
    "duration": 425,
    "start_time": "2021-07-27T00:04:14.033Z"
   },
   {
    "duration": 448,
    "start_time": "2021-07-27T00:04:14.460Z"
   },
   {
    "duration": 438,
    "start_time": "2021-07-27T00:04:14.911Z"
   },
   {
    "duration": 415,
    "start_time": "2021-07-27T00:04:15.355Z"
   },
   {
    "duration": 423,
    "start_time": "2021-07-27T00:04:15.773Z"
   },
   {
    "duration": 1149,
    "start_time": "2021-07-27T00:04:16.200Z"
   },
   {
    "duration": 38,
    "start_time": "2021-07-27T00:04:17.354Z"
   },
   {
    "duration": 1270,
    "start_time": "2021-07-27T00:04:17.395Z"
   },
   {
    "duration": 7,
    "start_time": "2021-07-27T00:04:18.667Z"
   },
   {
    "duration": 295,
    "start_time": "2021-07-27T00:04:18.676Z"
   },
   {
    "duration": 989,
    "start_time": "2021-07-27T00:04:18.973Z"
   },
   {
    "duration": 7,
    "start_time": "2021-07-27T00:04:19.964Z"
   },
   {
    "duration": 2005,
    "start_time": "2021-07-27T00:04:19.973Z"
   },
   {
    "duration": 438,
    "start_time": "2021-07-27T00:04:21.980Z"
   },
   {
    "duration": 244,
    "start_time": "2021-07-27T00:04:22.421Z"
   },
   {
    "duration": 15,
    "start_time": "2021-07-27T00:04:22.667Z"
   },
   {
    "duration": 80,
    "start_time": "2021-07-27T14:25:10.363Z"
   },
   {
    "duration": 296,
    "start_time": "2021-07-27T14:30:18.532Z"
   },
   {
    "duration": 1501,
    "start_time": "2021-07-27T14:30:44.212Z"
   },
   {
    "duration": 10,
    "start_time": "2021-07-27T14:30:45.714Z"
   },
   {
    "duration": 6,
    "start_time": "2021-07-27T14:30:45.726Z"
   },
   {
    "duration": 6,
    "start_time": "2021-07-27T14:30:45.734Z"
   },
   {
    "duration": 7,
    "start_time": "2021-07-27T14:30:45.742Z"
   },
   {
    "duration": 9,
    "start_time": "2021-07-27T14:30:45.751Z"
   },
   {
    "duration": 50,
    "start_time": "2021-07-27T14:30:45.761Z"
   },
   {
    "duration": 10,
    "start_time": "2021-07-27T14:30:45.814Z"
   },
   {
    "duration": 5,
    "start_time": "2021-07-27T14:30:45.826Z"
   },
   {
    "duration": 17,
    "start_time": "2021-07-27T14:30:45.832Z"
   },
   {
    "duration": 5,
    "start_time": "2021-07-27T14:30:50.497Z"
   },
   {
    "duration": 4,
    "start_time": "2021-07-27T14:33:35.018Z"
   },
   {
    "duration": 3,
    "start_time": "2021-07-27T14:33:41.749Z"
   },
   {
    "duration": 3,
    "start_time": "2021-07-27T14:33:48.221Z"
   },
   {
    "duration": 8,
    "start_time": "2021-07-27T14:33:53.657Z"
   },
   {
    "duration": 9,
    "start_time": "2021-07-27T14:34:03.677Z"
   },
   {
    "duration": 12,
    "start_time": "2021-07-27T14:34:08.399Z"
   },
   {
    "duration": 6196,
    "start_time": "2021-07-27T14:34:14.620Z"
   },
   {
    "duration": 10,
    "start_time": "2021-07-27T14:35:10.473Z"
   },
   {
    "duration": 10,
    "start_time": "2021-07-27T14:35:43.233Z"
   },
   {
    "duration": 3,
    "start_time": "2021-07-27T14:36:07.300Z"
   },
   {
    "duration": 6,
    "start_time": "2021-07-27T14:36:09.794Z"
   },
   {
    "duration": 8,
    "start_time": "2021-07-27T14:44:01.763Z"
   },
   {
    "duration": 469,
    "start_time": "2021-07-27T14:45:19.060Z"
   },
   {
    "duration": 259,
    "start_time": "2021-07-27T14:45:37.245Z"
   },
   {
    "duration": 248,
    "start_time": "2021-07-27T14:47:05.094Z"
   },
   {
    "duration": 266,
    "start_time": "2021-07-27T14:47:09.962Z"
   },
   {
    "duration": 3,
    "start_time": "2021-07-27T14:47:51.832Z"
   },
   {
    "duration": 265,
    "start_time": "2021-07-27T14:48:12.162Z"
   },
   {
    "duration": 304,
    "start_time": "2021-07-27T14:48:21.998Z"
   },
   {
    "duration": 5,
    "start_time": "2021-07-27T14:48:22.303Z"
   },
   {
    "duration": 6,
    "start_time": "2021-07-27T14:48:22.310Z"
   },
   {
    "duration": 12,
    "start_time": "2021-07-27T14:48:22.317Z"
   },
   {
    "duration": 15,
    "start_time": "2021-07-27T14:48:22.330Z"
   },
   {
    "duration": 23,
    "start_time": "2021-07-27T14:48:22.346Z"
   },
   {
    "duration": 8,
    "start_time": "2021-07-27T14:48:22.370Z"
   },
   {
    "duration": 4,
    "start_time": "2021-07-27T14:48:22.391Z"
   },
   {
    "duration": 26,
    "start_time": "2021-07-27T14:48:22.397Z"
   },
   {
    "duration": 38,
    "start_time": "2021-07-27T14:48:22.425Z"
   },
   {
    "duration": 12,
    "start_time": "2021-07-27T14:48:22.464Z"
   },
   {
    "duration": 7,
    "start_time": "2021-07-27T14:48:22.477Z"
   },
   {
    "duration": 15,
    "start_time": "2021-07-27T14:48:22.485Z"
   },
   {
    "duration": 30,
    "start_time": "2021-07-27T14:48:22.501Z"
   },
   {
    "duration": 11,
    "start_time": "2021-07-27T14:48:22.533Z"
   },
   {
    "duration": 84,
    "start_time": "2021-07-27T14:48:22.546Z"
   },
   {
    "duration": -2095,
    "start_time": "2021-07-27T14:48:24.727Z"
   },
   {
    "duration": -2108,
    "start_time": "2021-07-27T14:48:24.741Z"
   },
   {
    "duration": -2119,
    "start_time": "2021-07-27T14:48:24.753Z"
   },
   {
    "duration": -2130,
    "start_time": "2021-07-27T14:48:24.765Z"
   },
   {
    "duration": -2142,
    "start_time": "2021-07-27T14:48:24.778Z"
   },
   {
    "duration": -2215,
    "start_time": "2021-07-27T14:48:24.852Z"
   },
   {
    "duration": -2280,
    "start_time": "2021-07-27T14:48:24.918Z"
   },
   {
    "duration": -2350,
    "start_time": "2021-07-27T14:48:24.989Z"
   },
   {
    "duration": -2418,
    "start_time": "2021-07-27T14:48:25.058Z"
   },
   {
    "duration": -2490,
    "start_time": "2021-07-27T14:48:25.131Z"
   },
   {
    "duration": -2561,
    "start_time": "2021-07-27T14:48:25.202Z"
   },
   {
    "duration": -2748,
    "start_time": "2021-07-27T14:48:25.391Z"
   },
   {
    "duration": -2791,
    "start_time": "2021-07-27T14:48:25.435Z"
   },
   {
    "duration": -2866,
    "start_time": "2021-07-27T14:48:25.510Z"
   },
   {
    "duration": -2938,
    "start_time": "2021-07-27T14:48:25.583Z"
   },
   {
    "duration": -3017,
    "start_time": "2021-07-27T14:48:25.663Z"
   },
   {
    "duration": -3086,
    "start_time": "2021-07-27T14:48:25.733Z"
   },
   {
    "duration": -3275,
    "start_time": "2021-07-27T14:48:25.923Z"
   },
   {
    "duration": -3337,
    "start_time": "2021-07-27T14:48:25.986Z"
   },
   {
    "duration": -3409,
    "start_time": "2021-07-27T14:48:26.059Z"
   },
   {
    "duration": -3452,
    "start_time": "2021-07-27T14:48:26.103Z"
   },
   {
    "duration": -3523,
    "start_time": "2021-07-27T14:48:26.175Z"
   },
   {
    "duration": -3564,
    "start_time": "2021-07-27T14:48:26.217Z"
   },
   {
    "duration": -3825,
    "start_time": "2021-07-27T14:48:26.478Z"
   },
   {
    "duration": -3897,
    "start_time": "2021-07-27T14:48:26.551Z"
   },
   {
    "duration": 253,
    "start_time": "2021-07-27T14:48:22.771Z"
   },
   {
    "duration": -4358,
    "start_time": "2021-07-27T14:48:27.385Z"
   },
   {
    "duration": -4429,
    "start_time": "2021-07-27T14:48:27.457Z"
   },
   {
    "duration": -4497,
    "start_time": "2021-07-27T14:48:27.526Z"
   },
   {
    "duration": 10,
    "start_time": "2021-07-27T14:49:18.576Z"
   },
   {
    "duration": 560,
    "start_time": "2021-07-27T14:51:02.885Z"
   },
   {
    "duration": 601,
    "start_time": "2021-07-27T14:51:25.155Z"
   },
   {
    "duration": 295,
    "start_time": "2021-07-27T14:52:07.857Z"
   },
   {
    "duration": 291,
    "start_time": "2021-07-27T14:52:23.191Z"
   },
   {
    "duration": 528,
    "start_time": "2021-07-27T14:52:36.547Z"
   },
   {
    "duration": 158,
    "start_time": "2021-07-27T14:55:02.179Z"
   },
   {
    "duration": 14,
    "start_time": "2021-07-27T14:56:03.598Z"
   },
   {
    "duration": 155,
    "start_time": "2021-07-27T14:57:25.608Z"
   },
   {
    "duration": 212,
    "start_time": "2021-07-27T14:59:28.626Z"
   },
   {
    "duration": 366,
    "start_time": "2021-07-27T14:59:42.726Z"
   },
   {
    "duration": 367,
    "start_time": "2021-07-27T15:00:06.397Z"
   },
   {
    "duration": 400,
    "start_time": "2021-07-27T15:00:51.138Z"
   },
   {
    "duration": 289,
    "start_time": "2021-07-27T15:01:53.017Z"
   },
   {
    "duration": 257,
    "start_time": "2021-07-27T15:20:52.030Z"
   },
   {
    "duration": 564,
    "start_time": "2021-07-27T15:20:57.381Z"
   },
   {
    "duration": 6,
    "start_time": "2021-07-27T15:20:57.948Z"
   },
   {
    "duration": 12,
    "start_time": "2021-07-27T15:20:57.956Z"
   },
   {
    "duration": 24,
    "start_time": "2021-07-27T15:20:57.970Z"
   },
   {
    "duration": 13,
    "start_time": "2021-07-27T15:20:57.995Z"
   },
   {
    "duration": 12,
    "start_time": "2021-07-27T15:20:58.010Z"
   },
   {
    "duration": 10,
    "start_time": "2021-07-27T15:20:58.024Z"
   },
   {
    "duration": 6,
    "start_time": "2021-07-27T15:20:58.036Z"
   },
   {
    "duration": 50,
    "start_time": "2021-07-27T15:20:58.043Z"
   },
   {
    "duration": 33,
    "start_time": "2021-07-27T15:20:58.096Z"
   },
   {
    "duration": 14,
    "start_time": "2021-07-27T15:20:58.131Z"
   },
   {
    "duration": 8,
    "start_time": "2021-07-27T15:20:58.147Z"
   },
   {
    "duration": 36,
    "start_time": "2021-07-27T15:20:58.157Z"
   },
   {
    "duration": 25,
    "start_time": "2021-07-27T15:20:58.196Z"
   },
   {
    "duration": 11,
    "start_time": "2021-07-27T15:20:58.223Z"
   },
   {
    "duration": 511,
    "start_time": "2021-07-27T15:20:58.235Z"
   },
   {
    "duration": 326,
    "start_time": "2021-07-27T15:20:58.748Z"
   },
   {
    "duration": 172,
    "start_time": "2021-07-27T15:20:59.076Z"
   },
   {
    "duration": 11,
    "start_time": "2021-07-27T15:20:59.250Z"
   },
   {
    "duration": 633,
    "start_time": "2021-07-27T15:20:59.263Z"
   },
   {
    "duration": 42,
    "start_time": "2021-07-27T15:20:59.899Z"
   },
   {
    "duration": 57,
    "start_time": "2021-07-27T15:20:59.943Z"
   },
   {
    "duration": 681,
    "start_time": "2021-07-27T15:21:00.004Z"
   },
   {
    "duration": 12,
    "start_time": "2021-07-27T15:21:00.690Z"
   },
   {
    "duration": 779,
    "start_time": "2021-07-27T15:21:00.704Z"
   },
   {
    "duration": 798,
    "start_time": "2021-07-27T15:21:01.484Z"
   },
   {
    "duration": 17,
    "start_time": "2021-07-27T15:21:02.284Z"
   },
   {
    "duration": 96,
    "start_time": "2021-07-27T15:21:18.478Z"
   },
   {
    "duration": 92,
    "start_time": "2021-07-27T15:21:39.767Z"
   },
   {
    "duration": 106,
    "start_time": "2021-07-27T15:21:47.796Z"
   },
   {
    "duration": 110,
    "start_time": "2021-07-27T15:22:22.527Z"
   },
   {
    "duration": 223,
    "start_time": "2021-07-27T15:22:49.436Z"
   },
   {
    "duration": 81,
    "start_time": "2021-07-27T15:24:28.967Z"
   },
   {
    "duration": 5,
    "start_time": "2021-07-27T15:30:32.990Z"
   },
   {
    "duration": 4,
    "start_time": "2021-07-27T15:32:01.587Z"
   },
   {
    "duration": 5,
    "start_time": "2021-07-27T15:38:22.842Z"
   },
   {
    "duration": 5,
    "start_time": "2021-07-27T15:52:58.644Z"
   },
   {
    "duration": 332,
    "start_time": "2021-07-27T15:54:13.629Z"
   },
   {
    "duration": 226,
    "start_time": "2021-07-27T15:54:25.629Z"
   },
   {
    "duration": 5,
    "start_time": "2021-07-27T15:54:30.830Z"
   },
   {
    "duration": 230,
    "start_time": "2021-07-27T16:02:36.593Z"
   },
   {
    "duration": 284,
    "start_time": "2021-07-27T16:18:15.172Z"
   },
   {
    "duration": 256,
    "start_time": "2021-07-27T16:20:44.724Z"
   },
   {
    "duration": 739,
    "start_time": "2021-07-27T16:22:18.634Z"
   },
   {
    "duration": 667,
    "start_time": "2021-07-27T16:34:44.427Z"
   },
   {
    "duration": 664,
    "start_time": "2021-07-27T16:35:03.075Z"
   },
   {
    "duration": 728,
    "start_time": "2021-07-27T16:35:38.626Z"
   },
   {
    "duration": 648,
    "start_time": "2021-07-27T16:35:49.511Z"
   },
   {
    "duration": 5,
    "start_time": "2021-07-27T16:36:08.885Z"
   },
   {
    "duration": 695,
    "start_time": "2021-07-27T17:18:17.725Z"
   },
   {
    "duration": 798,
    "start_time": "2021-07-27T17:18:32.664Z"
   },
   {
    "duration": 703,
    "start_time": "2021-07-27T17:18:59.573Z"
   },
   {
    "duration": 415,
    "start_time": "2021-07-27T17:24:44.495Z"
   },
   {
    "duration": 160,
    "start_time": "2021-07-27T17:24:52.623Z"
   },
   {
    "duration": 684,
    "start_time": "2021-07-27T17:24:56.089Z"
   },
   {
    "duration": 1169,
    "start_time": "2021-07-27T17:43:07.122Z"
   },
   {
    "duration": 12,
    "start_time": "2021-07-27T17:43:12.700Z"
   },
   {
    "duration": 240,
    "start_time": "2021-07-27T17:43:16.438Z"
   },
   {
    "duration": 133,
    "start_time": "2021-07-27T17:43:23.111Z"
   },
   {
    "duration": 232,
    "start_time": "2021-07-27T18:19:58.585Z"
   },
   {
    "duration": 10,
    "start_time": "2021-07-27T18:27:28.829Z"
   },
   {
    "duration": 11,
    "start_time": "2021-07-27T18:27:37.603Z"
   },
   {
    "duration": 81,
    "start_time": "2021-07-27T18:27:46.787Z"
   },
   {
    "duration": 80,
    "start_time": "2021-07-27T18:27:58.158Z"
   },
   {
    "duration": 11,
    "start_time": "2021-07-27T18:28:03.677Z"
   },
   {
    "duration": 11,
    "start_time": "2021-07-27T18:28:34.368Z"
   },
   {
    "duration": 11,
    "start_time": "2021-07-27T18:28:49.932Z"
   },
   {
    "duration": 10,
    "start_time": "2021-07-27T18:30:33.135Z"
   },
   {
    "duration": 288,
    "start_time": "2021-07-27T18:36:11.330Z"
   },
   {
    "duration": 397,
    "start_time": "2021-07-27T18:36:38.532Z"
   },
   {
    "duration": 638,
    "start_time": "2021-07-27T18:37:25.508Z"
   },
   {
    "duration": 89,
    "start_time": "2021-07-27T18:38:18.392Z"
   },
   {
    "duration": 540,
    "start_time": "2021-07-27T18:38:25.379Z"
   },
   {
    "duration": 154,
    "start_time": "2021-07-27T18:38:51.115Z"
   },
   {
    "duration": 2400,
    "start_time": "2021-07-28T17:08:29.155Z"
   },
   {
    "duration": 11,
    "start_time": "2021-07-28T17:08:31.557Z"
   },
   {
    "duration": 20,
    "start_time": "2021-07-28T17:08:31.571Z"
   },
   {
    "duration": 18,
    "start_time": "2021-07-28T17:08:31.594Z"
   },
   {
    "duration": 29,
    "start_time": "2021-07-28T17:08:31.615Z"
   },
   {
    "duration": 23,
    "start_time": "2021-07-28T17:08:31.646Z"
   },
   {
    "duration": 21,
    "start_time": "2021-07-28T17:08:31.672Z"
   },
   {
    "duration": 17,
    "start_time": "2021-07-28T17:08:31.696Z"
   },
   {
    "duration": 32,
    "start_time": "2021-07-28T17:08:31.719Z"
   },
   {
    "duration": 43,
    "start_time": "2021-07-28T17:08:31.755Z"
   },
   {
    "duration": 19,
    "start_time": "2021-07-28T17:08:31.800Z"
   },
   {
    "duration": 11,
    "start_time": "2021-07-28T17:08:31.822Z"
   },
   {
    "duration": 26,
    "start_time": "2021-07-28T17:08:31.835Z"
   },
   {
    "duration": 33,
    "start_time": "2021-07-28T17:08:31.864Z"
   },
   {
    "duration": 38,
    "start_time": "2021-07-28T17:08:31.900Z"
   },
   {
    "duration": 859,
    "start_time": "2021-07-28T17:08:31.941Z"
   },
   {
    "duration": 604,
    "start_time": "2021-07-28T17:08:32.803Z"
   },
   {
    "duration": 263,
    "start_time": "2021-07-28T17:08:33.409Z"
   },
   {
    "duration": 18,
    "start_time": "2021-07-28T17:08:33.674Z"
   },
   {
    "duration": 647,
    "start_time": "2021-07-28T17:08:33.695Z"
   },
   {
    "duration": 69,
    "start_time": "2021-07-28T17:08:34.344Z"
   },
   {
    "duration": 57,
    "start_time": "2021-07-28T17:08:34.415Z"
   },
   {
    "duration": 1717,
    "start_time": "2021-07-28T17:08:34.475Z"
   },
   {
    "duration": 13,
    "start_time": "2021-07-28T17:08:36.195Z"
   },
   {
    "duration": 1729,
    "start_time": "2021-07-28T17:08:36.211Z"
   },
   {
    "duration": 1471,
    "start_time": "2021-07-28T17:08:37.942Z"
   },
   {
    "duration": 17,
    "start_time": "2021-07-28T17:08:39.420Z"
   },
   {
    "duration": 213,
    "start_time": "2021-07-28T17:08:39.441Z"
   },
   {
    "duration": 437,
    "start_time": "2021-07-28T17:08:39.657Z"
   },
   {
    "duration": 7,
    "start_time": "2021-07-28T17:08:40.097Z"
   },
   {
    "duration": 488,
    "start_time": "2021-07-28T17:08:40.106Z"
   },
   {
    "duration": 455,
    "start_time": "2021-07-28T17:08:40.597Z"
   },
   {
    "duration": 16,
    "start_time": "2021-07-28T17:08:41.054Z"
   },
   {
    "duration": 515,
    "start_time": "2021-07-28T17:08:41.073Z"
   },
   {
    "duration": 438,
    "start_time": "2021-07-28T17:08:41.590Z"
   },
   {
    "duration": 1109,
    "start_time": "2021-07-28T17:08:42.031Z"
   },
   {
    "duration": 55,
    "start_time": "2021-07-28T17:08:43.143Z"
   },
   {
    "duration": 1279,
    "start_time": "2021-07-28T17:08:43.201Z"
   },
   {
    "duration": 8,
    "start_time": "2021-07-28T17:08:44.483Z"
   },
   {
    "duration": 306,
    "start_time": "2021-07-28T17:08:44.493Z"
   },
   {
    "duration": 1076,
    "start_time": "2021-07-28T17:08:44.802Z"
   },
   {
    "duration": 7,
    "start_time": "2021-07-28T17:08:45.880Z"
   },
   {
    "duration": 255,
    "start_time": "2021-07-28T17:08:45.890Z"
   },
   {
    "duration": 436,
    "start_time": "2021-07-28T17:08:46.148Z"
   },
   {
    "duration": 19,
    "start_time": "2021-07-28T17:08:46.588Z"
   }
  ],
  "kernelspec": {
   "display_name": "Python 3 (ipykernel)",
   "language": "python",
   "name": "python3"
  },
  "language_info": {
   "codemirror_mode": {
    "name": "ipython",
    "version": 3
   },
   "file_extension": ".py",
   "mimetype": "text/x-python",
   "name": "python",
   "nbconvert_exporter": "python",
   "pygments_lexer": "ipython3",
   "version": "3.9.5"
  },
  "toc": {
   "base_numbering": 1,
   "nav_menu": {},
   "number_sections": true,
   "sideBar": true,
   "skip_h1_title": true,
   "title_cell": "Table of Contents",
   "title_sidebar": "Contents",
   "toc_cell": false,
   "toc_position": {},
   "toc_section_display": true,
   "toc_window_display": false
  }
 },
 "nbformat": 4,
 "nbformat_minor": 2
}
