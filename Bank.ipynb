{
 "cells": [
  {
   "cell_type": "markdown",
   "metadata": {},
   "source": [
    "# Analyzing borrowers’ risk of defaulting\n",
    "\n",
    "Your project is to prepare a report for a bank’s loan division. You’ll need to find out if a customer’s marital status and number of children has an impact on whether they will default on a loan. The bank already has some data on customers’ credit worthiness.\n",
    "\n",
    "Your report will be considered when building a **credit scoring** of a potential customer. A ** credit scoring ** is used to evaluate the ability of a potential borrower to repay their loan."
   ]
  },
  {
   "cell_type": "markdown",
   "metadata": {},
   "source": [
    "## Open the data file and have a look at the general information. "
   ]
  },
  {
   "cell_type": "code",
   "execution_count": 1,
   "metadata": {},
   "outputs": [],
   "source": [
    "import pandas as pd\n",
    "data = pd.read_csv('/datasets/credit_scoring_eng.csv')\n"
   ]
  },
  {
   "cell_type": "markdown",
   "metadata": {},
   "source": [
    "### Conclusion"
   ]
  },
  {
   "cell_type": "code",
   "execution_count": 2,
   "metadata": {},
   "outputs": [
    {
     "name": "stdout",
     "output_type": "stream",
     "text": [
      "<class 'pandas.core.frame.DataFrame'>\n",
      "RangeIndex: 21525 entries, 0 to 21524\n",
      "Data columns (total 12 columns):\n",
      "children            21525 non-null int64\n",
      "days_employed       19351 non-null float64\n",
      "dob_years           21525 non-null int64\n",
      "education           21525 non-null object\n",
      "education_id        21525 non-null int64\n",
      "family_status       21525 non-null object\n",
      "family_status_id    21525 non-null int64\n",
      "gender              21525 non-null object\n",
      "income_type         21525 non-null object\n",
      "debt                21525 non-null int64\n",
      "total_income        19351 non-null float64\n",
      "purpose             21525 non-null object\n",
      "dtypes: float64(2), int64(5), object(5)\n",
      "memory usage: 2.0+ MB\n"
     ]
    },
    {
     "data": {
      "text/html": [
       "<div>\n",
       "<style scoped>\n",
       "    .dataframe tbody tr th:only-of-type {\n",
       "        vertical-align: middle;\n",
       "    }\n",
       "\n",
       "    .dataframe tbody tr th {\n",
       "        vertical-align: top;\n",
       "    }\n",
       "\n",
       "    .dataframe thead th {\n",
       "        text-align: right;\n",
       "    }\n",
       "</style>\n",
       "<table border=\"1\" class=\"dataframe\">\n",
       "  <thead>\n",
       "    <tr style=\"text-align: right;\">\n",
       "      <th></th>\n",
       "      <th>children</th>\n",
       "      <th>days_employed</th>\n",
       "      <th>dob_years</th>\n",
       "      <th>education_id</th>\n",
       "      <th>family_status_id</th>\n",
       "      <th>debt</th>\n",
       "      <th>total_income</th>\n",
       "    </tr>\n",
       "  </thead>\n",
       "  <tbody>\n",
       "    <tr>\n",
       "      <td>count</td>\n",
       "      <td>21525.000000</td>\n",
       "      <td>19351.000000</td>\n",
       "      <td>21525.000000</td>\n",
       "      <td>21525.000000</td>\n",
       "      <td>21525.000000</td>\n",
       "      <td>21525.000000</td>\n",
       "      <td>19351.000000</td>\n",
       "    </tr>\n",
       "    <tr>\n",
       "      <td>mean</td>\n",
       "      <td>0.538908</td>\n",
       "      <td>63046.497661</td>\n",
       "      <td>43.293380</td>\n",
       "      <td>0.817236</td>\n",
       "      <td>0.972544</td>\n",
       "      <td>0.080883</td>\n",
       "      <td>26787.568355</td>\n",
       "    </tr>\n",
       "    <tr>\n",
       "      <td>std</td>\n",
       "      <td>1.381587</td>\n",
       "      <td>140827.311974</td>\n",
       "      <td>12.574584</td>\n",
       "      <td>0.548138</td>\n",
       "      <td>1.420324</td>\n",
       "      <td>0.272661</td>\n",
       "      <td>16475.450632</td>\n",
       "    </tr>\n",
       "    <tr>\n",
       "      <td>min</td>\n",
       "      <td>-1.000000</td>\n",
       "      <td>-18388.949901</td>\n",
       "      <td>0.000000</td>\n",
       "      <td>0.000000</td>\n",
       "      <td>0.000000</td>\n",
       "      <td>0.000000</td>\n",
       "      <td>3306.762000</td>\n",
       "    </tr>\n",
       "    <tr>\n",
       "      <td>25%</td>\n",
       "      <td>0.000000</td>\n",
       "      <td>-2747.423625</td>\n",
       "      <td>33.000000</td>\n",
       "      <td>1.000000</td>\n",
       "      <td>0.000000</td>\n",
       "      <td>0.000000</td>\n",
       "      <td>16488.504500</td>\n",
       "    </tr>\n",
       "    <tr>\n",
       "      <td>50%</td>\n",
       "      <td>0.000000</td>\n",
       "      <td>-1203.369529</td>\n",
       "      <td>42.000000</td>\n",
       "      <td>1.000000</td>\n",
       "      <td>0.000000</td>\n",
       "      <td>0.000000</td>\n",
       "      <td>23202.870000</td>\n",
       "    </tr>\n",
       "    <tr>\n",
       "      <td>75%</td>\n",
       "      <td>1.000000</td>\n",
       "      <td>-291.095954</td>\n",
       "      <td>53.000000</td>\n",
       "      <td>1.000000</td>\n",
       "      <td>1.000000</td>\n",
       "      <td>0.000000</td>\n",
       "      <td>32549.611000</td>\n",
       "    </tr>\n",
       "    <tr>\n",
       "      <td>max</td>\n",
       "      <td>20.000000</td>\n",
       "      <td>401755.400475</td>\n",
       "      <td>75.000000</td>\n",
       "      <td>4.000000</td>\n",
       "      <td>4.000000</td>\n",
       "      <td>1.000000</td>\n",
       "      <td>362496.645000</td>\n",
       "    </tr>\n",
       "  </tbody>\n",
       "</table>\n",
       "</div>"
      ],
      "text/plain": [
       "           children  days_employed     dob_years  education_id  \\\n",
       "count  21525.000000   19351.000000  21525.000000  21525.000000   \n",
       "mean       0.538908   63046.497661     43.293380      0.817236   \n",
       "std        1.381587  140827.311974     12.574584      0.548138   \n",
       "min       -1.000000  -18388.949901      0.000000      0.000000   \n",
       "25%        0.000000   -2747.423625     33.000000      1.000000   \n",
       "50%        0.000000   -1203.369529     42.000000      1.000000   \n",
       "75%        1.000000    -291.095954     53.000000      1.000000   \n",
       "max       20.000000  401755.400475     75.000000      4.000000   \n",
       "\n",
       "       family_status_id          debt   total_income  \n",
       "count      21525.000000  21525.000000   19351.000000  \n",
       "mean           0.972544      0.080883   26787.568355  \n",
       "std            1.420324      0.272661   16475.450632  \n",
       "min            0.000000      0.000000    3306.762000  \n",
       "25%            0.000000      0.000000   16488.504500  \n",
       "50%            0.000000      0.000000   23202.870000  \n",
       "75%            1.000000      0.000000   32549.611000  \n",
       "max            4.000000      1.000000  362496.645000  "
      ]
     },
     "execution_count": 2,
     "metadata": {},
     "output_type": "execute_result"
    }
   ],
   "source": [
    "data.info()\n",
    "data.describe()"
   ]
  },
  {
   "cell_type": "markdown",
   "metadata": {},
   "source": [
    "Giving a loan to the customer depends on a lot of things first we are going to ask the the customer according to the data that we have \n",
    "for what he need the loan (purpose)?\n",
    "how many years does he worked or have worked ?\n",
    "and the total income per month ?\n",
    "is he married ?\n",
    "does he have a children ?\n",
    "is there a debt ?\n",
    "the rest of the data like gender and education days employed I will take care of the missing values in these columns but not considering them in calculating the credit score \n",
    "Therefore first the i read the file.csv\n",
    "those columns i will be working on ['dob_years','days_employed','total_income','family_status','income_type','children','debt']\n"
   ]
  },
  {
   "cell_type": "markdown",
   "metadata": {},
   "source": [
    "## Data preprocessing"
   ]
  },
  {
   "cell_type": "markdown",
   "metadata": {},
   "source": [
    "### Processing missing values"
   ]
  },
  {
   "cell_type": "code",
   "execution_count": 3,
   "metadata": {},
   "outputs": [
    {
     "name": "stdout",
     "output_type": "stream",
     "text": [
      "children               0\n",
      "days_employed       2174\n",
      "dob_years              0\n",
      "education              0\n",
      "education_id           0\n",
      "family_status          0\n",
      "family_status_id       0\n",
      "gender                 0\n",
      "income_type            0\n",
      "debt                   0\n",
      "total_income        2174\n",
      "purpose                0\n",
      "dtype: int64\n",
      "the percent of the missing value in total income 10%\n",
      "the percent of the missing value in days employed 10%\n",
      "26787.56835465867\n",
      "children               0\n",
      "days_employed       2174\n",
      "dob_years              0\n",
      "education              0\n",
      "education_id           0\n",
      "family_status          0\n",
      "family_status_id       0\n",
      "gender                 0\n",
      "income_type            0\n",
      "debt                   0\n",
      "total_income        2174\n",
      "purpose                0\n",
      "dtype: int64\n"
     ]
    }
   ],
   "source": [
    "print(data.isnull().sum())\n",
    "#quatitive data fill the missing value with mean or median\n",
    "#data['days_employed'].fillna(value = 0, inplace=True)\n",
    "null_total_income= data['total_income'].isnull().sum()\n",
    "null_employed = data['days_employed'].isnull().sum()\n",
    "\n",
    "lenght = len(data)\n",
    "\n",
    "rateincome = null_total_income / lenght\n",
    "ratemploy = null_employed / lenght\n",
    "\n",
    "print('the percent of the missing value in total income {:.0%}'.format(rateincome)) \n",
    "print('the percent of the missing value in days employed {:.0%}'.format(ratemploy)) \n",
    "\n",
    "#10% will not affect the data if we delete the rows\n",
    "#data['total_income'] = data['total_income'].dropna().reset_index(drop=True)\n",
    "old_mean_income =data['total_income'].mean()\n",
    "print(old_mean_income)\n",
    "#data['total_income'] = data['total_income'].fillna(value =old_mean_income)\n",
    "\n",
    "#new_mean_income =data['total_income'].mean()\n",
    "    #print(new_mean_income)\n",
    "print(data.isnull().sum())\n",
    "if ('type_income' == 'business') | ('type_income' == 'employee') | ('type_income' == 'entrpenuer'):\n",
    "    data['total_income'] = data['total_income'].fillna(value =old_mean_income)\n",
    "#else:\n",
    " #   data = data.drop()\n",
    "\n",
    "\n",
    "    \n",
    "\n",
    "#data['total_income','days_employed'].fillna(value = 0, inplace=True)\n",
    "\n",
    "#use aggregate function to know how is the missing value affect on the data \n",
    "#missing value by none string\n",
    "#countt = data.loc[data['purpose']=='none','purpose'].count()\n",
    "\n",
    "\n",
    "\n",
    "\n",
    "\n",
    "\n"
   ]
  },
  {
   "cell_type": "markdown",
   "metadata": {},
   "source": [
    "working with missing value using isnull() and the sum of each null field in the data\n",
    "according to the result we have 2174 null value in two columns and for me both are important \n",
    "days_employed       2174\n",
    "total_income        2174\n",
    "calculationg the rate to know if we can drop the rows or not = (10% )\n",
    "so we can drop them however the total income is linked with the type of income columns so we can deal with the missing values in this column by two methods first we can replace it by the mean (quantitive data) if the customer is employed or business or entreprenuer because ofcourse he has an income while drop the others people unemployed or  student \n"
   ]
  },
  {
   "cell_type": "code",
   "execution_count": 4,
   "metadata": {},
   "outputs": [
    {
     "name": "stdout",
     "output_type": "stream",
     "text": [
      "0 0 0\n"
     ]
    }
   ],
   "source": [
    "\n",
    "countt1 = data.loc[(data['purpose']=='none')|( data['purpose']== ' ')| (data['purpose']=='None'),'purpose'].count()\n",
    "countt2 = data.loc[(data['education']=='none')|( data['education']== ' ')|(data['education']=='None') ,'education'].count()\n",
    "countt3 = data.loc[(data['income_type']=='none')|( data['income_type']== ' ')|(data['income_type']=='None') ,'income_type'].count()\n",
    "print(countt1,countt2,countt3)"
   ]
  },
  {
   "cell_type": "markdown",
   "metadata": {},
   "source": [
    "make sure that the string columns doesn't have missing value filled by string none or empty space"
   ]
  },
  {
   "cell_type": "code",
   "execution_count": 5,
   "metadata": {},
   "outputs": [
    {
     "name": "stdout",
     "output_type": "stream",
     "text": [
      "       children  days_employed  dob_years            education  education_id  \\\n",
      "291          -1   -4417.703588         46  secondary education             1   \n",
      "705          -1    -902.084528         50  secondary education             1   \n",
      "742          -1   -3174.456205         57  secondary education             1   \n",
      "800          -1  349987.852217         54  secondary education             1   \n",
      "941          -1            NaN         57  Secondary Education             1   \n",
      "1363         -1   -1195.264956         55  SECONDARY EDUCATION             1   \n",
      "1929         -1   -1461.303336         38  secondary education             1   \n",
      "2073         -1   -2539.761232         42  secondary education             1   \n",
      "3814         -1   -3045.290443         26  Secondary Education             1   \n",
      "4201         -1    -901.101738         41  secondary education             1   \n",
      "4402         -1  398001.302888         64  SECONDARY EDUCATION             1   \n",
      "4542         -1   -1811.899756         32  secondary education             1   \n",
      "5272         -1   -1143.485347         46  secondary education             1   \n",
      "6013         -1   -1361.258696         46    bachelor's degree             0   \n",
      "6385         -1  370215.476226         48  secondary education             1   \n",
      "7190         -1   -5928.202068         34  SECONDARY EDUCATION             1   \n",
      "7278         -1    -526.318451         51  secondary education             1   \n",
      "7615         -1            NaN         35  secondary education             1   \n",
      "7685         -1   -3237.360455         53  secondary education             1   \n",
      "8229         -1   -1803.441074         54    bachelor's degree             0   \n",
      "8251         -1   -3113.998449         31  secondary education             1   \n",
      "8561         -1    -195.479496         31  secondary education             1   \n",
      "9565         -1   -2896.629686         34    bachelor's degree             0   \n",
      "9574         -1   -2710.419901         28    bachelor's degree             0   \n",
      "10177        -1   -1743.604011         37  secondary education             1   \n",
      "10365        -1  345774.125957         63    BACHELOR'S DEGREE             0   \n",
      "10918        -1  340499.039342         50  secondary education             1   \n",
      "11109        -1   -3438.463024         59  secondary education             1   \n",
      "11268        -1   -1048.782203         30    bachelor's degree             0   \n",
      "11617        -1    -370.827130         27  secondary education             1   \n",
      "12304        -1   -8493.101252         61         some college             2   \n",
      "13786        -1            NaN         42  secondary education             1   \n",
      "14357        -1    -268.337037         23  secondary education             1   \n",
      "15147        -1   -9851.184337         44  secondary education             1   \n",
      "15435        -1   -3614.220232         40    bachelor's degree             0   \n",
      "16129        -1    -457.861760         33  secondary education             1   \n",
      "16265        -1   -2802.218127         40    bachelor's degree             0   \n",
      "17095        -1   -2809.693200         34  secondary education             1   \n",
      "17429        -1    -895.379738         37  secondary education             1   \n",
      "17657        -1   -4571.957475         41  secondary education             1   \n",
      "18219        -1   -3575.215641         33  secondary education             1   \n",
      "19100        -1    -617.246968         38  secondary education             1   \n",
      "19366        -1    -372.034749         43  SECONDARY EDUCATION             1   \n",
      "19417        -1  350340.760224         28  secondary education             1   \n",
      "20393        -1  355157.107212         69  secondary education             1   \n",
      "20717        -1    -661.822321         32    bachelor's degree             0   \n",
      "21140        -1   -1422.668059         44  secondary education             1   \n",
      "\n",
      "           family_status  family_status_id gender    income_type  debt  \\\n",
      "291    civil partnership                 1      F       employee     0   \n",
      "705              married                 0      F  civil servant     0   \n",
      "742              married                 0      F       employee     0   \n",
      "800            unmarried                 4      F        retiree     0   \n",
      "941              married                 0      F        retiree     0   \n",
      "1363             married                 0      F       business     0   \n",
      "1929           unmarried                 4      M       employee     0   \n",
      "2073            divorced                 3      F       business     0   \n",
      "3814   civil partnership                 1      F  civil servant     0   \n",
      "4201             married                 0      F  civil servant     0   \n",
      "4402             married                 0      F        retiree     0   \n",
      "4542             married                 0      F       employee     0   \n",
      "5272     widow / widower                 2      F       employee     0   \n",
      "6013             married                 0      F       employee     0   \n",
      "6385     widow / widower                 2      F        retiree     0   \n",
      "7190             married                 0      M       employee     0   \n",
      "7278             married                 0      F       employee     0   \n",
      "7615             married                 0      M       employee     0   \n",
      "7685     widow / widower                 2      F       employee     0   \n",
      "8229             married                 0      F       business     0   \n",
      "8251   civil partnership                 1      F       employee     0   \n",
      "8561             married                 0      F       employee     0   \n",
      "9565             married                 0      M       employee     0   \n",
      "9574             married                 0      M  civil servant     0   \n",
      "10177            married                 0      M       employee     0   \n",
      "10365    widow / widower                 2      F        retiree     0   \n",
      "10918            married                 0      M        retiree     0   \n",
      "11109            married                 0      F       employee     0   \n",
      "11268  civil partnership                 1      F       business     0   \n",
      "11617            married                 0      F       business     0   \n",
      "12304            married                 0      M       employee     0   \n",
      "13786          unmarried                 4      M       business     0   \n",
      "14357           divorced                 3      F       business     0   \n",
      "15147           divorced                 3      F       employee     0   \n",
      "15435  civil partnership                 1      F       employee     0   \n",
      "16129            married                 0      F       employee     1   \n",
      "16265            married                 0      M       employee     0   \n",
      "17095            married                 0      F       employee     0   \n",
      "17429            married                 0      F       business     0   \n",
      "17657            married                 0      F       employee     0   \n",
      "18219            married                 0      F       employee     0   \n",
      "19100          unmarried                 4      M       employee     0   \n",
      "19366            married                 0      M       employee     0   \n",
      "19417           divorced                 3      F        retiree     0   \n",
      "20393          unmarried                 4      F        retiree     0   \n",
      "20717            married                 0      F       employee     0   \n",
      "21140            married                 0      F       business     0   \n",
      "\n",
      "       total_income                                   purpose  \n",
      "291       16450.615                         profile education  \n",
      "705       22061.264                              car purchase  \n",
      "742       10282.887                   supplementary education  \n",
      "800       13806.996                   supplementary education  \n",
      "941             NaN                         buying my own car  \n",
      "1363      11128.112                         profile education  \n",
      "1929      17459.451                     purchase of the house  \n",
      "2073      26022.177                     purchase of the house  \n",
      "3814      21102.846                          having a wedding  \n",
      "4201      36220.123          transactions with my real estate  \n",
      "4402      26122.250                           buy real estate  \n",
      "4542      25687.155                                 education  \n",
      "5272      44593.283                           buy real estate  \n",
      "6013      22881.353              construction of own property  \n",
      "6385       5768.392                                 education  \n",
      "7190      29490.420                              car purchase  \n",
      "7278      23508.603  transactions with commercial real estate  \n",
      "7615            NaN                                 education  \n",
      "7685      25548.188                    building a real estate  \n",
      "8229      22209.453                           buy real estate  \n",
      "8251       8705.929                              to own a car  \n",
      "8561      23292.461                        housing renovation  \n",
      "9565      20280.745                  real estate transactions  \n",
      "9574      48501.946          to get a supplementary education  \n",
      "10177     49658.801                      getting an education  \n",
      "10365     27322.040                    building a real estate  \n",
      "10918     27322.044                  purchase of my own house  \n",
      "11109     35179.842                      housing transactions  \n",
      "11268     51456.592                              to buy a car  \n",
      "11617     26334.602           buying property for renting out  \n",
      "12304     50400.989                                  property  \n",
      "13786           NaN                                       car  \n",
      "14357     14761.213               buy residential real estate  \n",
      "15147     17758.530                              to own a car  \n",
      "15435     15700.406                         to have a wedding  \n",
      "16129     23942.573                                       car  \n",
      "16265     17917.516                     purchase of the house  \n",
      "17095     29207.022                  buying a second-hand car  \n",
      "17429     34370.243                                   housing  \n",
      "17657     19536.867          transactions with my real estate  \n",
      "18219     20537.924                      university education  \n",
      "19100     19552.880                    building a real estate  \n",
      "19366     24894.203                  second-hand car purchase  \n",
      "19417      8459.679                                      cars  \n",
      "20393     18643.367                  real estate transactions  \n",
      "20717     21984.862               buy residential real estate  \n",
      "21140     27129.935          transactions with my real estate  \n",
      "#of childrens of -1 children            47\n",
      "days_employed       44\n",
      "dob_years           47\n",
      "education           47\n",
      "education_id        47\n",
      "family_status       47\n",
      "family_status_id    47\n",
      "gender              47\n",
      "income_type         47\n",
      "debt                47\n",
      "total_income        44\n",
      "purpose             47\n",
      "dtype: int64\n"
     ]
    },
    {
     "name": "stderr",
     "output_type": "stream",
     "text": [
      "/opt/conda/lib/python3.7/site-packages/pandas/core/frame.py:4263: SettingWithCopyWarning: \n",
      "A value is trying to be set on a copy of a slice from a DataFrame\n",
      "\n",
      "See the caveats in the documentation: http://pandas.pydata.org/pandas-docs/stable/user_guide/indexing.html#returning-a-view-versus-a-copy\n",
      "  method=method,\n"
     ]
    },
    {
     "data": {
      "text/plain": [
       "0     14149\n",
       "1      4865\n",
       "2      2055\n",
       "3       330\n",
       "20       76\n",
       "4        41\n",
       "5         9\n",
       "Name: children, dtype: int64"
      ]
     },
     "execution_count": 5,
     "metadata": {},
     "output_type": "execute_result"
    }
   ],
   "source": [
    "print(data[data['children']== -1])\n",
    "\n",
    "print('#of childrens of -1',data[data['children']== -1].count())\n",
    "\n",
    "data['children']=data['children'].abs()\n",
    "data[data['children']== 20].replace({20 : 2}, inplace=True)\n",
    "#mean because maybe he can get a loan the number of children its not that imporant if he has a high income so just put the value zero its not going to affect the data \n",
    "#but if i just droped them maybe i will delete rows that we can give them a loan\n",
    "#no one can have -1 children but if someone have 20 children which is just almost imposible\n",
    "\n",
    "\n",
    "#data = data.drop(data.loc[(data['children'] == -1) | (data['children'] == 20) ].index)\n",
    "\n",
    "\n",
    "data['children'].value_counts()"
   ]
  },
  {
   "cell_type": "markdown",
   "metadata": {},
   "source": [
    "replace the -1 to 1 children and 20 to 2 because its seems like its a human mistake because most of them have a couple\n",
    "it is look like most of people who have -1 children also have negative days_employed\n"
   ]
  },
  {
   "cell_type": "code",
   "execution_count": 6,
   "metadata": {},
   "outputs": [
    {
     "data": {
      "text/plain": [
       "0    19784\n",
       "1     1741\n",
       "Name: debt, dtype: int64"
      ]
     },
     "execution_count": 6,
     "metadata": {},
     "output_type": "execute_result"
    }
   ],
   "source": [
    "data['debt'].value_counts()\n",
    "#values with debt are perfect nothing to do with "
   ]
  },
  {
   "cell_type": "code",
   "execution_count": 7,
   "metadata": {},
   "outputs": [
    {
     "data": {
      "text/plain": [
       "2174"
      ]
     },
     "execution_count": 7,
     "metadata": {},
     "output_type": "execute_result"
    }
   ],
   "source": [
    "#days_employed\n",
    "#minus days means that he didn't work in them so put them zero it means days he didnt work \n",
    "\n",
    "#days employed will not afect the loan credit source so just for modify the value errors\n",
    "\n",
    "\n",
    "\n",
    "data['years_employed'] = data['days_employed'] / 250.0\n",
    "#for row in data['years_employed']:\n",
    " #   count = 0\n",
    "  #  sum1 = 0.0\n",
    "  #  if (data['years_employed'] >0.0) | (data['years_employed'] < 76.0):\n",
    "     #   sum1 += data['years_employed']\n",
    "     #   count += 1\n",
    "    #meann = data['years_employed'].mean()\n",
    "#def daystoyears(row):\n",
    "  #  if (row <0.0) | (row>76.0):\n",
    "   #     row = 0.0\n",
    "        #row=mean--172year the max yearshould be for age 76 is 76\n",
    "#data.drop(data.loc[(data['years_employed'] <0.0) | (data['years_employed'] > 76.0)].index)\n",
    " #   return row\n",
    "#data['years_employed'] = data['years_employed'].apply(daystoyears)\n",
    "data['years_employed'].isnull().sum()"
   ]
  },
  {
   "cell_type": "markdown",
   "metadata": {},
   "source": [
    "Here we go with the most unrealistic values minus days of work we make this column easier to deal with by making a new column converting it to years \n",
    "iin my perspective this column is benifit because each one of employed people will be connected with pesion company while hes wroking so each month he's saving money so even if he retiree now but he has work experince years so ofcourse he has money on \n",
    "#so i can calculate the total income with the type of income with the years of employement\n"
   ]
  },
  {
   "cell_type": "code",
   "execution_count": 8,
   "metadata": {
    "scrolled": true
   },
   "outputs": [
    {
     "name": "stdout",
     "output_type": "stream",
     "text": [
      "number of people ages under 18 is 101\n",
      "rate age 0.47%\n"
     ]
    }
   ],
   "source": [
    "data['dob_years'].value_counts()\n",
    "#we should see if age is below 18 because the min 0 \n",
    "#bank can't give loan to people under 18 \n",
    "under18 = data.loc[data['dob_years'] < 18,'dob_years'].count()\n",
    "print('number of people ages under 18 is',under18)\n",
    "#we can drop them becasue they are \n",
    "print('rate age {:.2%}'. format(under18 /  lenght))\n",
    "#so we can drop them \n",
    "data=data.drop(data.loc[data['dob_years'] < 18].index)\n",
    "#101 data less than 18 years old so they dont get a loan \n"
   ]
  },
  {
   "cell_type": "markdown",
   "metadata": {},
   "source": [
    "any customer his age under 18 or have un realistic age should be dropped because age is imporant when givig a loan"
   ]
  },
  {
   "cell_type": "markdown",
   "metadata": {},
   "source": [
    "### Conclusion"
   ]
  },
  {
   "cell_type": "code",
   "execution_count": 9,
   "metadata": {},
   "outputs": [
    {
     "data": {
      "text/html": [
       "<div>\n",
       "<style scoped>\n",
       "    .dataframe tbody tr th:only-of-type {\n",
       "        vertical-align: middle;\n",
       "    }\n",
       "\n",
       "    .dataframe tbody tr th {\n",
       "        vertical-align: top;\n",
       "    }\n",
       "\n",
       "    .dataframe thead th {\n",
       "        text-align: right;\n",
       "    }\n",
       "</style>\n",
       "<table border=\"1\" class=\"dataframe\">\n",
       "  <thead>\n",
       "    <tr style=\"text-align: right;\">\n",
       "      <th></th>\n",
       "      <th>children</th>\n",
       "      <th>days_employed</th>\n",
       "      <th>dob_years</th>\n",
       "      <th>education_id</th>\n",
       "      <th>family_status_id</th>\n",
       "      <th>debt</th>\n",
       "      <th>total_income</th>\n",
       "      <th>years_employed</th>\n",
       "    </tr>\n",
       "  </thead>\n",
       "  <tbody>\n",
       "    <tr>\n",
       "      <td>count</td>\n",
       "      <td>21424.000000</td>\n",
       "      <td>19260.000000</td>\n",
       "      <td>21424.000000</td>\n",
       "      <td>21424.000000</td>\n",
       "      <td>21424.000000</td>\n",
       "      <td>21424.000000</td>\n",
       "      <td>19260.000000</td>\n",
       "      <td>19260.000000</td>\n",
       "    </tr>\n",
       "    <tr>\n",
       "      <td>mean</td>\n",
       "      <td>0.542662</td>\n",
       "      <td>63032.838333</td>\n",
       "      <td>43.497479</td>\n",
       "      <td>0.817914</td>\n",
       "      <td>0.971294</td>\n",
       "      <td>0.080891</td>\n",
       "      <td>26794.435857</td>\n",
       "      <td>252.131353</td>\n",
       "    </tr>\n",
       "    <tr>\n",
       "      <td>std</td>\n",
       "      <td>1.375647</td>\n",
       "      <td>140819.014270</td>\n",
       "      <td>12.246934</td>\n",
       "      <td>0.548224</td>\n",
       "      <td>1.419737</td>\n",
       "      <td>0.272673</td>\n",
       "      <td>16493.972601</td>\n",
       "      <td>563.276057</td>\n",
       "    </tr>\n",
       "    <tr>\n",
       "      <td>min</td>\n",
       "      <td>0.000000</td>\n",
       "      <td>-18388.949901</td>\n",
       "      <td>19.000000</td>\n",
       "      <td>0.000000</td>\n",
       "      <td>0.000000</td>\n",
       "      <td>0.000000</td>\n",
       "      <td>3306.762000</td>\n",
       "      <td>-73.555800</td>\n",
       "    </tr>\n",
       "    <tr>\n",
       "      <td>25%</td>\n",
       "      <td>0.000000</td>\n",
       "      <td>-2748.301767</td>\n",
       "      <td>33.000000</td>\n",
       "      <td>1.000000</td>\n",
       "      <td>0.000000</td>\n",
       "      <td>0.000000</td>\n",
       "      <td>16494.872500</td>\n",
       "      <td>-10.993207</td>\n",
       "    </tr>\n",
       "    <tr>\n",
       "      <td>50%</td>\n",
       "      <td>0.000000</td>\n",
       "      <td>-1203.637301</td>\n",
       "      <td>43.000000</td>\n",
       "      <td>1.000000</td>\n",
       "      <td>0.000000</td>\n",
       "      <td>0.000000</td>\n",
       "      <td>23201.873500</td>\n",
       "      <td>-4.814549</td>\n",
       "    </tr>\n",
       "    <tr>\n",
       "      <td>75%</td>\n",
       "      <td>1.000000</td>\n",
       "      <td>-291.172875</td>\n",
       "      <td>53.000000</td>\n",
       "      <td>1.000000</td>\n",
       "      <td>1.000000</td>\n",
       "      <td>0.000000</td>\n",
       "      <td>32539.207750</td>\n",
       "      <td>-1.164691</td>\n",
       "    </tr>\n",
       "    <tr>\n",
       "      <td>max</td>\n",
       "      <td>20.000000</td>\n",
       "      <td>401755.400475</td>\n",
       "      <td>75.000000</td>\n",
       "      <td>4.000000</td>\n",
       "      <td>4.000000</td>\n",
       "      <td>1.000000</td>\n",
       "      <td>362496.645000</td>\n",
       "      <td>1607.021602</td>\n",
       "    </tr>\n",
       "  </tbody>\n",
       "</table>\n",
       "</div>"
      ],
      "text/plain": [
       "           children  days_employed     dob_years  education_id  \\\n",
       "count  21424.000000   19260.000000  21424.000000  21424.000000   \n",
       "mean       0.542662   63032.838333     43.497479      0.817914   \n",
       "std        1.375647  140819.014270     12.246934      0.548224   \n",
       "min        0.000000  -18388.949901     19.000000      0.000000   \n",
       "25%        0.000000   -2748.301767     33.000000      1.000000   \n",
       "50%        0.000000   -1203.637301     43.000000      1.000000   \n",
       "75%        1.000000    -291.172875     53.000000      1.000000   \n",
       "max       20.000000  401755.400475     75.000000      4.000000   \n",
       "\n",
       "       family_status_id          debt   total_income  years_employed  \n",
       "count      21424.000000  21424.000000   19260.000000    19260.000000  \n",
       "mean           0.971294      0.080891   26794.435857      252.131353  \n",
       "std            1.419737      0.272673   16493.972601      563.276057  \n",
       "min            0.000000      0.000000    3306.762000      -73.555800  \n",
       "25%            0.000000      0.000000   16494.872500      -10.993207  \n",
       "50%            0.000000      0.000000   23201.873500       -4.814549  \n",
       "75%            1.000000      0.000000   32539.207750       -1.164691  \n",
       "max            4.000000      1.000000  362496.645000     1607.021602  "
      ]
     },
     "execution_count": 9,
     "metadata": {},
     "output_type": "execute_result"
    }
   ],
   "source": [
    "data.describe()\n"
   ]
  },
  {
   "cell_type": "markdown",
   "metadata": {},
   "source": [
    "first thing to start anlysis the data is to get rid of missing values and errors working on thw whole data \n",
    "so to get column by column \n",
    "as i enter data.isnull().sum()\n",
    "children the is no missing values but there was minus children and 20 children means it errors with the data it could be human error or the data engineer but our role is to deal with it so what did i do is ? calculate the number of minus children and the 20 children rest of the data by using value_counts() gives us number from (0-5) which is logical after calculating the percentage of both 20 children plus the minus values gives us less than 10% so we can drop the data but number of children depends with debt both togethe to have a loan or not i mean if i have missing value in the childrn column while all other coulms are corrcet and have a high income so i can give that person a loan and fill the missing vale as 0 i didn't drop them because it doent affect dirrectly on the credit score it i=will affect if the customer have childrn and debt as the same time        \n",
    "days_employed   there is negative value  and thousands in days so another coulmn that it does not affect the credit score but the experience in work does affect for example if he is a ritree the he has maybe an pension income (the pension income depends on how many years he had worked ) @@@@@@@\n",
    "dob_years  so any one under age of 18 he can not take a loan logically they are student or unemployed doesnt have a an income and rate of the customers under 18 is less than 10%         \n",
    "education this column has no missing values however from my perspective have nothing to do with when we are going to deal with bank and loan (we just need to know for whom we are givig the loan so which customer can repay it and here money talks )       \n",
    "education_id        \n",
    "family_status the marital satus does affect of having a loan so if the customer didnt pay the spouse pay so the bank almost not losing but we  want to also to check for childrn and debt if he has a children and debt we are going to see the income if its a high income then we can give him a loan but if he has low income then his credit score will be low if he has no debt with medium income he has medium credit score however        \n",
    "family_status_id    \n",
    "gender              \n",
    "income_type  this field is the second imporant column in the data has no missing values but ofcourse there is duplicates but duplicated in this column it doesnt mean that all information are the same so we can not drop without studying the income type column for example if he is a business has no income@@@@@@                    \n",
    "###########total_income no missing value      \n",
    "purpose  no missing values ofcourse the are alot of duplicates but that doesnt mean that they have the same values in all fields            \n",
    "   "
   ]
  },
  {
   "cell_type": "markdown",
   "metadata": {},
   "source": [
    "### Data type replacement"
   ]
  },
  {
   "cell_type": "code",
   "execution_count": 10,
   "metadata": {},
   "outputs": [
    {
     "name": "stdout",
     "output_type": "stream",
     "text": [
      "<class 'pandas.core.frame.DataFrame'>\n",
      "Int64Index: 21424 entries, 0 to 21524\n",
      "Data columns (total 13 columns):\n",
      "children            21424 non-null int64\n",
      "days_employed       21424 non-null int64\n",
      "dob_years           21424 non-null int64\n",
      "education           21424 non-null object\n",
      "education_id        21424 non-null int64\n",
      "family_status       21424 non-null object\n",
      "family_status_id    21424 non-null int64\n",
      "gender              21424 non-null object\n",
      "income_type         21424 non-null object\n",
      "debt                21424 non-null int64\n",
      "total_income        21424 non-null int64\n",
      "purpose             21424 non-null object\n",
      "years_employed      19260 non-null float64\n",
      "dtypes: float64(1), int64(7), object(5)\n",
      "memory usage: 2.3+ MB\n"
     ]
    }
   ],
   "source": [
    "#data['days_employed'] = pd.to_numeric(data['days_employed'] , downcast = 'int')\n",
    "data['days_employed'] = data['days_employed'].fillna(0).astype(int)\n",
    "\n",
    "#data['years_employed'] = pd.to_numeric(data['years_employed'])\n",
    "data['total_income'] = data['total_income'].fillna(0).astype(int)\n",
    "\n",
    "#days and income and years\n",
    "data.info()"
   ]
  },
  {
   "cell_type": "markdown",
   "metadata": {},
   "source": [
    "### Conclusion"
   ]
  },
  {
   "cell_type": "markdown",
   "metadata": {},
   "source": [
    "replace the float values with integeres using as type method \n",
    "so i replace the days and years of employent in addition to the roral income"
   ]
  },
  {
   "cell_type": "markdown",
   "metadata": {},
   "source": [
    "### Processing duplicates"
   ]
  },
  {
   "cell_type": "code",
   "execution_count": 11,
   "metadata": {},
   "outputs": [
    {
     "name": "stdout",
     "output_type": "stream",
     "text": [
      "number of purposes is 38\n",
      "we are going to categorize them into categorize as follows education, wedding, car ,real estate\n"
     ]
    },
    {
     "data": {
      "text/plain": [
       "real estate    10793\n",
       "car             4293\n",
       "wedding         2334\n",
       "education        943\n",
       "Name: purpose_s, dtype: int64"
      ]
     },
     "execution_count": 11,
     "metadata": {},
     "output_type": "execute_result"
    }
   ],
   "source": [
    "import nltk\n",
    "import numpy as np\n",
    "from nltk.stem import SnowballStemmer\n",
    "english_stemmer = SnowballStemmer('english') \n",
    "data['education'] = data['education'].str.lower()\n",
    "data['purpose'] = data['purpose'].str.lower()\n",
    "data['income_type'] = data['income_type'].str.lower()\n",
    "#print(data['purpose'].value_counts())\n",
    "\n",
    "#commercial =[]real = []real_count = 0rent=[]x=0\n",
    "english_stemmer = SnowballStemmer('english') \n",
    "def purpose_cat(row):\n",
    "    \n",
    "    car = ['car']\n",
    "#car_count=0\n",
    "    real_estate  =['hous','estat','properti','commerc']\n",
    "#house_count = 0\n",
    "    wedding =['wed']\n",
    "#wed_count=0\n",
    "    education =['univers','edu']\n",
    "    for word in row.split(\" \"):\n",
    "              \n",
    "            stemmed_word = english_stemmer.stem(word)\n",
    "            if stemmed_word in car:\n",
    "                return 'car'\n",
    "            elif stemmed_word in real_estate:\n",
    "                return 'real estate'\n",
    "            elif stemmed_word in wedding:\n",
    "                return 'wedding'\n",
    "            elif stemmed_word in education:\n",
    "                return 'education'\n",
    "            \n",
    "\n",
    "\n",
    "#print(house_count)\n",
    "#print(wed_count)\n",
    "print('number of purposes is',data['purpose'].value_counts().count())\n",
    "print('we are going to categorize them into categorize as follows education, wedding, car ,real estate')\n",
    "#p= data['purpose'].value_counts().sort_values().reset_index()#.keys().to_list()\n",
    "#purpose = data['purpose'].value_counts().sort_values().values\n",
    "#p= data['purpose'].value_counts().sort_values().to_list()\n",
    "#purpose= npappend(arr=purpose,values=p).to_frame()\n",
    "#p.columns=['purpose','counts']\n",
    "data['purpose_s'] = data['purpose'].apply(purpose_cat)\n",
    "data['purpose_s'].value_counts()\n",
    "\n"
   ]
  },
  {
   "cell_type": "raw",
   "metadata": {},
   "source": [
    "    for word in query.split(\" \"):\n",
    "        stemmed_word = english_stemmer.stem(word)\n",
    "            real.append(query)\n",
    "            real_count +=1\n",
    "#print(real_count)\n",
    "for query in data['purpose']:\n",
    "    for word in query.split(\" \"):\n",
    "        stemmed_word = english_stemmer.stem(word)\n",
    "            house.append(query)\n",
    "            house_count +=1\n",
    "for query in data['purpose']:\n",
    "    for word in query.split(\" \"):\n",
    "        stemmed_word = english_stemmer.stem(word)\n",
    "            wed.append(query)\n",
    "            wed_count +=1"
   ]
  },
  {
   "cell_type": "markdown",
   "metadata": {},
   "source": [
    "here i am going to deal with the purpose column by catogorizing it \n",
    "however according to the purpose priorty the score will be higher for example if the customer want to buy a house then the repeat will be higher or the bank can invest in it so the bank will benifit according to the purpose then give a higher score according to it.\n",
    "using the value_counts method on the data['purpose_s'] then save it in a new column 'purpose_s'"
   ]
  },
  {
   "cell_type": "markdown",
   "metadata": {},
   "source": [
    "### Conclusion"
   ]
  },
  {
   "cell_type": "markdown",
   "metadata": {},
   "source": [
    "makes every string column lower case \n",
    "catogrizing the purpose into four categorize\n",
    "real estate \n",
    "car\n",
    "wedding \n",
    "education\n",
    "count how much each by count function to see the customer needs the most for a loan\n",
    "so according to the result most of the people will take a loan for a  real estate and cars\n",
    "thus the repeit will be much higher therefore will give them more credits"
   ]
  },
  {
   "cell_type": "markdown",
   "metadata": {},
   "source": [
    "### Categorizing Data"
   ]
  },
  {
   "cell_type": "code",
   "execution_count": 12,
   "metadata": {},
   "outputs": [
    {
     "data": {
      "text/html": [
       "<div>\n",
       "<style scoped>\n",
       "    .dataframe tbody tr th:only-of-type {\n",
       "        vertical-align: middle;\n",
       "    }\n",
       "\n",
       "    .dataframe tbody tr th {\n",
       "        vertical-align: top;\n",
       "    }\n",
       "\n",
       "    .dataframe thead th {\n",
       "        text-align: right;\n",
       "    }\n",
       "</style>\n",
       "<table border=\"1\" class=\"dataframe\">\n",
       "  <thead>\n",
       "    <tr style=\"text-align: right;\">\n",
       "      <th>income_type</th>\n",
       "      <th>business</th>\n",
       "      <th>civil servant</th>\n",
       "      <th>employee</th>\n",
       "      <th>entrepreneur</th>\n",
       "      <th>paternity / maternity leave</th>\n",
       "      <th>retiree</th>\n",
       "      <th>student</th>\n",
       "      <th>unemployed</th>\n",
       "    </tr>\n",
       "    <tr>\n",
       "      <th>purpose_s</th>\n",
       "      <th></th>\n",
       "      <th></th>\n",
       "      <th></th>\n",
       "      <th></th>\n",
       "      <th></th>\n",
       "      <th></th>\n",
       "      <th></th>\n",
       "      <th></th>\n",
       "    </tr>\n",
       "  </thead>\n",
       "  <tbody>\n",
       "    <tr>\n",
       "      <td>real estate</td>\n",
       "      <td>2542.0</td>\n",
       "      <td>754.0</td>\n",
       "      <td>5604.0</td>\n",
       "      <td>1.0</td>\n",
       "      <td>0.0</td>\n",
       "      <td>1889.0</td>\n",
       "      <td>1.0</td>\n",
       "      <td>2.0</td>\n",
       "    </tr>\n",
       "    <tr>\n",
       "      <td>car</td>\n",
       "      <td>1045.0</td>\n",
       "      <td>285.0</td>\n",
       "      <td>2168.0</td>\n",
       "      <td>0.0</td>\n",
       "      <td>1.0</td>\n",
       "      <td>794.0</td>\n",
       "      <td>0.0</td>\n",
       "      <td>0.0</td>\n",
       "    </tr>\n",
       "    <tr>\n",
       "      <td>wedding</td>\n",
       "      <td>527.0</td>\n",
       "      <td>157.0</td>\n",
       "      <td>1217.0</td>\n",
       "      <td>1.0</td>\n",
       "      <td>0.0</td>\n",
       "      <td>432.0</td>\n",
       "      <td>0.0</td>\n",
       "      <td>0.0</td>\n",
       "    </tr>\n",
       "    <tr>\n",
       "      <td>education</td>\n",
       "      <td>246.0</td>\n",
       "      <td>49.0</td>\n",
       "      <td>489.0</td>\n",
       "      <td>0.0</td>\n",
       "      <td>0.0</td>\n",
       "      <td>159.0</td>\n",
       "      <td>0.0</td>\n",
       "      <td>0.0</td>\n",
       "    </tr>\n",
       "  </tbody>\n",
       "</table>\n",
       "</div>"
      ],
      "text/plain": [
       "income_type  business  civil servant  employee  entrepreneur  \\\n",
       "purpose_s                                                      \n",
       "real estate    2542.0          754.0    5604.0           1.0   \n",
       "car            1045.0          285.0    2168.0           0.0   \n",
       "wedding         527.0          157.0    1217.0           1.0   \n",
       "education       246.0           49.0     489.0           0.0   \n",
       "\n",
       "income_type  paternity / maternity leave  retiree  student  unemployed  \n",
       "purpose_s                                                               \n",
       "real estate                          0.0   1889.0      1.0         2.0  \n",
       "car                                  1.0    794.0      0.0         0.0  \n",
       "wedding                              0.0    432.0      0.0         0.0  \n",
       "education                            0.0    159.0      0.0         0.0  "
      ]
     },
     "execution_count": 12,
     "metadata": {},
     "output_type": "execute_result"
    }
   ],
   "source": [
    "purpose_with_income_type = data.pivot_table(index ='purpose_s',columns='income_type',values='total_income',aggfunc='count')\n",
    "purpose_with_income_type.fillna(value=0 , inplace=True)\n",
    "purpose_with_income_type.sort_values(by = 'business',ascending=False,inplace=True)\n",
    "purpose_with_income_type"
   ]
  },
  {
   "cell_type": "markdown",
   "metadata": {},
   "source": [
    "we can notice that the number of people who have income are retiree employee and civil servant and the business\n",
    "purpose of business ----> real estate , car , wedding , education\n",
    "civil servant -----> real estate ,car , wedding , education\n",
    "employee ----> real estate ,car , wedding , education\n",
    "retiree -----> real estate ,car , wedding , education\n",
    "unemployed need to take a real estate but here the credit should be high as unemployed his score is low so unemployed should have poor level priority \n"
   ]
  },
  {
   "cell_type": "code",
   "execution_count": 13,
   "metadata": {},
   "outputs": [
    {
     "data": {
      "text/plain": [
       "debt\n",
       "0    19691\n",
       "1     1733\n",
       "Name: children, dtype: int64"
      ]
     },
     "execution_count": 13,
     "metadata": {},
     "output_type": "execute_result"
    }
   ],
   "source": [
    "child_debt = data.groupby('debt')['children'].count()\n",
    "child_debt"
   ]
  },
  {
   "cell_type": "code",
   "execution_count": 14,
   "metadata": {},
   "outputs": [
    {
     "data": {
      "text/plain": [
       "0        very high\n",
       "1           medium\n",
       "2             high\n",
       "3        very high\n",
       "4             high\n",
       "           ...    \n",
       "21520    very high\n",
       "21521         high\n",
       "21522       medium\n",
       "21523    very high\n",
       "21524       medium\n",
       "Name: income_level, Length: 21424, dtype: object"
      ]
     },
     "execution_count": 14,
     "metadata": {},
     "output_type": "execute_result"
    }
   ],
   "source": [
    "#function to give a income level\n",
    "\n",
    "    \n",
    "#function for each level in the score credit     \n",
    "def income_level(row):\n",
    "    \n",
    "    if row > 30000:\n",
    "        return 'very high'\n",
    "    elif (row >= 20000) & (row < 30000):\n",
    "        return 'high'\n",
    "    elif (row >= 10000) & (row < 20000):\n",
    "        return 'medium'\n",
    "    elif (row >= 5000) & (row < 10000):\n",
    "        return 'low'\n",
    "    elif row < 5000:\n",
    "        return 'very low'\n",
    "   \n",
    " #j\n",
    "data['income_level']  = data['total_income'].apply(income_level)\n",
    "data['income_level']\n",
    "#pension year of experinced"
   ]
  },
  {
   "cell_type": "code",
   "execution_count": 15,
   "metadata": {},
   "outputs": [
    {
     "data": {
      "text/plain": [
       "0        250\n",
       "1        150\n",
       "2        200\n",
       "3        250\n",
       "4        250\n",
       "        ... \n",
       "21520    250\n",
       "21521    250\n",
       "21522    150\n",
       "21523    250\n",
       "21524    150\n",
       "Name: score, Length: 21424, dtype: int64"
      ]
     },
     "execution_count": 15,
     "metadata": {},
     "output_type": "execute_result"
    }
   ],
   "source": [
    "def scoree(row):\n",
    "    score = 0\n",
    "    income = row['income_level']\n",
    "    typee =  row['income_type']\n",
    "\n",
    "    if income == 'very high':\n",
    "            score += 200\n",
    "            if (typee == 'bussiness') | (type == 'employee'):\n",
    "                score += 200\n",
    "            elif typee == 'civil servant':\n",
    "                score += 150\n",
    "            elif typee == 'retiree':\n",
    "                score += 100\n",
    "            else:\n",
    "                score += 50\n",
    "    elif income =='high':\n",
    "            score += 150\n",
    "            if (typee == 'bussiness') | (type == 'employee'):\n",
    "                score += 200\n",
    "            elif typee == 'civil servant':\n",
    "                score += 150\n",
    "            elif typee == 'retiree':\n",
    "                score += 100\n",
    "            else:\n",
    "                score += 50\n",
    "    elif income =='medium':\n",
    "            score += 100\n",
    "            if (typee == 'bussiness') |( type == 'employee'):\n",
    "                score += 200\n",
    "            elif typee == 'civil servant':\n",
    "                score += 150\n",
    "            elif typee == 'retiree':\n",
    "                score += 100\n",
    "            else:\n",
    "                score += 50\n",
    "    elif income =='low':\n",
    "            score += 50\n",
    "            if (typee == 'bussiness') |( type == 'employee'):\n",
    "                score += 200\n",
    "            elif typee == 'civil servant':\n",
    "                score += 150\n",
    "            elif typee == 'retiree':\n",
    "                score += 100\n",
    "            else:\n",
    "                score += 50\n",
    "    elif income =='very low':\n",
    "            score += 10\n",
    "            if( typee == 'bussiness' )| (type == 'employee'):\n",
    "                score += 200\n",
    "            elif typee == 'civil servant':\n",
    "                score += 150\n",
    "            elif typee == 'retiree':\n",
    "                score += 100\n",
    "            else:\n",
    "                score += 50\n",
    " \n",
    "    return score \n",
    "data['score'] = data.apply(scoree,axis=1)\n",
    "data['score']"
   ]
  },
  {
   "cell_type": "code",
   "execution_count": 16,
   "metadata": {},
   "outputs": [
    {
     "data": {
      "text/plain": [
       "0        good\n",
       "1        good\n",
       "2        good\n",
       "3        good\n",
       "4        good\n",
       "         ... \n",
       "21520    good\n",
       "21521    good\n",
       "21522    good\n",
       "21523    good\n",
       "21524    good\n",
       "Name: priority_level, Length: 21424, dtype: object"
      ]
     },
     "execution_count": 16,
     "metadata": {},
     "output_type": "execute_result"
    }
   ],
   "source": [
    "def level(row):\n",
    "    if row >= 600: \n",
    "        return 'excellent'\n",
    "    elif (row >= 450) & (row < 600):\n",
    "        return 'very good'\n",
    "    elif row >= 300 & row < 450:\n",
    "        return 'good'\n",
    "\n",
    "    elif row >= 150 & row < 300:\n",
    "        return 'fair'\n",
    "    return 'poor'\n",
    "data['priority_level'] = data['score'].apply(level)\n",
    "data['priority_level']\n",
    "        "
   ]
  },
  {
   "cell_type": "markdown",
   "metadata": {},
   "source": [
    "calculating the score according to income type , total income , years of experience\n",
    "high priority take score of 200 each \n",
    "good takes 150\n",
    "poor 100\n",
    "fair 50 for each condition bu summing up how much each customer   sums score then we\n",
    "apply the score credit to the level credit to know whos credit is exellent to fair"
   ]
  },
  {
   "cell_type": "markdown",
   "metadata": {},
   "source": [
    "### Conclusion"
   ]
  },
  {
   "cell_type": "markdown",
   "metadata": {},
   "source": [
    "by categorizing the data we can notice to whom we should give more credit score four types of income_type have a total income the business and the employee civil servant and retiree according to whom have more income we will give him more score thus he's priorty level is high for taking a loan"
   ]
  },
  {
   "cell_type": "markdown",
   "metadata": {},
   "source": [
    "## Answer these questions"
   ]
  },
  {
   "cell_type": "markdown",
   "metadata": {},
   "source": [
    "- Is there a relation between having kids and repaying a loan on time?"
   ]
  },
  {
   "cell_type": "code",
   "execution_count": 17,
   "metadata": {},
   "outputs": [
    {
     "name": "stdout",
     "output_type": "stream",
     "text": [
      "                     sum                                      count          \\\n",
      "children              0      1      2     3    4    5    20      0       1    \n",
      "family_status                                                                 \n",
      "civil partnership  227.0  118.0   30.0   8.0  0.0  0.0  3.0  2739.0   997.0   \n",
      "divorced            55.0   21.0    7.0   1.0  0.0  0.0  1.0   777.0   315.0   \n",
      "married            514.0  245.0  145.0  17.0  3.0  0.0  3.0  7469.0  3004.0   \n",
      "unmarried          210.0   51.0    9.0   1.0  1.0  0.0  1.0  2252.0   452.0   \n",
      "widow / widower     52.0    7.0    3.0   0.0  0.0  0.0  0.0   843.0    81.0   \n",
      "\n",
      "                                                   \n",
      "children               2      3     4    5     20  \n",
      "family_status                                      \n",
      "civil partnership   342.0   56.0   8.0  2.0  12.0  \n",
      "divorced             79.0   11.0   1.0  0.0   2.0  \n",
      "married            1527.0  247.0  29.0  7.0  48.0  \n",
      "unmarried            74.0    8.0   2.0  0.0   9.0  \n",
      "widow / widower      20.0    6.0   1.0  0.0   4.0  \n"
     ]
    }
   ],
   "source": [
    "#pivot table of purpose and income_type so if we gather between two information we are going to know if the person work then \n",
    "#he can repay the loan \n",
    "#the second pivot _table to see if he there is a relationship between debt and being married or having a children\n",
    "debt_family_status = data.pivot_table(index ='family_status',columns=['children'],values='debt',aggfunc=['sum','count'])\n",
    "debt_family_status_ = data.pivot_table(index ='family_status',columns=['debt'],values='children',aggfunc=['sum','count'])\n",
    "debt_family_status_children = data.pivot_table(index ='children',values='debt',aggfunc=['sum','count'])\n",
    "\n",
    "debt_family_status.fillna(value=0 , inplace=True)\n",
    "print(debt_family_status)\n"
   ]
  },
  {
   "cell_type": "code",
   "execution_count": 18,
   "metadata": {},
   "outputs": [
    {
     "data": {
      "text/plain": [
       "income_type\n",
       "business                       3050\n",
       "civil servant                   911\n",
       "employee                       7137\n",
       "entrepreneur                      0\n",
       "paternity / maternity leave       2\n",
       "retiree                         525\n",
       "student                           0\n",
       "unemployed                        1\n",
       "Name: children, dtype: int64"
      ]
     },
     "execution_count": 18,
     "metadata": {},
     "output_type": "execute_result"
    }
   ],
   "source": [
    "child_debt = data.groupby('debt')['children'].count()\n",
    "child_debt\n",
    "rate_no_debts = (child_debt/len(child_debt))/100\n",
    "rate_no_debts\n",
    "child_debt_s = data.groupby('income_type')['children'].sum()\n",
    "child_debt_s"
   ]
  },
  {
   "cell_type": "markdown",
   "metadata": {},
   "source": [
    "### Conclusion"
   ]
  },
  {
   "cell_type": "markdown",
   "metadata": {},
   "source": [
    "children do not factor into credit score calculations. Instead, it's the extra money you spend from your income i mean if you dont have children you can save more money,however having a children requires you to  debt as we can see that people with no debt do have 98% children\n",
    "however people with debts have 8% of them children\n",
    "however employee and business people have children and have total income so even if they have children they still can repay the payments on time "
   ]
  },
  {
   "cell_type": "markdown",
   "metadata": {},
   "source": [
    "- Is there a relation between marital status and repaying a loan on time?"
   ]
  },
  {
   "cell_type": "code",
   "execution_count": 19,
   "metadata": {},
   "outputs": [
    {
     "name": "stdout",
     "output_type": "stream",
     "text": [
      "                          count                                           \n",
      "family_status civil partnership divorced married unmarried widow / widower\n",
      "score                                                                     \n",
      "60                          339       86     929       224              37\n",
      "100                          84       20     303        44              15\n",
      "110                          87       20     226        41              53\n",
      "150                         985      270    2773       714             170\n",
      "160                          20        5      95        24               4\n",
      "200                        1202      342    3528       826             323\n",
      "250                        1166      352    3606       765             248\n",
      "300                         197       63     617       107              95\n",
      "350                          76       27     254        52              10\n",
      "family_status\n",
      "civil partnership     4156\n",
      "divorced              1185\n",
      "married              12331\n",
      "unmarried             2797\n",
      "widow / widower        955\n",
      "Name: score, dtype: int64\n"
     ]
    }
   ],
   "source": [
    "marital = data.pivot_table(columns ='family_status',index='score',values='family_status_id',aggfunc={'count'})\n",
    "print(marital)\n",
    "df =data.groupby('family_status')['score'].count()\n",
    "print(df)"
   ]
  },
  {
   "cell_type": "markdown",
   "metadata": {},
   "source": [
    "### Conclusion"
   ]
  },
  {
   "cell_type": "markdown",
   "metadata": {},
   "source": [
    "no it doesnt affect unless people who are married and have joint accounts will find that their partner's situation will be considered even if they are not applying for a joint loan\n",
    "Here most of people who have very high to medium income are married or civil partnership\n",
    "therefore there credits will be high so they have a high priorty of giving the loan too"
   ]
  },
  {
   "cell_type": "markdown",
   "metadata": {},
   "source": [
    "- Is there a relation between income level and repaying a loan on time?"
   ]
  },
  {
   "cell_type": "code",
   "execution_count": 20,
   "metadata": {},
   "outputs": [
    {
     "data": {
      "text/html": [
       "<div>\n",
       "<style scoped>\n",
       "    .dataframe tbody tr th:only-of-type {\n",
       "        vertical-align: middle;\n",
       "    }\n",
       "\n",
       "    .dataframe tbody tr th {\n",
       "        vertical-align: top;\n",
       "    }\n",
       "\n",
       "    .dataframe thead th {\n",
       "        text-align: right;\n",
       "    }\n",
       "</style>\n",
       "<table border=\"1\" class=\"dataframe\">\n",
       "  <thead>\n",
       "    <tr style=\"text-align: right;\">\n",
       "      <th></th>\n",
       "      <th>count</th>\n",
       "    </tr>\n",
       "    <tr>\n",
       "      <th>income_level</th>\n",
       "      <th></th>\n",
       "    </tr>\n",
       "  </thead>\n",
       "  <tbody>\n",
       "    <tr>\n",
       "      <td>high</td>\n",
       "      <td>6038</td>\n",
       "    </tr>\n",
       "    <tr>\n",
       "      <td>low</td>\n",
       "      <td>895</td>\n",
       "    </tr>\n",
       "    <tr>\n",
       "      <td>medium</td>\n",
       "      <td>6411</td>\n",
       "    </tr>\n",
       "    <tr>\n",
       "      <td>very high</td>\n",
       "      <td>5890</td>\n",
       "    </tr>\n",
       "    <tr>\n",
       "      <td>very low</td>\n",
       "      <td>2190</td>\n",
       "    </tr>\n",
       "  </tbody>\n",
       "</table>\n",
       "</div>"
      ],
      "text/plain": [
       "              count\n",
       "income_level       \n",
       "high           6038\n",
       "low             895\n",
       "medium         6411\n",
       "very high      5890\n",
       "very low       2190"
      ]
     },
     "execution_count": 20,
     "metadata": {},
     "output_type": "execute_result"
    }
   ],
   "source": [
    "leve = data.pivot_table(index='income_level',values='score',aggfunc={'count'})\n",
    "leve"
   ]
  },
  {
   "cell_type": "markdown",
   "metadata": {},
   "source": [
    "### Conclusion"
   ]
  },
  {
   "cell_type": "markdown",
   "metadata": {},
   "source": [
    "credit score is depends the most on the income more income more credit \n",
    "so people with very high income level are 5890 \n",
    "high level = 6038 \n",
    "medium level are 6411 \n",
    "so most of people have medium level credit score \n",
    "second thing it depends on the income type as the customer work then always there is an income means there credit will be high \n",
    "income type have evidence of stability – for example, you’re employed or business \n",
    "the score depends on the total income an type of income"
   ]
  },
  {
   "cell_type": "markdown",
   "metadata": {},
   "source": [
    "- How do different loan purposes affect on-time repayment of the loan?"
   ]
  },
  {
   "cell_type": "code",
   "execution_count": 21,
   "metadata": {},
   "outputs": [
    {
     "data": {
      "text/html": [
       "<div>\n",
       "<style scoped>\n",
       "    .dataframe tbody tr th:only-of-type {\n",
       "        vertical-align: middle;\n",
       "    }\n",
       "\n",
       "    .dataframe tbody tr th {\n",
       "        vertical-align: top;\n",
       "    }\n",
       "\n",
       "    .dataframe thead th {\n",
       "        text-align: right;\n",
       "    }\n",
       "</style>\n",
       "<table border=\"1\" class=\"dataframe\">\n",
       "  <thead>\n",
       "    <tr style=\"text-align: right;\">\n",
       "      <th>income_type</th>\n",
       "      <th>business</th>\n",
       "      <th>civil servant</th>\n",
       "      <th>employee</th>\n",
       "      <th>entrepreneur</th>\n",
       "      <th>paternity / maternity leave</th>\n",
       "      <th>retiree</th>\n",
       "      <th>student</th>\n",
       "      <th>unemployed</th>\n",
       "    </tr>\n",
       "    <tr>\n",
       "      <th>purpose_s</th>\n",
       "      <th></th>\n",
       "      <th></th>\n",
       "      <th></th>\n",
       "      <th></th>\n",
       "      <th></th>\n",
       "      <th></th>\n",
       "      <th></th>\n",
       "      <th></th>\n",
       "    </tr>\n",
       "  </thead>\n",
       "  <tbody>\n",
       "    <tr>\n",
       "      <td>real estate</td>\n",
       "      <td>2542.0</td>\n",
       "      <td>754.0</td>\n",
       "      <td>5604.0</td>\n",
       "      <td>1.0</td>\n",
       "      <td>0.0</td>\n",
       "      <td>1889.0</td>\n",
       "      <td>1.0</td>\n",
       "      <td>2.0</td>\n",
       "    </tr>\n",
       "    <tr>\n",
       "      <td>car</td>\n",
       "      <td>1045.0</td>\n",
       "      <td>285.0</td>\n",
       "      <td>2168.0</td>\n",
       "      <td>0.0</td>\n",
       "      <td>1.0</td>\n",
       "      <td>794.0</td>\n",
       "      <td>0.0</td>\n",
       "      <td>0.0</td>\n",
       "    </tr>\n",
       "    <tr>\n",
       "      <td>wedding</td>\n",
       "      <td>527.0</td>\n",
       "      <td>157.0</td>\n",
       "      <td>1217.0</td>\n",
       "      <td>1.0</td>\n",
       "      <td>0.0</td>\n",
       "      <td>432.0</td>\n",
       "      <td>0.0</td>\n",
       "      <td>0.0</td>\n",
       "    </tr>\n",
       "    <tr>\n",
       "      <td>education</td>\n",
       "      <td>246.0</td>\n",
       "      <td>49.0</td>\n",
       "      <td>489.0</td>\n",
       "      <td>0.0</td>\n",
       "      <td>0.0</td>\n",
       "      <td>159.0</td>\n",
       "      <td>0.0</td>\n",
       "      <td>0.0</td>\n",
       "    </tr>\n",
       "  </tbody>\n",
       "</table>\n",
       "</div>"
      ],
      "text/plain": [
       "income_type  business  civil servant  employee  entrepreneur  \\\n",
       "purpose_s                                                      \n",
       "real estate    2542.0          754.0    5604.0           1.0   \n",
       "car            1045.0          285.0    2168.0           0.0   \n",
       "wedding         527.0          157.0    1217.0           1.0   \n",
       "education       246.0           49.0     489.0           0.0   \n",
       "\n",
       "income_type  paternity / maternity leave  retiree  student  unemployed  \n",
       "purpose_s                                                               \n",
       "real estate                          0.0   1889.0      1.0         2.0  \n",
       "car                                  1.0    794.0      0.0         0.0  \n",
       "wedding                              0.0    432.0      0.0         0.0  \n",
       "education                            0.0    159.0      0.0         0.0  "
      ]
     },
     "execution_count": 21,
     "metadata": {},
     "output_type": "execute_result"
    }
   ],
   "source": [
    "purpose_with_income_type\n"
   ]
  },
  {
   "cell_type": "markdown",
   "metadata": {},
   "source": [
    "### Conclusion"
   ]
  },
  {
   "cell_type": "markdown",
   "metadata": {},
   "source": [
    "according to a specific purpose the bank can give time for repayment or it can investigate in the purpose like( buy the customer need and sell to him )\n",
    "so the purposes we  have is \n",
    "real state it can investigate  in the property or if was a commercial business the bank can give a period of time to make the commercial success then take a high repeat on every payemnt\n",
    "buy a car : if the customer needs to buy a car the bank can buy this car and sell it back in a higher price plus high repeat \n",
    "wedding in this purpose the bank can make the repeat high because wedding are important and its very imporatnt for people so they will take the loan with agreement of high repeat but here it will depends on the type income and the total income of the customer if it was high or good enough to repay it on time \n",
    "education repayemnt \n"
   ]
  },
  {
   "cell_type": "markdown",
   "metadata": {},
   "source": [
    "## General conclusion"
   ]
  },
  {
   "cell_type": "markdown",
   "metadata": {},
   "source": [
    "In this report you can find out which customer can take a loan or the bank could benefit from him by calculating his score and priorty level of taking a loan \n",
    "\n",
    "when we are dealing with money every percent in data is important i read the data knowing which coulumns have null or missing value trying to figure out the reason behind each problem on the other hand trying to solve it\n",
    "\n",
    "when in comes to deal with the data we have several points we should take in perspective\n",
    "\n",
    " first investigating the missing value instead of dropping them knowing which is human error like the days-employed and the number of children\n",
    " \n",
    " then start dealing with the data categorizing tables to make the analysis much easier to anlyze so according to the anlysis we have found that credit score depends on the first priority on the income any person who have stable income with no debts looking in the marital status and the family satus could have a loan \n",
    " according to the purpose the bank can know which the greatest purpose the people come to take loan in according to th data it was the real estate so the bank should think in a way that to benefit from the purpoe like investing in them and increase the credit score \n",
    " \n",
    " children and marital status depends in having a children how many and the most important if they do have a debts\n",
    " \n",
    " we found that the days of employement with negative value are the same with people who have negative children"
   ]
  }
 ],
 "metadata": {
  "ExecuteTimeLog": [
   {
    "duration": 97,
    "start_time": "2021-06-18T15:15:50.771Z"
   },
   {
    "duration": 773,
    "start_time": "2021-06-18T15:16:20.308Z"
   },
   {
    "duration": 65,
    "start_time": "2021-06-18T15:16:25.511Z"
   },
   {
    "duration": 46,
    "start_time": "2021-06-18T15:25:53.951Z"
   },
   {
    "duration": 17,
    "start_time": "2021-06-18T15:26:18.861Z"
   },
   {
    "duration": 405,
    "start_time": "2021-06-18T15:52:51.844Z"
   },
   {
    "duration": 270,
    "start_time": "2021-06-18T15:53:16.944Z"
   },
   {
    "duration": 271,
    "start_time": "2021-06-18T15:53:31.262Z"
   },
   {
    "duration": 13,
    "start_time": "2021-06-18T15:53:51.559Z"
   },
   {
    "duration": 15,
    "start_time": "2021-06-18T15:55:28.346Z"
   },
   {
    "duration": 19,
    "start_time": "2021-06-18T15:55:43.792Z"
   },
   {
    "duration": 14,
    "start_time": "2021-06-18T15:55:51.672Z"
   },
   {
    "duration": 14,
    "start_time": "2021-06-18T15:56:09.350Z"
   },
   {
    "duration": 7,
    "start_time": "2021-06-18T15:56:53.563Z"
   },
   {
    "duration": 11,
    "start_time": "2021-06-18T15:57:27.477Z"
   },
   {
    "duration": 21,
    "start_time": "2021-06-18T15:57:38.004Z"
   },
   {
    "duration": 11,
    "start_time": "2021-06-18T15:58:58.355Z"
   },
   {
    "duration": 12,
    "start_time": "2021-06-18T15:59:01.011Z"
   },
   {
    "duration": 12,
    "start_time": "2021-06-18T15:59:06.954Z"
   },
   {
    "duration": 13,
    "start_time": "2021-06-18T15:59:19.784Z"
   },
   {
    "duration": 72,
    "start_time": "2021-06-18T16:00:08.063Z"
   },
   {
    "duration": 610,
    "start_time": "2021-06-18T16:03:30.281Z"
   },
   {
    "duration": 784,
    "start_time": "2021-06-18T16:03:40.987Z"
   },
   {
    "duration": 23,
    "start_time": "2021-06-18T16:03:46.810Z"
   },
   {
    "duration": 319,
    "start_time": "2021-06-18T16:04:10.240Z"
   },
   {
    "duration": 773,
    "start_time": "2021-06-18T16:04:23.194Z"
   },
   {
    "duration": 21,
    "start_time": "2021-06-18T16:04:32.857Z"
   },
   {
    "duration": 88,
    "start_time": "2021-06-18T16:19:09.866Z"
   },
   {
    "duration": 96,
    "start_time": "2021-06-18T16:19:38.237Z"
   },
   {
    "duration": 299,
    "start_time": "2021-06-18T16:19:43.591Z"
   },
   {
    "duration": 293,
    "start_time": "2021-06-18T16:20:04.512Z"
   },
   {
    "duration": 20,
    "start_time": "2021-06-18T16:46:00.538Z"
   },
   {
    "duration": 18,
    "start_time": "2021-06-18T16:48:02.094Z"
   },
   {
    "duration": 12,
    "start_time": "2021-06-18T16:48:07.166Z"
   },
   {
    "duration": 16,
    "start_time": "2021-06-18T16:48:42.434Z"
   },
   {
    "duration": 15,
    "start_time": "2021-06-18T16:48:53.923Z"
   },
   {
    "duration": 14,
    "start_time": "2021-06-18T16:49:41.766Z"
   },
   {
    "duration": 15,
    "start_time": "2021-06-18T16:51:10.493Z"
   },
   {
    "duration": 14,
    "start_time": "2021-06-18T16:51:33.502Z"
   },
   {
    "duration": 277,
    "start_time": "2021-06-18T16:53:33.316Z"
   },
   {
    "duration": 14,
    "start_time": "2021-06-18T16:54:00.688Z"
   },
   {
    "duration": 14,
    "start_time": "2021-06-18T16:54:10.955Z"
   },
   {
    "duration": 12,
    "start_time": "2021-06-18T16:54:25.608Z"
   },
   {
    "duration": 15,
    "start_time": "2021-06-18T16:54:41.950Z"
   },
   {
    "duration": 14,
    "start_time": "2021-06-18T16:54:50.418Z"
   },
   {
    "duration": 15,
    "start_time": "2021-06-18T16:55:03.131Z"
   },
   {
    "duration": 382,
    "start_time": "2021-06-18T16:55:39.305Z"
   },
   {
    "duration": 9,
    "start_time": "2021-06-18T16:56:44.981Z"
   },
   {
    "duration": 7,
    "start_time": "2021-06-18T16:56:57.456Z"
   },
   {
    "duration": 9,
    "start_time": "2021-06-18T16:57:01.977Z"
   },
   {
    "duration": 7,
    "start_time": "2021-06-18T16:57:10.021Z"
   },
   {
    "duration": 782,
    "start_time": "2021-06-18T16:57:32.566Z"
   },
   {
    "duration": 16,
    "start_time": "2021-06-18T16:57:42.053Z"
   },
   {
    "duration": 9,
    "start_time": "2021-06-18T16:57:52.031Z"
   },
   {
    "duration": 8,
    "start_time": "2021-06-18T16:58:24.631Z"
   },
   {
    "duration": 6,
    "start_time": "2021-06-18T16:58:29.457Z"
   },
   {
    "duration": 7,
    "start_time": "2021-06-18T16:59:07.290Z"
   },
   {
    "duration": 9,
    "start_time": "2021-06-18T16:59:18.783Z"
   },
   {
    "duration": 6,
    "start_time": "2021-06-18T16:59:37.357Z"
   },
   {
    "duration": 6,
    "start_time": "2021-06-18T16:59:55.166Z"
   },
   {
    "duration": 11,
    "start_time": "2021-06-18T17:00:03.084Z"
   },
   {
    "duration": 6,
    "start_time": "2021-06-18T17:00:27.227Z"
   },
   {
    "duration": 9,
    "start_time": "2021-06-18T17:00:49.643Z"
   },
   {
    "duration": 8,
    "start_time": "2021-06-18T17:00:55.588Z"
   },
   {
    "duration": 7,
    "start_time": "2021-06-18T17:01:06.709Z"
   },
   {
    "duration": 5,
    "start_time": "2021-06-18T17:01:21.749Z"
   },
   {
    "duration": 789,
    "start_time": "2021-06-18T17:01:33.913Z"
   },
   {
    "duration": 5,
    "start_time": "2021-06-18T17:01:34.705Z"
   },
   {
    "duration": 6,
    "start_time": "2021-06-18T17:01:46.837Z"
   },
   {
    "duration": 363,
    "start_time": "2021-06-18T17:06:55.372Z"
   },
   {
    "duration": 274,
    "start_time": "2021-06-18T17:07:16.818Z"
   },
   {
    "duration": 65,
    "start_time": "2021-06-18T17:07:27.955Z"
   },
   {
    "duration": 271,
    "start_time": "2021-06-18T17:07:28.023Z"
   },
   {
    "duration": 865,
    "start_time": "2021-06-18T17:07:45.168Z"
   },
   {
    "duration": 409,
    "start_time": "2021-06-18T17:07:46.035Z"
   },
   {
    "duration": 269,
    "start_time": "2021-06-18T17:08:49.547Z"
   },
   {
    "duration": 386,
    "start_time": "2021-06-18T17:09:20.152Z"
   },
   {
    "duration": 288,
    "start_time": "2021-06-18T17:10:46.888Z"
   },
   {
    "duration": 271,
    "start_time": "2021-06-18T17:12:03.376Z"
   },
   {
    "duration": 765,
    "start_time": "2021-06-18T17:12:41.588Z"
   },
   {
    "duration": 351,
    "start_time": "2021-06-18T17:12:42.356Z"
   },
   {
    "duration": 7,
    "start_time": "2021-06-18T17:13:24.482Z"
   },
   {
    "duration": 18,
    "start_time": "2021-06-18T17:14:22.284Z"
   },
   {
    "duration": 7,
    "start_time": "2021-06-18T17:14:27.050Z"
   },
   {
    "duration": 7,
    "start_time": "2021-06-18T17:14:30.721Z"
   },
   {
    "duration": 6,
    "start_time": "2021-06-18T17:14:46.017Z"
   },
   {
    "duration": 6,
    "start_time": "2021-06-18T17:15:05.649Z"
   },
   {
    "duration": 7,
    "start_time": "2021-06-18T17:15:11.475Z"
   },
   {
    "duration": 280,
    "start_time": "2021-06-18T17:16:01.909Z"
   },
   {
    "duration": 262,
    "start_time": "2021-06-18T17:16:08.053Z"
   },
   {
    "duration": 321,
    "start_time": "2021-06-18T17:16:32.070Z"
   },
   {
    "duration": 395,
    "start_time": "2021-06-18T17:16:37.097Z"
   },
   {
    "duration": 319,
    "start_time": "2021-06-18T17:17:00.794Z"
   },
   {
    "duration": 9,
    "start_time": "2021-06-18T17:17:22.320Z"
   },
   {
    "duration": 10,
    "start_time": "2021-06-18T17:17:27.178Z"
   },
   {
    "duration": 39,
    "start_time": "2021-06-18T17:17:32.039Z"
   },
   {
    "duration": 297,
    "start_time": "2021-06-18T17:17:59.973Z"
   },
   {
    "duration": 274,
    "start_time": "2021-06-18T17:18:28.031Z"
   },
   {
    "duration": 894,
    "start_time": "2021-06-18T17:18:36.827Z"
   },
   {
    "duration": 383,
    "start_time": "2021-06-18T17:18:37.723Z"
   },
   {
    "duration": 326,
    "start_time": "2021-06-18T17:20:34.132Z"
   },
   {
    "duration": 823,
    "start_time": "2021-06-18T17:20:53.535Z"
   },
   {
    "duration": 19,
    "start_time": "2021-06-18T17:20:54.361Z"
   },
   {
    "duration": 28,
    "start_time": "2021-06-18T17:22:02.105Z"
   },
   {
    "duration": 17,
    "start_time": "2021-06-18T17:22:46.488Z"
   },
   {
    "duration": 823,
    "start_time": "2021-06-18T17:23:12.720Z"
   },
   {
    "duration": 21,
    "start_time": "2021-06-18T17:23:13.546Z"
   },
   {
    "duration": 427,
    "start_time": "2021-06-18T17:28:26.855Z"
   },
   {
    "duration": 14,
    "start_time": "2021-06-18T17:28:34.395Z"
   },
   {
    "duration": 14,
    "start_time": "2021-06-18T17:28:49.995Z"
   },
   {
    "duration": 820,
    "start_time": "2021-06-18T17:33:24.644Z"
   },
   {
    "duration": 15,
    "start_time": "2021-06-18T17:33:34.200Z"
   },
   {
    "duration": 24,
    "start_time": "2021-06-18T17:34:45.907Z"
   },
   {
    "duration": 6750,
    "start_time": "2021-06-18T17:35:09.451Z"
   },
   {
    "duration": 6352,
    "start_time": "2021-06-18T17:35:16.575Z"
   },
   {
    "duration": 829,
    "start_time": "2021-06-18T17:35:44.633Z"
   },
   {
    "duration": -225,
    "start_time": "2021-06-18T17:35:52.946Z"
   },
   {
    "duration": 7245,
    "start_time": "2021-06-18T17:35:56.598Z"
   },
   {
    "duration": 840,
    "start_time": "2021-06-18T17:36:24.342Z"
   },
   {
    "duration": -217,
    "start_time": "2021-06-18T17:36:36.259Z"
   },
   {
    "duration": 6428,
    "start_time": "2021-06-18T17:36:41.161Z"
   },
   {
    "duration": -194,
    "start_time": "2021-06-18T17:37:08.359Z"
   },
   {
    "duration": 17,
    "start_time": "2021-06-18T17:46:17.891Z"
   },
   {
    "duration": 20,
    "start_time": "2021-06-18T17:48:23.661Z"
   },
   {
    "duration": 820,
    "start_time": "2021-06-18T17:48:43.221Z"
   },
   {
    "duration": 17,
    "start_time": "2021-06-18T17:48:44.044Z"
   },
   {
    "duration": 17,
    "start_time": "2021-06-18T17:49:49.284Z"
   },
   {
    "duration": 808,
    "start_time": "2021-06-18T17:51:30.756Z"
   },
   {
    "duration": 18,
    "start_time": "2021-06-18T17:52:01.314Z"
   },
   {
    "duration": 770,
    "start_time": "2021-06-18T17:52:19.784Z"
   },
   {
    "duration": 18,
    "start_time": "2021-06-18T17:52:20.557Z"
   },
   {
    "duration": 17,
    "start_time": "2021-06-18T17:52:54.256Z"
   },
   {
    "duration": 821,
    "start_time": "2021-06-18T17:53:05.139Z"
   },
   {
    "duration": 17,
    "start_time": "2021-06-18T17:53:05.963Z"
   },
   {
    "duration": 25,
    "start_time": "2021-06-18T17:53:47.459Z"
   },
   {
    "duration": 807,
    "start_time": "2021-06-18T17:55:23.559Z"
   },
   {
    "duration": 816,
    "start_time": "2021-06-18T17:55:41.618Z"
   },
   {
    "duration": 24,
    "start_time": "2021-06-18T17:55:53.589Z"
   },
   {
    "duration": 783,
    "start_time": "2021-06-18T17:56:29.405Z"
   },
   {
    "duration": 25,
    "start_time": "2021-06-18T17:56:53.276Z"
   },
   {
    "duration": 814,
    "start_time": "2021-06-18T17:58:31.835Z"
   },
   {
    "duration": 24,
    "start_time": "2021-06-18T17:58:32.652Z"
   },
   {
    "duration": 25,
    "start_time": "2021-06-18T17:58:41.138Z"
   },
   {
    "duration": 1945,
    "start_time": "2021-06-18T17:58:58.549Z"
   },
   {
    "duration": 25,
    "start_time": "2021-06-18T17:59:08.266Z"
   },
   {
    "duration": 25,
    "start_time": "2021-06-18T18:02:59.289Z"
   },
   {
    "duration": 824,
    "start_time": "2021-06-18T18:03:14.725Z"
   },
   {
    "duration": 25,
    "start_time": "2021-06-18T18:03:15.551Z"
   },
   {
    "duration": 24,
    "start_time": "2021-06-18T18:03:37.047Z"
   },
   {
    "duration": 868,
    "start_time": "2021-06-18T18:04:03.886Z"
   },
   {
    "duration": 26,
    "start_time": "2021-06-18T18:04:08.240Z"
   },
   {
    "duration": 24,
    "start_time": "2021-06-18T18:04:42.337Z"
   },
   {
    "duration": 1079,
    "start_time": "2021-06-18T18:04:58.170Z"
   },
   {
    "duration": 27,
    "start_time": "2021-06-18T18:04:59.253Z"
   },
   {
    "duration": 819,
    "start_time": "2021-06-18T18:06:46.057Z"
   },
   {
    "duration": 26,
    "start_time": "2021-06-18T18:06:46.880Z"
   },
   {
    "duration": 801,
    "start_time": "2021-06-18T18:07:14.240Z"
   },
   {
    "duration": 26,
    "start_time": "2021-06-18T18:07:20.005Z"
   },
   {
    "duration": 25,
    "start_time": "2021-06-18T18:07:39.036Z"
   },
   {
    "duration": 813,
    "start_time": "2021-06-18T18:07:51.535Z"
   },
   {
    "duration": 24,
    "start_time": "2021-06-18T18:07:52.351Z"
   },
   {
    "duration": 75,
    "start_time": "2021-06-18T18:12:22.813Z"
   },
   {
    "duration": 61,
    "start_time": "2021-06-18T18:12:45.382Z"
   },
   {
    "duration": 59,
    "start_time": "2021-06-18T18:13:03.719Z"
   },
   {
    "duration": 63,
    "start_time": "2021-06-18T18:13:10.528Z"
   },
   {
    "duration": 102,
    "start_time": "2021-06-18T18:18:23.804Z"
   },
   {
    "duration": 90,
    "start_time": "2021-06-18T18:18:57.896Z"
   },
   {
    "duration": 85,
    "start_time": "2021-06-18T18:19:18.332Z"
   },
   {
    "duration": 96,
    "start_time": "2021-06-18T18:19:23.787Z"
   },
   {
    "duration": 88,
    "start_time": "2021-06-18T18:19:34.535Z"
   },
   {
    "duration": 754,
    "start_time": "2021-06-18T18:20:18.505Z"
   },
   {
    "duration": 25,
    "start_time": "2021-06-18T18:20:19.262Z"
   },
   {
    "duration": 361,
    "start_time": "2021-06-18T18:20:25.944Z"
   },
   {
    "duration": 267,
    "start_time": "2021-06-18T18:21:46.925Z"
   },
   {
    "duration": 276,
    "start_time": "2021-06-18T18:22:00.507Z"
   },
   {
    "duration": 24,
    "start_time": "2021-06-18T18:23:57.561Z"
   },
   {
    "duration": 11,
    "start_time": "2021-06-18T18:24:24.321Z"
   },
   {
    "duration": 7933,
    "start_time": "2021-06-18T18:25:23.832Z"
   },
   {
    "duration": 349,
    "start_time": "2021-06-18T18:26:08.166Z"
   },
   {
    "duration": 803,
    "start_time": "2021-06-18T18:26:17.914Z"
   },
   {
    "duration": 27,
    "start_time": "2021-06-18T18:26:18.721Z"
   },
   {
    "duration": 7113,
    "start_time": "2021-06-18T18:26:18.755Z"
   },
   {
    "duration": 17,
    "start_time": "2021-06-18T18:26:48.718Z"
   },
   {
    "duration": 10,
    "start_time": "2021-06-18T18:28:56.407Z"
   },
   {
    "duration": 31,
    "start_time": "2021-06-18T18:30:16.192Z"
   },
   {
    "duration": 89,
    "start_time": "2021-06-18T18:31:33.873Z"
   },
   {
    "duration": 279,
    "start_time": "2021-06-18T18:31:45.856Z"
   },
   {
    "duration": 1058,
    "start_time": "2021-06-18T18:32:41.634Z"
   },
   {
    "duration": 11,
    "start_time": "2021-06-18T18:33:20.770Z"
   },
   {
    "duration": 22,
    "start_time": "2021-06-18T18:35:23.333Z"
   },
   {
    "duration": 27,
    "start_time": "2021-06-18T18:36:53.967Z"
   },
   {
    "duration": 50,
    "start_time": "2021-06-18T18:43:14.394Z"
   },
   {
    "duration": 308,
    "start_time": "2021-06-18T18:47:21.638Z"
   },
   {
    "duration": 276,
    "start_time": "2021-06-18T18:47:42.948Z"
   },
   {
    "duration": 766,
    "start_time": "2021-06-18T18:48:02.711Z"
   },
   {
    "duration": 38,
    "start_time": "2021-06-18T18:48:03.479Z"
   },
   {
    "duration": 42,
    "start_time": "2021-06-18T18:48:03.520Z"
   },
   {
    "duration": 375,
    "start_time": "2021-06-18T18:48:03.564Z"
   },
   {
    "duration": 335,
    "start_time": "2021-06-18T18:48:07.817Z"
   },
   {
    "duration": 50,
    "start_time": "2021-06-18T18:51:04.213Z"
   },
   {
    "duration": 8,
    "start_time": "2021-06-18T18:58:26.003Z"
   },
   {
    "duration": 276,
    "start_time": "2021-06-18T19:03:22.295Z"
   },
   {
    "duration": 497,
    "start_time": "2021-06-18T19:03:40.399Z"
   },
   {
    "duration": 816,
    "start_time": "2021-06-18T19:03:54.211Z"
   },
   {
    "duration": 42,
    "start_time": "2021-06-18T19:03:55.030Z"
   },
   {
    "duration": 27,
    "start_time": "2021-06-18T19:03:55.075Z"
   },
   {
    "duration": 313,
    "start_time": "2021-06-18T19:03:55.105Z"
   },
   {
    "duration": 269,
    "start_time": "2021-06-18T19:06:06.084Z"
   },
   {
    "duration": 276,
    "start_time": "2021-06-18T19:06:46.659Z"
   },
   {
    "duration": 314,
    "start_time": "2021-06-18T19:07:29.911Z"
   },
   {
    "duration": 282,
    "start_time": "2021-06-18T19:08:08.748Z"
   },
   {
    "duration": 769,
    "start_time": "2021-06-18T19:08:20.569Z"
   },
   {
    "duration": 41,
    "start_time": "2021-06-18T19:08:21.341Z"
   },
   {
    "duration": 28,
    "start_time": "2021-06-18T19:08:21.384Z"
   },
   {
    "duration": 380,
    "start_time": "2021-06-18T19:08:21.414Z"
   },
   {
    "duration": 271,
    "start_time": "2021-06-18T19:08:45.425Z"
   },
   {
    "duration": 291,
    "start_time": "2021-06-18T19:10:25.962Z"
   },
   {
    "duration": 743,
    "start_time": "2021-06-18T19:10:45.398Z"
   },
   {
    "duration": 39,
    "start_time": "2021-06-18T19:10:46.144Z"
   },
   {
    "duration": 28,
    "start_time": "2021-06-18T19:10:46.185Z"
   },
   {
    "duration": 362,
    "start_time": "2021-06-18T19:10:46.216Z"
   },
   {
    "duration": 11,
    "start_time": "2021-06-18T19:11:19.089Z"
   },
   {
    "duration": 279,
    "start_time": "2021-06-18T19:11:32.280Z"
   },
   {
    "duration": 305,
    "start_time": "2021-06-18T19:11:47.956Z"
   },
   {
    "duration": 323,
    "start_time": "2021-06-18T19:12:01.224Z"
   },
   {
    "duration": 779,
    "start_time": "2021-06-18T19:12:09.963Z"
   },
   {
    "duration": 41,
    "start_time": "2021-06-18T19:12:10.744Z"
   },
   {
    "duration": 27,
    "start_time": "2021-06-18T19:12:10.788Z"
   },
   {
    "duration": 18,
    "start_time": "2021-06-18T19:12:10.818Z"
   },
   {
    "duration": 299,
    "start_time": "2021-06-18T19:12:20.862Z"
   },
   {
    "duration": 265,
    "start_time": "2021-06-18T19:13:00.770Z"
   },
   {
    "duration": 826,
    "start_time": "2021-06-18T19:13:27.025Z"
   },
   {
    "duration": 40,
    "start_time": "2021-06-18T19:13:27.854Z"
   },
   {
    "duration": 27,
    "start_time": "2021-06-18T19:13:27.897Z"
   },
   {
    "duration": 358,
    "start_time": "2021-06-18T19:13:31.605Z"
   },
   {
    "duration": 273,
    "start_time": "2021-06-18T19:13:49.332Z"
   },
   {
    "duration": 10,
    "start_time": "2021-06-18T19:14:45.020Z"
   },
   {
    "duration": 9,
    "start_time": "2021-06-18T19:14:48.550Z"
   },
   {
    "duration": 14,
    "start_time": "2021-06-18T19:15:03.558Z"
   },
   {
    "duration": 9,
    "start_time": "2021-06-18T19:15:45.175Z"
   },
   {
    "duration": 9,
    "start_time": "2021-06-18T19:15:53.718Z"
   },
   {
    "duration": 9,
    "start_time": "2021-06-18T19:16:10.038Z"
   },
   {
    "duration": 824,
    "start_time": "2021-06-18T19:16:26.827Z"
   },
   {
    "duration": 40,
    "start_time": "2021-06-18T19:16:27.654Z"
   },
   {
    "duration": 27,
    "start_time": "2021-06-18T19:16:27.698Z"
   },
   {
    "duration": 9,
    "start_time": "2021-06-18T19:16:31.866Z"
   },
   {
    "duration": 12,
    "start_time": "2021-06-18T19:16:53.761Z"
   },
   {
    "duration": 376,
    "start_time": "2021-06-18T19:18:15.251Z"
   },
   {
    "duration": 41,
    "start_time": "2021-06-18T19:18:55.940Z"
   },
   {
    "duration": -114,
    "start_time": "2021-06-18T19:19:27.299Z"
   },
   {
    "duration": 7816,
    "start_time": "2021-06-18T19:19:37.804Z"
   },
   {
    "duration": 788,
    "start_time": "2021-06-18T19:20:05.748Z"
   },
   {
    "duration": 40,
    "start_time": "2021-06-18T19:20:06.538Z"
   },
   {
    "duration": 33,
    "start_time": "2021-06-18T19:20:06.581Z"
   },
   {
    "duration": 6659,
    "start_time": "2021-06-18T19:20:06.616Z"
   },
   {
    "duration": -123,
    "start_time": "2021-06-18T19:20:13.400Z"
   },
   {
    "duration": 6396,
    "start_time": "2021-06-18T19:20:21.786Z"
   },
   {
    "duration": 7449,
    "start_time": "2021-06-18T19:21:00.555Z"
   },
   {
    "duration": 731,
    "start_time": "2021-06-18T19:21:25.504Z"
   },
   {
    "duration": 39,
    "start_time": "2021-06-18T19:21:26.238Z"
   },
   {
    "duration": 28,
    "start_time": "2021-06-18T19:21:26.280Z"
   },
   {
    "duration": 41,
    "start_time": "2021-06-18T19:21:46.440Z"
   },
   {
    "duration": 6676,
    "start_time": "2021-06-18T19:22:24.720Z"
   },
   {
    "duration": 743,
    "start_time": "2021-06-18T19:22:52.995Z"
   },
   {
    "duration": 42,
    "start_time": "2021-06-18T19:22:53.741Z"
   },
   {
    "duration": 27,
    "start_time": "2021-06-18T19:22:53.786Z"
   },
   {
    "duration": 362,
    "start_time": "2021-06-18T19:22:57.420Z"
   },
   {
    "duration": 269,
    "start_time": "2021-06-18T19:23:59.049Z"
   },
   {
    "duration": 587,
    "start_time": "2021-06-18T19:26:08.240Z"
   },
   {
    "duration": 347,
    "start_time": "2021-06-18T19:26:29.276Z"
   },
   {
    "duration": 412,
    "start_time": "2021-06-18T19:26:34.752Z"
   },
   {
    "duration": 304,
    "start_time": "2021-06-18T19:26:44.536Z"
   },
   {
    "duration": 283,
    "start_time": "2021-06-18T19:28:37.536Z"
   },
   {
    "duration": 820,
    "start_time": "2021-06-18T19:28:55.116Z"
   },
   {
    "duration": 43,
    "start_time": "2021-06-18T19:28:55.939Z"
   },
   {
    "duration": 26,
    "start_time": "2021-06-18T19:28:55.985Z"
   },
   {
    "duration": 374,
    "start_time": "2021-06-18T19:28:58.079Z"
   },
   {
    "duration": 277,
    "start_time": "2021-06-18T19:29:15.063Z"
   },
   {
    "duration": 290,
    "start_time": "2021-06-18T19:29:29.362Z"
   },
   {
    "duration": 788,
    "start_time": "2021-06-18T19:31:06.858Z"
   },
   {
    "duration": 39,
    "start_time": "2021-06-18T19:31:07.649Z"
   },
   {
    "duration": 27,
    "start_time": "2021-06-18T19:31:07.691Z"
   },
   {
    "duration": 381,
    "start_time": "2021-06-18T19:31:09.619Z"
   },
   {
    "duration": 311,
    "start_time": "2021-06-18T19:34:02.485Z"
   },
   {
    "duration": 794,
    "start_time": "2021-06-18T19:34:16.819Z"
   },
   {
    "duration": 38,
    "start_time": "2021-06-18T19:34:17.615Z"
   },
   {
    "duration": 30,
    "start_time": "2021-06-18T19:34:17.656Z"
   },
   {
    "duration": 400,
    "start_time": "2021-06-18T19:34:17.690Z"
   },
   {
    "duration": -158,
    "start_time": "2021-06-18T19:34:18.252Z"
   },
   {
    "duration": 297,
    "start_time": "2021-06-18T19:34:48.045Z"
   },
   {
    "duration": 50,
    "start_time": "2021-06-18T19:35:01.086Z"
   },
   {
    "duration": 328,
    "start_time": "2021-06-18T19:35:37.646Z"
   },
   {
    "duration": -103,
    "start_time": "2021-06-18T19:36:02.338Z"
   },
   {
    "duration": 774,
    "start_time": "2021-06-18T19:36:05.708Z"
   },
   {
    "duration": 38,
    "start_time": "2021-06-18T19:36:06.485Z"
   },
   {
    "duration": 48,
    "start_time": "2021-06-18T19:36:06.526Z"
   },
   {
    "duration": 51,
    "start_time": "2021-06-18T19:36:06.576Z"
   },
   {
    "duration": 46,
    "start_time": "2021-06-18T19:36:06.654Z"
   },
   {
    "duration": 6873,
    "start_time": "2021-06-18T19:36:58.537Z"
   },
   {
    "duration": -90,
    "start_time": "2021-06-18T19:37:31.857Z"
   },
   {
    "duration": 45,
    "start_time": "2021-06-18T19:37:32.578Z"
   },
   {
    "duration": 41,
    "start_time": "2021-06-18T19:37:37.186Z"
   },
   {
    "duration": 7056,
    "start_time": "2021-06-18T19:37:51.326Z"
   },
   {
    "duration": 792,
    "start_time": "2021-06-18T19:38:04.374Z"
   },
   {
    "duration": 38,
    "start_time": "2021-06-18T19:38:05.169Z"
   },
   {
    "duration": 45,
    "start_time": "2021-06-18T19:38:05.210Z"
   },
   {
    "duration": 391,
    "start_time": "2021-06-18T19:38:05.257Z"
   },
   {
    "duration": -102,
    "start_time": "2021-06-18T19:38:05.753Z"
   },
   {
    "duration": 14,
    "start_time": "2021-06-18T19:38:36.143Z"
   },
   {
    "duration": 93,
    "start_time": "2021-06-18T19:59:50.264Z"
   },
   {
    "duration": 84,
    "start_time": "2021-06-18T19:59:59.280Z"
   },
   {
    "duration": 782,
    "start_time": "2021-06-18T20:00:17.687Z"
   },
   {
    "duration": 40,
    "start_time": "2021-06-18T20:00:18.472Z"
   },
   {
    "duration": 42,
    "start_time": "2021-06-18T20:00:18.514Z"
   },
   {
    "duration": 29,
    "start_time": "2021-06-18T20:00:18.559Z"
   },
   {
    "duration": 66,
    "start_time": "2021-06-18T20:00:18.590Z"
   },
   {
    "duration": 14,
    "start_time": "2021-06-18T20:00:49.506Z"
   },
   {
    "duration": 817,
    "start_time": "2021-06-18T20:01:14.331Z"
   },
   {
    "duration": 43,
    "start_time": "2021-06-18T20:01:15.151Z"
   },
   {
    "duration": 27,
    "start_time": "2021-06-18T20:01:15.197Z"
   },
   {
    "duration": 15,
    "start_time": "2021-06-18T20:01:18.990Z"
   },
   {
    "duration": 20,
    "start_time": "2021-06-18T20:24:45.586Z"
   },
   {
    "duration": 91,
    "start_time": "2021-06-18T20:32:25.786Z"
   },
   {
    "duration": 16,
    "start_time": "2021-06-18T20:32:47.306Z"
   },
   {
    "duration": 48,
    "start_time": "2021-06-18T20:40:41.459Z"
   },
   {
    "duration": 15,
    "start_time": "2021-06-18T20:40:55.915Z"
   },
   {
    "duration": 790,
    "start_time": "2021-06-18T20:41:11.839Z"
   },
   {
    "duration": 38,
    "start_time": "2021-06-18T20:41:12.632Z"
   },
   {
    "duration": 25,
    "start_time": "2021-06-18T20:41:12.673Z"
   },
   {
    "duration": 13,
    "start_time": "2021-06-18T20:41:12.701Z"
   },
   {
    "duration": 15,
    "start_time": "2021-06-18T20:41:13.681Z"
   },
   {
    "duration": 49,
    "start_time": "2021-06-18T20:41:16.272Z"
   },
   {
    "duration": 9,
    "start_time": "2021-06-18T20:44:06.550Z"
   },
   {
    "duration": 88,
    "start_time": "2021-06-18T20:56:02.141Z"
   },
   {
    "duration": 1582,
    "start_time": "2021-06-18T20:56:09.418Z"
   },
   {
    "duration": 1327,
    "start_time": "2021-06-18T20:56:12.118Z"
   },
   {
    "duration": 1298,
    "start_time": "2021-06-18T20:56:41.075Z"
   },
   {
    "duration": 1288,
    "start_time": "2021-06-18T20:56:50.547Z"
   },
   {
    "duration": 824,
    "start_time": "2021-06-18T20:57:03.321Z"
   },
   {
    "duration": 41,
    "start_time": "2021-06-18T20:57:04.148Z"
   },
   {
    "duration": 28,
    "start_time": "2021-06-18T20:57:04.194Z"
   },
   {
    "duration": 37,
    "start_time": "2021-06-18T20:57:04.224Z"
   },
   {
    "duration": 14,
    "start_time": "2021-06-18T20:57:04.263Z"
   },
   {
    "duration": 1315,
    "start_time": "2021-06-18T20:57:04.280Z"
   },
   {
    "duration": -75,
    "start_time": "2021-06-18T20:57:05.673Z"
   },
   {
    "duration": 1899,
    "start_time": "2021-06-18T20:57:45.250Z"
   },
   {
    "duration": 1231,
    "start_time": "2021-06-18T20:58:07.980Z"
   },
   {
    "duration": 18,
    "start_time": "2021-06-18T20:59:08.715Z"
   },
   {
    "duration": 1219,
    "start_time": "2021-06-18T20:59:27.887Z"
   },
   {
    "duration": 87,
    "start_time": "2021-06-18T20:59:54.929Z"
   },
   {
    "duration": 1237,
    "start_time": "2021-06-18T21:00:56.140Z"
   },
   {
    "duration": 1305,
    "start_time": "2021-06-18T21:01:26.249Z"
   },
   {
    "duration": 783,
    "start_time": "2021-06-18T21:01:36.476Z"
   },
   {
    "duration": 39,
    "start_time": "2021-06-18T21:01:37.262Z"
   },
   {
    "duration": 27,
    "start_time": "2021-06-18T21:01:37.304Z"
   },
   {
    "duration": 15,
    "start_time": "2021-06-18T21:01:37.355Z"
   },
   {
    "duration": 22,
    "start_time": "2021-06-18T21:01:37.372Z"
   },
   {
    "duration": 1416,
    "start_time": "2021-06-18T21:01:37.397Z"
   },
   {
    "duration": -53,
    "start_time": "2021-06-18T21:01:38.868Z"
   },
   {
    "duration": 1275,
    "start_time": "2021-06-18T21:02:10.010Z"
   },
   {
    "duration": 19,
    "start_time": "2021-06-18T21:02:32.228Z"
   },
   {
    "duration": 16,
    "start_time": "2021-06-18T21:02:45.255Z"
   },
   {
    "duration": 21,
    "start_time": "2021-06-18T21:03:24.558Z"
   },
   {
    "duration": 57,
    "start_time": "2021-06-18T21:03:33.672Z"
   },
   {
    "duration": 1286,
    "start_time": "2021-06-18T21:05:39.397Z"
   },
   {
    "duration": 1292,
    "start_time": "2021-06-18T21:06:33.346Z"
   },
   {
    "duration": 802,
    "start_time": "2021-06-18T21:06:50.149Z"
   },
   {
    "duration": 57,
    "start_time": "2021-06-18T21:06:50.954Z"
   },
   {
    "duration": 68,
    "start_time": "2021-06-18T21:06:51.015Z"
   },
   {
    "duration": 17,
    "start_time": "2021-06-18T21:06:51.087Z"
   },
   {
    "duration": 8,
    "start_time": "2021-06-18T21:06:51.107Z"
   },
   {
    "duration": 1353,
    "start_time": "2021-06-18T21:06:51.118Z"
   },
   {
    "duration": -85,
    "start_time": "2021-06-18T21:06:52.559Z"
   },
   {
    "duration": 18,
    "start_time": "2021-06-18T21:07:28.193Z"
   },
   {
    "duration": 56,
    "start_time": "2021-06-18T21:07:37.559Z"
   },
   {
    "duration": 29,
    "start_time": "2021-06-18T21:08:54.443Z"
   },
   {
    "duration": 21,
    "start_time": "2021-06-18T21:09:36.136Z"
   },
   {
    "duration": 789,
    "start_time": "2021-06-18T21:09:49.386Z"
   },
   {
    "duration": 42,
    "start_time": "2021-06-18T21:09:50.178Z"
   },
   {
    "duration": 44,
    "start_time": "2021-06-18T21:09:50.223Z"
   },
   {
    "duration": 19,
    "start_time": "2021-06-18T21:09:50.269Z"
   },
   {
    "duration": 8,
    "start_time": "2021-06-18T21:09:50.290Z"
   },
   {
    "duration": 21,
    "start_time": "2021-06-18T21:09:50.300Z"
   },
   {
    "duration": 17,
    "start_time": "2021-06-18T21:09:54.870Z"
   },
   {
    "duration": 50,
    "start_time": "2021-06-18T21:09:59.876Z"
   },
   {
    "duration": 12,
    "start_time": "2021-06-18T21:11:28.850Z"
   },
   {
    "duration": 13,
    "start_time": "2021-06-18T21:15:35.742Z"
   },
   {
    "duration": 426,
    "start_time": "2021-06-18T21:16:14.036Z"
   },
   {
    "duration": 9,
    "start_time": "2021-06-18T21:16:20.033Z"
   },
   {
    "duration": 10,
    "start_time": "2021-06-18T21:16:34.359Z"
   },
   {
    "duration": 778,
    "start_time": "2021-06-18T21:16:45.163Z"
   },
   {
    "duration": 42,
    "start_time": "2021-06-18T21:16:45.944Z"
   },
   {
    "duration": 27,
    "start_time": "2021-06-18T21:16:45.989Z"
   },
   {
    "duration": 39,
    "start_time": "2021-06-18T21:16:46.018Z"
   },
   {
    "duration": 7,
    "start_time": "2021-06-18T21:16:46.059Z"
   },
   {
    "duration": 26,
    "start_time": "2021-06-18T21:16:46.068Z"
   },
   {
    "duration": 11,
    "start_time": "2021-06-18T21:16:49.253Z"
   },
   {
    "duration": 9,
    "start_time": "2021-06-18T21:17:05.828Z"
   },
   {
    "duration": 10,
    "start_time": "2021-06-18T21:17:11.427Z"
   },
   {
    "duration": 10,
    "start_time": "2021-06-18T21:17:25.449Z"
   },
   {
    "duration": 10,
    "start_time": "2021-06-18T21:17:33.955Z"
   },
   {
    "duration": 10,
    "start_time": "2021-06-18T21:17:37.508Z"
   },
   {
    "duration": 8,
    "start_time": "2021-06-18T21:17:53.476Z"
   },
   {
    "duration": 9,
    "start_time": "2021-06-18T21:18:01.890Z"
   },
   {
    "duration": 9,
    "start_time": "2021-06-18T21:18:07.542Z"
   },
   {
    "duration": 9,
    "start_time": "2021-06-18T21:18:15.179Z"
   },
   {
    "duration": 383,
    "start_time": "2021-06-18T21:41:51.793Z"
   },
   {
    "duration": 10,
    "start_time": "2021-06-18T21:42:00.085Z"
   },
   {
    "duration": 10,
    "start_time": "2021-06-18T21:42:37.264Z"
   },
   {
    "duration": 8,
    "start_time": "2021-06-18T21:42:46.873Z"
   },
   {
    "duration": 91,
    "start_time": "2021-06-18T21:45:57.543Z"
   },
   {
    "duration": 9,
    "start_time": "2021-06-18T21:46:10.151Z"
   },
   {
    "duration": 9,
    "start_time": "2021-06-18T21:46:34.617Z"
   },
   {
    "duration": 9,
    "start_time": "2021-06-18T21:46:44.632Z"
   },
   {
    "duration": 10,
    "start_time": "2021-06-18T21:46:50.933Z"
   },
   {
    "duration": 10,
    "start_time": "2021-06-18T21:47:05.032Z"
   },
   {
    "duration": 283,
    "start_time": "2021-06-18T21:58:32.344Z"
   },
   {
    "duration": 53,
    "start_time": "2021-06-18T22:00:09.309Z"
   },
   {
    "duration": 46,
    "start_time": "2021-06-18T22:00:30.459Z"
   },
   {
    "duration": 48,
    "start_time": "2021-06-18T22:00:43.226Z"
   },
   {
    "duration": 748,
    "start_time": "2021-06-18T22:02:51.783Z"
   },
   {
    "duration": 41,
    "start_time": "2021-06-18T22:02:52.534Z"
   },
   {
    "duration": 27,
    "start_time": "2021-06-18T22:02:52.578Z"
   },
   {
    "duration": 19,
    "start_time": "2021-06-18T22:02:52.608Z"
   },
   {
    "duration": 9,
    "start_time": "2021-06-18T22:02:52.654Z"
   },
   {
    "duration": 33,
    "start_time": "2021-06-18T22:02:52.665Z"
   },
   {
    "duration": 61,
    "start_time": "2021-06-18T22:02:52.700Z"
   },
   {
    "duration": 48,
    "start_time": "2021-06-18T22:02:52.764Z"
   },
   {
    "duration": 214,
    "start_time": "2021-06-19T04:38:11.385Z"
   },
   {
    "duration": 572,
    "start_time": "2021-06-19T04:38:20.998Z"
   },
   {
    "duration": 26,
    "start_time": "2021-06-19T04:38:21.572Z"
   },
   {
    "duration": 17,
    "start_time": "2021-06-19T04:38:21.600Z"
   },
   {
    "duration": 12,
    "start_time": "2021-06-19T04:38:21.619Z"
   },
   {
    "duration": 4,
    "start_time": "2021-06-19T04:38:21.633Z"
   },
   {
    "duration": 12,
    "start_time": "2021-06-19T04:38:21.639Z"
   },
   {
    "duration": 29,
    "start_time": "2021-06-19T04:38:24.739Z"
   },
   {
    "duration": 11,
    "start_time": "2021-06-19T04:38:57.043Z"
   },
   {
    "duration": 18,
    "start_time": "2021-06-19T04:39:46.972Z"
   },
   {
    "duration": 4255,
    "start_time": "2021-06-19T04:42:35.018Z"
   },
   {
    "duration": 573,
    "start_time": "2021-06-19T04:43:01.425Z"
   },
   {
    "duration": 26,
    "start_time": "2021-06-19T04:43:02.000Z"
   },
   {
    "duration": 19,
    "start_time": "2021-06-19T04:43:02.028Z"
   },
   {
    "duration": 15,
    "start_time": "2021-06-19T04:43:02.049Z"
   },
   {
    "duration": 23,
    "start_time": "2021-06-19T04:43:02.066Z"
   },
   {
    "duration": 17,
    "start_time": "2021-06-19T04:43:02.090Z"
   },
   {
    "duration": 4514,
    "start_time": "2021-06-19T04:43:02.109Z"
   },
   {
    "duration": -495,
    "start_time": "2021-06-19T04:43:07.120Z"
   },
   {
    "duration": 13,
    "start_time": "2021-06-19T04:43:58.195Z"
   },
   {
    "duration": 14,
    "start_time": "2021-06-19T04:44:27.913Z"
   },
   {
    "duration": 57,
    "start_time": "2021-06-19T04:44:58.696Z"
   },
   {
    "duration": 13,
    "start_time": "2021-06-19T04:45:08.660Z"
   },
   {
    "duration": 15,
    "start_time": "2021-06-19T04:48:38.964Z"
   },
   {
    "duration": 19,
    "start_time": "2021-06-19T04:48:51.627Z"
   },
   {
    "duration": 543,
    "start_time": "2021-06-19T04:49:12.232Z"
   },
   {
    "duration": 27,
    "start_time": "2021-06-19T04:49:12.777Z"
   },
   {
    "duration": 18,
    "start_time": "2021-06-19T04:49:12.806Z"
   },
   {
    "duration": 11,
    "start_time": "2021-06-19T04:49:12.826Z"
   },
   {
    "duration": 7,
    "start_time": "2021-06-19T04:49:12.839Z"
   },
   {
    "duration": 43,
    "start_time": "2021-06-19T04:49:12.847Z"
   },
   {
    "duration": 20,
    "start_time": "2021-06-19T04:49:17.501Z"
   },
   {
    "duration": 19,
    "start_time": "2021-06-19T04:52:07.279Z"
   },
   {
    "duration": 60,
    "start_time": "2021-06-19T04:52:39.531Z"
   },
   {
    "duration": 620,
    "start_time": "2021-06-19T04:52:55.566Z"
   },
   {
    "duration": 37,
    "start_time": "2021-06-19T04:53:22.808Z"
   },
   {
    "duration": 49,
    "start_time": "2021-06-19T04:53:38.008Z"
   },
   {
    "duration": 22,
    "start_time": "2021-06-19T04:53:38.059Z"
   },
   {
    "duration": 17,
    "start_time": "2021-06-19T04:53:38.083Z"
   },
   {
    "duration": 12,
    "start_time": "2021-06-19T04:53:38.102Z"
   },
   {
    "duration": 5,
    "start_time": "2021-06-19T04:53:38.115Z"
   },
   {
    "duration": 12,
    "start_time": "2021-06-19T04:53:38.122Z"
   },
   {
    "duration": 9,
    "start_time": "2021-06-19T04:53:38.136Z"
   },
   {
    "duration": 58,
    "start_time": "2021-06-19T04:53:38.147Z"
   },
   {
    "duration": 12,
    "start_time": "2021-06-19T04:56:21.321Z"
   },
   {
    "duration": 30,
    "start_time": "2021-06-19T04:56:34.564Z"
   },
   {
    "duration": 221,
    "start_time": "2021-06-19T04:57:39.802Z"
   },
   {
    "duration": 11,
    "start_time": "2021-06-19T04:58:06.746Z"
   },
   {
    "duration": 192,
    "start_time": "2021-06-19T04:58:39.037Z"
   },
   {
    "duration": 13,
    "start_time": "2021-06-19T04:58:45.111Z"
   },
   {
    "duration": 20,
    "start_time": "2021-06-19T05:02:02.090Z"
   },
   {
    "duration": 20,
    "start_time": "2021-06-19T05:02:05.755Z"
   },
   {
    "duration": 31,
    "start_time": "2021-06-19T05:02:11.998Z"
   },
   {
    "duration": 36,
    "start_time": "2021-06-19T05:02:54.065Z"
   },
   {
    "duration": 38,
    "start_time": "2021-06-19T05:03:14.078Z"
   },
   {
    "duration": 543,
    "start_time": "2021-06-19T05:04:35.737Z"
   },
   {
    "duration": 26,
    "start_time": "2021-06-19T05:04:36.282Z"
   },
   {
    "duration": 18,
    "start_time": "2021-06-19T05:04:36.309Z"
   },
   {
    "duration": 15,
    "start_time": "2021-06-19T05:04:36.328Z"
   },
   {
    "duration": 5,
    "start_time": "2021-06-19T05:04:36.344Z"
   },
   {
    "duration": 41,
    "start_time": "2021-06-19T05:04:38.998Z"
   },
   {
    "duration": 254,
    "start_time": "2021-06-19T05:05:38.745Z"
   },
   {
    "duration": 185,
    "start_time": "2021-06-19T05:08:14.232Z"
   },
   {
    "duration": -483,
    "start_time": "2021-06-19T05:08:35.457Z"
   },
   {
    "duration": 558,
    "start_time": "2021-06-19T05:08:46.627Z"
   },
   {
    "duration": 34,
    "start_time": "2021-06-19T05:08:47.187Z"
   },
   {
    "duration": 22,
    "start_time": "2021-06-19T05:08:47.223Z"
   },
   {
    "duration": 9,
    "start_time": "2021-06-19T05:08:47.247Z"
   },
   {
    "duration": 31,
    "start_time": "2021-06-19T05:08:47.257Z"
   },
   {
    "duration": 4848,
    "start_time": "2021-06-19T05:08:47.289Z"
   },
   {
    "duration": -474,
    "start_time": "2021-06-19T05:08:52.613Z"
   },
   {
    "duration": -480,
    "start_time": "2021-06-19T05:08:52.620Z"
   },
   {
    "duration": 5423,
    "start_time": "2021-06-19T05:08:55.683Z"
   },
   {
    "duration": -516,
    "start_time": "2021-06-19T05:10:39.129Z"
   },
   {
    "duration": 4205,
    "start_time": "2021-06-19T05:10:49.972Z"
   },
   {
    "duration": 38,
    "start_time": "2021-06-19T05:17:01.749Z"
   },
   {
    "duration": 30,
    "start_time": "2021-06-19T05:18:31.869Z"
   },
   {
    "duration": 27,
    "start_time": "2021-06-19T05:18:43.303Z"
   },
   {
    "duration": 28,
    "start_time": "2021-06-19T05:18:59.079Z"
   },
   {
    "duration": 30,
    "start_time": "2021-06-19T05:19:33.317Z"
   },
   {
    "duration": -448,
    "start_time": "2021-06-19T05:20:55.774Z"
   },
   {
    "duration": 572,
    "start_time": "2021-06-19T05:21:13.454Z"
   },
   {
    "duration": 26,
    "start_time": "2021-06-19T05:21:14.028Z"
   },
   {
    "duration": 29,
    "start_time": "2021-06-19T05:21:14.056Z"
   },
   {
    "duration": 9,
    "start_time": "2021-06-19T05:21:14.087Z"
   },
   {
    "duration": 5,
    "start_time": "2021-06-19T05:21:14.098Z"
   },
   {
    "duration": 29,
    "start_time": "2021-06-19T05:21:14.105Z"
   },
   {
    "duration": 9,
    "start_time": "2021-06-19T05:21:14.136Z"
   },
   {
    "duration": 59,
    "start_time": "2021-06-19T05:21:14.147Z"
   },
   {
    "duration": 4574,
    "start_time": "2021-06-19T05:22:06.919Z"
   },
   {
    "duration": 4217,
    "start_time": "2021-06-19T05:22:19.249Z"
   },
   {
    "duration": 492,
    "start_time": "2021-06-19T05:22:39.541Z"
   },
   {
    "duration": 546,
    "start_time": "2021-06-19T05:22:46.626Z"
   },
   {
    "duration": 27,
    "start_time": "2021-06-19T05:22:47.174Z"
   },
   {
    "duration": 18,
    "start_time": "2021-06-19T05:22:47.203Z"
   },
   {
    "duration": 9,
    "start_time": "2021-06-19T05:22:47.222Z"
   },
   {
    "duration": 4,
    "start_time": "2021-06-19T05:22:47.233Z"
   },
   {
    "duration": 58,
    "start_time": "2021-06-19T05:22:47.238Z"
   },
   {
    "duration": 31,
    "start_time": "2021-06-19T05:23:02.205Z"
   },
   {
    "duration": 545,
    "start_time": "2021-06-19T05:26:19.534Z"
   },
   {
    "duration": 25,
    "start_time": "2021-06-19T05:26:20.081Z"
   },
   {
    "duration": 17,
    "start_time": "2021-06-19T05:26:20.108Z"
   },
   {
    "duration": 9,
    "start_time": "2021-06-19T05:26:20.127Z"
   },
   {
    "duration": 5,
    "start_time": "2021-06-19T05:26:20.138Z"
   },
   {
    "duration": 52,
    "start_time": "2021-06-19T05:26:31.371Z"
   },
   {
    "duration": 22,
    "start_time": "2021-06-19T05:26:31.425Z"
   },
   {
    "duration": 37,
    "start_time": "2021-06-19T05:26:31.449Z"
   },
   {
    "duration": 10,
    "start_time": "2021-06-19T05:26:31.487Z"
   },
   {
    "duration": 11,
    "start_time": "2021-06-19T05:26:31.498Z"
   },
   {
    "duration": 22,
    "start_time": "2021-06-19T05:26:31.510Z"
   },
   {
    "duration": 10,
    "start_time": "2021-06-19T05:26:31.533Z"
   },
   {
    "duration": 32,
    "start_time": "2021-06-19T05:26:35.680Z"
   },
   {
    "duration": 4218,
    "start_time": "2021-06-19T05:26:53.938Z"
   },
   {
    "duration": -492,
    "start_time": "2021-06-19T05:26:58.649Z"
   },
   {
    "duration": 30,
    "start_time": "2021-06-19T05:27:00.919Z"
   },
   {
    "duration": 4287,
    "start_time": "2021-06-19T05:27:51.454Z"
   },
   {
    "duration": 31,
    "start_time": "2021-06-19T05:27:57.829Z"
   },
   {
    "duration": 4231,
    "start_time": "2021-06-19T05:28:17.167Z"
   },
   {
    "duration": 5041,
    "start_time": "2021-06-19T05:28:33.796Z"
   },
   {
    "duration": 570,
    "start_time": "2021-06-19T05:28:47.353Z"
   },
   {
    "duration": 26,
    "start_time": "2021-06-19T05:28:47.925Z"
   },
   {
    "duration": 32,
    "start_time": "2021-06-19T05:28:47.953Z"
   },
   {
    "duration": 10,
    "start_time": "2021-06-19T05:28:47.987Z"
   },
   {
    "duration": 6,
    "start_time": "2021-06-19T05:28:47.999Z"
   },
   {
    "duration": 12,
    "start_time": "2021-06-19T05:28:48.007Z"
   },
   {
    "duration": 11,
    "start_time": "2021-06-19T05:28:48.021Z"
   },
   {
    "duration": 70,
    "start_time": "2021-06-19T05:28:48.034Z"
   },
   {
    "duration": 11,
    "start_time": "2021-06-19T05:31:04.123Z"
   },
   {
    "duration": 14,
    "start_time": "2021-06-19T05:31:21.864Z"
   },
   {
    "duration": 29,
    "start_time": "2021-06-19T05:31:36.668Z"
   },
   {
    "duration": 11,
    "start_time": "2021-06-19T05:32:02.103Z"
   },
   {
    "duration": 693,
    "start_time": "2021-06-19T05:32:17.809Z"
   },
   {
    "duration": 24,
    "start_time": "2021-06-19T05:32:18.504Z"
   },
   {
    "duration": 16,
    "start_time": "2021-06-19T05:32:18.530Z"
   },
   {
    "duration": 10,
    "start_time": "2021-06-19T05:32:18.547Z"
   },
   {
    "duration": 27,
    "start_time": "2021-06-19T05:32:18.558Z"
   },
   {
    "duration": 32,
    "start_time": "2021-06-19T05:32:25.239Z"
   },
   {
    "duration": 12,
    "start_time": "2021-06-19T05:32:33.702Z"
   },
   {
    "duration": 52,
    "start_time": "2021-06-19T05:32:39.758Z"
   },
   {
    "duration": 23,
    "start_time": "2021-06-19T05:32:39.813Z"
   },
   {
    "duration": 17,
    "start_time": "2021-06-19T05:32:39.838Z"
   },
   {
    "duration": 34,
    "start_time": "2021-06-19T05:32:39.856Z"
   },
   {
    "duration": 5,
    "start_time": "2021-06-19T05:32:39.891Z"
   },
   {
    "duration": 11,
    "start_time": "2021-06-19T05:32:39.897Z"
   },
   {
    "duration": 31,
    "start_time": "2021-06-19T05:32:44.716Z"
   },
   {
    "duration": 62,
    "start_time": "2021-06-19T05:33:54.152Z"
   },
   {
    "duration": 11,
    "start_time": "2021-06-19T05:34:09.803Z"
   },
   {
    "duration": 12,
    "start_time": "2021-06-19T05:34:22.129Z"
   },
   {
    "duration": 13,
    "start_time": "2021-06-19T05:38:02.334Z"
   },
   {
    "duration": 33,
    "start_time": "2021-06-19T05:38:10.232Z"
   },
   {
    "duration": 607,
    "start_time": "2021-06-19T05:38:30.892Z"
   },
   {
    "duration": 26,
    "start_time": "2021-06-19T05:38:31.501Z"
   },
   {
    "duration": 18,
    "start_time": "2021-06-19T05:38:31.528Z"
   },
   {
    "duration": 12,
    "start_time": "2021-06-19T05:38:31.547Z"
   },
   {
    "duration": 27,
    "start_time": "2021-06-19T05:38:31.561Z"
   },
   {
    "duration": 15,
    "start_time": "2021-06-19T05:38:31.590Z"
   },
   {
    "duration": 13,
    "start_time": "2021-06-19T05:38:31.607Z"
   },
   {
    "duration": 31,
    "start_time": "2021-06-19T05:38:35.726Z"
   },
   {
    "duration": 10,
    "start_time": "2021-06-19T05:42:27.853Z"
   },
   {
    "duration": 31,
    "start_time": "2021-06-19T05:42:33.972Z"
   },
   {
    "duration": 10,
    "start_time": "2021-06-19T05:44:26.405Z"
   },
   {
    "duration": 581,
    "start_time": "2021-06-19T05:44:36.796Z"
   },
   {
    "duration": 24,
    "start_time": "2021-06-19T05:44:37.379Z"
   },
   {
    "duration": 17,
    "start_time": "2021-06-19T05:44:37.405Z"
   },
   {
    "duration": 24,
    "start_time": "2021-06-19T05:44:37.423Z"
   },
   {
    "duration": 9,
    "start_time": "2021-06-19T05:44:37.448Z"
   },
   {
    "duration": 12,
    "start_time": "2021-06-19T05:44:37.459Z"
   },
   {
    "duration": 17,
    "start_time": "2021-06-19T05:44:37.472Z"
   },
   {
    "duration": 30,
    "start_time": "2021-06-19T05:44:37.490Z"
   },
   {
    "duration": 12,
    "start_time": "2021-06-19T05:46:51.637Z"
   },
   {
    "duration": 12,
    "start_time": "2021-06-19T05:47:24.096Z"
   },
   {
    "duration": 4690,
    "start_time": "2021-06-19T05:47:29.860Z"
   },
   {
    "duration": 4249,
    "start_time": "2021-06-19T05:48:01.842Z"
   },
   {
    "duration": 4840,
    "start_time": "2021-06-19T05:49:22.439Z"
   },
   {
    "duration": 537,
    "start_time": "2021-06-19T05:49:35.238Z"
   },
   {
    "duration": 25,
    "start_time": "2021-06-19T05:49:35.777Z"
   },
   {
    "duration": 18,
    "start_time": "2021-06-19T05:49:35.804Z"
   },
   {
    "duration": 9,
    "start_time": "2021-06-19T05:49:35.824Z"
   },
   {
    "duration": 5,
    "start_time": "2021-06-19T05:49:35.835Z"
   },
   {
    "duration": 11,
    "start_time": "2021-06-19T05:49:35.841Z"
   },
   {
    "duration": 39,
    "start_time": "2021-06-19T05:49:35.854Z"
   },
   {
    "duration": 30,
    "start_time": "2021-06-19T05:49:35.895Z"
   },
   {
    "duration": 2359,
    "start_time": "2021-06-19T05:53:23.123Z"
   },
   {
    "duration": 558,
    "start_time": "2021-06-19T05:53:56.928Z"
   },
   {
    "duration": 26,
    "start_time": "2021-06-19T05:53:57.488Z"
   },
   {
    "duration": 17,
    "start_time": "2021-06-19T05:53:57.515Z"
   },
   {
    "duration": 15,
    "start_time": "2021-06-19T05:53:57.534Z"
   },
   {
    "duration": 5,
    "start_time": "2021-06-19T05:53:57.550Z"
   },
   {
    "duration": 2425,
    "start_time": "2021-06-19T05:54:00.214Z"
   },
   {
    "duration": 2352,
    "start_time": "2021-06-19T05:54:30.017Z"
   },
   {
    "duration": 2323,
    "start_time": "2021-06-19T05:54:55.256Z"
   },
   {
    "duration": 599,
    "start_time": "2021-06-19T05:55:04.087Z"
   },
   {
    "duration": 27,
    "start_time": "2021-06-19T05:55:04.688Z"
   },
   {
    "duration": 17,
    "start_time": "2021-06-19T05:55:04.717Z"
   },
   {
    "duration": 10,
    "start_time": "2021-06-19T05:55:04.735Z"
   },
   {
    "duration": 6,
    "start_time": "2021-06-19T05:55:04.746Z"
   },
   {
    "duration": 3135,
    "start_time": "2021-06-19T05:55:04.754Z"
   },
   {
    "duration": -396,
    "start_time": "2021-06-19T05:55:08.287Z"
   },
   {
    "duration": -402,
    "start_time": "2021-06-19T05:55:08.294Z"
   },
   {
    "duration": 2272,
    "start_time": "2021-06-19T05:55:41.330Z"
   },
   {
    "duration": 35,
    "start_time": "2021-06-19T05:55:54.498Z"
   },
   {
    "duration": 58,
    "start_time": "2021-06-19T05:56:17.822Z"
   },
   {
    "duration": 54,
    "start_time": "2021-06-19T05:56:36.585Z"
   },
   {
    "duration": 56,
    "start_time": "2021-06-19T05:56:47.922Z"
   },
   {
    "duration": 561,
    "start_time": "2021-06-19T05:57:08.522Z"
   },
   {
    "duration": 24,
    "start_time": "2021-06-19T05:57:09.085Z"
   },
   {
    "duration": 17,
    "start_time": "2021-06-19T05:57:09.111Z"
   },
   {
    "duration": 10,
    "start_time": "2021-06-19T05:57:09.130Z"
   },
   {
    "duration": 7,
    "start_time": "2021-06-19T05:57:09.141Z"
   },
   {
    "duration": 6,
    "start_time": "2021-06-19T05:57:09.149Z"
   },
   {
    "duration": 37,
    "start_time": "2021-06-19T05:57:09.156Z"
   },
   {
    "duration": 33,
    "start_time": "2021-06-19T05:57:09.195Z"
   },
   {
    "duration": 736,
    "start_time": "2021-06-19T05:59:35.882Z"
   },
   {
    "duration": 663,
    "start_time": "2021-06-19T06:00:07.248Z"
   },
   {
    "duration": 606,
    "start_time": "2021-06-19T06:00:15.885Z"
   },
   {
    "duration": 25,
    "start_time": "2021-06-19T06:00:16.492Z"
   },
   {
    "duration": 17,
    "start_time": "2021-06-19T06:00:16.519Z"
   },
   {
    "duration": 14,
    "start_time": "2021-06-19T06:00:16.538Z"
   },
   {
    "duration": 4,
    "start_time": "2021-06-19T06:00:16.554Z"
   },
   {
    "duration": 740,
    "start_time": "2021-06-19T06:00:16.559Z"
   },
   {
    "duration": -576,
    "start_time": "2021-06-19T06:00:17.877Z"
   },
   {
    "duration": -623,
    "start_time": "2021-06-19T06:00:17.925Z"
   },
   {
    "duration": 705,
    "start_time": "2021-06-19T06:00:48.696Z"
   },
   {
    "duration": 666,
    "start_time": "2021-06-19T06:01:21.934Z"
   },
   {
    "duration": 615,
    "start_time": "2021-06-19T06:01:38.958Z"
   },
   {
    "duration": 27,
    "start_time": "2021-06-19T06:01:39.575Z"
   },
   {
    "duration": 17,
    "start_time": "2021-06-19T06:01:39.604Z"
   },
   {
    "duration": 13,
    "start_time": "2021-06-19T06:01:39.623Z"
   },
   {
    "duration": 6,
    "start_time": "2021-06-19T06:01:39.637Z"
   },
   {
    "duration": 718,
    "start_time": "2021-06-19T06:01:39.644Z"
   },
   {
    "duration": -544,
    "start_time": "2021-06-19T06:01:40.908Z"
   },
   {
    "duration": -604,
    "start_time": "2021-06-19T06:01:40.969Z"
   },
   {
    "duration": 687,
    "start_time": "2021-06-19T06:01:59.133Z"
   },
   {
    "duration": 564,
    "start_time": "2021-06-19T06:02:15.714Z"
   },
   {
    "duration": 25,
    "start_time": "2021-06-19T06:02:16.280Z"
   },
   {
    "duration": 17,
    "start_time": "2021-06-19T06:02:16.307Z"
   },
   {
    "duration": 9,
    "start_time": "2021-06-19T06:02:16.326Z"
   },
   {
    "duration": 4,
    "start_time": "2021-06-19T06:02:16.337Z"
   },
   {
    "duration": 741,
    "start_time": "2021-06-19T06:02:16.343Z"
   },
   {
    "duration": -1135,
    "start_time": "2021-06-19T06:02:18.221Z"
   },
   {
    "duration": -1202,
    "start_time": "2021-06-19T06:02:18.289Z"
   },
   {
    "duration": 30,
    "start_time": "2021-06-19T06:02:48.618Z"
   },
   {
    "duration": 594,
    "start_time": "2021-06-19T06:03:12.092Z"
   },
   {
    "duration": 25,
    "start_time": "2021-06-19T06:03:12.688Z"
   },
   {
    "duration": 17,
    "start_time": "2021-06-19T06:03:12.715Z"
   },
   {
    "duration": 10,
    "start_time": "2021-06-19T06:03:12.733Z"
   },
   {
    "duration": 5,
    "start_time": "2021-06-19T06:03:12.744Z"
   },
   {
    "duration": 59,
    "start_time": "2021-06-19T06:03:12.751Z"
   },
   {
    "duration": 10,
    "start_time": "2021-06-19T06:03:12.811Z"
   },
   {
    "duration": 32,
    "start_time": "2021-06-19T06:03:12.823Z"
   },
   {
    "duration": 32,
    "start_time": "2021-06-19T06:03:37.101Z"
   },
   {
    "duration": 28,
    "start_time": "2021-06-19T06:03:48.475Z"
   },
   {
    "duration": 587,
    "start_time": "2021-06-19T06:09:33.056Z"
   },
   {
    "duration": 25,
    "start_time": "2021-06-19T06:09:33.645Z"
   },
   {
    "duration": 16,
    "start_time": "2021-06-19T06:09:33.672Z"
   },
   {
    "duration": 9,
    "start_time": "2021-06-19T06:09:33.690Z"
   },
   {
    "duration": 4,
    "start_time": "2021-06-19T06:09:33.701Z"
   },
   {
    "duration": 840,
    "start_time": "2021-06-19T06:09:33.707Z"
   },
   {
    "duration": -469,
    "start_time": "2021-06-19T06:09:35.018Z"
   },
   {
    "duration": -474,
    "start_time": "2021-06-19T06:09:35.024Z"
   },
   {
    "duration": 550,
    "start_time": "2021-06-19T06:10:30.738Z"
   },
   {
    "duration": 25,
    "start_time": "2021-06-19T06:10:31.290Z"
   },
   {
    "duration": 18,
    "start_time": "2021-06-19T06:10:31.317Z"
   },
   {
    "duration": 12,
    "start_time": "2021-06-19T06:10:31.336Z"
   },
   {
    "duration": 20,
    "start_time": "2021-06-19T06:10:31.350Z"
   },
   {
    "duration": 64,
    "start_time": "2021-06-19T06:10:31.372Z"
   },
   {
    "duration": -274,
    "start_time": "2021-06-19T06:10:31.712Z"
   },
   {
    "duration": -285,
    "start_time": "2021-06-19T06:10:31.724Z"
   },
   {
    "duration": 12,
    "start_time": "2021-06-19T06:10:48.174Z"
   },
   {
    "duration": 34,
    "start_time": "2021-06-19T06:10:56.900Z"
   },
   {
    "duration": 623,
    "start_time": "2021-06-19T06:11:32.061Z"
   },
   {
    "duration": 24,
    "start_time": "2021-06-19T06:11:32.686Z"
   },
   {
    "duration": 17,
    "start_time": "2021-06-19T06:11:32.712Z"
   },
   {
    "duration": 12,
    "start_time": "2021-06-19T06:11:32.730Z"
   },
   {
    "duration": 6,
    "start_time": "2021-06-19T06:11:32.743Z"
   },
   {
    "duration": 34,
    "start_time": "2021-06-19T06:11:32.751Z"
   },
   {
    "duration": 11,
    "start_time": "2021-06-19T06:11:32.786Z"
   },
   {
    "duration": 32,
    "start_time": "2021-06-19T06:11:32.799Z"
   },
   {
    "duration": 584,
    "start_time": "2021-06-19T06:11:58.905Z"
   },
   {
    "duration": 28,
    "start_time": "2021-06-19T06:11:59.491Z"
   },
   {
    "duration": 18,
    "start_time": "2021-06-19T06:11:59.521Z"
   },
   {
    "duration": 16,
    "start_time": "2021-06-19T06:11:59.540Z"
   },
   {
    "duration": 29,
    "start_time": "2021-06-19T06:11:59.557Z"
   },
   {
    "duration": 12,
    "start_time": "2021-06-19T06:12:04.454Z"
   },
   {
    "duration": 12,
    "start_time": "2021-06-19T06:12:08.015Z"
   },
   {
    "duration": 35,
    "start_time": "2021-06-19T06:12:12.572Z"
   },
   {
    "duration": 2686,
    "start_time": "2021-06-19T06:13:44.062Z"
   },
   {
    "duration": 34,
    "start_time": "2021-06-19T06:13:52.763Z"
   },
   {
    "duration": 10015,
    "start_time": "2021-06-19T06:14:39.325Z"
   },
   {
    "duration": 33,
    "start_time": "2021-06-19T06:14:49.907Z"
   },
   {
    "duration": 246,
    "start_time": "2021-06-19T06:18:27.884Z"
   },
   {
    "duration": 176,
    "start_time": "2021-06-19T06:18:58.335Z"
   },
   {
    "duration": 625,
    "start_time": "2021-06-19T06:19:09.100Z"
   },
   {
    "duration": 539,
    "start_time": "2021-06-19T06:19:14.743Z"
   },
   {
    "duration": 24,
    "start_time": "2021-06-19T06:19:15.284Z"
   },
   {
    "duration": 17,
    "start_time": "2021-06-19T06:19:15.309Z"
   },
   {
    "duration": 10,
    "start_time": "2021-06-19T06:19:15.328Z"
   },
   {
    "duration": 6,
    "start_time": "2021-06-19T06:19:15.340Z"
   },
   {
    "duration": 208,
    "start_time": "2021-06-19T06:19:15.347Z"
   },
   {
    "duration": 59,
    "start_time": "2021-06-19T06:20:40.971Z"
   },
   {
    "duration": 12,
    "start_time": "2021-06-19T06:20:51.649Z"
   },
   {
    "duration": 14,
    "start_time": "2021-06-19T06:21:03.530Z"
   },
   {
    "duration": 13,
    "start_time": "2021-06-19T06:22:13.039Z"
   },
   {
    "duration": 14,
    "start_time": "2021-06-19T06:22:54.964Z"
   },
   {
    "duration": 549,
    "start_time": "2021-06-19T06:23:21.032Z"
   },
   {
    "duration": 27,
    "start_time": "2021-06-19T06:23:21.583Z"
   },
   {
    "duration": 18,
    "start_time": "2021-06-19T06:23:21.612Z"
   },
   {
    "duration": 10,
    "start_time": "2021-06-19T06:23:21.632Z"
   },
   {
    "duration": 6,
    "start_time": "2021-06-19T06:23:21.644Z"
   },
   {
    "duration": 17,
    "start_time": "2021-06-19T06:23:25.426Z"
   },
   {
    "duration": 36,
    "start_time": "2021-06-19T06:23:48.571Z"
   },
   {
    "duration": 8,
    "start_time": "2021-06-19T06:24:25.116Z"
   },
   {
    "duration": 235,
    "start_time": "2021-06-19T06:24:39.375Z"
   },
   {
    "duration": 613,
    "start_time": "2021-06-19T06:24:49.271Z"
   },
   {
    "duration": 26,
    "start_time": "2021-06-19T06:24:49.885Z"
   },
   {
    "duration": 18,
    "start_time": "2021-06-19T06:24:49.912Z"
   },
   {
    "duration": 8,
    "start_time": "2021-06-19T06:24:49.932Z"
   },
   {
    "duration": 4,
    "start_time": "2021-06-19T06:24:49.942Z"
   },
   {
    "duration": 41,
    "start_time": "2021-06-19T06:24:49.947Z"
   },
   {
    "duration": 38,
    "start_time": "2021-06-19T06:25:00.363Z"
   },
   {
    "duration": 6,
    "start_time": "2021-06-19T06:26:25.012Z"
   },
   {
    "duration": 202,
    "start_time": "2021-06-19T06:26:32.484Z"
   },
   {
    "duration": 7,
    "start_time": "2021-06-19T06:26:37.311Z"
   },
   {
    "duration": 8,
    "start_time": "2021-06-19T06:26:48.168Z"
   },
   {
    "duration": 8,
    "start_time": "2021-06-19T06:26:57.655Z"
   },
   {
    "duration": 7,
    "start_time": "2021-06-19T06:27:06.836Z"
   },
   {
    "duration": 1154,
    "start_time": "2021-06-19T06:27:41.675Z"
   },
   {
    "duration": 184,
    "start_time": "2021-06-19T06:28:13.197Z"
   },
   {
    "duration": 610,
    "start_time": "2021-06-19T06:28:30.482Z"
   },
   {
    "duration": 27,
    "start_time": "2021-06-19T06:28:31.094Z"
   },
   {
    "duration": 19,
    "start_time": "2021-06-19T06:28:31.123Z"
   },
   {
    "duration": 20,
    "start_time": "2021-06-19T06:28:31.143Z"
   },
   {
    "duration": 21,
    "start_time": "2021-06-19T06:28:31.165Z"
   },
   {
    "duration": 234,
    "start_time": "2021-06-19T06:28:31.187Z"
   },
   {
    "duration": -280,
    "start_time": "2021-06-19T06:28:31.703Z"
   },
   {
    "duration": -286,
    "start_time": "2021-06-19T06:28:31.710Z"
   },
   {
    "duration": 177,
    "start_time": "2021-06-19T06:29:13.561Z"
   },
   {
    "duration": 177,
    "start_time": "2021-06-19T06:34:38.045Z"
   },
   {
    "duration": 223,
    "start_time": "2021-06-19T06:35:53.742Z"
   },
   {
    "duration": 582,
    "start_time": "2021-06-19T06:36:01.813Z"
   },
   {
    "duration": 24,
    "start_time": "2021-06-19T06:36:02.397Z"
   },
   {
    "duration": 17,
    "start_time": "2021-06-19T06:36:02.423Z"
   },
   {
    "duration": 11,
    "start_time": "2021-06-19T06:36:02.441Z"
   },
   {
    "duration": 6,
    "start_time": "2021-06-19T06:36:02.454Z"
   },
   {
    "duration": 206,
    "start_time": "2021-06-19T06:36:07.020Z"
   },
   {
    "duration": 35,
    "start_time": "2021-06-19T06:36:57.282Z"
   },
   {
    "duration": 171,
    "start_time": "2021-06-19T07:32:40.945Z"
   },
   {
    "duration": 178,
    "start_time": "2021-06-19T07:33:46.372Z"
   },
   {
    "duration": 531,
    "start_time": "2021-06-19T07:33:57.842Z"
   },
   {
    "duration": 27,
    "start_time": "2021-06-19T07:33:58.375Z"
   },
   {
    "duration": 17,
    "start_time": "2021-06-19T07:33:58.405Z"
   },
   {
    "duration": 9,
    "start_time": "2021-06-19T07:33:58.424Z"
   },
   {
    "duration": 6,
    "start_time": "2021-06-19T07:33:58.435Z"
   },
   {
    "duration": 4,
    "start_time": "2021-06-19T07:33:58.443Z"
   },
   {
    "duration": 45,
    "start_time": "2021-06-19T07:33:58.448Z"
   },
   {
    "duration": 32,
    "start_time": "2021-06-19T07:33:58.494Z"
   },
   {
    "duration": 228,
    "start_time": "2021-06-19T07:33:58.528Z"
   },
   {
    "duration": 173,
    "start_time": "2021-06-19T07:34:01.031Z"
   },
   {
    "duration": 11,
    "start_time": "2021-06-19T07:34:08.566Z"
   },
   {
    "duration": 172,
    "start_time": "2021-06-19T07:34:26.873Z"
   },
   {
    "duration": 186,
    "start_time": "2021-06-19T07:35:16.914Z"
   },
   {
    "duration": 199,
    "start_time": "2021-06-19T07:36:02.047Z"
   },
   {
    "duration": 10,
    "start_time": "2021-06-19T07:36:09.415Z"
   },
   {
    "duration": 168,
    "start_time": "2021-06-19T07:36:39.327Z"
   },
   {
    "duration": 10,
    "start_time": "2021-06-19T07:37:01.207Z"
   },
   {
    "duration": 187,
    "start_time": "2021-06-19T07:38:29.391Z"
   },
   {
    "duration": 186,
    "start_time": "2021-06-19T07:38:34.645Z"
   },
   {
    "duration": 194,
    "start_time": "2021-06-19T07:38:48.953Z"
   },
   {
    "duration": 179,
    "start_time": "2021-06-19T07:39:42.663Z"
   },
   {
    "duration": 178,
    "start_time": "2021-06-19T07:39:48.475Z"
   },
   {
    "duration": 172,
    "start_time": "2021-06-19T07:40:05.995Z"
   },
   {
    "duration": 173,
    "start_time": "2021-06-19T07:40:15.650Z"
   },
   {
    "duration": 192,
    "start_time": "2021-06-19T07:41:22.715Z"
   },
   {
    "duration": 192,
    "start_time": "2021-06-19T07:41:27.420Z"
   },
   {
    "duration": 13,
    "start_time": "2021-06-19T07:41:32.283Z"
   },
   {
    "duration": 15,
    "start_time": "2021-06-19T07:43:26.394Z"
   },
   {
    "duration": 35,
    "start_time": "2021-06-19T07:44:02.156Z"
   },
   {
    "duration": 178,
    "start_time": "2021-06-19T07:53:39.466Z"
   },
   {
    "duration": 180,
    "start_time": "2021-06-19T07:54:03.087Z"
   },
   {
    "duration": 11,
    "start_time": "2021-06-19T07:54:26.557Z"
   },
   {
    "duration": 4305,
    "start_time": "2021-06-19T07:54:49.869Z"
   },
   {
    "duration": 24,
    "start_time": "2021-06-19T07:55:54.576Z"
   },
   {
    "duration": 20,
    "start_time": "2021-06-19T07:57:32.764Z"
   },
   {
    "duration": 21,
    "start_time": "2021-06-19T07:57:46.841Z"
   },
   {
    "duration": 67,
    "start_time": "2021-06-19T08:03:45.127Z"
   },
   {
    "duration": 189,
    "start_time": "2021-06-19T08:04:53.599Z"
   },
   {
    "duration": 31,
    "start_time": "2021-06-19T09:10:48.500Z"
   },
   {
    "duration": 214,
    "start_time": "2021-06-19T09:36:08.265Z"
   },
   {
    "duration": 210,
    "start_time": "2021-06-19T09:37:03.776Z"
   },
   {
    "duration": 30,
    "start_time": "2021-06-19T09:37:18.722Z"
   },
   {
    "duration": 43,
    "start_time": "2021-06-19T09:37:28.477Z"
   },
   {
    "duration": 30,
    "start_time": "2021-06-19T09:37:48.331Z"
   },
   {
    "duration": 183,
    "start_time": "2021-06-19T10:04:15.636Z"
   },
   {
    "duration": 46,
    "start_time": "2021-06-19T10:04:22.028Z"
   },
   {
    "duration": 30,
    "start_time": "2021-06-19T10:06:15.222Z"
   },
   {
    "duration": 46,
    "start_time": "2021-06-19T10:06:29.962Z"
   },
   {
    "duration": 48,
    "start_time": "2021-06-19T10:07:09.198Z"
   },
   {
    "duration": 43,
    "start_time": "2021-06-19T10:07:35.404Z"
   },
   {
    "duration": 54,
    "start_time": "2021-06-19T10:19:43.505Z"
   },
   {
    "duration": 45,
    "start_time": "2021-06-19T10:20:15.529Z"
   },
   {
    "duration": 47,
    "start_time": "2021-06-19T10:20:36.829Z"
   },
   {
    "duration": 59,
    "start_time": "2021-06-19T10:21:27.113Z"
   },
   {
    "duration": 63,
    "start_time": "2021-06-19T10:21:40.654Z"
   },
   {
    "duration": 58,
    "start_time": "2021-06-19T10:23:45.684Z"
   },
   {
    "duration": 62,
    "start_time": "2021-06-19T10:24:20.400Z"
   },
   {
    "duration": -890,
    "start_time": "2021-06-19T10:26:50.432Z"
   },
   {
    "duration": 4443,
    "start_time": "2021-06-19T10:27:01.270Z"
   },
   {
    "duration": 4178,
    "start_time": "2021-06-19T10:27:24.763Z"
   },
   {
    "duration": 65,
    "start_time": "2021-06-19T10:27:40.107Z"
   },
   {
    "duration": 91,
    "start_time": "2021-06-19T10:29:25.246Z"
   },
   {
    "duration": 100,
    "start_time": "2021-06-19T10:45:07.422Z"
   },
   {
    "duration": 56,
    "start_time": "2021-06-19T10:46:48.552Z"
   },
   {
    "duration": 233,
    "start_time": "2021-06-19T10:46:55.181Z"
   },
   {
    "duration": 255,
    "start_time": "2021-06-19T10:47:04.188Z"
   },
   {
    "duration": 80,
    "start_time": "2021-06-19T10:47:17.241Z"
   },
   {
    "duration": 84,
    "start_time": "2021-06-19T11:06:12.264Z"
   },
   {
    "duration": 21,
    "start_time": "2021-06-19T13:02:58.084Z"
   },
   {
    "duration": 22,
    "start_time": "2021-06-19T13:03:07.559Z"
   },
   {
    "duration": 21,
    "start_time": "2021-06-19T13:03:15.855Z"
   },
   {
    "duration": 21,
    "start_time": "2021-06-19T13:03:27.495Z"
   },
   {
    "duration": 21,
    "start_time": "2021-06-19T13:03:46.601Z"
   },
   {
    "duration": 23,
    "start_time": "2021-06-19T13:05:00.940Z"
   },
   {
    "duration": 195,
    "start_time": "2021-06-19T13:05:19.938Z"
   },
   {
    "duration": 22,
    "start_time": "2021-06-19T13:05:26.237Z"
   },
   {
    "duration": 23,
    "start_time": "2021-06-19T13:06:20.894Z"
   },
   {
    "duration": 783,
    "start_time": "2021-06-19T13:08:15.363Z"
   },
   {
    "duration": 1223,
    "start_time": "2021-06-19T13:08:49.836Z"
   },
   {
    "duration": 1209,
    "start_time": "2021-06-19T13:09:07.029Z"
   },
   {
    "duration": 198,
    "start_time": "2021-06-19T13:09:26.096Z"
   },
   {
    "duration": 1228,
    "start_time": "2021-06-19T13:10:03.093Z"
   },
   {
    "duration": 184,
    "start_time": "2021-06-19T13:11:13.158Z"
   },
   {
    "duration": 198,
    "start_time": "2021-06-19T13:11:19.375Z"
   },
   {
    "duration": 1438,
    "start_time": "2021-06-19T13:13:10.040Z"
   },
   {
    "duration": 1484,
    "start_time": "2021-06-19T13:15:32.019Z"
   },
   {
    "duration": 784,
    "start_time": "2021-06-19T13:15:51.536Z"
   },
   {
    "duration": 4639,
    "start_time": "2021-06-19T13:20:13.002Z"
   },
   {
    "duration": 183,
    "start_time": "2021-06-19T13:21:35.826Z"
   },
   {
    "duration": 193,
    "start_time": "2021-06-19T13:21:46.993Z"
   },
   {
    "duration": 1272,
    "start_time": "2021-06-19T13:22:00.422Z"
   },
   {
    "duration": 602,
    "start_time": "2021-06-19T13:26:40.314Z"
   },
   {
    "duration": 606,
    "start_time": "2021-06-19T13:26:44.846Z"
   },
   {
    "duration": 630,
    "start_time": "2021-06-19T13:26:52.372Z"
   },
   {
    "duration": 776,
    "start_time": "2021-06-19T13:27:32.237Z"
   },
   {
    "duration": 803,
    "start_time": "2021-06-19T13:27:53.370Z"
   },
   {
    "duration": 771,
    "start_time": "2021-06-19T13:28:02.528Z"
   },
   {
    "duration": 787,
    "start_time": "2021-06-19T13:31:11.575Z"
   },
   {
    "duration": 619,
    "start_time": "2021-06-19T13:32:51.028Z"
   },
   {
    "duration": 609,
    "start_time": "2021-06-19T13:33:18.007Z"
   },
   {
    "duration": 609,
    "start_time": "2021-06-19T13:35:22.480Z"
   },
   {
    "duration": 603,
    "start_time": "2021-06-19T13:35:43.020Z"
   },
   {
    "duration": 782,
    "start_time": "2021-06-19T13:47:55.753Z"
   },
   {
    "duration": 65,
    "start_time": "2021-06-19T14:16:45.155Z"
   },
   {
    "duration": 64,
    "start_time": "2021-06-19T14:16:49.084Z"
   },
   {
    "duration": 79,
    "start_time": "2021-06-19T14:17:01.015Z"
   },
   {
    "duration": 69,
    "start_time": "2021-06-19T15:18:57.839Z"
   },
   {
    "duration": 56,
    "start_time": "2021-06-19T15:20:53.985Z"
   },
   {
    "duration": 22,
    "start_time": "2021-06-19T18:25:29.674Z"
   },
   {
    "duration": 11,
    "start_time": "2021-06-19T18:35:43.950Z"
   },
   {
    "duration": 13,
    "start_time": "2021-06-19T18:36:02.138Z"
   },
   {
    "duration": 81,
    "start_time": "2021-06-19T18:45:30.003Z"
   },
   {
    "duration": 57,
    "start_time": "2021-06-19T18:45:53.126Z"
   },
   {
    "duration": 65,
    "start_time": "2021-06-19T18:46:19.407Z"
   },
   {
    "duration": 68,
    "start_time": "2021-06-19T18:46:47.912Z"
   },
   {
    "duration": 58,
    "start_time": "2021-06-19T18:47:08.555Z"
   },
   {
    "duration": 61,
    "start_time": "2021-06-19T18:47:14.687Z"
   },
   {
    "duration": 832,
    "start_time": "2021-06-20T13:00:34.500Z"
   },
   {
    "duration": 7897,
    "start_time": "2021-06-20T13:04:00.581Z"
   },
   {
    "duration": 9593,
    "start_time": "2021-06-20T13:04:56.433Z"
   },
   {
    "duration": 68,
    "start_time": "2021-06-20T13:08:14.390Z"
   },
   {
    "duration": 33,
    "start_time": "2021-06-20T13:12:58.712Z"
   },
   {
    "duration": 102,
    "start_time": "2021-06-20T17:59:01.556Z"
   },
   {
    "duration": 408,
    "start_time": "2021-06-20T17:59:19.124Z"
   },
   {
    "duration": 1353,
    "start_time": "2021-06-20T19:22:33.860Z"
   },
   {
    "duration": 1313,
    "start_time": "2021-06-20T19:22:50.096Z"
   },
   {
    "duration": 6889,
    "start_time": "2021-06-20T19:23:31.544Z"
   },
   {
    "duration": 2019,
    "start_time": "2021-06-20T19:23:57.546Z"
   },
   {
    "duration": 1656,
    "start_time": "2021-06-20T19:24:39.986Z"
   },
   {
    "duration": 2369,
    "start_time": "2021-06-20T19:24:44.240Z"
   },
   {
    "duration": 2424,
    "start_time": "2021-06-20T19:25:09.589Z"
   },
   {
    "duration": 2351,
    "start_time": "2021-06-20T19:25:13.726Z"
   },
   {
    "duration": 2396,
    "start_time": "2021-06-20T19:25:29.003Z"
   },
   {
    "duration": 1201,
    "start_time": "2021-06-20T19:25:57.688Z"
   },
   {
    "duration": 2126,
    "start_time": "2021-06-20T19:26:26.144Z"
   },
   {
    "duration": 2208,
    "start_time": "2021-06-20T19:27:16.833Z"
   },
   {
    "duration": 2231,
    "start_time": "2021-06-20T19:27:31.565Z"
   },
   {
    "duration": 1603,
    "start_time": "2021-06-20T19:28:19.551Z"
   },
   {
    "duration": 2558,
    "start_time": "2021-06-20T19:28:43.799Z"
   },
   {
    "duration": 1184,
    "start_time": "2021-06-20T19:29:08.156Z"
   },
   {
    "duration": 7,
    "start_time": "2021-06-20T19:34:13.550Z"
   },
   {
    "duration": 105,
    "start_time": "2021-06-20T19:36:58.324Z"
   },
   {
    "duration": 108,
    "start_time": "2021-06-20T19:37:21.476Z"
   },
   {
    "duration": 2278,
    "start_time": "2021-06-20T19:37:30.029Z"
   },
   {
    "duration": 3521,
    "start_time": "2021-06-20T19:38:35.985Z"
   },
   {
    "duration": 3550,
    "start_time": "2021-06-20T19:39:20.877Z"
   },
   {
    "duration": 3495,
    "start_time": "2021-06-20T19:39:32.240Z"
   },
   {
    "duration": 3322,
    "start_time": "2021-06-20T19:39:51.610Z"
   },
   {
    "duration": 5977,
    "start_time": "2021-06-20T19:40:29.489Z"
   },
   {
    "duration": 833,
    "start_time": "2021-06-20T19:40:47.802Z"
   },
   {
    "duration": 104,
    "start_time": "2021-06-20T19:40:48.638Z"
   },
   {
    "duration": 55,
    "start_time": "2021-06-20T19:40:48.747Z"
   },
   {
    "duration": 42,
    "start_time": "2021-06-20T19:40:48.806Z"
   },
   {
    "duration": 40,
    "start_time": "2021-06-20T19:40:48.851Z"
   },
   {
    "duration": 26,
    "start_time": "2021-06-20T19:40:48.894Z"
   },
   {
    "duration": 23,
    "start_time": "2021-06-20T19:40:48.922Z"
   },
   {
    "duration": 19,
    "start_time": "2021-06-20T19:40:48.948Z"
   },
   {
    "duration": 69,
    "start_time": "2021-06-20T19:40:48.970Z"
   },
   {
    "duration": 102,
    "start_time": "2021-06-20T19:40:49.043Z"
   },
   {
    "duration": -362,
    "start_time": "2021-06-20T19:40:49.511Z"
   },
   {
    "duration": 4172,
    "start_time": "2021-06-20T19:40:55.052Z"
   },
   {
    "duration": 3323,
    "start_time": "2021-06-20T19:41:18.066Z"
   },
   {
    "duration": 3324,
    "start_time": "2021-06-20T19:41:36.841Z"
   },
   {
    "duration": 3292,
    "start_time": "2021-06-20T19:41:48.471Z"
   },
   {
    "duration": 3382,
    "start_time": "2021-06-20T19:42:01.322Z"
   },
   {
    "duration": 3431,
    "start_time": "2021-06-20T19:42:17.092Z"
   },
   {
    "duration": 3270,
    "start_time": "2021-06-20T19:42:35.562Z"
   },
   {
    "duration": 3344,
    "start_time": "2021-06-20T19:42:45.639Z"
   },
   {
    "duration": 3412,
    "start_time": "2021-06-20T19:50:45.858Z"
   },
   {
    "duration": 3730,
    "start_time": "2021-06-20T19:52:39.667Z"
   },
   {
    "duration": 7048,
    "start_time": "2021-06-20T19:53:08.263Z"
   },
   {
    "duration": 4479,
    "start_time": "2021-06-20T19:54:11.073Z"
   },
   {
    "duration": 4351,
    "start_time": "2021-06-20T19:56:33.664Z"
   },
   {
    "duration": 7740,
    "start_time": "2021-06-20T19:58:35.290Z"
   },
   {
    "duration": 8246,
    "start_time": "2021-06-20T19:59:02.352Z"
   },
   {
    "duration": 8216,
    "start_time": "2021-06-20T19:59:40.269Z"
   },
   {
    "duration": 5093,
    "start_time": "2021-06-20T20:15:07.479Z"
   },
   {
    "duration": 5039,
    "start_time": "2021-06-20T20:16:20.071Z"
   },
   {
    "duration": 5273,
    "start_time": "2021-06-20T20:18:54.438Z"
   },
   {
    "duration": 4349,
    "start_time": "2021-06-20T20:19:36.203Z"
   },
   {
    "duration": 4791,
    "start_time": "2021-06-20T20:21:59.455Z"
   },
   {
    "duration": 4576,
    "start_time": "2021-06-20T20:22:16.689Z"
   },
   {
    "duration": 5049,
    "start_time": "2021-06-20T20:23:35.488Z"
   },
   {
    "duration": 5257,
    "start_time": "2021-06-20T20:23:56.828Z"
   },
   {
    "duration": 4963,
    "start_time": "2021-06-20T20:24:06.488Z"
   },
   {
    "duration": 4988,
    "start_time": "2021-06-20T20:24:30.248Z"
   },
   {
    "duration": 4770,
    "start_time": "2021-06-20T20:24:38.527Z"
   },
   {
    "duration": 4967,
    "start_time": "2021-06-20T20:24:57.821Z"
   },
   {
    "duration": 4298,
    "start_time": "2021-06-20T20:26:40.758Z"
   },
   {
    "duration": 4864,
    "start_time": "2021-06-20T20:27:01.921Z"
   },
   {
    "duration": 4837,
    "start_time": "2021-06-20T20:27:54.896Z"
   },
   {
    "duration": 101,
    "start_time": "2021-06-20T20:31:20.839Z"
   },
   {
    "duration": 4275,
    "start_time": "2021-06-20T20:31:32.214Z"
   },
   {
    "duration": 4248,
    "start_time": "2021-06-20T20:31:45.662Z"
   },
   {
    "duration": 4770,
    "start_time": "2021-06-20T20:32:45.828Z"
   },
   {
    "duration": 4547,
    "start_time": "2021-06-20T20:33:18.038Z"
   },
   {
    "duration": 4406,
    "start_time": "2021-06-20T20:33:29.572Z"
   },
   {
    "duration": 4607,
    "start_time": "2021-06-20T20:34:02.784Z"
   },
   {
    "duration": 4420,
    "start_time": "2021-06-20T20:34:48.013Z"
   },
   {
    "duration": 4603,
    "start_time": "2021-06-20T20:34:57.418Z"
   },
   {
    "duration": 4898,
    "start_time": "2021-06-20T20:41:54.295Z"
   },
   {
    "duration": 5279,
    "start_time": "2021-06-20T20:42:42.442Z"
   },
   {
    "duration": 8658,
    "start_time": "2021-06-20T20:44:53.792Z"
   },
   {
    "duration": 5091,
    "start_time": "2021-06-20T20:46:26.926Z"
   },
   {
    "duration": 5114,
    "start_time": "2021-06-20T20:46:45.113Z"
   },
   {
    "duration": 5128,
    "start_time": "2021-06-20T20:47:36.094Z"
   },
   {
    "duration": 5368,
    "start_time": "2021-06-20T20:47:42.080Z"
   },
   {
    "duration": 5225,
    "start_time": "2021-06-20T20:49:31.329Z"
   },
   {
    "duration": 4908,
    "start_time": "2021-06-20T20:49:53.135Z"
   },
   {
    "duration": 5137,
    "start_time": "2021-06-20T20:50:11.541Z"
   },
   {
    "duration": 5381,
    "start_time": "2021-06-20T20:50:30.050Z"
   },
   {
    "duration": 4938,
    "start_time": "2021-06-20T20:56:40.983Z"
   },
   {
    "duration": 4520,
    "start_time": "2021-06-20T20:57:10.242Z"
   },
   {
    "duration": 4553,
    "start_time": "2021-06-20T20:57:20.366Z"
   },
   {
    "duration": -489,
    "start_time": "2021-06-20T21:02:05.349Z"
   },
   {
    "duration": 5652,
    "start_time": "2021-06-20T21:02:16.023Z"
   },
   {
    "duration": 4666,
    "start_time": "2021-06-20T21:02:35.571Z"
   },
   {
    "duration": 5098,
    "start_time": "2021-06-20T21:03:08.729Z"
   },
   {
    "duration": 5086,
    "start_time": "2021-06-20T21:03:15.370Z"
   },
   {
    "duration": 4670,
    "start_time": "2021-06-20T21:07:04.167Z"
   },
   {
    "duration": 4549,
    "start_time": "2021-06-20T21:08:55.591Z"
   },
   {
    "duration": 4580,
    "start_time": "2021-06-20T21:09:38.207Z"
   },
   {
    "duration": 12278,
    "start_time": "2021-06-20T21:09:59.347Z"
   },
   {
    "duration": 12027,
    "start_time": "2021-06-20T21:10:13.020Z"
   },
   {
    "duration": 5259,
    "start_time": "2021-06-20T21:10:38.007Z"
   },
   {
    "duration": 5324,
    "start_time": "2021-06-20T21:11:06.289Z"
   },
   {
    "duration": 5143,
    "start_time": "2021-06-20T21:13:57.417Z"
   },
   {
    "duration": 4753,
    "start_time": "2021-06-20T21:14:50.182Z"
   },
   {
    "duration": 4765,
    "start_time": "2021-06-20T21:15:19.822Z"
   },
   {
    "duration": 4750,
    "start_time": "2021-06-20T21:15:35.104Z"
   },
   {
    "duration": 14289,
    "start_time": "2021-06-20T21:15:54.242Z"
   },
   {
    "duration": 5099,
    "start_time": "2021-06-20T21:16:21.663Z"
   },
   {
    "duration": 3984,
    "start_time": "2021-06-20T21:26:54.595Z"
   },
   {
    "duration": 3871,
    "start_time": "2021-06-20T21:27:12.200Z"
   },
   {
    "duration": 4041,
    "start_time": "2021-06-20T21:27:46.018Z"
   },
   {
    "duration": 3643,
    "start_time": "2021-06-20T21:27:57.548Z"
   },
   {
    "duration": 424,
    "start_time": "2021-06-20T21:29:25.570Z"
   },
   {
    "duration": 3755,
    "start_time": "2021-06-20T21:30:02.092Z"
   },
   {
    "duration": 3456,
    "start_time": "2021-06-20T21:30:34.771Z"
   },
   {
    "duration": 1471,
    "start_time": "2021-06-21T11:15:30.480Z"
   },
   {
    "duration": 673,
    "start_time": "2021-06-21T11:15:43.139Z"
   },
   {
    "duration": 96,
    "start_time": "2021-06-21T11:15:43.816Z"
   },
   {
    "duration": 36,
    "start_time": "2021-06-21T11:15:43.925Z"
   },
   {
    "duration": 26,
    "start_time": "2021-06-21T11:15:43.964Z"
   },
   {
    "duration": 45,
    "start_time": "2021-06-21T11:15:43.993Z"
   },
   {
    "duration": 8,
    "start_time": "2021-06-21T11:15:44.041Z"
   },
   {
    "duration": 7,
    "start_time": "2021-06-21T11:15:44.051Z"
   },
   {
    "duration": 16,
    "start_time": "2021-06-21T11:15:44.060Z"
   },
   {
    "duration": 90,
    "start_time": "2021-06-21T11:15:44.079Z"
   },
   {
    "duration": 95,
    "start_time": "2021-06-21T11:15:44.172Z"
   },
   {
    "duration": -1563,
    "start_time": "2021-06-21T11:15:45.832Z"
   },
   {
    "duration": -1581,
    "start_time": "2021-06-21T11:15:45.852Z"
   },
   {
    "duration": -1589,
    "start_time": "2021-06-21T11:15:45.861Z"
   },
   {
    "duration": 337,
    "start_time": "2021-06-21T11:16:28.961Z"
   },
   {
    "duration": 7835,
    "start_time": "2021-06-21T11:16:57.473Z"
   },
   {
    "duration": 7664,
    "start_time": "2021-06-21T11:17:57.065Z"
   },
   {
    "duration": 59,
    "start_time": "2021-06-21T11:18:21.947Z"
   },
   {
    "duration": 56,
    "start_time": "2021-06-21T11:20:17.691Z"
   },
   {
    "duration": 58,
    "start_time": "2021-06-21T11:20:48.019Z"
   },
   {
    "duration": 56,
    "start_time": "2021-06-21T11:20:55.632Z"
   },
   {
    "duration": 62,
    "start_time": "2021-06-21T11:21:17.565Z"
   },
   {
    "duration": 63,
    "start_time": "2021-06-21T11:21:27.662Z"
   },
   {
    "duration": 58,
    "start_time": "2021-06-21T11:21:47.060Z"
   },
   {
    "duration": 61,
    "start_time": "2021-06-21T11:22:35.051Z"
   },
   {
    "duration": 353,
    "start_time": "2021-06-21T11:23:34.346Z"
   },
   {
    "duration": 410,
    "start_time": "2021-06-21T11:23:57.423Z"
   },
   {
    "duration": 313,
    "start_time": "2021-06-21T11:24:25.201Z"
   },
   {
    "duration": 313,
    "start_time": "2021-06-21T11:24:56.984Z"
   },
   {
    "duration": 359,
    "start_time": "2021-06-21T11:25:13.553Z"
   },
   {
    "duration": 55,
    "start_time": "2021-06-21T11:25:54.739Z"
   },
   {
    "duration": 57,
    "start_time": "2021-06-21T11:26:19.807Z"
   },
   {
    "duration": 786,
    "start_time": "2021-06-21T11:26:38.553Z"
   },
   {
    "duration": 68,
    "start_time": "2021-06-21T11:26:39.341Z"
   },
   {
    "duration": 32,
    "start_time": "2021-06-21T11:26:39.411Z"
   },
   {
    "duration": 26,
    "start_time": "2021-06-21T11:26:39.446Z"
   },
   {
    "duration": 13,
    "start_time": "2021-06-21T11:26:39.475Z"
   },
   {
    "duration": 10,
    "start_time": "2021-06-21T11:26:39.523Z"
   },
   {
    "duration": 6,
    "start_time": "2021-06-21T11:26:39.536Z"
   },
   {
    "duration": 16,
    "start_time": "2021-06-21T11:26:39.546Z"
   },
   {
    "duration": 89,
    "start_time": "2021-06-21T11:26:39.564Z"
   },
   {
    "duration": 116,
    "start_time": "2021-06-21T11:26:39.656Z"
   },
   {
    "duration": -1268,
    "start_time": "2021-06-21T11:26:41.042Z"
   },
   {
    "duration": -1331,
    "start_time": "2021-06-21T11:26:41.106Z"
   },
   {
    "duration": -1341,
    "start_time": "2021-06-21T11:26:41.117Z"
   },
   {
    "duration": 812,
    "start_time": "2021-06-21T11:26:58.365Z"
   },
   {
    "duration": 467,
    "start_time": "2021-06-21T11:27:29.432Z"
   },
   {
    "duration": 55,
    "start_time": "2021-06-21T11:28:18.670Z"
   },
   {
    "duration": 57,
    "start_time": "2021-06-21T11:29:07.056Z"
   },
   {
    "duration": 99,
    "start_time": "2021-06-21T11:29:24.634Z"
   },
   {
    "duration": 53,
    "start_time": "2021-06-21T11:31:27.284Z"
   },
   {
    "duration": 53,
    "start_time": "2021-06-21T11:31:40.530Z"
   },
   {
    "duration": 54,
    "start_time": "2021-06-21T11:31:49.344Z"
   },
   {
    "duration": 52,
    "start_time": "2021-06-21T11:32:58.781Z"
   },
   {
    "duration": 53,
    "start_time": "2021-06-21T11:33:28.232Z"
   },
   {
    "duration": 93,
    "start_time": "2021-06-21T11:58:16.803Z"
   },
   {
    "duration": 97,
    "start_time": "2021-06-21T11:58:50.890Z"
   },
   {
    "duration": 93,
    "start_time": "2021-06-21T11:59:19.861Z"
   },
   {
    "duration": 93,
    "start_time": "2021-06-21T11:59:54.632Z"
   },
   {
    "duration": 300,
    "start_time": "2021-06-21T12:00:24.665Z"
   },
   {
    "duration": 321,
    "start_time": "2021-06-21T12:00:53.675Z"
   },
   {
    "duration": 101,
    "start_time": "2021-06-21T12:04:43.889Z"
   },
   {
    "duration": 95,
    "start_time": "2021-06-21T13:06:27.978Z"
   },
   {
    "duration": 93,
    "start_time": "2021-06-21T13:08:02.258Z"
   },
   {
    "duration": 3869,
    "start_time": "2021-06-21T13:08:54.998Z"
   },
   {
    "duration": 3767,
    "start_time": "2021-06-21T13:12:47.127Z"
   },
   {
    "duration": 5078,
    "start_time": "2021-06-21T13:17:28.774Z"
   },
   {
    "duration": 48,
    "start_time": "2021-06-21T13:18:13.936Z"
   },
   {
    "duration": 115,
    "start_time": "2021-06-21T13:21:46.507Z"
   },
   {
    "duration": 101,
    "start_time": "2021-06-21T13:21:59.768Z"
   },
   {
    "duration": 91,
    "start_time": "2021-06-21T13:22:25.056Z"
   },
   {
    "duration": 97,
    "start_time": "2021-06-21T13:23:20.735Z"
   },
   {
    "duration": 37,
    "start_time": "2021-06-21T14:00:19.722Z"
   },
   {
    "duration": 278,
    "start_time": "2021-06-21T14:01:07.093Z"
   },
   {
    "duration": 388,
    "start_time": "2021-06-21T14:01:14.254Z"
   },
   {
    "duration": 360,
    "start_time": "2021-06-21T14:01:24.040Z"
   },
   {
    "duration": 30,
    "start_time": "2021-06-21T14:01:55.088Z"
   },
   {
    "duration": 3775,
    "start_time": "2021-06-21T18:34:29.937Z"
   },
   {
    "duration": 3769,
    "start_time": "2021-06-21T18:34:29.946Z"
   },
   {
    "duration": 3764,
    "start_time": "2021-06-21T18:34:29.953Z"
   },
   {
    "duration": 3762,
    "start_time": "2021-06-21T18:34:29.957Z"
   },
   {
    "duration": 3754,
    "start_time": "2021-06-21T18:34:29.967Z"
   },
   {
    "duration": 3752,
    "start_time": "2021-06-21T18:34:29.971Z"
   },
   {
    "duration": 3752,
    "start_time": "2021-06-21T18:34:29.973Z"
   },
   {
    "duration": 3750,
    "start_time": "2021-06-21T18:34:29.977Z"
   },
   {
    "duration": 3749,
    "start_time": "2021-06-21T18:34:29.980Z"
   },
   {
    "duration": 3749,
    "start_time": "2021-06-21T18:34:29.983Z"
   },
   {
    "duration": 3749,
    "start_time": "2021-06-21T18:34:29.985Z"
   },
   {
    "duration": 3748,
    "start_time": "2021-06-21T18:34:29.988Z"
   },
   {
    "duration": 3747,
    "start_time": "2021-06-21T18:34:29.992Z"
   },
   {
    "duration": 3744,
    "start_time": "2021-06-21T18:34:29.996Z"
   },
   {
    "duration": 3743,
    "start_time": "2021-06-21T18:34:29.999Z"
   },
   {
    "duration": 802,
    "start_time": "2021-06-21T18:53:18.711Z"
   },
   {
    "duration": 76,
    "start_time": "2021-06-21T18:53:19.516Z"
   },
   {
    "duration": 25,
    "start_time": "2021-06-21T18:53:19.595Z"
   },
   {
    "duration": 51,
    "start_time": "2021-06-21T18:53:19.623Z"
   },
   {
    "duration": 19,
    "start_time": "2021-06-21T18:53:19.678Z"
   },
   {
    "duration": 8,
    "start_time": "2021-06-21T18:53:19.699Z"
   },
   {
    "duration": 14,
    "start_time": "2021-06-21T18:53:19.709Z"
   },
   {
    "duration": 17,
    "start_time": "2021-06-21T18:53:19.775Z"
   },
   {
    "duration": 52,
    "start_time": "2021-06-21T18:53:19.795Z"
   },
   {
    "duration": 95,
    "start_time": "2021-06-21T18:53:19.856Z"
   },
   {
    "duration": 4065,
    "start_time": "2021-06-21T18:53:15.889Z"
   },
   {
    "duration": 4064,
    "start_time": "2021-06-21T18:53:15.892Z"
   },
   {
    "duration": 4064,
    "start_time": "2021-06-21T18:53:15.895Z"
   },
   {
    "duration": 4062,
    "start_time": "2021-06-21T18:53:15.899Z"
   },
   {
    "duration": 4056,
    "start_time": "2021-06-21T18:53:15.907Z"
   },
   {
    "duration": 697,
    "start_time": "2021-06-22T11:51:06.757Z"
   },
   {
    "duration": 56,
    "start_time": "2021-06-22T11:51:07.456Z"
   },
   {
    "duration": 18,
    "start_time": "2021-06-22T11:51:07.514Z"
   },
   {
    "duration": 24,
    "start_time": "2021-06-22T11:51:07.533Z"
   },
   {
    "duration": 17,
    "start_time": "2021-06-22T11:51:07.558Z"
   },
   {
    "duration": 17,
    "start_time": "2021-06-22T11:51:07.577Z"
   },
   {
    "duration": 7,
    "start_time": "2021-06-22T11:51:07.596Z"
   },
   {
    "duration": 20,
    "start_time": "2021-06-22T11:51:07.606Z"
   },
   {
    "duration": 38,
    "start_time": "2021-06-22T11:51:07.627Z"
   },
   {
    "duration": 65,
    "start_time": "2021-06-22T11:51:07.667Z"
   },
   {
    "duration": 3843,
    "start_time": "2021-06-22T11:51:03.890Z"
   },
   {
    "duration": 3841,
    "start_time": "2021-06-22T11:51:03.893Z"
   },
   {
    "duration": 3839,
    "start_time": "2021-06-22T11:51:03.896Z"
   },
   {
    "duration": 3838,
    "start_time": "2021-06-22T11:51:03.898Z"
   },
   {
    "duration": 3836,
    "start_time": "2021-06-22T11:51:03.901Z"
   },
   {
    "duration": 97,
    "start_time": "2021-06-22T20:51:19.615Z"
   },
   {
    "duration": 315,
    "start_time": "2021-06-22T20:51:27.176Z"
   },
   {
    "duration": 973,
    "start_time": "2021-06-22T20:51:40.614Z"
   },
   {
    "duration": 63,
    "start_time": "2021-06-22T20:51:43.802Z"
   },
   {
    "duration": 24,
    "start_time": "2021-06-22T20:51:50.015Z"
   },
   {
    "duration": 29,
    "start_time": "2021-06-22T20:51:54.545Z"
   },
   {
    "duration": 305,
    "start_time": "2021-06-22T20:51:58.159Z"
   },
   {
    "duration": 99,
    "start_time": "2021-06-22T20:52:41.378Z"
   },
   {
    "duration": 267,
    "start_time": "2021-06-22T20:52:52.068Z"
   },
   {
    "duration": 267,
    "start_time": "2021-06-22T20:53:10.724Z"
   },
   {
    "duration": 82,
    "start_time": "2021-06-22T20:53:54.782Z"
   },
   {
    "duration": 86,
    "start_time": "2021-06-22T20:54:45.737Z"
   },
   {
    "duration": 83,
    "start_time": "2021-06-22T20:55:12.871Z"
   },
   {
    "duration": 86,
    "start_time": "2021-06-22T20:55:24.505Z"
   },
   {
    "duration": 85,
    "start_time": "2021-06-22T20:55:39.708Z"
   },
   {
    "duration": 370,
    "start_time": "2021-06-24T11:25:39.456Z"
   },
   {
    "duration": 774,
    "start_time": "2021-06-24T11:25:48.941Z"
   },
   {
    "duration": 65,
    "start_time": "2021-06-24T11:25:49.717Z"
   },
   {
    "duration": 40,
    "start_time": "2021-06-24T11:25:49.784Z"
   },
   {
    "duration": 26,
    "start_time": "2021-06-24T11:25:49.826Z"
   },
   {
    "duration": 9,
    "start_time": "2021-06-24T11:25:51.086Z"
   },
   {
    "duration": 32,
    "start_time": "2021-06-24T11:27:32.305Z"
   },
   {
    "duration": 35,
    "start_time": "2021-06-24T11:27:58.927Z"
   },
   {
    "duration": 30,
    "start_time": "2021-06-24T11:28:03.232Z"
   },
   {
    "duration": 31,
    "start_time": "2021-06-24T11:28:14.486Z"
   },
   {
    "duration": 31,
    "start_time": "2021-06-24T11:30:10.575Z"
   },
   {
    "duration": 13,
    "start_time": "2021-06-24T11:30:16.235Z"
   },
   {
    "duration": 12,
    "start_time": "2021-06-24T11:30:19.458Z"
   },
   {
    "duration": 803,
    "start_time": "2021-06-24T11:30:34.421Z"
   },
   {
    "duration": 65,
    "start_time": "2021-06-24T11:30:35.226Z"
   },
   {
    "duration": 41,
    "start_time": "2021-06-24T11:30:35.294Z"
   },
   {
    "duration": 26,
    "start_time": "2021-06-24T11:30:35.337Z"
   },
   {
    "duration": 10,
    "start_time": "2021-06-24T11:30:35.365Z"
   },
   {
    "duration": 30,
    "start_time": "2021-06-24T11:30:39.218Z"
   },
   {
    "duration": 358,
    "start_time": "2021-06-24T11:32:21.814Z"
   },
   {
    "duration": 264,
    "start_time": "2021-06-24T11:32:43.666Z"
   },
   {
    "duration": 295,
    "start_time": "2021-06-24T11:32:59.884Z"
   },
   {
    "duration": 312,
    "start_time": "2021-06-24T11:33:30.011Z"
   },
   {
    "duration": 14,
    "start_time": "2021-06-24T12:38:29.722Z"
   },
   {
    "duration": 92,
    "start_time": "2021-06-24T12:40:27.718Z"
   },
   {
    "duration": 291,
    "start_time": "2021-06-24T12:40:36.717Z"
   },
   {
    "duration": 12,
    "start_time": "2021-06-24T12:46:12.908Z"
   },
   {
    "duration": 18,
    "start_time": "2021-06-24T12:46:27.300Z"
   },
   {
    "duration": 16,
    "start_time": "2021-06-24T12:47:16.285Z"
   },
   {
    "duration": 20,
    "start_time": "2021-06-24T12:49:50.523Z"
   },
   {
    "duration": 22,
    "start_time": "2021-06-24T12:58:54.217Z"
   },
   {
    "duration": 277,
    "start_time": "2021-06-24T13:06:26.586Z"
   },
   {
    "duration": 265,
    "start_time": "2021-06-24T13:06:35.985Z"
   },
   {
    "duration": 10,
    "start_time": "2021-06-24T13:06:43.315Z"
   },
   {
    "duration": 796,
    "start_time": "2021-06-24T13:08:52.596Z"
   },
   {
    "duration": 70,
    "start_time": "2021-06-24T13:08:53.395Z"
   },
   {
    "duration": 25,
    "start_time": "2021-06-24T13:08:53.468Z"
   },
   {
    "duration": 46,
    "start_time": "2021-06-24T13:08:53.496Z"
   },
   {
    "duration": 33,
    "start_time": "2021-06-24T13:08:53.545Z"
   },
   {
    "duration": 44,
    "start_time": "2021-06-24T13:08:53.581Z"
   },
   {
    "duration": 15,
    "start_time": "2021-06-24T13:08:53.628Z"
   },
   {
    "duration": 17,
    "start_time": "2021-06-24T13:08:53.648Z"
   },
   {
    "duration": 86,
    "start_time": "2021-06-24T13:08:53.668Z"
   },
   {
    "duration": 375,
    "start_time": "2021-06-24T13:08:53.757Z"
   },
   {
    "duration": -936,
    "start_time": "2021-06-24T13:08:55.071Z"
   },
   {
    "duration": -1011,
    "start_time": "2021-06-24T13:08:55.148Z"
   },
   {
    "duration": -1056,
    "start_time": "2021-06-24T13:08:55.195Z"
   },
   {
    "duration": -1099,
    "start_time": "2021-06-24T13:08:55.241Z"
   },
   {
    "duration": -1130,
    "start_time": "2021-06-24T13:08:55.274Z"
   },
   {
    "duration": 285,
    "start_time": "2021-06-24T13:11:56.764Z"
   },
   {
    "duration": 328,
    "start_time": "2021-06-24T13:12:00.823Z"
   },
   {
    "duration": 5,
    "start_time": "2021-06-24T13:12:09.205Z"
   },
   {
    "duration": 17,
    "start_time": "2021-06-24T13:12:13.924Z"
   },
   {
    "duration": 275,
    "start_time": "2021-06-24T13:12:25.256Z"
   },
   {
    "duration": 269,
    "start_time": "2021-06-24T13:12:31.729Z"
   },
   {
    "duration": 304,
    "start_time": "2021-06-24T13:13:18.186Z"
   },
   {
    "duration": 86,
    "start_time": "2021-06-24T13:13:39.624Z"
   },
   {
    "duration": 18,
    "start_time": "2021-06-24T13:13:42.998Z"
   },
   {
    "duration": 17,
    "start_time": "2021-06-24T13:14:00.165Z"
   },
   {
    "duration": 16,
    "start_time": "2021-06-24T13:14:17.873Z"
   },
   {
    "duration": 285,
    "start_time": "2021-06-24T13:14:27.568Z"
   },
   {
    "duration": 269,
    "start_time": "2021-06-24T13:14:46.241Z"
   },
   {
    "duration": 19,
    "start_time": "2021-06-24T13:15:28.368Z"
   },
   {
    "duration": 148,
    "start_time": "2021-06-24T13:16:46.520Z"
   },
   {
    "duration": 67,
    "start_time": "2021-06-24T13:18:23.437Z"
   },
   {
    "duration": 47,
    "start_time": "2021-06-24T13:19:08.796Z"
   },
   {
    "duration": 301,
    "start_time": "2021-06-24T13:19:45.423Z"
   },
   {
    "duration": 304,
    "start_time": "2021-06-24T13:20:08.460Z"
   },
   {
    "duration": 297,
    "start_time": "2021-06-24T13:20:29.283Z"
   },
   {
    "duration": 48,
    "start_time": "2021-06-24T13:20:43.667Z"
   },
   {
    "duration": 340,
    "start_time": "2021-06-24T13:21:47.447Z"
   },
   {
    "duration": 384,
    "start_time": "2021-06-24T13:22:01.179Z"
   },
   {
    "duration": 306,
    "start_time": "2021-06-24T13:22:26.325Z"
   },
   {
    "duration": 24,
    "start_time": "2021-06-24T13:22:46.267Z"
   },
   {
    "duration": 25,
    "start_time": "2021-06-24T13:22:52.229Z"
   },
   {
    "duration": 48,
    "start_time": "2021-06-24T13:23:09.010Z"
   },
   {
    "duration": 451,
    "start_time": "2021-06-24T13:23:37.144Z"
   },
   {
    "duration": 50,
    "start_time": "2021-06-24T13:23:51.643Z"
   },
   {
    "duration": 49,
    "start_time": "2021-06-24T13:24:38.468Z"
   },
   {
    "duration": 48,
    "start_time": "2021-06-24T13:25:16.620Z"
   },
   {
    "duration": 291,
    "start_time": "2021-06-24T13:28:42.135Z"
   },
   {
    "duration": 49,
    "start_time": "2021-06-24T13:28:55.727Z"
   },
   {
    "duration": 50,
    "start_time": "2021-06-24T13:30:08.884Z"
   },
   {
    "duration": 323,
    "start_time": "2021-06-24T13:30:45.365Z"
   },
   {
    "duration": 306,
    "start_time": "2021-06-24T13:31:11.433Z"
   },
   {
    "duration": 49,
    "start_time": "2021-06-24T13:31:18.694Z"
   },
   {
    "duration": 92,
    "start_time": "2021-06-24T14:36:34.186Z"
   },
   {
    "duration": 108,
    "start_time": "2021-06-24T14:36:46.121Z"
   },
   {
    "duration": 1317,
    "start_time": "2021-06-24T14:37:09.123Z"
   },
   {
    "duration": 1170,
    "start_time": "2021-06-24T14:39:03.033Z"
   },
   {
    "duration": 1012,
    "start_time": "2021-06-24T14:39:36.408Z"
   },
   {
    "duration": -623,
    "start_time": "2021-06-24T14:40:02.151Z"
   },
   {
    "duration": 1004,
    "start_time": "2021-06-24T14:40:21.729Z"
   },
   {
    "duration": 998,
    "start_time": "2021-06-24T14:40:49.993Z"
   },
   {
    "duration": 41,
    "start_time": "2021-06-24T14:46:38.219Z"
   },
   {
    "duration": 36,
    "start_time": "2021-06-24T15:01:43.149Z"
   },
   {
    "duration": 36,
    "start_time": "2021-06-24T15:01:50.774Z"
   },
   {
    "duration": 3607,
    "start_time": "2021-06-24T15:06:04.215Z"
   },
   {
    "duration": 3807,
    "start_time": "2021-06-24T15:13:57.970Z"
   },
   {
    "duration": 3638,
    "start_time": "2021-06-24T15:15:26.543Z"
   },
   {
    "duration": 3860,
    "start_time": "2021-06-24T15:16:14.975Z"
   },
   {
    "duration": 3666,
    "start_time": "2021-06-24T15:17:52.418Z"
   },
   {
    "duration": 1233,
    "start_time": "2021-06-24T15:18:28.584Z"
   },
   {
    "duration": 12,
    "start_time": "2021-06-24T15:18:53.910Z"
   },
   {
    "duration": 4,
    "start_time": "2021-06-24T15:22:05.025Z"
   },
   {
    "duration": 6,
    "start_time": "2021-06-24T15:22:18.070Z"
   },
   {
    "duration": 295,
    "start_time": "2021-06-24T15:22:54.500Z"
   },
   {
    "duration": 3,
    "start_time": "2021-06-24T15:23:02.726Z"
   },
   {
    "duration": 7,
    "start_time": "2021-06-24T15:23:14.617Z"
   },
   {
    "duration": 15,
    "start_time": "2021-06-24T15:23:32.826Z"
   },
   {
    "duration": 32,
    "start_time": "2021-06-24T15:23:40.571Z"
   },
   {
    "duration": 258,
    "start_time": "2021-06-24T15:24:59.641Z"
   },
   {
    "duration": 8,
    "start_time": "2021-06-24T15:25:08.526Z"
   },
   {
    "duration": 12,
    "start_time": "2021-06-24T15:25:58.596Z"
   },
   {
    "duration": 101,
    "start_time": "2021-06-24T15:26:42.403Z"
   },
   {
    "duration": 9,
    "start_time": "2021-06-24T15:32:05.116Z"
   },
   {
    "duration": 9,
    "start_time": "2021-06-24T15:32:21.644Z"
   },
   {
    "duration": 86,
    "start_time": "2021-06-24T15:32:50.928Z"
   },
   {
    "duration": 10,
    "start_time": "2021-06-24T15:33:02.922Z"
   },
   {
    "duration": 9,
    "start_time": "2021-06-24T15:33:07.053Z"
   },
   {
    "duration": 16,
    "start_time": "2021-06-24T15:34:06.566Z"
   },
   {
    "duration": 9,
    "start_time": "2021-06-24T15:34:19.443Z"
   },
   {
    "duration": 8,
    "start_time": "2021-06-24T15:36:11.992Z"
   },
   {
    "duration": 11,
    "start_time": "2021-06-24T15:36:34.132Z"
   },
   {
    "duration": 13,
    "start_time": "2021-06-24T15:37:44.834Z"
   },
   {
    "duration": 274,
    "start_time": "2021-06-24T15:38:40.306Z"
   },
   {
    "duration": 304,
    "start_time": "2021-06-24T15:38:50.292Z"
   },
   {
    "duration": 273,
    "start_time": "2021-06-24T15:38:58.890Z"
   },
   {
    "duration": 414,
    "start_time": "2021-06-24T15:39:13.013Z"
   },
   {
    "duration": 13,
    "start_time": "2021-06-24T15:39:27.666Z"
   },
   {
    "duration": 15,
    "start_time": "2021-06-24T15:40:00.410Z"
   },
   {
    "duration": 6,
    "start_time": "2021-06-24T15:43:56.158Z"
   },
   {
    "duration": 9,
    "start_time": "2021-06-24T15:44:02.161Z"
   },
   {
    "duration": 22,
    "start_time": "2021-06-24T15:44:33.807Z"
   },
   {
    "duration": 274,
    "start_time": "2021-06-24T15:45:41.704Z"
   },
   {
    "duration": 25,
    "start_time": "2021-06-24T15:46:03.750Z"
   },
   {
    "duration": 87,
    "start_time": "2021-06-24T16:21:42.213Z"
   },
   {
    "duration": 105,
    "start_time": "2021-06-24T16:22:05.533Z"
   },
   {
    "duration": 16,
    "start_time": "2021-06-24T16:28:11.056Z"
   },
   {
    "duration": 19,
    "start_time": "2021-06-24T16:28:25.862Z"
   },
   {
    "duration": 20,
    "start_time": "2021-06-24T16:28:39.368Z"
   },
   {
    "duration": 19,
    "start_time": "2021-06-24T16:28:44.638Z"
   },
   {
    "duration": 290,
    "start_time": "2021-06-24T16:28:54.887Z"
   },
   {
    "duration": 19,
    "start_time": "2021-06-24T16:29:05.157Z"
   },
   {
    "duration": 45,
    "start_time": "2021-06-24T16:30:05.777Z"
   },
   {
    "duration": 10,
    "start_time": "2021-06-24T16:31:35.889Z"
   },
   {
    "duration": 10,
    "start_time": "2021-06-24T16:32:03.984Z"
   },
   {
    "duration": 6,
    "start_time": "2021-06-24T16:32:34.307Z"
   },
   {
    "duration": 89,
    "start_time": "2021-06-24T16:35:23.312Z"
   },
   {
    "duration": 28,
    "start_time": "2021-06-24T16:35:27.004Z"
   },
   {
    "duration": 293,
    "start_time": "2021-06-24T16:36:03.327Z"
   },
   {
    "duration": 36,
    "start_time": "2021-06-24T16:36:25.172Z"
   },
   {
    "duration": 315,
    "start_time": "2021-06-24T16:37:11.278Z"
   },
   {
    "duration": 308,
    "start_time": "2021-06-24T16:37:24.740Z"
   },
   {
    "duration": 37,
    "start_time": "2021-06-24T16:37:35.836Z"
   },
   {
    "duration": 305,
    "start_time": "2021-06-24T16:37:51.606Z"
   },
   {
    "duration": 94,
    "start_time": "2021-06-24T16:38:00.184Z"
   },
   {
    "duration": 303,
    "start_time": "2021-06-24T16:38:03.099Z"
   },
   {
    "duration": 343,
    "start_time": "2021-06-24T16:38:16.575Z"
   },
   {
    "duration": 310,
    "start_time": "2021-06-24T16:38:20.068Z"
   },
   {
    "duration": 296,
    "start_time": "2021-06-24T16:38:34.162Z"
   },
   {
    "duration": 37,
    "start_time": "2021-06-24T16:38:42.359Z"
   },
   {
    "duration": 96,
    "start_time": "2021-06-24T17:16:34.518Z"
   },
   {
    "duration": 96,
    "start_time": "2021-06-24T17:17:44.308Z"
   },
   {
    "duration": 97,
    "start_time": "2021-06-24T17:18:02.859Z"
   },
   {
    "duration": 20,
    "start_time": "2021-06-24T17:18:52.385Z"
   },
   {
    "duration": 27,
    "start_time": "2021-06-24T17:20:50.821Z"
   },
   {
    "duration": 507,
    "start_time": "2021-06-24T17:23:09.128Z"
   },
   {
    "duration": -508,
    "start_time": "2021-06-24T17:24:18.052Z"
   },
   {
    "duration": 6895,
    "start_time": "2021-06-24T17:24:24.187Z"
   },
   {
    "duration": 469,
    "start_time": "2021-06-24T17:25:09.506Z"
   },
   {
    "duration": 6858,
    "start_time": "2021-06-24T17:25:16.787Z"
   },
   {
    "duration": 487,
    "start_time": "2021-06-24T17:25:44.454Z"
   },
   {
    "duration": 517,
    "start_time": "2021-06-24T17:26:00.252Z"
   },
   {
    "duration": 499,
    "start_time": "2021-06-24T17:27:29.478Z"
   },
   {
    "duration": 7014,
    "start_time": "2021-06-24T17:32:43.314Z"
   },
   {
    "duration": 98,
    "start_time": "2021-06-24T17:33:47.860Z"
   },
   {
    "duration": 506,
    "start_time": "2021-06-24T17:33:57.245Z"
   },
   {
    "duration": 530,
    "start_time": "2021-06-24T17:35:20.352Z"
   },
   {
    "duration": 7210,
    "start_time": "2021-06-24T17:35:40.003Z"
   },
   {
    "duration": 303,
    "start_time": "2021-06-24T17:39:03.244Z"
   },
   {
    "duration": 311,
    "start_time": "2021-06-24T17:39:47.750Z"
   },
   {
    "duration": 321,
    "start_time": "2021-06-24T17:39:57.230Z"
   },
   {
    "duration": 300,
    "start_time": "2021-06-24T17:40:41.410Z"
   },
   {
    "duration": 771,
    "start_time": "2021-06-24T17:40:49.245Z"
   },
   {
    "duration": 70,
    "start_time": "2021-06-24T17:40:50.019Z"
   },
   {
    "duration": 47,
    "start_time": "2021-06-24T17:40:50.094Z"
   },
   {
    "duration": 32,
    "start_time": "2021-06-24T17:40:50.145Z"
   },
   {
    "duration": 60,
    "start_time": "2021-06-24T17:40:50.180Z"
   },
   {
    "duration": 15,
    "start_time": "2021-06-24T17:40:50.242Z"
   },
   {
    "duration": 16,
    "start_time": "2021-06-24T17:40:50.259Z"
   },
   {
    "duration": 15,
    "start_time": "2021-06-24T17:40:50.279Z"
   },
   {
    "duration": 52,
    "start_time": "2021-06-24T17:40:50.324Z"
   },
   {
    "duration": 19,
    "start_time": "2021-06-24T17:40:50.379Z"
   },
   {
    "duration": 1804,
    "start_time": "2021-06-24T17:40:50.425Z"
   },
   {
    "duration": 41,
    "start_time": "2021-06-24T17:40:52.232Z"
   },
   {
    "duration": 49,
    "start_time": "2021-06-24T17:40:52.275Z"
   },
   {
    "duration": 23,
    "start_time": "2021-06-24T17:40:52.327Z"
   },
   {
    "duration": 699,
    "start_time": "2021-06-24T17:40:52.352Z"
   },
   {
    "duration": -1297,
    "start_time": "2021-06-24T17:40:54.351Z"
   },
   {
    "duration": -1316,
    "start_time": "2021-06-24T17:40:54.371Z"
   },
   {
    "duration": -1335,
    "start_time": "2021-06-24T17:40:54.392Z"
   },
   {
    "duration": -1353,
    "start_time": "2021-06-24T17:40:54.411Z"
   },
   {
    "duration": 297,
    "start_time": "2021-06-24T17:41:11.078Z"
   },
   {
    "duration": 616,
    "start_time": "2021-06-24T17:41:59.046Z"
   },
   {
    "duration": 310,
    "start_time": "2021-06-24T17:43:43.893Z"
   },
   {
    "duration": 308,
    "start_time": "2021-06-24T17:44:17.381Z"
   },
   {
    "duration": 287,
    "start_time": "2021-06-24T17:44:36.013Z"
   },
   {
    "duration": 438,
    "start_time": "2021-06-24T17:44:58.639Z"
   },
   {
    "duration": 295,
    "start_time": "2021-06-24T17:47:23.239Z"
   },
   {
    "duration": 288,
    "start_time": "2021-06-24T17:47:49.165Z"
   },
   {
    "duration": 724,
    "start_time": "2021-06-24T17:48:08.870Z"
   },
   {
    "duration": 67,
    "start_time": "2021-06-24T17:48:09.596Z"
   },
   {
    "duration": 23,
    "start_time": "2021-06-24T17:48:09.665Z"
   },
   {
    "duration": 28,
    "start_time": "2021-06-24T17:48:14.859Z"
   },
   {
    "duration": 36,
    "start_time": "2021-06-24T17:48:14.889Z"
   },
   {
    "duration": 7,
    "start_time": "2021-06-24T17:48:14.928Z"
   },
   {
    "duration": 15,
    "start_time": "2021-06-24T17:48:14.938Z"
   },
   {
    "duration": 17,
    "start_time": "2021-06-24T17:48:18.954Z"
   },
   {
    "duration": 53,
    "start_time": "2021-06-24T17:48:20.458Z"
   },
   {
    "duration": 22,
    "start_time": "2021-06-24T17:48:20.966Z"
   },
   {
    "duration": 1850,
    "start_time": "2021-06-24T17:48:21.262Z"
   },
   {
    "duration": 42,
    "start_time": "2021-06-24T17:48:24.024Z"
   },
   {
    "duration": 11,
    "start_time": "2021-06-24T17:48:24.069Z"
   },
   {
    "duration": 51,
    "start_time": "2021-06-24T17:48:24.084Z"
   },
   {
    "duration": 440,
    "start_time": "2021-06-24T17:48:24.138Z"
   },
   {
    "duration": 101,
    "start_time": "2021-06-24T17:48:25.281Z"
   },
   {
    "duration": 15,
    "start_time": "2021-06-24T17:48:25.385Z"
   },
   {
    "duration": 55,
    "start_time": "2021-06-24T17:48:25.404Z"
   },
   {
    "duration": 16,
    "start_time": "2021-06-24T17:48:27.770Z"
   },
   {
    "duration": 364,
    "start_time": "2021-06-24T17:49:47.268Z"
   },
   {
    "duration": 834,
    "start_time": "2021-06-24T17:59:00.475Z"
   },
   {
    "duration": 1284,
    "start_time": "2021-06-24T17:59:06.442Z"
   },
   {
    "duration": 1059,
    "start_time": "2021-06-24T17:59:40.250Z"
   },
   {
    "duration": 3409,
    "start_time": "2021-06-24T18:01:25.405Z"
   },
   {
    "duration": 3961,
    "start_time": "2021-06-24T18:01:29.195Z"
   },
   {
    "duration": 3532,
    "start_time": "2021-06-24T18:01:57.242Z"
   },
   {
    "duration": 792,
    "start_time": "2021-06-24T18:02:38.009Z"
   },
   {
    "duration": 66,
    "start_time": "2021-06-24T18:02:38.804Z"
   },
   {
    "duration": 24,
    "start_time": "2021-06-24T18:02:38.873Z"
   },
   {
    "duration": 44,
    "start_time": "2021-06-24T18:02:38.899Z"
   },
   {
    "duration": 34,
    "start_time": "2021-06-24T18:02:38.946Z"
   },
   {
    "duration": 8,
    "start_time": "2021-06-24T18:02:38.982Z"
   },
   {
    "duration": 15,
    "start_time": "2021-06-24T18:02:39.023Z"
   },
   {
    "duration": 17,
    "start_time": "2021-06-24T18:02:39.041Z"
   },
   {
    "duration": 76,
    "start_time": "2021-06-24T18:02:39.060Z"
   },
   {
    "duration": 19,
    "start_time": "2021-06-24T18:02:39.139Z"
   },
   {
    "duration": 1801,
    "start_time": "2021-06-24T18:02:39.161Z"
   },
   {
    "duration": 40,
    "start_time": "2021-06-24T18:02:40.965Z"
   },
   {
    "duration": 22,
    "start_time": "2021-06-24T18:02:41.007Z"
   },
   {
    "duration": 22,
    "start_time": "2021-06-24T18:02:43.879Z"
   },
   {
    "duration": 802,
    "start_time": "2021-06-24T18:02:58.165Z"
   },
   {
    "duration": 1281,
    "start_time": "2021-06-24T18:03:07.074Z"
   },
   {
    "duration": 1042,
    "start_time": "2021-06-24T18:03:27.263Z"
   },
   {
    "duration": 271,
    "start_time": "2021-06-24T18:06:28.665Z"
   },
   {
    "duration": 1063,
    "start_time": "2021-06-24T18:06:36.112Z"
   },
   {
    "duration": 1145,
    "start_time": "2021-06-24T18:07:00.779Z"
   },
   {
    "duration": 1090,
    "start_time": "2021-06-24T18:07:22.005Z"
   },
   {
    "duration": 99,
    "start_time": "2021-06-24T18:07:36.792Z"
   },
   {
    "duration": 1147,
    "start_time": "2021-06-24T18:07:41.655Z"
   },
   {
    "duration": 1134,
    "start_time": "2021-06-24T18:07:50.702Z"
   },
   {
    "duration": 1084,
    "start_time": "2021-06-24T18:07:58.579Z"
   },
   {
    "duration": 3538,
    "start_time": "2021-06-24T18:09:59.914Z"
   },
   {
    "duration": 3981,
    "start_time": "2021-06-24T18:10:31.092Z"
   },
   {
    "duration": 819,
    "start_time": "2021-06-24T18:11:04.191Z"
   },
   {
    "duration": 70,
    "start_time": "2021-06-24T18:11:05.013Z"
   },
   {
    "duration": 52,
    "start_time": "2021-06-24T18:11:05.087Z"
   },
   {
    "duration": 42,
    "start_time": "2021-06-24T18:11:05.143Z"
   },
   {
    "duration": 72,
    "start_time": "2021-06-24T18:11:05.189Z"
   },
   {
    "duration": 10,
    "start_time": "2021-06-24T18:11:05.278Z"
   },
   {
    "duration": 17,
    "start_time": "2021-06-24T18:11:05.291Z"
   },
   {
    "duration": 15,
    "start_time": "2021-06-24T18:11:05.325Z"
   },
   {
    "duration": 53,
    "start_time": "2021-06-24T18:11:05.343Z"
   },
   {
    "duration": 41,
    "start_time": "2021-06-24T18:11:05.398Z"
   },
   {
    "duration": 1839,
    "start_time": "2021-06-24T18:11:05.442Z"
   },
   {
    "duration": 54,
    "start_time": "2021-06-24T18:11:07.283Z"
   },
   {
    "duration": 8,
    "start_time": "2021-06-24T18:11:07.340Z"
   },
   {
    "duration": 25,
    "start_time": "2021-06-24T18:11:07.351Z"
   },
   {
    "duration": 131,
    "start_time": "2021-06-24T18:11:07.379Z"
   },
   {
    "duration": 20,
    "start_time": "2021-06-24T18:11:07.512Z"
   },
   {
    "duration": 44,
    "start_time": "2021-06-24T18:11:07.535Z"
   },
   {
    "duration": 15,
    "start_time": "2021-06-24T18:11:07.581Z"
   },
   {
    "duration": 30,
    "start_time": "2021-06-24T18:11:36.802Z"
   },
   {
    "duration": 419,
    "start_time": "2021-06-24T18:13:25.614Z"
   },
   {
    "duration": 289,
    "start_time": "2021-06-24T18:13:32.788Z"
   },
   {
    "duration": 1177,
    "start_time": "2021-06-24T18:15:19.894Z"
   },
   {
    "duration": 490,
    "start_time": "2021-06-24T18:15:56.725Z"
   },
   {
    "duration": 495,
    "start_time": "2021-06-24T18:16:16.977Z"
   },
   {
    "duration": 682,
    "start_time": "2021-06-24T18:17:13.493Z"
   },
   {
    "duration": 616,
    "start_time": "2021-06-24T18:18:19.215Z"
   },
   {
    "duration": 6814,
    "start_time": "2021-06-24T18:19:56.376Z"
   },
   {
    "duration": 598,
    "start_time": "2021-06-24T18:20:21.785Z"
   },
   {
    "duration": 20,
    "start_time": "2021-06-24T18:20:56.845Z"
   },
   {
    "duration": 657,
    "start_time": "2021-06-24T18:21:02.191Z"
   },
   {
    "duration": 20,
    "start_time": "2021-06-24T18:21:07.188Z"
   },
   {
    "duration": 39,
    "start_time": "2021-06-24T18:22:20.843Z"
   },
   {
    "duration": 285,
    "start_time": "2021-06-24T18:23:02.392Z"
   },
   {
    "duration": 28,
    "start_time": "2021-06-24T18:23:12.190Z"
   },
   {
    "duration": 30,
    "start_time": "2021-06-24T18:23:33.561Z"
   },
   {
    "duration": 97,
    "start_time": "2021-06-24T18:23:59.751Z"
   },
   {
    "duration": 391,
    "start_time": "2021-06-24T18:24:05.201Z"
   },
   {
    "duration": 96,
    "start_time": "2021-06-24T18:24:23.998Z"
   },
   {
    "duration": 311,
    "start_time": "2021-06-24T18:24:29.137Z"
   },
   {
    "duration": 82,
    "start_time": "2021-06-24T18:24:49.623Z"
   },
   {
    "duration": 290,
    "start_time": "2021-06-24T18:25:47.750Z"
   },
   {
    "duration": 29,
    "start_time": "2021-06-24T18:25:59.832Z"
   },
   {
    "duration": 91,
    "start_time": "2021-06-24T18:26:23.227Z"
   },
   {
    "duration": 36,
    "start_time": "2021-06-24T18:26:29.094Z"
   },
   {
    "duration": 6,
    "start_time": "2021-06-24T18:27:53.508Z"
   },
   {
    "duration": 10,
    "start_time": "2021-06-24T18:28:00.918Z"
   },
   {
    "duration": 33,
    "start_time": "2021-06-24T18:28:32.011Z"
   },
   {
    "duration": 33,
    "start_time": "2021-06-24T18:28:36.364Z"
   },
   {
    "duration": 34,
    "start_time": "2021-06-24T18:28:53.189Z"
   },
   {
    "duration": 21,
    "start_time": "2021-06-24T18:36:57.963Z"
   },
   {
    "duration": 25,
    "start_time": "2021-06-24T18:37:03.913Z"
   },
   {
    "duration": 860,
    "start_time": "2021-06-25T17:56:03.034Z"
   },
   {
    "duration": 75,
    "start_time": "2021-06-25T17:56:03.897Z"
   },
   {
    "duration": 25,
    "start_time": "2021-06-25T17:56:03.975Z"
   },
   {
    "duration": 27,
    "start_time": "2021-06-25T17:56:04.003Z"
   },
   {
    "duration": 61,
    "start_time": "2021-06-25T17:56:04.032Z"
   },
   {
    "duration": 8,
    "start_time": "2021-06-25T17:56:04.096Z"
   },
   {
    "duration": 31,
    "start_time": "2021-06-25T17:56:04.106Z"
   },
   {
    "duration": 37,
    "start_time": "2021-06-25T17:56:04.141Z"
   },
   {
    "duration": 51,
    "start_time": "2021-06-25T17:56:04.180Z"
   },
   {
    "duration": 39,
    "start_time": "2021-06-25T17:56:04.234Z"
   },
   {
    "duration": 57860,
    "start_time": "2021-06-25T17:56:04.275Z"
   },
   {
    "duration": 56,
    "start_time": "2021-06-25T17:57:02.138Z"
   },
   {
    "duration": 11,
    "start_time": "2021-06-25T17:57:02.197Z"
   },
   {
    "duration": 28,
    "start_time": "2021-06-25T17:57:02.210Z"
   },
   {
    "duration": 657,
    "start_time": "2021-06-25T17:57:02.268Z"
   },
   {
    "duration": 22,
    "start_time": "2021-06-25T17:57:02.927Z"
   },
   {
    "duration": 133,
    "start_time": "2021-06-25T17:57:02.951Z"
   },
   {
    "duration": 13,
    "start_time": "2021-06-25T17:57:03.087Z"
   },
   {
    "duration": 47,
    "start_time": "2021-06-25T17:57:03.102Z"
   },
   {
    "duration": 25,
    "start_time": "2021-06-25T17:57:03.167Z"
   },
   {
    "duration": 26,
    "start_time": "2021-06-25T17:57:03.194Z"
   }
  ],
  "kernelspec": {
   "display_name": "Python 3 (ipykernel)",
   "language": "python",
   "name": "python3"
  },
  "language_info": {
   "codemirror_mode": {
    "name": "ipython",
    "version": 3
   },
   "file_extension": ".py",
   "mimetype": "text/x-python",
   "name": "python",
   "nbconvert_exporter": "python",
   "pygments_lexer": "ipython3",
   "version": "3.9.5"
  },
  "toc": {
   "base_numbering": 1,
   "nav_menu": {},
   "number_sections": true,
   "sideBar": true,
   "skip_h1_title": true,
   "title_cell": "Table of Contents",
   "title_sidebar": "Contents",
   "toc_cell": false,
   "toc_position": {},
   "toc_section_display": true,
   "toc_window_display": false
  }
 },
 "nbformat": 4,
 "nbformat_minor": 2
}
